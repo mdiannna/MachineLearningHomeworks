{
  "nbformat": 4,
  "nbformat_minor": 0,
  "metadata": {
    "colab": {
      "name": "Lab 1 numpy.ipynb",
      "version": "0.3.2",
      "provenance": [],
      "collapsed_sections": [],
      "toc_visible": true
    },
    "kernelspec": {
      "display_name": "Python 3",
      "language": "python",
      "name": "python3"
    }
  },
  "cells": [
    {
      "metadata": {
        "id": "fGBIX_qswX1j",
        "colab_type": "code",
        "colab": {}
      },
      "cell_type": "code",
      "source": [
        "# Some IPython magic\n",
        "# Put these at the top of every notebook, to get automatic reloading and inline plotting\n",
        "%reload_ext autoreload\n",
        "%autoreload 2\n",
        "\n",
        "import numpy as np\n"
      ],
      "execution_count": 0,
      "outputs": []
    },
    {
      "metadata": {
        "id": "67Go-vHcwX1s",
        "colab_type": "text"
      },
      "cell_type": "markdown",
      "source": [
        "# 1<sup>st</sup> lab. Python for science and ML\n",
        "\n",
        "**Cheat sheets:**\n",
        "- [python](https://perso.limsi.fr/pointal/_media/python:cours:mementopython3-english.pdf)\n",
        "- [numpy](https://s3.amazonaws.com/assets.datacamp.com/blog_assets/Numpy_Python_Cheat_Sheet.pdf)\n",
        "- [matplotlib](https://s3.amazonaws.com/assets.datacamp.com/blog_assets/Python_Matplotlib_Cheat_Sheet.pdf)\n",
        "- [sklearn](https://s3.amazonaws.com/assets.datacamp.com/blog_assets/Scikit_Learn_Cheat_Sheet_Python.pdf)\n",
        "- [pandas](https://github.com/pandas-dev/pandas/blob/master/doc/cheatsheet/Pandas_Cheat_Sheet.pdf)\n",
        "\n",
        "**Other:**\n",
        "- [Supervised Learning](https://github.com/afshinea/stanford-cs-229-machine-learning/blob/master/cheatsheet-supervised-learning.pdf)\n",
        "- [Unsupervised Learning](https://github.com/afshinea/stanford-cs-229-machine-learning/blob/master/cheatsheet-unsupervised-learning.pdf)\n",
        "- [Deep Learning](https://github.com/afshinea/stanford-cs-229-machine-learning/blob/master/cheatsheet-deep-learning.pdf)\n",
        "- [Tips & Tricks](https://github.com/afshinea/stanford-cs-229-machine-learning/blob/master/cheatsheet-machine-learning-tips-and-tricks.pdf)\n",
        "- [Probabilities & Stats Refresher](https://github.com/afshinea/stanford-cs-229-machine-learning/blob/master/refresher-probabilities-statistics.pdf)\n",
        "- [Algebra & Calculus Refresher](https://github.com/afshinea/stanford-cs-229-machine-learning/blob/master/refresher-algebra-calculus.pdf)\n"
      ]
    },
    {
      "metadata": {
        "id": "9fvGxyLxwX1t",
        "colab_type": "text"
      },
      "cell_type": "markdown",
      "source": [
        "## Python scientific computing ecosystem\n",
        "For scientific computing we need an environment that is easy to use, and provides a couple of tools like manipulating data and visualizing results.\n",
        "Python is very easy to use, but the downside is that it's not fast at numerical computing. Luckily, we have very eficient libraries for all our use-cases."
      ]
    },
    {
      "metadata": {
        "id": "cvgqDu4TwX1u",
        "colab_type": "text"
      },
      "cell_type": "markdown",
      "source": [
        "## Libraries\n",
        "\n",
        "### Core computing libraries\n",
        "\n",
        "- `numpy` and `scipy`: scientific computing\n",
        "- `matplotlib`: plotting library\n",
        "\n",
        "### Machine Learning\n",
        "- `sklearn`: machine learning toolkit\n",
        "- `tensorflow`: deep learning framework\n",
        "- `keras`: deep learning framework on top of `tensorflow` for easier implementation\n",
        "\n",
        "## Statistics and data analysis\n",
        "- `pandas`: very popular data analysis library\n",
        "- `statsmodels`: statistics\n",
        "\n",
        "We also have advanced interactive environments:\n",
        "- Ipython: advanced python console\n",
        "- Jupyter: notebooks in the browser\n",
        "\n",
        "There are many more scientific libraries available."
      ]
    },
    {
      "metadata": {
        "id": "0xOjihvErrKu",
        "colab_type": "text"
      },
      "cell_type": "markdown",
      "source": [
        "# Python Crash Course"
      ]
    },
    {
      "metadata": {
        "id": "5VXRUasZr2rB",
        "colab_type": "text"
      },
      "cell_type": "markdown",
      "source": [
        "### Basic Syntax\n",
        "\n",
        "Most languages use curly braces to group pieces of code. Instead, python makes use of indentation to the same effect. Everything on the same indentation level is part of the same group of code."
      ]
    },
    {
      "metadata": {
        "id": "qMQSUMgl3zVk",
        "colab_type": "text"
      },
      "cell_type": "markdown",
      "source": [
        "### For loop\n",
        "Python `for` is different from the C-like `for`. The closest to the C-like `for` is:"
      ]
    },
    {
      "metadata": {
        "id": "B4XdvSgv4BcN",
        "colab_type": "code",
        "colab": {}
      },
      "cell_type": "code",
      "source": [
        "numbers = [7, 5, 10, 3, 2]\n",
        "N = len(numbers)\n",
        "\n",
        "for i in range(N):\n",
        "  print(numbers[i])"
      ],
      "execution_count": 0,
      "outputs": []
    },
    {
      "metadata": {
        "id": "82MKmOS8tNaO",
        "colab_type": "text"
      },
      "cell_type": "markdown",
      "source": [
        "\n",
        "However, the *pythonic* way (this means the recommended way) to iterate over a list is  `for .. in ..` ."
      ]
    },
    {
      "metadata": {
        "id": "tJkl26EZt0Zw",
        "colab_type": "code",
        "colab": {}
      },
      "cell_type": "code",
      "source": [
        "numbers = [1, 2, 3, 4, 5] \n",
        "\n",
        "for number in numbers:\n",
        "  print(number)\n",
        "  \n",
        "print('Done!')"
      ],
      "execution_count": 0,
      "outputs": []
    },
    {
      "metadata": {
        "id": "y07gUahwwvhQ",
        "colab_type": "text"
      },
      "cell_type": "markdown",
      "source": [
        "### More lists\n",
        "\n",
        "Python lists are very versatile. "
      ]
    },
    {
      "metadata": {
        "id": "s62826gww4Kg",
        "colab_type": "code",
        "colab": {}
      },
      "cell_type": "code",
      "source": [
        "shopping_list = ['bread', 'milk', 'cereal']\n",
        "\n",
        "shopping_list.append('orange juice') # add an element to a list\n",
        "\n",
        "shopping_list = shopping_list + ['lemon juice', 'cat food'] # add multiple elements \n",
        "\n",
        "shopping_list"
      ],
      "execution_count": 0,
      "outputs": []
    },
    {
      "metadata": {
        "id": "DlJgxmmtxlXY",
        "colab_type": "code",
        "colab": {}
      },
      "cell_type": "code",
      "source": [
        "for i, item in enumerate(shopping_list): # enumerate also returns the index of an element\n",
        "  print(i, item)"
      ],
      "execution_count": 0,
      "outputs": []
    },
    {
      "metadata": {
        "id": "kgRJUMARxzFB",
        "colab_type": "text"
      },
      "cell_type": "markdown",
      "source": [
        "Python lists are not limited only to one data type. You can have as many types as you like!"
      ]
    },
    {
      "metadata": {
        "id": "GojTRu5Ux9X5",
        "colab_type": "code",
        "colab": {}
      },
      "cell_type": "code",
      "source": [
        "everything = ['cat food', 3, ['foo', 'bar'], 3.1]"
      ],
      "execution_count": 0,
      "outputs": []
    },
    {
      "metadata": {
        "id": "fxD0GGSayy_1",
        "colab_type": "text"
      },
      "cell_type": "markdown",
      "source": [
        "####  List comprehension\n",
        "List comprehension provide a concise way to create lists. Let's create a list of even numbers with list comprehension. "
      ]
    },
    {
      "metadata": {
        "id": "mm8coYN9zI-X",
        "colab_type": "code",
        "colab": {}
      },
      "cell_type": "code",
      "source": [
        "even_numbers = [number for number in range(30) if not number % 2]\n",
        "even_numbers"
      ],
      "execution_count": 0,
      "outputs": []
    },
    {
      "metadata": {
        "id": "jPNDzyPb5iFI",
        "colab_type": "text"
      },
      "cell_type": "markdown",
      "source": [
        "#### Slicing\n",
        "\n",
        "A convenient way to access elements of a list is by 'slicing' it."
      ]
    },
    {
      "metadata": {
        "id": "O3ROYvHU5xML",
        "colab_type": "code",
        "colab": {}
      },
      "cell_type": "code",
      "source": [
        "print(even_numbers[3:])\n",
        "\n",
        "print(even_numbers[2:5])\n",
        "\n",
        "print(even_numbers[:-1])\n",
        "\n",
        "print(even_numbers[-5: -1])"
      ],
      "execution_count": 0,
      "outputs": []
    },
    {
      "metadata": {
        "id": "KqdPj7bzuC6Z",
        "colab_type": "text"
      },
      "cell_type": "markdown",
      "source": [
        "\n",
        "### Fizz Buzz\n",
        "\n",
        "Let's see how fizz buzz would be implemented in python: print out 'Fizz' if the number is a multiple of 3, 'Buzz' if the number is a multiple of 5 and 'FizzBuzz' if the number is divizible by both 3 and 5. \n",
        "\n",
        "Python uses the `elif` keyword for writing `else if` branches, to keep everything at the same indentation level."
      ]
    },
    {
      "metadata": {
        "id": "Kiu0ZqQFucEE",
        "colab_type": "code",
        "colab": {}
      },
      "cell_type": "code",
      "source": [
        "numbers = range(0, 20) # range() generates a list of numbers\n",
        "\n",
        "for number in numbers:\n",
        "  if not number % 3 and not number % 5: # There is no && or || in python. Just 'and' and 'or'.\n",
        "    print('FizzBuzz')\n",
        "  \n",
        "  elif not number % 3: # elif keyword instead of else if\n",
        "    print('Fizz')\n",
        "    \n",
        "  elif number % 5 == 0: # The common == for comparison\n",
        "    print('Buzz')\n",
        "  \n",
        "  else:\n",
        "    print(number)\n",
        "  \n",
        "    \n",
        "print(\"Done!\")"
      ],
      "execution_count": 0,
      "outputs": []
    },
    {
      "metadata": {
        "id": "V42KQ2rIzgBo",
        "colab_type": "text"
      },
      "cell_type": "markdown",
      "source": [
        "### Functions\n",
        "Defining a function is very straight-forward in python. "
      ]
    },
    {
      "metadata": {
        "id": "1OQotSKOznd6",
        "colab_type": "code",
        "colab": {}
      },
      "cell_type": "code",
      "source": [
        "def my_function(x):\n",
        "  print(x)\n",
        "\n",
        "my_function(2)\n",
        "my_function(\"foo\")\n",
        "my_function([1, 2, 3])"
      ],
      "execution_count": 0,
      "outputs": []
    },
    {
      "metadata": {
        "id": "DdwTosv27WqL",
        "colab_type": "text"
      },
      "cell_type": "markdown",
      "source": [
        "There is no difference in syntax between functions that return something and functions that don't. If there is no return statement, the function still returns `None`."
      ]
    },
    {
      "metadata": {
        "id": "QrNhd8nA7O-1",
        "colab_type": "code",
        "colab": {}
      },
      "cell_type": "code",
      "source": [
        "a = my_function(3)\n",
        "print(a)"
      ],
      "execution_count": 0,
      "outputs": []
    },
    {
      "metadata": {
        "id": "lC9tEH-k8RRi",
        "colab_type": "code",
        "colab": {}
      },
      "cell_type": "code",
      "source": [
        "def my_other_function(x, y):\n",
        "  return x + y, x * y # you can return multiple values (a tuple)\n",
        "\n",
        "a, b = my_other_function(2, 5)\n",
        "print(a, b)"
      ],
      "execution_count": 0,
      "outputs": []
    },
    {
      "metadata": {
        "id": "BzfBj1cb2dEg",
        "colab_type": "text"
      },
      "cell_type": "markdown",
      "source": [
        "## Other data types\n"
      ]
    },
    {
      "metadata": {
        "id": "wrVtK7O-3sv1",
        "colab_type": "text"
      },
      "cell_type": "markdown",
      "source": [
        "### Dictionaries\n",
        "\n",
        "Dictionaries are hash sets, having keys and corresponding values. A key can be any hashable type and values can be anything."
      ]
    },
    {
      "metadata": {
        "id": "0hsWNcae2oMi",
        "colab_type": "code",
        "colab": {}
      },
      "cell_type": "code",
      "source": [
        "values = {\n",
        "    'foo': 2,\n",
        "    'bar': [1, 2, 3],\n",
        "    'baz': {\n",
        "        'foo': 7\n",
        "    },\n",
        "    2: 10\n",
        "}\n",
        "\n",
        "print(values['foo'])\n",
        "print(values['baz']['foo'])\n",
        "print(values[2])"
      ],
      "execution_count": 0,
      "outputs": []
    },
    {
      "metadata": {
        "id": "90HWQML03Zpw",
        "colab_type": "text"
      },
      "cell_type": "markdown",
      "source": [
        "### Set\n"
      ]
    },
    {
      "metadata": {
        "id": "BaH4KsAI3x6t",
        "colab_type": "code",
        "colab": {}
      },
      "cell_type": "code",
      "source": [
        "some_numbers = [1, 2, 3, 3, 4, 2, 1]\n",
        "unique_numbers = set(some_numbers)\n",
        "\n",
        "print(unique_numbers)\n",
        "\n",
        "unique_numbers.add(5) # new element\n",
        "unique_numbers.add(2) # element already in set, dosen't add it\n",
        "\n",
        "print(unique_numbers)"
      ],
      "execution_count": 0,
      "outputs": []
    },
    {
      "metadata": {
        "id": "XrgG5bYiwX1w",
        "colab_type": "text"
      },
      "cell_type": "markdown",
      "source": [
        "# numpy\n",
        "`numpy` works with tensors of data, the main data structure is `numpy.array` or `numpy.ndarray`.\n",
        "\n",
        "\n",
        "**Why it is useful:** Memory-efficient container that provides fast numerical operations."
      ]
    },
    {
      "metadata": {
        "id": "RYBqDAZM9Ctx",
        "colab_type": "text"
      },
      "cell_type": "markdown",
      "source": [
        "### Speed test"
      ]
    },
    {
      "metadata": {
        "id": "4ohpMBt3wX2d",
        "colab_type": "code",
        "colab": {}
      },
      "cell_type": "code",
      "source": [
        "%timeit [x**2 for x in range(1000)]"
      ],
      "execution_count": 0,
      "outputs": []
    },
    {
      "metadata": {
        "id": "sBrf17CQwX2f",
        "colab_type": "code",
        "colab": {}
      },
      "cell_type": "code",
      "source": [
        "%timeit np.arange(1000)**2"
      ],
      "execution_count": 0,
      "outputs": []
    },
    {
      "metadata": {
        "id": "S1tdc-xrwX2w",
        "colab_type": "text"
      },
      "cell_type": "markdown",
      "source": [
        "### Working with numpy arrays"
      ]
    },
    {
      "metadata": {
        "id": "Rc8NmxpfwX2w",
        "colab_type": "text"
      },
      "cell_type": "markdown",
      "source": [
        "a few important attributes of the `array` structure: \n",
        "- `ndarray.ndim` - number of axes (tensor rank)\n",
        "- `ndarray.shape` - tuple, gives dimensions of each axes.\n",
        "- `ndarray.size` - size of the array (product of elements of `ndarray.shape`)\n",
        "- `ndarray.dtype` - data type"
      ]
    },
    {
      "metadata": {
        "id": "auQWsFfQwX2x",
        "colab_type": "code",
        "colab": {}
      },
      "cell_type": "code",
      "source": [
        "a = np.array([[2,7,5],[0,-1,2]])\n",
        "print(\"Dim:  \",a.ndim)\n",
        "print(\"Shape:\",a.shape)\n",
        "print(\"Size: \",a.size)\n",
        "print(\"Type: \",a.dtype)"
      ],
      "execution_count": 0,
      "outputs": []
    },
    {
      "metadata": {
        "id": "01ZW562FwX4s",
        "colab_type": "text"
      },
      "cell_type": "markdown",
      "source": [
        "## Shape Manipulation"
      ]
    },
    {
      "metadata": {
        "id": "1lklVNy8z3Qn",
        "colab_type": "code",
        "colab": {}
      },
      "cell_type": "code",
      "source": [
        "x = np.array([1,1,2])\n",
        "x.shape"
      ],
      "execution_count": 0,
      "outputs": []
    },
    {
      "metadata": {
        "id": "SZ1sgELD8WM-",
        "colab_type": "code",
        "colab": {}
      },
      "cell_type": "code",
      "source": [
        "x.reshape(1,3)"
      ],
      "execution_count": 0,
      "outputs": []
    },
    {
      "metadata": {
        "id": "jU4UgNme-SQF",
        "colab_type": "code",
        "colab": {}
      },
      "cell_type": "code",
      "source": [
        "x.reshape(1,4) # this will fail because dimensions don't match"
      ],
      "execution_count": 0,
      "outputs": []
    },
    {
      "metadata": {
        "id": "L25uATNM-Tzu",
        "colab_type": "code",
        "colab": {}
      },
      "cell_type": "code",
      "source": [
        "x.reshape(1,-1)"
      ],
      "execution_count": 0,
      "outputs": []
    },
    {
      "metadata": {
        "id": "g6zrJmO5wX4s",
        "colab_type": "code",
        "colab": {}
      },
      "cell_type": "code",
      "source": [
        "a = np.floor(10*np.random.random((3,4))) # some random matrix\n",
        "a"
      ],
      "execution_count": 0,
      "outputs": []
    },
    {
      "metadata": {
        "id": "Hfirml0DwX4t",
        "colab_type": "code",
        "colab": {}
      },
      "cell_type": "code",
      "source": [
        "a.shape # a tuple that describes the shape of the object"
      ],
      "execution_count": 0,
      "outputs": []
    },
    {
      "metadata": {
        "id": "gpne-EfCwX4v",
        "colab_type": "code",
        "colab": {}
      },
      "cell_type": "code",
      "source": [
        "a.ravel() # flattened list"
      ],
      "execution_count": 0,
      "outputs": []
    },
    {
      "metadata": {
        "id": "GS_EgtktwX4x",
        "colab_type": "code",
        "colab": {}
      },
      "cell_type": "code",
      "source": [
        "a.reshape(6,2) # reshaping a, make sure the new shape has the same size"
      ],
      "execution_count": 0,
      "outputs": []
    },
    {
      "metadata": {
        "id": "sgqokay1wX40",
        "colab_type": "code",
        "colab": {}
      },
      "cell_type": "code",
      "source": [
        "a.T # transpose"
      ],
      "execution_count": 0,
      "outputs": []
    },
    {
      "metadata": {
        "id": "r1rHzXY6wX41",
        "colab_type": "code",
        "colab": {}
      },
      "cell_type": "code",
      "source": [
        "a.reshape(2,2,-1) # -1 means \"as much as you need\", such that the dimensions maches the size"
      ],
      "execution_count": 0,
      "outputs": []
    },
    {
      "metadata": {
        "id": "fZFTLmBlwX21",
        "colab_type": "text"
      },
      "cell_type": "markdown",
      "source": [
        "## Initializing\n",
        "- `np.zeros(shape)`\n",
        "- `np.ones(shape)`\n",
        "- `np.empty(shape)`\n",
        "- `np.eye(rows, cols)`\n",
        "\n",
        "Those functions take as input the shape of an array. \n"
      ]
    },
    {
      "metadata": {
        "id": "_ooueSlHwX26",
        "colab_type": "text"
      },
      "cell_type": "markdown",
      "source": [
        "## Sequences\n",
        "- `np.arange` - like Python's `range()`, but returns a `np.array`\n",
        "- `np.linspace` - n equidistant points in interval [a,b] (like MATLAB)"
      ]
    },
    {
      "metadata": {
        "id": "GH11eahgwX27",
        "colab_type": "code",
        "colab": {}
      },
      "cell_type": "code",
      "source": [
        "np.arange(5)"
      ],
      "execution_count": 0,
      "outputs": []
    },
    {
      "metadata": {
        "id": "vGZM7stWwX3A",
        "colab_type": "code",
        "colab": {}
      },
      "cell_type": "code",
      "source": [
        "np.linspace(1,2,5)"
      ],
      "execution_count": 0,
      "outputs": []
    },
    {
      "metadata": {
        "id": "xgHrsAXTwX3F",
        "colab_type": "text"
      },
      "cell_type": "markdown",
      "source": [
        "## Math operators\n",
        "Math operators are applied elementwise. ( `*` is never the dot product for numpy arrays!)"
      ]
    },
    {
      "metadata": {
        "id": "MBxr2Yb6wX3i",
        "colab_type": "code",
        "colab": {}
      },
      "cell_type": "code",
      "source": [
        "a = np.ones((2,3), dtype=int)\n",
        "b = np.random.random((2,3))\n",
        "a *= 3\n",
        "a"
      ],
      "execution_count": 0,
      "outputs": []
    },
    {
      "metadata": {
        "id": "vpor4x5LwX3k",
        "colab_type": "code",
        "colab": {}
      },
      "cell_type": "code",
      "source": [
        "b += a\n",
        "b"
      ],
      "execution_count": 0,
      "outputs": []
    },
    {
      "metadata": {
        "id": "tqlz7DNuwX3F",
        "colab_type": "code",
        "colab": {}
      },
      "cell_type": "code",
      "source": [
        "A = np.array([[-1,0],[0,1]])\n",
        "B = np.array([[1,2],[3,4]])\n",
        "print(\"A=\",A)\n",
        "print(\"Elementwise mult:\")\n",
        "print(A*B) # Not matrix multiplication\n",
        "print(\"\\nA*B:\")\n",
        "print(A.dot(B)) # this is matrix multiplication"
      ],
      "execution_count": 0,
      "outputs": []
    },
    {
      "metadata": {
        "id": "hNvxcTtZQqEw",
        "colab_type": "code",
        "colab": {}
      },
      "cell_type": "code",
      "source": [
        "# inverting a matrix\n",
        "C = np.linalg.inv(B)"
      ],
      "execution_count": 0,
      "outputs": []
    },
    {
      "metadata": {
        "id": "bQi5VMz4PmoS",
        "colab_type": "text"
      },
      "cell_type": "markdown",
      "source": [
        "## Broadcasting\n",
        "In numpy, when performing operations with two arrays (e.g. add them up), the dimensions must match!"
      ]
    },
    {
      "metadata": {
        "id": "stzEftSzPmoL",
        "colab_type": "code",
        "colab": {}
      },
      "cell_type": "code",
      "source": [
        "a = np.arange(5)\n",
        "b = np.array([0,-2,6,7])\n",
        "a+b # error"
      ],
      "execution_count": 0,
      "outputs": []
    },
    {
      "metadata": {
        "id": "g-3Bs4RxPmoH",
        "colab_type": "code",
        "colab": {}
      },
      "cell_type": "code",
      "source": [
        "a = np.arange(4)\n",
        "a+b # elementwise addition\n"
      ],
      "execution_count": 0,
      "outputs": []
    },
    {
      "metadata": {
        "id": "8Dc67QPTPmoF",
        "colab_type": "text"
      },
      "cell_type": "markdown",
      "source": [
        "There is an exception though, we are allowed to add a scalar to a vector, right?"
      ]
    },
    {
      "metadata": {
        "id": "bgz83CE5Pmn8",
        "colab_type": "code",
        "colab": {}
      },
      "cell_type": "code",
      "source": [
        "a+2"
      ],
      "execution_count": 0,
      "outputs": []
    },
    {
      "metadata": {
        "id": "ji-B-CWKPmns",
        "colab_type": "text"
      },
      "cell_type": "markdown",
      "source": [
        "**Be careful about the broadcasting rules!**\n",
        "\n",
        "You can perform an array operation on two arrays if:\n",
        "1. The dimensions are equal => elementwise operation\n",
        "2. One of the arrays has length 1 in some dimension, and the other has a different length. In this case, the array with dimension 1 is duplicated in the respective dimension, such that it maches the other array. This is called **broadcasting**."
      ]
    },
    {
      "metadata": {
        "id": "FOCyzZ5ywX33",
        "colab_type": "text"
      },
      "cell_type": "markdown",
      "source": [
        "## Indexing and Slicing"
      ]
    },
    {
      "metadata": {
        "id": "R0Xba-W8wX33",
        "colab_type": "text"
      },
      "cell_type": "markdown",
      "source": [
        "An `np.array` object is a multidimensional data structure, a tensor-like object. For example, a matrix is a two dimensional array, and can be viewed as a list of lists. Python indexing works for numpy objects."
      ]
    },
    {
      "metadata": {
        "id": "Gp0gO_V_wX33",
        "colab_type": "code",
        "colab": {}
      },
      "cell_type": "code",
      "source": [
        "data = np.random.random((5,5))\n",
        "print(data)\n",
        "data[0]\n"
      ],
      "execution_count": 0,
      "outputs": []
    },
    {
      "metadata": {
        "id": "V0_lZrEFwX35",
        "colab_type": "text"
      },
      "cell_type": "markdown",
      "source": [
        "Obviously we can then access the columns, but this is not the recommended way in numpy."
      ]
    },
    {
      "metadata": {
        "id": "2CyeVGmHwX36",
        "colab_type": "code",
        "colab": {}
      },
      "cell_type": "code",
      "source": [
        "data[0][2]"
      ],
      "execution_count": 0,
      "outputs": []
    },
    {
      "metadata": {
        "id": "PvzfQxHnwX38",
        "colab_type": "text"
      },
      "cell_type": "markdown",
      "source": [
        "Instead we will use:"
      ]
    },
    {
      "metadata": {
        "id": "aHr_KKxMwX39",
        "colab_type": "code",
        "colab": {}
      },
      "cell_type": "code",
      "source": [
        "data[0,2]"
      ],
      "execution_count": 0,
      "outputs": []
    },
    {
      "metadata": {
        "id": "dJnABQ92wX39",
        "colab_type": "text"
      },
      "cell_type": "markdown",
      "source": [
        "Slicing: We can retrieve a subsection of our array. This is called slicing."
      ]
    },
    {
      "metadata": {
        "id": "ZPiggZrpwX3-",
        "colab_type": "code",
        "colab": {}
      },
      "cell_type": "code",
      "source": [
        "data[:,2]"
      ],
      "execution_count": 0,
      "outputs": []
    },
    {
      "metadata": {
        "id": "Ql0Xo17cwX4B",
        "colab_type": "text"
      },
      "cell_type": "markdown",
      "source": [
        "Note that we get back a 1-dimensional array.\n",
        "\n",
        "If we want the same data, but as a 2-dimensional structure, as a column, we should slice on the second component as well."
      ]
    },
    {
      "metadata": {
        "id": "RFc8GUgQwX4B",
        "colab_type": "code",
        "colab": {}
      },
      "cell_type": "code",
      "source": [
        "data[:,2:]"
      ],
      "execution_count": 0,
      "outputs": []
    },
    {
      "metadata": {
        "id": "ibxMSectwX4E",
        "colab_type": "text"
      },
      "cell_type": "markdown",
      "source": [
        "Note that slicing preserves the same dimension, but indexing always colapses one dimension"
      ]
    },
    {
      "metadata": {
        "id": "xwhsxVdLwX4J",
        "colab_type": "text"
      },
      "cell_type": "markdown",
      "source": [
        "slicing ranges in both dimensions"
      ]
    },
    {
      "metadata": {
        "id": "E284amKhwX4J",
        "colab_type": "code",
        "colab": {}
      },
      "cell_type": "code",
      "source": [
        "data[0:2,0:2]"
      ],
      "execution_count": 0,
      "outputs": []
    },
    {
      "metadata": {
        "id": "q3_E30xRwX4P",
        "colab_type": "text"
      },
      "cell_type": "markdown",
      "source": [
        "slicing with step size"
      ]
    },
    {
      "metadata": {
        "id": "D38YUUeRwX4Q",
        "colab_type": "code",
        "colab": {}
      },
      "cell_type": "code",
      "source": [
        "print(data)\n",
        "data[::2,::-1] # this slicing works like: beg:end:step (experiment with different step size, -1 = reverse)"
      ],
      "execution_count": 0,
      "outputs": []
    },
    {
      "metadata": {
        "id": "yXs7elkawX4S",
        "colab_type": "text"
      },
      "cell_type": "markdown",
      "source": [
        "We can select by passing an array"
      ]
    },
    {
      "metadata": {
        "id": "eicNvxkPwX4S",
        "colab_type": "code",
        "colab": {}
      },
      "cell_type": "code",
      "source": [
        "data[[0,2],:] # lines 0 and 2"
      ],
      "execution_count": 0,
      "outputs": []
    },
    {
      "metadata": {
        "id": "Cvq3TYYNwX4V",
        "colab_type": "code",
        "colab": {}
      },
      "cell_type": "code",
      "source": [
        "data[:,[0,2]] # columns 0 and 2"
      ],
      "execution_count": 0,
      "outputs": []
    },
    {
      "metadata": {
        "id": "RJ0ubK4nwX3n",
        "colab_type": "text"
      },
      "cell_type": "markdown",
      "source": [
        "### A few more useful methods of the np.array class"
      ]
    },
    {
      "metadata": {
        "id": "eSX82skEwX3o",
        "colab_type": "code",
        "colab": {}
      },
      "cell_type": "code",
      "source": [
        "a = np.random.random((2,3))\n",
        "a.sum(), a.min(), a.max(), a.mean(), a.std()"
      ],
      "execution_count": 0,
      "outputs": []
    },
    {
      "metadata": {
        "id": "dSvO3fBfwX3t",
        "colab_type": "text"
      },
      "cell_type": "markdown",
      "source": [
        "The sum of an array is the sum of all its elements. If you have, for example a 2-dimensional array and you want the sum for each column, you can use the `axis` parameter (axis=1), for rows, axis=0."
      ]
    },
    {
      "metadata": {
        "id": "27-DQVVwwX4b",
        "colab_type": "text"
      },
      "cell_type": "markdown",
      "source": [
        "### Fancy indexing\n",
        "- boolean masks\n",
        "- arrays"
      ]
    },
    {
      "metadata": {
        "id": "_rGUZLBNwX4b",
        "colab_type": "code",
        "colab": {}
      },
      "cell_type": "code",
      "source": [
        "a = np.arange(20).reshape((4,5))\n",
        "print(a)\n",
        "print()\n",
        "print(\"Mask:\")\n",
        "print(a>5)\n",
        "print()\n",
        "print(\"All elements greater than 5\")\n",
        "print(a[a>5]) # selection using boolean masks, returns flattened array"
      ],
      "execution_count": 0,
      "outputs": []
    },
    {
      "metadata": {
        "id": "KtA7JSTLwX44",
        "colab_type": "text"
      },
      "cell_type": "markdown",
      "source": [
        "## Stacking and spliting arrays"
      ]
    },
    {
      "metadata": {
        "id": "lqucM2aQwX44",
        "colab_type": "code",
        "colab": {}
      },
      "cell_type": "code",
      "source": [
        "# for 2D arrays: column_stack and row_stack\n",
        "a = np.array([1,2,3])\n",
        "b = np.array([0,5,6])\n",
        "print(\"Col stack:\")\n",
        "print(np.column_stack((a,b)))\n",
        "print(\"Row stack:\")\n",
        "print(np.row_stack((a,b)))"
      ],
      "execution_count": 0,
      "outputs": []
    },
    {
      "metadata": {
        "id": "0mhrEqS4wX49",
        "colab_type": "text"
      },
      "cell_type": "markdown",
      "source": [
        "See also `hstack`, `vstack` and `concatenate` for multidimensional arrays"
      ]
    },
    {
      "metadata": {
        "id": "Fb9P_gnFwX5G",
        "colab_type": "text"
      },
      "cell_type": "markdown",
      "source": [
        "## Linear Algebra\n",
        "numpy has implementations of some of the most common algebraic operations.\n",
        "The most common one, the dot product is implemented both as a method of the array object and as a numpy function."
      ]
    },
    {
      "metadata": {
        "id": "gXkM7ZZ2wX5G",
        "colab_type": "code",
        "colab": {}
      },
      "cell_type": "code",
      "source": [
        "# compute the dot product of a and b\n",
        "a = np.array([1,3,2])\n",
        "b = np.array([0,-1,-1])\n"
      ],
      "execution_count": 0,
      "outputs": []
    },
    {
      "metadata": {
        "id": "jRU8_wZFwX5H",
        "colab_type": "text"
      },
      "cell_type": "markdown",
      "source": [
        "Matrix multiplication can be performed either using the dot product or `np.matmul`. Using functions from numpy you can \n",
        "- find eigenvalues and eigenvectors, \n",
        "- compute some decompositions (QR, SVD), \n",
        "- compute determinant of a matrix, \n",
        "- norm of a vector,\n",
        "- solve a linear system\n",
        "- invert a matrix\n",
        "\n",
        "See [the documentation](https://docs.scipy.org/doc/numpy-1.13.0/reference/routines.linalg.html)"
      ]
    },
    {
      "metadata": {
        "id": "uT6f_IUkwX3S",
        "colab_type": "code",
        "colab": {}
      },
      "cell_type": "code",
      "source": [
        "x = np.linspace(0,2*np.pi,100)\n",
        "y = np.sin(x) # np.sin applied elementwise for array x\n",
        "y[:20]"
      ],
      "execution_count": 0,
      "outputs": []
    },
    {
      "metadata": {
        "id": "yxH-ebdLAxA5",
        "colab_type": "text"
      },
      "cell_type": "markdown",
      "source": [
        "# Matplotlib"
      ]
    },
    {
      "metadata": {
        "id": "OqLVip8OQKU_",
        "colab_type": "code",
        "colab": {}
      },
      "cell_type": "code",
      "source": [
        "import matplotlib.pyplot as plt\n",
        "%matplotlib inline"
      ],
      "execution_count": 0,
      "outputs": []
    },
    {
      "metadata": {
        "id": "cXewvWC1Tpnq",
        "colab_type": "text"
      },
      "cell_type": "markdown",
      "source": [
        "## Interfaces\n",
        "`matplotlib` has two interfaces:\n",
        "- procedural (it behaves like a state machine), similar to `MATLAB`\n",
        "- object oriented, more explicit, more tedious to write, but gives access to many more controls.\n",
        "\n",
        "### Which interface to use?\n",
        "Most of the time you will want to use the object oriented interface. This gives you direct acces to each element of the plot. You can use the procedural interface when experimenting, to view the data very fast, as it involves less typing.\n",
        "\n",
        "Note: The plot above is created using the procedural interface. From now on we will use the object oriented interface!\n",
        "\n",
        "**Caution!** When using elements from other example plots, make sure you know what interface is being used."
      ]
    },
    {
      "metadata": {
        "id": "6tXnUJYlTpnr",
        "colab_type": "text"
      },
      "cell_type": "markdown",
      "source": [
        "## The elements of a plot\n",
        "\n",
        "### The figure and the axes\n",
        "The figure is the entire image, the individual plots are called \"axes\". Here's a description from matplotlib's documentation."
      ]
    },
    {
      "metadata": {
        "id": "hJ5bGCm6Tpnr",
        "colab_type": "text"
      },
      "cell_type": "markdown",
      "source": [
        "![](https://matplotlib.org/_images/anatomy1.png)"
      ]
    },
    {
      "metadata": {
        "id": "sK91obhsTpn3",
        "colab_type": "text"
      },
      "cell_type": "markdown",
      "source": [
        "## The object oriented interface"
      ]
    },
    {
      "metadata": {
        "id": "l5A-LjajTpn4",
        "colab_type": "code",
        "colab": {}
      },
      "cell_type": "code",
      "source": [
        "fig, ax = plt.subplots()\n",
        "# or\n",
        "# fig = plt.figure()\n",
        "# ax = fig.add_subplot(1,1,1)\n",
        "\n",
        "plt.show()"
      ],
      "execution_count": 0,
      "outputs": []
    },
    {
      "metadata": {
        "id": "lIbXbM0LTpoA",
        "colab_type": "text"
      },
      "cell_type": "markdown",
      "source": [
        "We now have acces to the `ax` object, which reprezents a plot. A figure can have more than one axes:"
      ]
    },
    {
      "metadata": {
        "id": "e1MZfyOITpoB",
        "colab_type": "code",
        "colab": {}
      },
      "cell_type": "code",
      "source": [
        "fig1, (ax1,ax2) = plt.subplots(1,2)\n",
        "plt.show()"
      ],
      "execution_count": 0,
      "outputs": []
    },
    {
      "metadata": {
        "id": "hgDz66ykTpoH",
        "colab_type": "text"
      },
      "cell_type": "markdown",
      "source": [
        "We can change the figure size:"
      ]
    },
    {
      "metadata": {
        "id": "e9QxxCyyTpoH",
        "colab_type": "code",
        "colab": {}
      },
      "cell_type": "code",
      "source": [
        "fig1 = plt.figure(figsize=(8,4), dpi=80) # width and height in inches, you can also specify the dpi\n",
        "(ax1,ax2) = fig1.subplots(1,2)\n",
        "fig1.show()"
      ],
      "execution_count": 0,
      "outputs": []
    },
    {
      "metadata": {
        "id": "wKaHAF2CTpoL",
        "colab_type": "text"
      },
      "cell_type": "markdown",
      "source": [
        "We can set the limits, the title, and x and y labels"
      ]
    },
    {
      "metadata": {
        "id": "DvCzvvrRTpoM",
        "colab_type": "code",
        "colab": {}
      },
      "cell_type": "code",
      "source": [
        "fig, ax = plt.subplots()\n",
        "ax.set(xlim=[-0.5, 3], ylim=[-1, 6], title='Example',\n",
        "       ylabel='Y Axis', xlabel='X Axis')\n",
        "fig.show()"
      ],
      "execution_count": 0,
      "outputs": []
    },
    {
      "metadata": {
        "id": "cUlQ4PCCTpoQ",
        "colab_type": "text"
      },
      "cell_type": "markdown",
      "source": [
        "**Enough empty plots!** Let's add some data!"
      ]
    },
    {
      "metadata": {
        "id": "BR-dZw80TpoR",
        "colab_type": "code",
        "colab": {}
      },
      "cell_type": "code",
      "source": [
        "fig, ax = plt.subplots()\n",
        "x = np.linspace(0,2.5,10) # equidistant points in interval 0-2.5\n",
        "y = np.random.random(10)+.5*np.arange(10)\n",
        "ax.plot(x,y)"
      ],
      "execution_count": 0,
      "outputs": []
    },
    {
      "metadata": {
        "id": "e78jZeBLTpoY",
        "colab_type": "text"
      },
      "cell_type": "markdown",
      "source": [
        "`plot(x,y)` creates a line-plot. We can set the color, linewidth and markers, or use just markers and remove the line: "
      ]
    },
    {
      "metadata": {
        "id": "E5V_xuGmTpoZ",
        "colab_type": "code",
        "colab": {}
      },
      "cell_type": "code",
      "source": [
        "x = np.linspace(0,2.5,10) # equidistant points in interval 0-2.5\n",
        "y = np.random.random(10)+.5*np.arange(10)\n",
        "\n",
        "fig1 = plt.figure(figsize=(8,4), dpi=80) # width and height in inches, you can also specify the dpi\n",
        "(ax1,ax2) = fig1.subplots(1,2)\n",
        "ax1.plot(x,y, color='red', linewidth=3)\n",
        "z = 3+np.random.random(10)\n",
        "ax1.plot(x,z, color='green', marker='^', linewidth=0)\n",
        "# we let matplotlib adjust the limits of the plot\n",
        "# fig1\n",
        "# fig1.show()"
      ],
      "execution_count": 0,
      "outputs": []
    },
    {
      "metadata": {
        "id": "cSfXik7tTpoe",
        "colab_type": "text"
      },
      "cell_type": "markdown",
      "source": [
        "Note that we can make multiple plots on the same axes"
      ]
    },
    {
      "metadata": {
        "id": "taE0vGIWTpoe",
        "colab_type": "text"
      },
      "cell_type": "markdown",
      "source": [
        "You can set the title and axis, and other elements of the plot by using setters:"
      ]
    },
    {
      "metadata": {
        "id": "pyxjIdA6Tpof",
        "colab_type": "code",
        "colab": {}
      },
      "cell_type": "code",
      "source": [
        "x = np.linspace(0,2.5,10) # equidistant points in interval 0-2.5\n",
        "y = np.random.random(10)+.5*np.arange(10)\n",
        "\n",
        "fig1 = plt.figure(figsize=(8,4), dpi=80) # width and height in inches, you can also specify the dpi\n",
        "(ax1,ax2) = fig1.subplots(1,2)\n",
        "ax1.plot(x,y, color='red', linewidth=3)\n",
        "z = 3+np.random.random(10)\n",
        "ax1.plot(x,z, color='green', marker='^', linewidth=0)\n",
        "\n",
        "ax1.set_xlim([-0.5, 3])\n",
        "ax1.set_ylim([-1, 6])\n",
        "ax1.set_title('The Title')\n",
        "ax1.set_ylabel('Y Axis')\n",
        "ax1.set_xlabel('X Axis')\n",
        "fig1.show()"
      ],
      "execution_count": 0,
      "outputs": []
    },
    {
      "metadata": {
        "id": "aybhY813Tpoi",
        "colab_type": "text"
      },
      "cell_type": "markdown",
      "source": [
        "the `set()` method attempts to call the other setters."
      ]
    },
    {
      "metadata": {
        "id": "5sNMh5iKTpoi",
        "colab_type": "code",
        "colab": {}
      },
      "cell_type": "code",
      "source": [
        "\n",
        "x = np.linspace(0,2.5,10) # equidistant points in interval 0-2.5\n",
        "y = np.random.random(10)+.5*np.arange(10)\n",
        "\n",
        "fig1 = plt.figure(figsize=(8,4), dpi=80) # width and height in inches, you can also specify the dpi\n",
        "(ax1,ax2) = fig1.subplots(1,2)\n",
        "ax1.plot(x,y, color='red', linewidth=3)\n",
        "z = 3+np.random.random(10)\n",
        "ax1.plot(x,z, color='green', marker='^', linewidth=0)\n",
        "\n",
        "ax1.set_xlim([-0.5, 3])\n",
        "ax1.set_ylim([-1, 6])\n",
        "ax1.set_title('The Title')\n",
        "ax1.set_ylabel('Y Axis')\n",
        "ax1.set_xlabel('X Axis')\n",
        "\n",
        "x = np.random.randn(40)\n",
        "y = np.random.randn(40)\n",
        "z = np.random.randn(40)\n",
        "ax2.scatter(x,y)\n"
      ],
      "execution_count": 0,
      "outputs": []
    },
    {
      "metadata": {
        "id": "FLmo3TpDTpol",
        "colab_type": "code",
        "colab": {}
      },
      "cell_type": "code",
      "source": [
        "ax2.set(title=\"A Scatterplot\", xlabel='X', ylabel='Y')\n",
        "fig1.show()"
      ],
      "execution_count": 0,
      "outputs": []
    },
    {
      "metadata": {
        "id": "gm7yYN5jTpn1",
        "colab_type": "code",
        "colab": {}
      },
      "cell_type": "code",
      "source": [
        "fig.savefig(\"mpl.test.jpg\") # this saves our figure"
      ],
      "execution_count": 0,
      "outputs": []
    },
    {
      "metadata": {
        "id": "UgyhAfOGTpo2",
        "colab_type": "text"
      },
      "cell_type": "markdown",
      "source": [
        "## Bar Plots"
      ]
    },
    {
      "metadata": {
        "id": "GGIUucWRTpo4",
        "colab_type": "code",
        "colab": {}
      },
      "cell_type": "code",
      "source": [
        "np.random.seed(1)\n",
        "x = np.arange(5)\n",
        "y = np.random.randn(5)\n",
        "\n",
        "fig, axes = plt.subplots()\n",
        "\n",
        "axes.bar(x, y, color='lightblue', align='center')\n",
        "axes.axhline(0, color='gray', linewidth=2)\n"
      ],
      "execution_count": 0,
      "outputs": []
    },
    {
      "metadata": {
        "id": "DtHVUsGMP9Dg",
        "colab_type": "text"
      },
      "cell_type": "markdown",
      "source": [
        "# Exercises"
      ]
    },
    {
      "metadata": {
        "id": "DcALfnbSW98l",
        "colab_type": "text"
      },
      "cell_type": "markdown",
      "source": [
        "## 1. System of linear equations\n",
        "\n",
        "Using numpy, solve the following linear equation:\n",
        "\n"
      ]
    },
    {
      "metadata": {
        "id": "LlnFf_e7XsRS",
        "colab_type": "text"
      },
      "cell_type": "markdown",
      "source": [
        "$\\begin{bmatrix}\n",
        "   1 & 2 & 3.3 & 2 \\\\\n",
        "   3 & 3.6 & 7 & 0 \\\\\n",
        "   1 & 3 & -1 & 12 \\\\\n",
        "   2 & 11 & 4 & 16\n",
        "\\end{bmatrix}\n",
        "\\begin{bmatrix}\n",
        "   x_1 \\\\\n",
        "   x_2 \\\\\n",
        "   x_3 \\\\\n",
        "   x_4\n",
        "\\end{bmatrix}=\\begin{bmatrix}\n",
        "   10 \\\\\n",
        "   15 \\\\\n",
        "   3 \\\\\n",
        "   -1\n",
        "\\end{bmatrix}$"
      ]
    },
    {
      "metadata": {
        "id": "93zy_EQdXuvz",
        "colab_type": "code",
        "colab": {}
      },
      "cell_type": "code",
      "source": [
        ""
      ],
      "execution_count": 0,
      "outputs": []
    },
    {
      "metadata": {
        "id": "BLfScKtFZcnP",
        "colab_type": "text"
      },
      "cell_type": "markdown",
      "source": [
        "## 2. Another system of linear equations\n",
        " Using numpy, ***try*** to solve the following linear equation (hint: *np.linalg.pinv()*): \n"
      ]
    },
    {
      "metadata": {
        "id": "ZnjOXy3OZw5p",
        "colab_type": "text"
      },
      "cell_type": "markdown",
      "source": [
        "$\\begin{bmatrix}\n",
        "   1 & -1 & -1 & 1 \\\\\n",
        "   0 & 1 & 1 & 0 \\\\\n",
        "   1 & 0 & -1 & 0 \\\\\n",
        "   -1 & 0 & 1 & 0\n",
        "\\end{bmatrix}\n",
        "\\begin{bmatrix}\n",
        "   x_1 \\\\\n",
        "   x_2 \\\\\n",
        "   x_3 \\\\\n",
        "   x_4\n",
        "\\end{bmatrix}=\\begin{bmatrix}\n",
        "   1 \\\\\n",
        "   2 \\\\\n",
        "   3 \\\\\n",
        "   4\n",
        "\\end{bmatrix}$"
      ]
    },
    {
      "metadata": {
        "id": "RKV0jTtlZzlZ",
        "colab_type": "code",
        "colab": {}
      },
      "cell_type": "code",
      "source": [
        ""
      ],
      "execution_count": 0,
      "outputs": []
    },
    {
      "metadata": {
        "id": "XvjRHIdrqqcv",
        "colab_type": "text"
      },
      "cell_type": "markdown",
      "source": [
        "## 3. Find the closest value to a given scalar in an array. Don't use loops!\n",
        "*hint: np.argmin()*"
      ]
    },
    {
      "metadata": {
        "id": "HfPsZrWeq8s4",
        "colab_type": "code",
        "colab": {}
      },
      "cell_type": "code",
      "source": [
        ""
      ],
      "execution_count": 0,
      "outputs": []
    },
    {
      "metadata": {
        "id": "DwxnUyZVZ0rc",
        "colab_type": "text"
      },
      "cell_type": "markdown",
      "source": [
        "## 4. Plot some functions\n",
        "Using numpy and matplotlib, create a figure having two subplots with the following functions (you can choose the colors and styling, and interval of interest):\n",
        "\n",
        "$f_1(x)=x + \\frac{sin(x)}{x}$\n",
        "\n",
        "$f_2(x) = e^{log(x)+1} + \\frac{cos(x)}{3}$\n"
      ]
    },
    {
      "metadata": {
        "id": "xjHoRuKEbY3j",
        "colab_type": "code",
        "colab": {}
      },
      "cell_type": "code",
      "source": [
        ""
      ],
      "execution_count": 0,
      "outputs": []
    },
    {
      "metadata": {
        "id": "vxhrzxP7q9fJ",
        "colab_type": "text"
      },
      "cell_type": "markdown",
      "source": [
        "## Homework\n",
        "- [100 Numpy exercises](http://www.labri.fr/perso/nrougier/teaching/numpy.100/) \n",
        "\n",
        "** Have fun! **\n"
      ]
    },
    {
      "metadata": {
        "id": "X6JvQCk0rOvo",
        "colab_type": "code",
        "colab": {}
      },
      "cell_type": "code",
      "source": [
        ""
      ],
      "execution_count": 0,
      "outputs": []
    }
  ]
}