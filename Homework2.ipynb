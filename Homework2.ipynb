{
 "cells": [
  {
   "cell_type": "markdown",
   "metadata": {},
   "source": [
    "# Homework 2"
   ]
  },
  {
   "cell_type": "markdown",
   "metadata": {},
   "source": [
    "## Author: Marusic Diana (331)"
   ]
  },
  {
   "cell_type": "markdown",
   "metadata": {},
   "source": [
    "**TODO:** You  should  state  and  describe  the  problem  you  are  trying  to  solve.  Describe  thedata  (type  of  data,  summary  statistics),  the  desired  output,  and  the  proposed  model."
   ]
  },
  {
   "cell_type": "markdown",
   "metadata": {},
   "source": [
    "## Task 1: Text classification (by authors)"
   ]
  },
  {
   "cell_type": "markdown",
   "metadata": {},
   "source": [
    "**TODO:**\n",
    "\n",
    "- use SVM Classifier(SVC) to predict author. \n",
    "\n",
    " * hyperparameters:  (kernel,  C,  gamma) \n",
    " \n",
    " \n",
    "- apply PCA to reduce dimensionality and retrain"
   ]
  },
  {
   "cell_type": "code",
   "execution_count": null,
   "metadata": {},
   "outputs": [],
   "source": [
    "print(\"Hello world\")"
   ]
  },
  {
   "cell_type": "markdown",
   "metadata": {},
   "source": [
    "## Task 2: Text clustering"
   ]
  },
  {
   "cell_type": "markdown",
   "metadata": {},
   "source": [
    "**TODO:** Does  the  clustering  gives  you  back  the  books  clustered  by  author?Are  the  books  grouped  differently?  Can  you  find  what  authors  have  similar  writing  styles?Or  are  the  books  grouped  by  genre? \n",
    "\n",
    "Unsupervised learning => will need to find something in the dataset and explain what found"
   ]
  },
  {
   "cell_type": "markdown",
   "metadata": {},
   "source": [
    "**TODO:**\n",
    "- DBCAN ( *eps*  and  *minsamples* hyperparams)\n",
    "- KMeans ( *nclusters*  and  *init* hyperparams)\n",
    "- Hierarchical(Agglomerative)  ( *nclusters* hyperparams)\n",
    "\n",
    "- compare + metrics:\n",
    "    *  *silhouette  score*\n",
    "    * *homogeneityscore*\n",
    "    * *completness  score*. "
   ]
  },
  {
   "cell_type": "markdown",
   "metadata": {},
   "source": [
    "## Bonus"
   ]
  },
  {
   "cell_type": "markdown",
   "metadata": {},
   "source": [
    " For  using  clustering  and  dimensionality  reduction  techniqueson  your  first  homework  dataset"
   ]
  }
 ],
 "metadata": {
  "kernelspec": {
   "display_name": "Homework",
   "language": "python",
   "name": "homework"
  }
 },
 "nbformat": 4,
 "nbformat_minor": 2
}
