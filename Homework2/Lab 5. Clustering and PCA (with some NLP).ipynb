{
 "cells": [
  {
   "cell_type": "markdown",
   "metadata": {
    "colab_type": "text",
    "id": "QbJto_4BzREm"
   },
   "source": [
    "# Lab 5. Natural Language Processing. Unsupervised Learning"
   ]
  },
  {
   "cell_type": "code",
   "execution_count": 1,
   "metadata": {
    "colab": {},
    "colab_type": "code",
    "id": "ka3g6qXCcZ3_"
   },
   "outputs": [
    {
     "name": "stdout",
     "output_type": "stream",
     "text": [
      "3.6.7 (default, Oct 22 2018, 11:32:17) \n",
      "[GCC 8.2.0]\n",
      "sys.version_info(major=3, minor=6, micro=7, releaselevel='final', serial=0)\n",
      "Hello world\n"
     ]
    }
   ],
   "source": [
    "# Some IPython magic\n",
    "# Put these at the top of every notebook, here nbagg is used for interactive plots\n",
    "%reload_ext autoreload\n",
    "%autoreload 2\n",
    "%matplotlib inline\n",
    "\n",
    "import numpy as np\n",
    "import matplotlib.pyplot as plt\n",
    "\n",
    "import sys\n",
    "print(sys.version)\n",
    "print(sys.version_info)\n",
    "\n",
    "print(\"Hello world\")"
   ]
  },
  {
   "cell_type": "markdown",
   "metadata": {
    "colab_type": "text",
    "id": "JBns_Q4qY2Fx"
   },
   "source": [
    "## Natural Language Processing.\n",
    "NLP refers to processing text data. This could refer to a wide range of tasks, from very simple ones, like searching for a pattern, to very complex ones, like text summarization, or automated translation.\n",
    "\n",
    "### Feature Extraction\n",
    "In order to apply Machine Learning algorithms on text data, we need to figure out a way to represent the text as a set of numeric attributes.\n",
    "\n",
    "#### Bag of Words\n",
    "The simplest way to represent a text document as a vector of numbers is to count the words, and output a frequency count. Let's say we have a list of all english words, like the following:"
   ]
  },
  {
   "cell_type": "code",
   "execution_count": 2,
   "metadata": {
    "colab": {},
    "colab_type": "code",
    "id": "aaExhqt5zRE0"
   },
   "outputs": [
    {
     "name": "stdout",
     "output_type": "stream",
     "text": [
      "a, AAA, AAAS, aardvark ... zucchini, Zulu, Zurich, zygote\n"
     ]
    }
   ],
   "source": [
    "# creates a wordlist, with all words, from \"a\" to \"zygote\"\n",
    "import urllib.request as request\n",
    "words = request.urlopen(\"https://svnweb.freebsd.org/csrg/share/dict/words?view=co\")\n",
    "wordlist = []\n",
    "for w in words:\n",
    "    wordlist.append(str(w.decode().strip()))\n",
    "print(', '.join(wordlist[:4]) + \" ... \" + ', '.join(wordlist[-4:]))"
   ]
  },
  {
   "cell_type": "code",
   "execution_count": 3,
   "metadata": {
    "colab": {},
    "colab_type": "code",
    "id": "jgVJ47zczRE8"
   },
   "outputs": [
    {
     "name": "stdout",
     "output_type": "stream",
     "text": [
      "Now we can convert any text to a vector of size 25487\n"
     ]
    }
   ],
   "source": [
    "print(\"Now we can convert any text to a vector of size \" \\\n",
    "      + str(len(wordlist)))"
   ]
  },
  {
   "cell_type": "markdown",
   "metadata": {
    "colab_type": "text",
    "id": "z4WzacIpzRFC"
   },
   "source": [
    "For example, the text \"In this lab we study Natural Language Processing and Unsupervised Learning\" can be represented as a vector with almost all values equal to 0, and values of 1 in the position of the words \"in\", \"this\", etc.\n",
    "\n",
    "This ___feature vector___ can be extracted directly from the dataset. If we have a large collection of text, we can assume that other documents will use the same vocabulary. So if we build a model for news articles, most likely those articles will not use every single word in the english language. So during the training phase of our machine learning modeling, we can use the train set to create our feature vector, we select only the words that appear in the train set. If new words appear during the test phase, we will discard them. This is a good thing to do because during training, we did not learn anything about those words. We cannot use unseen words to perform classification.\n",
    "\n",
    "Let's start working with a dataset."
   ]
  },
  {
   "cell_type": "code",
   "execution_count": 4,
   "metadata": {
    "colab": {},
    "colab_type": "code",
    "id": "-BieAe7lWcWg"
   },
   "outputs": [
    {
     "name": "stderr",
     "output_type": "stream",
     "text": [
      "Downloading 20news dataset. This may take a few minutes.\n",
      "Downloading dataset from https://ndownloader.figshare.com/files/5975967 (14 MB)\n"
     ]
    }
   ],
   "source": [
    "from sklearn.datasets import fetch_20newsgroups\n",
    "\n",
    "# We select only 3 categories for now, feel free to change the categories\n",
    "categories = [\n",
    "    'rec.sport.baseball',\n",
    "    'comp.graphics',\n",
    "    'sci.space',\n",
    "]\n",
    "dataset = fetch_20newsgroups(subset='all', categories=categories, \n",
    "                              shuffle=True, random_state=42)\n",
    "\n",
    "#dataset = fetch_20newsgroups(subset='all', shuffle=True, random_state=42) #if you want all caterogies\n"
   ]
  },
  {
   "cell_type": "code",
   "execution_count": 5,
   "metadata": {
    "colab": {},
    "colab_type": "code",
    "id": "7pwUTmInbViU"
   },
   "outputs": [
    {
     "data": {
      "text/plain": [
       "['DESCR', 'data', 'filenames', 'target', 'target_names']"
      ]
     },
     "execution_count": 5,
     "metadata": {},
     "output_type": "execute_result"
    }
   ],
   "source": [
    "# here are the attributes of the object retrieved by fetch_20newsgroups\n",
    "dir(dataset)"
   ]
  },
  {
   "cell_type": "code",
   "execution_count": 6,
   "metadata": {
    "colab": {},
    "colab_type": "code",
    "id": "_VKru4wJbHGF"
   },
   "outputs": [
    {
     "data": {
      "text/plain": [
       "2954"
      ]
     },
     "execution_count": 6,
     "metadata": {},
     "output_type": "execute_result"
    }
   ],
   "source": [
    "len(dataset.data)"
   ]
  },
  {
   "cell_type": "code",
   "execution_count": 7,
   "metadata": {
    "colab": {},
    "colab_type": "code",
    "id": "ThoBpdCY6B4P"
   },
   "outputs": [
    {
     "name": "stdout",
     "output_type": "stream",
     "text": [
      "2\n"
     ]
    }
   ],
   "source": [
    "X = dataset.data\n",
    "y = dataset.target\n",
    "print(np.max(y))"
   ]
  },
  {
   "cell_type": "code",
   "execution_count": 8,
   "metadata": {
    "colab": {},
    "colab_type": "code",
    "id": "j_Q_EQJsoDPd"
   },
   "outputs": [
    {
     "name": "stdout",
     "output_type": "stream",
     "text": [
      "From: bradfrd2@ncar.ucar.edu (Mark Bradford)\n",
      "Subject: Astro/Space Frequently Seen Acronyms\n",
      "Supersedes: <space/acronyms_731394007@GZA.COM>\n",
      "Organization: LifeForms Unlimited, Cephalopods\n",
      "Lines: 509\n",
      "Expires: 19 May 1993 04:00:04 GMT\n",
      "NNTP-Posting-Host: pad-thai.aktis.com\n",
      "Keywords: long space astro tla acronyms\n",
      "X-Last-Updated: 1992/12/07\n",
      "\n",
      "Archive-name: space/acronyms\n",
      "Edition: 8\n",
      "\n",
      "Acronym List for sci.astro, sci.space, and sci.space.shuttle:\n",
      "Edition 8, 1992 Dec 7\n",
      "Last posted: 1992 Aug 27\n",
      "\n",
      "This list is offered as a reference for translating commonly appearing\n",
      "acronyms in the space-related newsgroups.  If I forgot or botched your\n",
      "favorite acronym, please let me know!  Also, if there's an acronym *not*\n",
      "on this list that confuses you, drop me a line, and if I can figure\n",
      "it out, I'll add it to the list.\n",
      "\n",
      "Note that this is intended to be a reference for *frequently seen*\n",
      "acronyms, and is most emphatically *not* encyclopedic.  If I incorporated\n",
      "every acronym I ever saw, I'd soon run out of disk space!  :-)\n",
      "\n",
      "The list will be posted at regular intervals, every 30 days.  All\n",
      "comments regarding it are welcome; I'm reachable as bradfrd2@ncar.ucar.edu.\n",
      "\n",
      "Note that this just tells what the acronyms stand for -- you're on your\n",
      "own for figuring out what they *mean*!  Note also that the total number of\n",
      "acronyms in use far exceeds what I can list; special-purpose acronyms that\n",
      "are essentially always explained as they're introduced are omitted.\n",
      "Further, some acronyms stand for more than one thing; as of Edition 3 of\n",
      "the list, these acronyms appear on multiple lines, unless they're simply\n",
      "different ways of referring to the same thing.\n",
      "\n",
      "Thanks to everybody who's sent suggestions since the first version of\n",
      "the list, and especially to Garrett A. Wollman (wollman@griffin.uvm.edu),\n",
      "who is maintaining an independent list, somewhat more verbose in\n",
      "character than mine, and to Daniel Fischer (dfi@specklec.mpifr-bonn.mpg.de),\n",
      "who is maintaining a truly HUGE list (535 at last count) of acronyms and\n",
      "terms, mostly in German (which I read, fortunately).\n",
      "\n",
      "Special thanks this time to Ken Hollis at NASA, who sent me a copy of NASA\n",
      "Reference Publication 1059 Revised: _Space Transportation System and\n",
      "Associated Payloads: Glossary, Acronyms, and Abbreviations_, a truly\n",
      "mammoth tome -- almost 300 pages of TLAs.\n",
      "\n",
      "Special Bonus!  At the end of this posting, you will find a perl program\n",
      "written by none other than Larry Wall, whose purpose is to scramble the\n",
      "acronym list in an entertaining fashion.  Thanks, Larry!\n",
      "\n",
      "A&A: Astronomy and Astrophysics\n",
      "AAO: Anglo-Australian Observatory\n",
      "AAS: American Astronomical Society\n",
      "AAS: American Astronautical Society\n",
      "AAVSO: American Association of Variable Star Observers\n",
      "ACE: Advanced Composition Explorer\n",
      "ACRV: Assured Crew Return Vehicle (or) Astronaut Crew Rescue Vehicle\n",
      "ADFRF: Ames-Dryden Flight Research Facility (was DFRF) (NASA)\n",
      "AGN: Active Galactic Nucleus\n",
      "AGU: American Geophysical Union\n",
      "AIAA: American Institute of Aeronautics and Astronautics\n",
      "AIPS: Astronomical Image Processing System\n",
      "AJ: Astronomical Journal\n",
      "ALEXIS: Array of Low Energy X-ray Imaging Sensors\n",
      "ALPO: Association of Lunar and Planetary Observers\n",
      "ALS: Advanced Launch System\n",
      "ANSI: American National Standards Institute\n",
      "AOA: Abort Once Around (Shuttle abort plan)\n",
      "AOCS: Attitude and Orbit Control System\n",
      "Ap.J: Astrophysical Journal\n",
      "APM: Attached Pressurized Module (a.k.a. Columbus)\n",
      "APU: Auxiliary Power Unit\n",
      "ARC: Ames Research Center (NASA)\n",
      "ARTEMIS: Advanced Relay TEchnology MISsion\n",
      "ASA: Astronomical Society of the Atlantic\n",
      "ASI: Agenzia Spaziale Italiano\n",
      "ASRM: Advanced Solid Rocket Motor\n",
      "ATDRS: Advanced Tracking and Data Relay Satellite\n",
      "ATLAS: Atmospheric Laboratory for Applications and Science\n",
      "ATM: Amateur Telescope Maker\n",
      "ATO: Abort To Orbit (Shuttle abort plan)\n",
      "AU: Astronomical Unit\n",
      "AURA: Association of Universities for Research in Astronomy\n",
      "AW&ST: Aviation Week and Space Technology (a.k.a. AvLeak)\n",
      "AXAF: Advanced X-ray Astrophysics Facility\n",
      "BATSE: Burst And Transient Source Experiment (on CGRO)\n",
      "BBXRT: Broad-Band X-Ray Telescope (ASTRO package)\n",
      "BEM: Bug-Eyed Monster\n",
      "BH: Black Hole\n",
      "BIMA: Berkeley Illinois Maryland Array\n",
      "BNSC: British National Space Centre\n",
      "BTW: By The Way\n",
      "C&T: Communications & Tracking\n",
      "CCAFS: Cape Canaveral Air Force Station\n",
      "CCD: Charge-Coupled Device\n",
      "CCDS: Centers for the Commercial Development of Space\n",
      "CD-ROM: Compact Disk Read-Only Memory\n",
      "CFA: Center For Astrophysics\n",
      "CFC: ChloroFluoroCarbon\n",
      "CFF: Columbus Free Flyer\n",
      "CFHT: Canada-France-Hawaii Telescope\n",
      "CGRO: (Arthur Holley) Compton Gamma Ray Observatory (was GRO)\n",
      "CHARA: Center for High Angular Resolution Astronomy\n",
      "CIRRIS: Cryogenic InfraRed Radiance Instrument for Shuttle\n",
      "CIT: Circumstellar Imaging Telescope\n",
      "CM: Command Module (Apollo spacecraft)\n",
      "CMCC: Central Mission Control Centre (ESA)\n",
      "CNES: Centre National d'Etude Spatiales\n",
      "CNO: Carbon-Nitrogen-Oxygen\n",
      "CNSR: Comet Nucleus Sample Return\n",
      "COBE: COsmic Background Explorer\n",
      "COMPTEL: COMPton TELescope (on CGRO)\n",
      "COSTAR: Corrective Optics Space Telescope Axial Replacement\n",
      "CRAF: Comet Rendezvous / Asteroid Flyby\n",
      "CRRES: Combined Release / Radiation Effects Satellite\n",
      "CSM: Command and Service Module (Apollo spacecraft)\n",
      "CSTC: Consolidated Satellite Test Center (USAF)\n",
      "CTIO: Cerro Tololo Interamerican Observatory\n",
      "DCX: Delta Clipper eXperimental\n",
      "DDCU: DC-to-DC Converter Unit\n",
      "DFRF: Dryden Flight Research Facility (now ADFRF)\n",
      "DMSP: Defense Meteorological Satellite Program\n",
      "DOD: Department Of Defense (sometimes DoD)\n",
      "DOE: Department Of Energy\n",
      "DOT: Department Of Transportation\n",
      "DSCS: Defense Satellite Communications System\n",
      "DSN: Deep Space Network\n",
      "DSP: Defense Support Program (USAF/NRO)\n",
      "EAFB: Edwards Air Force Base\n",
      "ECS: Environmental Control System\n",
      "EDO: Extended Duration Orbiter\n",
      "EGRET: Energetic Gamma Ray Experiment Telescope (on CGRO)\n",
      "EJASA: Electronic Journal of the Astronomical Society of the Atlantic\n",
      "ELV: Expendable Launch Vehicle\n",
      "EMU: Extravehicular Mobility Unit\n",
      "EOS: Earth Observing System\n",
      "ERS: Earth Resources Satellite (as in ERS-1)\n",
      "ESA: European Space Agency\n",
      "ESO: European Southern Observatory\n",
      "ET: (Shuttle) External Tank\n",
      "ETLA: Extended Three Letter Acronym\n",
      "ETR: Eastern Test Range\n",
      "EUV: Extreme UltraViolet\n",
      "EUVE: Extreme UltraViolet Explorer\n",
      "EVA: ExtraVehicular Activity\n",
      "FAQ: Frequently Asked Questions\n",
      "FAST: Fast Auroral SnapshoT explorer\n",
      "FFT: Fast Fourier Transform\n",
      "FGS: Fine Guidance Sensors (on HST)\n",
      "FHST: Fixed Head Star Trackers (on HST)\n",
      "FIR: Far InfraRed\n",
      "FITS: Flexible Image Transport System\n",
      "FOC: Faint Object Camera (on HST)\n",
      "FOS: Faint Object Spectrograph (on HST)\n",
      "FRR: Flight-Readiness Review\n",
      "FTP: File Transfer Protocol\n",
      "FTS: Flight Telerobotic Servicer\n",
      "FUSE: Far Ultraviolet Spectroscopic Explorer\n",
      "FWHM: Full Width at Half Maximum\n",
      "FYI: For Your Information\n",
      "GAS: Get-Away Special\n",
      "GBT: Green Bank Telescope\n",
      "GCVS: General Catalog of Variable Stars\n",
      "GEM: Giotto Extended Mission\n",
      "GEO: Geosynchronous Earth Orbit\n",
      "GDS: Great Dark Spot\n",
      "GHRS: Goddard High Resolution Spectrograph (on HST)\n",
      "GIF: Graphics Interchange Format\n",
      "GLOMR: Global Low-Orbiting Message Relay\n",
      "GMC: Giant Molecular Cloud\n",
      "GMRT: Giant Meter-wave Radio Telescope\n",
      "GMT: Greenwich Mean Time (also called UT)\n",
      "GOES: Geostationary Orbiting Environmental Satellite\n",
      "GOX: Gaseous OXygen\n",
      "GPC: General Purpose Computer\n",
      "GPS: Global Positioning System\n",
      "GRO: Gamma Ray Observatory (now CGRO)\n",
      "GRS: Gamma Ray Spectrometer (on Mars Observer)\n",
      "GRS: Great Red Spot\n",
      "GSC: Guide Star Catalog (for HST)\n",
      "GSFC: Goddard Space Flight Center (NASA)\n",
      "GTO: Geostationary Transfer Orbit\n",
      "HAO: High Altitude Observatory\n",
      "HD: Henry Draper catalog entry\n",
      "HEAO: High Energy Astronomical Observatory\n",
      "HeRA: Hermes Robotic Arm\n",
      "HF: High Frequency\n",
      "HGA: High Gain Antenna\n",
      "HLC: Heavy Lift Capability\n",
      "HLV: Heavy Lift Vehicle\n",
      "HMC: Halley Multicolor Camera (on Giotto)\n",
      "HR: Hertzsprung-Russell (diagram)\n",
      "HRI: High Resolution Imager (on ROSAT)\n",
      "HSP: High Speed Photometer (on HST)\n",
      "HST: Hubble Space Telescope\n",
      "HUT: Hopkins Ultraviolet Telescope (ASTRO package)\n",
      "HV: High Voltage\n",
      "IAPPP: International Amateur/Professional Photoelectric Photometry\n",
      "IAU: International Astronomical Union\n",
      "IAUC: IAU Circular\n",
      "ICE: International Cometary Explorer\n",
      "IDA: International Dark-sky Association\n",
      "IDL: Interactive Data Language\n",
      "IGM: InterGalactic Medium\n",
      "IGY: International Geophysical Year\n",
      "IMHO: In My Humble Opinion\n",
      "IOTA: Infrared-Optical Telescope Array\n",
      "IOTA: International Occultation Timing Association\n",
      "IPS: Inertial Pointing System\n",
      "IR: InfraRed\n",
      "IRAF: Image Reduction and Analysis Facility\n",
      "IRAS: InfraRed Astronomical Satellite\n",
      "ISAS: Institute of Space and Astronautical Science (Japan)\n",
      "ISM: InterStellar Medium\n",
      "ISO: Infrared Space Observatory\n",
      "ISO: International Standards Organization\n",
      "ISPM: International Solar Polar Mission (now Ulysses)\n",
      "ISY: International Space Year\n",
      "IUE: International Ultraviolet Explorer\n",
      "IUS: Inertial Upper Stage\n",
      "JEM: Japanese Experiment Module (for SSF)\n",
      "JGR: Journal of Geophysical Research\n",
      "JILA: Joint Institute for Laboratory Astrophysics\n",
      "JPL: Jet Propulsion Laboratory\n",
      "JSC: Johnson Space Center (NASA)\n",
      "KAO: Kuiper Airborne Observatory\n",
      "KPNO: Kitt Peak National Observatory\n",
      "KSC: Kennedy Space Center (NASA)\n",
      "KTB: Cretaceous-Tertiary Boundary (from German)\n",
      "LANL: Los Alamos National Laboratory\n",
      "LaRC: Langley Research Center (NASA)\n",
      "LDEF: Long Duration Exposure Facility\n",
      "LEM: Lunar Excursion Module (a.k.a. LM) (Apollo spacecraft)\n",
      "LEO: Low Earth Orbit\n",
      "LeRC: Lewis Research Center (NASA)\n",
      "LEST: Large Earth-based Solar Telescope\n",
      "LFSA: List of Frequently Seen Acronyms (!)\n",
      "LGA: Low Gain Antenna\n",
      "LGM: Little Green Men\n",
      "LH: Liquid Hydrogen (also LH2 or LHX)\n",
      "LLNL: Lawrence-Livermore National Laboratory\n",
      "LM: Lunar Module (a.k.a. LEM) (Apollo spacecraft)\n",
      "LMC: Large Magellanic Cloud\n",
      "LN2: Liquid N2 (Nitrogen)\n",
      "LOX: Liquid OXygen\n",
      "LRB: Liquid Rocket Booster\n",
      "LSR: Local Standard of Rest\n",
      "LTP: Lunar Transient Phenomenon\n",
      "MB: Manned Base\n",
      "MCC: Mission Control Center\n",
      "MECO: Main Engine CutOff\n",
      "MMH: MonoMethyl Hydrazine\n",
      "MMT: Multiple Mirror Telescope\n",
      "MMU: Manned Maneuvering Unit\n",
      "MNRAS: Monthly Notices of the Royal Astronomical Society\n",
      "MOC: Mars Observer Camera (on Mars Observer)\n",
      "MOL: Manned Orbiting Laboratory\n",
      "MOLA: Mars Observer Laser Altimeter (on Mars Observer)\n",
      "MOMV: Manned Orbital Maneuvering Vehicle\n",
      "MOTV: Manned Orbital Transfer Vehicle\n",
      "MPC: Minor Planets Circular\n",
      "MRSR: Mars Rover and Sample Return\n",
      "MRSRM: Mars Rover and Sample Return Mission\n",
      "MSFC: (George C.) Marshall Space Flight Center (NASA)\n",
      "MTC: Man Tended Capability\n",
      "NACA: National Advisory Committee on Aeronautics (became NASA)\n",
      "NASA: National Aeronautics and Space Administration\n",
      "NASDA: NAtional Space Development Agency (Japan)\n",
      "NASM: National Air and Space Museum\n",
      "NASP: National AeroSpace Plane\n",
      "NBS: National Bureau of Standards (now NIST)\n",
      "NDV: NASP Derived Vehicle\n",
      "NERVA: Nuclear Engine for Rocket Vehicle Application\n",
      "NGC: New General Catalog\n",
      "NICMOS: Near Infrared Camera / Multi Object Spectrometer (HST upgrade)\n",
      "NIMS: Near-Infrared Mapping Spectrometer (on Galileo)\n",
      "NIR: Near InfraRed\n",
      "NIST: National Institute for Standards and Technology (was NBS)\n",
      "NLDP: National Launch Development Program\n",
      "NOAA: National Oceanic and Atmospheric Administration\n",
      "NOAO: National Optical Astronomy Observatories\n",
      "NRAO: National Radio Astronomy Observatory\n",
      "NRO: National Reconnaissance Office\n",
      "NS: Neutron Star\n",
      "NSA: National Security Agency\n",
      "NSF: National Science Foundation\n",
      "NSO: National Solar Observatory\n",
      "NSSDC: National Space Science Data Center\n",
      "NTR: Nuclear Thermal Rocket(ry)\n",
      "NTT: New Technology Telescope\n",
      "OAO: Orbiting Astronomical Observatory\n",
      "OCST: Office of Commercial Space Transportation\n",
      "OMB: Office of Management and Budget\n",
      "OMS: Orbital Maneuvering System\n",
      "OPF: Orbiter Processing Facility\n",
      "ORFEUS: Orbiting and Retrievable Far and Extreme Ultraviolet Spectrometer\n",
      "OSC: Orbital Sciences Corporation\n",
      "OSCAR: Orbiting Satellite Carrying Amateur Radio\n",
      "OSSA: Office of Space Science and Applications\n",
      "OSSE: Oriented Scintillation Spectrometer Experiment (on CGRO)\n",
      "OTA: Optical Telescope Assembly (on HST)\n",
      "OTHB: Over The Horizon Backscatter\n",
      "OTV: Orbital Transfer Vehicle\n",
      "OV: Orbital Vehicle\n",
      "PAM: Payload Assist Module\n",
      "PAM-D: Payload Assist Module, Delta-class\n",
      "PI: Principal Investigator\n",
      "PLSS: Portable Life Support System\n",
      "PM: Pressurized Module\n",
      "PMC: Permanently Manned Capability\n",
      "PMIRR: Pressure Modulated InfraRed Radiometer (on Mars Observer)\n",
      "PMT: PhotoMultiplier Tube\n",
      "PSF: Point Spread Function\n",
      "PSR: PulSaR\n",
      "PV: Photovoltaic\n",
      "PVO: Pioneer Venus Orbiter\n",
      "QSO: Quasi-Stellar Object\n",
      "RCI: Rodent Cage Interface (for SLS mission)\n",
      "RCS: Reaction Control System\n",
      "REM: Rat Enclosure Module (for SLS mission)\n",
      "RF: Radio Frequency\n",
      "RFI: Radio Frequency Interference\n",
      "RIACS: Research Institute for Advanced Computer Science\n",
      "RMS: Remote Manipulator System\n",
      "RNGC: Revised New General Catalog\n",
      "ROSAT: ROentgen SATellite\n",
      "ROUS: Rodents Of Unusual Size (I don't believe they exist)\n",
      "RSN: Real Soon Now\n",
      "RTG: Radioisotope Thermoelectric Generator\n",
      "RTLS: Return To Launch Site (Shuttle abort plan)\n",
      "SAA: South Atlantic Anomaly\n",
      "SAGA: Solar Array Gain Augmentation (for HST)\n",
      "SAMPEX: Solar Anomalous and Magnetospheric Particle EXplorer\n",
      "SAO: Smithsonian Astrophysical Observatory\n",
      "SAR: Search And Rescue\n",
      "SAR: Synthetic Aperture Radar\n",
      "SARA: Satellite pour Astronomie Radio Amateur\n",
      "SAREX: Search and Rescue Exercise\n",
      "SAREX: Shuttle Amateur Radio Experiment\n",
      "SAS: Space Activity Suit\n",
      "SAS: Space Adaptation Syndrome\n",
      "SAT: Synthetic Aperture Telescope\n",
      "S/C: SpaceCraft\n",
      "SCA: Shuttle Carrier Aircraft\n",
      "SCT: Schmidt-Cassegrain Telescope\n",
      "SDI: Strategic Defense Initiative\n",
      "SDIO: Strategic Defense Initiative Organization\n",
      "SEI: Space Exploration Initiative\n",
      "SEST: Swedish ESO Submillimeter Telescope\n",
      "SETI: Search for ExtraTerrestrial Intelligence\n",
      "SID: Sudden Ionospheric Disturbance\n",
      "SIR: Shuttle Imaging Radar\n",
      "SIRTF: Space (formerly Shuttle) InfraRed Telescope Facility\n",
      "SL: SpaceLab\n",
      "SLAR: Side-Looking Airborne Radar\n",
      "SLC: Space Launch Complex\n",
      "SLS: Space(lab) Life Sciences\n",
      "SMC: Small Magellanic Cloud\n",
      "SME: Solar Mesosphere Explorer\n",
      "SMEX: SMall EXplorers\n",
      "SMM: Solar Maximum Mission\n",
      "SN: SuperNova (e.g., SN1987A)\n",
      "SNR: Signal to Noise Ratio\n",
      "SNR: SuperNova Remnant\n",
      "SNU: Solar Neutrino Units\n",
      "SOFIA: Stratospheric Observatory For Infrared Astronomy\n",
      "SOHO: SOlar Heliospheric Observatory\n",
      "SPAN: Space Physics and Analysis Network\n",
      "SPDM: Special Purpose Dextrous Manipulator\n",
      "SPOT: Systeme Probatoire pour l'Observation de la Terre\n",
      "SPS: Solar Power Satellite\n",
      "SRB: Solid Rocket Booster\n",
      "SRM: Solid Rocket Motor\n",
      "SSF: Space Station Fred (er, Freedom)\n",
      "SSI: Solid-State Imager (on Galileo)\n",
      "SSI: Space Studies Institut\n",
      "SSME: Space Shuttle Main Engine\n",
      "SSPF: Space Station Processing Facility\n",
      "SSRMS: Space Station Remote Manipulator System\n",
      "SST: Spectroscopic Survey Telescope\n",
      "SST: SuperSonic Transport\n",
      "SSTO: Single Stage To Orbit\n",
      "STIS: Space Telescope Imaging Spectrometer (to replace FOC and GHRS)\n",
      "STS: Shuttle Transport System (or) Space Transportation System\n",
      "STScI: Space Telescope Science Institute\n",
      "SWAS: Submillimeter Wave Astronomy Satellite\n",
      "SWF: ShortWave Fading\n",
      "TAL: Transatlantic Abort Landing (Shuttle abort plan)\n",
      "TAU: Thousand Astronomical Unit (mission)\n",
      "TCS: Thermal Control System\n",
      "TDRS: Tracking and Data Relay Satellite\n",
      "TDRSS: Tracking and Data Relay Satellite System\n",
      "TES: Thermal Emission Spectrometer (on Mars Observer)\n",
      "TIROS: Television InfraRed Observation Satellite\n",
      "TLA: Three Letter Acronym\n",
      "TOMS: Total Ozone Mapping Spectrometer\n",
      "TPS: Thermal Protection System\n",
      "TSS: Tethered Satellite System\n",
      "UARS: Upper Atmosphere Research Satellite\n",
      "UBM: Unpressurized Berthing Mechanism\n",
      "UDMH: Unsymmetrical DiMethyl Hydrazine\n",
      "UFO: Unidentified Flying Object\n",
      "UGC: Uppsala General Catalog\n",
      "UHF: Ultra High Frequency\n",
      "UIT: Ultraviolet Imaging Telescope (Astro package)\n",
      "UKST: United Kingdom Schmidt Telescope\n",
      "USAF: United States Air Force\n",
      "USMP: United States Microgravity Payload\n",
      "UT: Universal Time (a.k.a. GMT, UTC, or Zulu Time)\n",
      "UTC: Coordinated Universal Time (a.k.a. UT)\n",
      "UV: UltraViolet\n",
      "UVS: UltraViolet Spectrometer\n",
      "VAB: Vehicle Assembly Building (formerly Vertical Assembly Building)\n",
      "VAFB: Vandenberg Air Force Base\n",
      "VEEGA: Venus-Earth-Earth Gravity Assist (Galileo flight path)\n",
      "VHF: Very High Frequency\n",
      "VLA: Very Large Array\n",
      "VLBA: Very Long Baseline Array\n",
      "VLBI: Very Long Baseline Interferometry\n",
      "VLF: Very Low Frequency\n",
      "VLT: Very Large Telescope\n",
      "VMS: Vertical Motion Simulator\n",
      "VOIR: Venus Orbiting Imaging Radar (superseded by VRM)\n",
      "VPF: Vertical Processing Facility\n",
      "VRM: Venus Radar Mapper (now called Magellan)\n",
      "WD: White Dwarf\n",
      "WFPC: Wide Field / Planetary Camera (on HST)\n",
      "WFPCII: Replacement for WFPC\n",
      "WIYN: Wisconsin / Indiana / Yale / NOAO telescope\n",
      "WSMR: White Sands Missile Range\n",
      "WTR: Western Test Range\n",
      "WUPPE: Wisconsin Ultraviolet PhotoPolarimter Experiment (Astro package)\n",
      "XMM: X-ray Multi Mirror\n",
      "XUV: eXtreme UltraViolet\n",
      "YSO: Young Stellar Object\n",
      "\n",
      "\n",
      "#!/usr/bin/perl\n",
      "# 'alt', An Acronym Scrambling Program, by Larry Wall\n",
      "\n",
      "$THRESHOLD = 2;\n",
      "\n",
      "srand;\n",
      "while (<>) {\n",
      "    next unless /^([A-Z]\\S+): */;\n",
      "    $key = $1;\n",
      "    $acro{$key} = $';\n",
      "    @words = split(/\\W+/,$');\n",
      "    unshift(@words,$key);\n",
      "    $off = 0;\n",
      "    foreach $word (@words) {\n",
      "        next unless $word =~ /^[A-Z]/;\n",
      "        *w = $&;\n",
      "        vec($w{$word}, $off++ % 6, 1) = 1;\n",
      "    }\n",
      "}\n",
      "\n",
      "foreach $letter (A .. Z) {\n",
      "    *w = $letter;\n",
      "    @w = keys %w;\n",
      "    if (@w < $THRESHOLD) {\n",
      "        @d = `egrep '^$letter' /usr/dict/words`;\n",
      "        chop @d;\n",
      "        push(@w, @d);\n",
      "    }\n",
      "}\n",
      "\n",
      "foreach $key (sort keys %acro) {\n",
      "    $off = 0;\n",
      "    $acro = $acro{$key};\n",
      "    $acro =~ s/((([A-Z])[A-Z]*)[a-z]*)/ &pick($3, $2, $1, ++$off) || $& /eg;\n",
      "    print \"$key: $acro\";\n",
      "}\n",
      "\n",
      "sub pick {\n",
      "    local($letter, $prefix, $oldword, $off) = @_;\n",
      "    $i = 0;\n",
      "    if (length($prefix) > 1 && index($key,$prefix) < 0) {\n",
      "        if ($prefix eq $oldword) {\n",
      "            $prefix = '';\n",
      "        }\n",
      "        else {\n",
      "            $prefix = $letter;\n",
      "        }\n",
      "    }\n",
      "    if (length($prefix) > 1) {\n",
      "        local(*w) = substr($prefix,0,1);\n",
      "        do {\n",
      "            $word = $w[rand @w];\n",
      "        } until $word ne $oldword && $word =~ /^$prefix/i || ++$i > 30;\n",
      "        $word =~ s/^$prefix/$prefix/i;\n",
      "        $word;\n",
      "    }\n",
      "    elsif (length($prefix) == 1) {\n",
      "        local(*w) = $prefix;\n",
      "        do {\n",
      "            $word = $w[rand @w];\n",
      "        } until $word ne $oldword && vec($w{$word}, $off, 1) || ++$i > 10;\n",
      "        $word = \"\\u\\L$word\" if $word =~ tr/a-z/A-Z/;\n",
      "        $word;\n",
      "    }\n",
      "    else {\n",
      "        local(*w) = substr($oldword,0,1);\n",
      "        do {\n",
      "            $word = $w[rand @w];\n",
      "        } until $word ne $oldword && $word =~ tr/a-z/A-Z/ == 0 || ++$i > 30;\n",
      "        $word;\n",
      "    }\n",
      "}\n",
      "\n",
      "\n",
      "-- Mark Bradford (bradfrd2@ncar.ucar.edu) <> To err is human, to moo bovine.\n",
      "                  \"It's an ill wind that gathers no moss.\"\n",
      "\n",
      "\n",
      "\n"
     ]
    }
   ],
   "source": [
    "print(dataset.data[2])"
   ]
  },
  {
   "cell_type": "code",
   "execution_count": 13,
   "metadata": {
    "colab": {},
    "colab_type": "code",
    "id": "9lUSPGecpec7"
   },
   "outputs": [
    {
     "data": {
      "text/plain": [
       "['comp.graphics', 'rec.sport.baseball', 'sci.space']"
      ]
     },
     "execution_count": 13,
     "metadata": {},
     "output_type": "execute_result"
    }
   ],
   "source": [
    "dataset.target_names"
   ]
  },
  {
   "cell_type": "markdown",
   "metadata": {
    "colab_type": "text",
    "id": "4aBr7a7M7WnM"
   },
   "source": [
    "One way to turn a text document into a feature vector is to use a frequency count of\n",
    "each word in the document.  We build a large dictionary of words, and for each document\n",
    "we return a vector with as many features as there are words, and for each word, we return\n",
    "the  number  of  times  that  word  appears  in  the  document  (this  is  technically  called\n",
    "**term frequency** , or tf for short).  Sklearn has a **[CountVectorizer](https://scikit-learn.org/stable/modules/generated/sklearn.feature_extraction.text.CountVectorizer.html)**  that does just that."
   ]
  },
  {
   "cell_type": "code",
   "execution_count": 14,
   "metadata": {
    "colab": {},
    "colab_type": "code",
    "id": "xzguRZFUUv2h"
   },
   "outputs": [],
   "source": [
    "#TO DO: Transfrom the dataset into numerical feature vectors\n",
    "from sklearn.feature_extraction.text import CountVectorizer\n",
    "\n",
    "vectorizer = CountVectorizer()\n",
    "\n",
    "# X = vectorizer.fit(X)\n",
    "# X = vectorizer.fit_transform(X)\n",
    "X = vectorizer.fit_transform(dataset.data)\n",
    "# print(vectorizer.get_feature_names())"
   ]
  },
  {
   "cell_type": "markdown",
   "metadata": {
    "colab_type": "text",
    "id": "d-NxB5KHT579"
   },
   "source": [
    "One problem with this representation is the high frequency of common words like ”the”\n",
    "or ”to” or ”and”.  Those words appear in almost all documents, so they don’t offer much information\n",
    "A better way to extract features from text is to use both the **term frequency** metric and the **inverse document frequency** metric . Sklearn has a **[TfidfVectorizer](https://scikit-learn.org/stable/modules/generated/sklearn.feature_extraction.text.TfidfVectorizer.html)** that does just that."
   ]
  },
  {
   "cell_type": "code",
   "execution_count": 30,
   "metadata": {
    "colab": {},
    "colab_type": "code",
    "id": "OP3srS8-7EYf"
   },
   "outputs": [],
   "source": [
    "#TO DO: Transfrom the dataset into tf-idf feature vectors\n",
    "from sklearn.feature_extraction.text import TfidfVectorizer\n",
    "\n",
    "vectorizer = TfidfVectorizer()\n",
    "\n",
    "X = vectorizer.fit_transform(dataset.data)\n",
    "# print(vectorizer.get_feature_names())"
   ]
  },
  {
   "cell_type": "markdown",
   "metadata": {
    "colab_type": "text",
    "id": "6ukWHfO-7me2"
   },
   "source": [
    "Now you will need to use the vectorized dataset to perfom clustering.\n",
    "\n",
    "You will need to  use the following algorithms : [DBSCAN](https://scikit-learn.org/stable/modules/generated/sklearn.cluster.DBSCAN.html), [KMeans](https://scikit-learn.org/stable/modules/generated/sklearn.cluster.k_means.html#sklearn.cluster.k_means), [AgglomerativeClustering](https://scikit-learn.org/stable/modules/generated/sklearn.cluster.AgglomerativeClustering.html#sklearn.cluster.AgglomerativeClustering).\n",
    "\n",
    "For each algorithm try to find the parameters that produce clusters as similar as possible to the real distribution of the data.\n",
    "\n",
    "Use different metrics to evaluate the algorithms : [Rand Score](https://scikit-learn.org/stable/modules/generated/sklearn.metrics.adjusted_rand_score.html),  [Silhouette Score](https://scikit-learn.org/stable/modules/generated/sklearn.metrics.silhouette_score.html), [Homogeneity Score](https://scikit-learn.org/stable/modules/generated/sklearn.metrics.homogeneity_score.html), [Completness Score.](https://scikit-learn.org/stable/modules/generated/sklearn.metrics.completeness_score.html#sklearn.metrics.completeness_score)\n",
    "\n",
    "\n",
    "\n",
    "\n"
   ]
  },
  {
   "cell_type": "code",
   "execution_count": 24,
   "metadata": {
    "colab": {},
    "colab_type": "code",
    "id": "Fs6scxqoRJpc"
   },
   "outputs": [
    {
     "name": "stdout",
     "output_type": "stream",
     "text": [
      "  (0, 16005)\t0.03911476670701421\n",
      "  (0, 20495)\t0.2257852229206565\n",
      "  (0, 16791)\t0.22738196571283126\n",
      "  (0, 20066)\t0.38308293499954876\n",
      "  (0, 23816)\t0.30639777786579936\n",
      "  (0, 16802)\t0.13185013120679706\n",
      "  (0, 32267)\t0.019557383353507107\n",
      "  (0, 21318)\t0.1557009692867175\n",
      "  (0, 24860)\t0.05974066086947828\n",
      "  (0, 22240)\t0.18607471172925089\n",
      "  (0, 25067)\t0.020087353454213884\n",
      "  (0, 16682)\t0.2408703208852656\n",
      "  (0, 31316)\t0.1030052828547653\n",
      "  (0, 30646)\t0.1501210013772262\n",
      "  (0, 27177)\t0.12289582570804546\n",
      "  (0, 24757)\t0.16818982191438595\n",
      "  (0, 24116)\t0.0787851449767248\n",
      "  (0, 33612)\t0.07976672505079244\n",
      "  (0, 35410)\t0.06754963091801924\n",
      "  (0, 26363)\t0.09577073374988719\n",
      "  (0, 21410)\t0.019617039881777144\n",
      "  (0, 669)\t0.06621057992017897\n",
      "  (0, 20567)\t0.04477259183668957\n",
      "  (0, 19620)\t0.027576773080315125\n",
      "  (0, 24880)\t0.049475989783175925\n",
      "  :\t:\n",
      "  (2953, 12723)\t0.10252980517102922\n",
      "  (2953, 5443)\t0.09380895843211257\n",
      "  (2953, 15824)\t0.1032396242073562\n",
      "  (2953, 35454)\t0.08362587136090786\n",
      "  (2953, 25091)\t0.08391074182711017\n",
      "  (2953, 30219)\t0.09730667943687568\n",
      "  (2953, 19615)\t0.1043516194748437\n",
      "  (2953, 35184)\t0.1059325706557652\n",
      "  (2953, 35350)\t0.10809300672752073\n",
      "  (2953, 13022)\t0.05235524593401149\n",
      "  (2953, 19008)\t0.07976138141389752\n",
      "  (2953, 23473)\t0.10360376653835873\n",
      "  (2953, 11855)\t0.2094716148666064\n",
      "  (2953, 8404)\t0.10902372245324658\n",
      "  (2953, 4253)\t0.23271228109792283\n",
      "  (2953, 5906)\t0.14004504907325746\n",
      "  (2953, 18109)\t0.1277381739178659\n",
      "  (2953, 29960)\t0.1380494772885776\n",
      "  (2953, 8311)\t0.14471715205166036\n",
      "  (2953, 4839)\t0.33050683564018835\n",
      "  (2953, 13087)\t0.3474858137739828\n",
      "  (2953, 23514)\t0.1737429068869914\n",
      "  (2953, 25884)\t0.3474858137739828\n",
      "  (2953, 20305)\t0.3474858137739828\n",
      "  (2953, 25888)\t0.1737429068869914\n",
      "[[0.         0.         0.         ... 0.         0.         0.        ]\n",
      " [0.         0.         0.         ... 0.         0.         0.        ]\n",
      " [0.00809372 0.         0.         ... 0.         0.         0.        ]\n",
      " ...\n",
      " [0.         0.         0.         ... 0.         0.         0.        ]\n",
      " [0.         0.         0.         ... 0.         0.         0.        ]\n",
      " [0.         0.         0.         ... 0.         0.         0.        ]]\n",
      "<class 'sklearn.cluster.dbscan_.DBSCAN'>\n",
      "DBSCAN(algorithm='auto', eps=0.5, leaf_size=30, metric='euclidean',\n",
      "    metric_params=None, min_samples=5, n_jobs=1, p=None)\n",
      "Silhuette score: 0.02297471053200105\n",
      "Adjusted rand score: -2.4480453556107032e-05\n",
      "Homogenity score: 0.002017486915738822\n",
      "Completeness score: 0.15159280538350248\n",
      "<class 'sklearn.cluster.k_means_.KMeans'>\n",
      "KMeans(algorithm='auto', copy_x=True, init='k-means++', max_iter=300,\n",
      "    n_clusters=8, n_init=10, n_jobs=1, precompute_distances='auto',\n",
      "    random_state=None, tol=0.0001, verbose=0)\n",
      "Silhuette score: 0.001840047204686778\n",
      "Adjusted rand score: 0.3395786993212763\n",
      "Homogenity score: 0.5704261363400072\n",
      "Completeness score: 0.3475932059515518\n",
      "<class 'sklearn.cluster.hierarchical.AgglomerativeClustering'>\n",
      "AgglomerativeClustering(affinity='euclidean', compute_full_tree='auto',\n",
      "            connectivity=None, linkage='ward', memory=None, n_clusters=2,\n",
      "            pooling_func=<function mean at 0x00000257FD8410D0>)\n",
      "Silhuette score: 0.0074509459104273035\n",
      "Adjusted rand score: 0.2872919808536795\n",
      "Homogenity score: 0.22109680830045358\n",
      "Completeness score: 0.3602933426144459\n"
     ]
    }
   ],
   "source": [
    "# TODO : Use the following algorithms to perform clustering on the dataset  \n",
    "from sklearn.cluster import DBSCAN, KMeans, AgglomerativeClustering\n",
    "from sklearn.metrics import silhouette_score, adjusted_rand_score, homogeneity_score, completeness_score\n",
    "\n",
    "\n",
    "# X = X.toarray()\n",
    "print(X)\n",
    "X = X.toarray()\n",
    "print(X)\n",
    "\n",
    "\n",
    "# TODO: setat parametri entru KMeans si Agglomerative - sa clasifice in 3 clustere\n",
    "\n",
    "algorithms = [DBSCAN, KMeans, AgglomerativeClustering]\n",
    "# algorithms = [DBSCAN, KMeans]\n",
    "# algorithms = [DBSCAN]\n",
    "\n",
    "for i, Algorithm in enumerate(algorithms):\n",
    "    print(Algorithm)\n",
    "    cl = Algorithm()\n",
    "    print(cl.fit(X))\n",
    "    \n",
    "    y_pred = cl.labels_\n",
    "    \n",
    "    ss = silhouette_score(X, y_pred)\n",
    "    print(\"Silhuette score:\", ss)\n",
    "\n",
    "    ar = adjusted_rand_score(y, y_pred)\n",
    "    print(\"Adjusted rand score:\", ar)\n",
    "    \n",
    "    hs = homogeneity_score(y, y_pred)\n",
    "    print(\"Homogenity score:\", hs)\n",
    "    \n",
    "    cs = completeness_score(y, y_pred)\n",
    "    print(\"Completeness score:\", cs)\n",
    "    \n",
    "#     print(Algorithm.__name__, ar)\n",
    "\n"
   ]
  },
  {
   "cell_type": "markdown",
   "metadata": {
    "colab_type": "text",
    "id": "zmI2fRHhbBMq"
   },
   "source": [
    "As you can see, high dimensional sparse vectors do not produce the best clusters.\n",
    "Now, try to improve your results by using [PCA](https://scikit-learn.org/stable/modules/generated/sklearn.decomposition.PCA.html) to reduce the dimensions of your feature vectors before applying the clustering algorithms. \n",
    "\n",
    "\n",
    "\n"
   ]
  },
  {
   "cell_type": "code",
   "execution_count": 25,
   "metadata": {
    "colab": {},
    "colab_type": "code",
    "id": "fDLSqP34cB6d"
   },
   "outputs": [
    {
     "name": "stdout",
     "output_type": "stream",
     "text": [
      "[6.43819646e+00 4.51532200e+00 4.01068831e+00 ... 1.81992536e-02\n",
      " 6.65031231e-03 7.32256462e-15]\n"
     ]
    }
   ],
   "source": [
    "from sklearn.decomposition import PCA\n",
    "\n",
    "# pca = PCA(n_components=2, svd_solver='full')\n",
    "pca = PCA()\n",
    "pca.fit(X)\n",
    "print(pca.singular_values_) "
   ]
  },
  {
   "cell_type": "markdown",
   "metadata": {
    "colab_type": "text",
    "id": "PteL66ZWmBsc"
   },
   "source": [
    "Use t-SNE to produce a low-dimensional embedding of the dataset (and plot it)."
   ]
  },
  {
   "cell_type": "code",
   "execution_count": 31,
   "metadata": {
    "colab": {},
    "colab_type": "code",
    "id": "vSXbJgJml8Zq"
   },
   "outputs": [
    {
     "name": "stdout",
     "output_type": "stream",
     "text": [
      "[[ 15.834518  -32.430485 ]\n",
      " [-54.262215   15.469375 ]\n",
      " [ 15.528027  -20.06545  ]\n",
      " ...\n",
      " [ 22.255161   -3.7894092]\n",
      " [-23.458414   33.230076 ]\n",
      " [ 36.39537   -46.438168 ]]\n"
     ]
    },
    {
     "data": {
      "text/plain": [
       "(2954, 2)"
      ]
     },
     "execution_count": 31,
     "metadata": {},
     "output_type": "execute_result"
    }
   ],
   "source": [
    "from sklearn.manifold import TSNE\n",
    "X= X.toarray()\n",
    "# X_embedded = TSNE(n_components=2).fit_transform(X)\n",
    "X_embedded = TSNE().fit_transform(X)\n",
    "print(X_embedded)\n",
    "X_embedded.shape"
   ]
  },
  {
   "cell_type": "code",
   "execution_count": 42,
   "metadata": {},
   "outputs": [
    {
     "data": {
      "text/plain": [
       "<matplotlib.collections.PathCollection at 0x25781f76e10>"
      ]
     },
     "execution_count": 42,
     "metadata": {},
     "output_type": "execute_result"
    },
    {
     "data": {
      "image/png": "[encoded data removed]",
      "text/plain": [
       "<Figure size 432x288 with 1 Axes>"
      ]
     },
     "metadata": {},
     "output_type": "display_data"
    }
   ],
   "source": [
    "plt.scatter(X_embedded[:, 0], X_embedded[:, 1], c = cl.labels_)\n",
    "# print(cl.labels_[:100])"
   ]
  },
  {
   "cell_type": "markdown",
   "metadata": {
    "colab_type": "text",
    "id": "kRsrJol6cmUO"
   },
   "source": [
    "As an extra exercise, try to implement kernel KMeans. Look at the KMeans course. Slide 70"
   ]
  },
  {
   "cell_type": "code",
   "execution_count": 0,
   "metadata": {
    "colab": {},
    "colab_type": "code",
    "id": "4mT5S8ZYcRxo"
   },
   "outputs": [],
   "source": [
    "from sklearn.datasets import make_circles\n",
    "\n",
    "X, _ = make_circles(n_samples=100, noise=0.1, factor=0)"
   ]
  },
  {
   "cell_type": "code",
   "execution_count": 0,
   "metadata": {
    "colab": {},
    "colab_type": "code",
    "id": "4liSXptEdW0g"
   },
   "outputs": [],
   "source": [
    "from sklearn.metrics.pairwise import rbf_kernel\n",
    "\n",
    "\n",
    "k = 2\n",
    "# TODO : assign points to random clusters\n",
    "y = \n",
    "dist = np.zeros((X.shape[0], k))\n",
    "\n",
    "        \n",
    "# TODO\n",
    "max_iter = 10      \n",
    "for _ in range(max_iter):      \n",
    "  for j in range(k):\n",
    "    # TODO : get the points that are in cluster j\n",
    "    X_j = \n",
    "    \n",
    "    # TODO : compute the first term\n",
    "          \n",
    "    first_term = \n",
    "    \n",
    "    # TODO : compute the second term\n",
    "    \n",
    "    second_term = \n",
    "      \n",
    "    dist[:, j] = first_term + second_term\n",
    "        \n",
    "  # TODO : change the clusters\n",
    "  y = np.argmin(....)\n",
    "\n",
    "   "
   ]
  },
  {
   "cell_type": "code",
   "execution_count": 0,
   "metadata": {
    "colab": {},
    "colab_type": "code",
    "id": "s-MP7BYOCgjx"
   },
   "outputs": [],
   "source": [
    "plt.scatter(X[:,0], X[:,1], c=y)"
   ]
  }
 ],
 "metadata": {
  "colab": {
   "collapsed_sections": [],
   "name": " Lab_5_Final.ipynb",
   "provenance": [],
   "toc_visible": true,
   "version": "0.3.2"
  },
  "kernelspec": {
   "display_name": "P3",
   "language": "python",
   "name": "p3"
  },
  "language_info": {
   "codemirror_mode": {
    "name": "ipython",
    "version": 3
   },
   "file_extension": ".py",
   "mimetype": "text/x-python",
   "name": "python",
   "nbconvert_exporter": "python",
   "pygments_lexer": "ipython3",
   "version": "3.6.7"
  }
 },
 "nbformat": 4,
 "nbformat_minor": 1
}
