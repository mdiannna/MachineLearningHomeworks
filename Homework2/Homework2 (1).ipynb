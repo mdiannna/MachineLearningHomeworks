{
 "cells": [
  {
   "cell_type": "markdown",
   "metadata": {},
   "source": [
    "# Homework 2"
   ]
  },
  {
   "cell_type": "markdown",
   "metadata": {},
   "source": [
    "## Author: Marusic Diana (331)"
   ]
  },
  {
   "cell_type": "markdown",
   "metadata": {},
   "source": [
    "## Problem statement"
   ]
  },
  {
   "cell_type": "markdown",
   "metadata": {},
   "source": [
    "This notebook is based on analyzing fragments from books writtern by various authors.\n",
    " \n",
    " \n",
    "The first problem to solve is to compare the writing style of various authors by predicting each text's author.\n",
    " \n",
    " \n",
    "The second problem consists in analyzing text, extracting information and corelation between texts and grouping them in various clusters using unsupervised learning"
   ]
  },
  {
   "cell_type": "markdown",
   "metadata": {},
   "source": [
    "### Import files "
   ]
  },
  {
   "cell_type": "code",
   "execution_count": 359,
   "metadata": {},
   "outputs": [],
   "source": [
    "# Some IPython magic\n",
    "# Put these at the top of every notebook, here nbagg is used for interactive plots\n",
    "%reload_ext autoreload\n",
    "%autoreload 2\n",
    "%matplotlib inline\n",
    "\n",
    "import numpy as np\n",
    "import matplotlib.pyplot as plt\n",
    "import pandas as pd\n",
    "from sklearn import preprocessing\n",
    "from sklearn.model_selection import train_test_split\n",
    "from sklearn.model_selection import KFold\n",
    "from sklearn.model_selection import cross_val_score\n",
    "from sklearn.metrics import classification_report\n",
    "from sklearn.metrics import silhouette_score, homogeneity_score, completeness_score\n",
    "from sklearn.svm import SVC\n",
    "from sklearn.model_selection import GridSearchCV\n",
    "\n",
    "from sklearn.cluster import DBSCAN, KMeans, AgglomerativeClustering\n",
    "from sklearn.metrics import silhouette_score, adjusted_rand_score, homogeneity_score, completeness_score\n",
    "\n",
    "# # Check python version\n",
    "# import sys\n",
    "# print(sys.version)\n",
    "# print(sys.version_info)"
   ]
  },
  {
   "cell_type": "markdown",
   "metadata": {},
   "source": [
    "## Task 1: Text classification (by authors)"
   ]
  },
  {
   "cell_type": "markdown",
   "metadata": {},
   "source": [
    "**Goals:**\n",
    "\n",
    "- use SVM Classifier(SVC) to predict author of the given fragment\n",
    "\n",
    "- choose the best hyperparameters: for *kernel*,  *C*, and  *gamma*\n",
    " \n",
    "- apply PCA to reduce dimensionality and retrain"
   ]
  },
  {
   "cell_type": "markdown",
   "metadata": {},
   "source": [
    "### Read data"
   ]
  },
  {
   "cell_type": "code",
   "execution_count": 360,
   "metadata": {},
   "outputs": [],
   "source": [
    "FILE_NAME = \"Marusic I Diana.csv\"\n",
    "dataset = pd.read_csv(FILE_NAME)"
   ]
  },
  {
   "cell_type": "markdown",
   "metadata": {},
   "source": [
    "### Visualize data"
   ]
  },
  {
   "cell_type": "code",
   "execution_count": 361,
   "metadata": {},
   "outputs": [
    {
     "data": {
      "text/html": [
       "<div>\n",
       "<style scoped>\n",
       "    .dataframe tbody tr th:only-of-type {\n",
       "        vertical-align: middle;\n",
       "    }\n",
       "\n",
       "    .dataframe tbody tr th {\n",
       "        vertical-align: top;\n",
       "    }\n",
       "\n",
       "    .dataframe thead th {\n",
       "        text-align: right;\n",
       "    }\n",
       "</style>\n",
       "<table border=\"1\" class=\"dataframe\">\n",
       "  <thead>\n",
       "    <tr style=\"text-align: right;\">\n",
       "      <th></th>\n",
       "      <th>Unnamed: 0</th>\n",
       "      <th>Sir Arthur Conan Doyle</th>\n",
       "      <th>Sir Walter Scott</th>\n",
       "      <th>Louisa May Alcott</th>\n",
       "      <th>Edmund Burke</th>\n",
       "      <th>Daniel Defoe</th>\n",
       "      <th>John Ruskin</th>\n",
       "      <th>Rudyard Kipling</th>\n",
       "      <th>Nathaniel Hawthorne</th>\n",
       "      <th>William Makepeace Thackeray</th>\n",
       "      <th>...</th>\n",
       "      <th>Edward Phillips Oppenheim</th>\n",
       "      <th>P G Wodehouse</th>\n",
       "      <th>Jack London</th>\n",
       "      <th>Jacob Abbott</th>\n",
       "      <th>Andrew Lang</th>\n",
       "      <th>Herbert George Wells</th>\n",
       "      <th>Thomas Carlyle</th>\n",
       "      <th>Joseph Conrad</th>\n",
       "      <th>Henry Rider Haggard</th>\n",
       "      <th>Frank Richard Stockton</th>\n",
       "    </tr>\n",
       "  </thead>\n",
       "  <tbody>\n",
       "    <tr>\n",
       "      <th>0</th>\n",
       "      <td>0</td>\n",
       "      <td>efforts of old Gilray in the interests of law ...</td>\n",
       "      <td>wood or stone, but only as emblems of the holy...</td>\n",
       "      <td>of penitence and thankfulness.  \"Call them now...</td>\n",
       "      <td>formerly received from the Vizier. _But a copy...</td>\n",
       "      <td>musket, I sat down myself to load all the rest...</td>\n",
       "      <td>a stone-mason's yard; and its rooms whitewashe...</td>\n",
       "      <td>once with a Bank of England director; wish I'd...</td>\n",
       "      <td>commander-in-chief of all the British forces i...</td>\n",
       "      <td>hard-heartedness in order to try those people ...</td>\n",
       "      <td>...</td>\n",
       "      <td>say, I should have expected to have found her ...</td>\n",
       "      <td>Mr. Peters? Don't you think there is danger he...</td>\n",
       "      <td>warmer. Buck was wildly glad. He knew he was a...</td>\n",
       "      <td>danger that they were often exposed to, that s...</td>\n",
       "      <td>think that the Achaeans were the Aryan conquer...</td>\n",
       "      <td>EXPERIMENTS; OF GRAND MONARCHY                ...</td>\n",
       "      <td>changes in our notions, informations, in our r...</td>\n",
       "      <td>Wretched old Allang went nearly mad with appre...</td>\n",
       "      <td>stood by the open door, Martin, a helmet from ...</td>\n",
       "      <td>growing twilight of her happiness, and one was...</td>\n",
       "    </tr>\n",
       "    <tr>\n",
       "      <th>1</th>\n",
       "      <td>1</td>\n",
       "      <td>of accepting the inevitable.  A flat Arab loaf...</td>\n",
       "      <td>was burned alive. Her name was Alison Pearson,...</td>\n",
       "      <td>and there was no time to ask leave, but it was...</td>\n",
       "      <td>for traders and manufacturers of every denomin...</td>\n",
       "      <td>substantial Matter, which tho' it is full of S...</td>\n",
       "      <td>instance, the Gothic foliage, of which one ess...</td>\n",
       "      <td>way. _Time_: The edge of sunset. Single room i...</td>\n",
       "      <td>feeling of an intruder, I walked towards Goat ...</td>\n",
       "      <td>out blaggerd names at you, and takes his pewny...</td>\n",
       "      <td>...</td>\n",
       "      <td>the blowing away of the window was merely a ru...</td>\n",
       "      <td>cereal and a shirred egg? Now, for the love of...</td>\n",
       "      <td>might well hint to them that their bedtime had...</td>\n",
       "      <td>strange refusal could mean.  Although James th...</td>\n",
       "      <td>watched the date tree till the cocks were crow...</td>\n",
       "      <td>went into my study and wrote down everything a...</td>\n",
       "      <td>the Nightmares shall, to all time, be welcome ...</td>\n",
       "      <td>find for it a pedigree of distinguished ancest...</td>\n",
       "      <td>it must be supreme. For this ornament was noth...</td>\n",
       "      <td>continued, often with great earnestness and he...</td>\n",
       "    </tr>\n",
       "    <tr>\n",
       "      <th>2</th>\n",
       "      <td>2</td>\n",
       "      <td>Commons with an energy of hatred that one woul...</td>\n",
       "      <td>the assertion, that a king might take a lesson...</td>\n",
       "      <td>locks powdered the dark ones.  \"A heavenly wal...</td>\n",
       "      <td>honorable and advantageous to the India Compan...</td>\n",
       "      <td>would not accept of it alone, but would have m...</td>\n",
       "      <td>God. To these alone we have to look; in these ...</td>\n",
       "      <td>them. \"Fitz is right. I'm dead; only I don't s...</td>\n",
       "      <td>suppose, and in the winter and spring it will ...</td>\n",
       "      <td>those of Parson Thwackum, or Miss Seagrim. But...</td>\n",
       "      <td>...</td>\n",
       "      <td>you, wouldn't it?\" Philip remarked.  \"Five hun...</td>\n",
       "      <td>more about your unfortunate affair with that g...</td>\n",
       "      <td>were iron.  They were perceivers, willers, and...</td>\n",
       "      <td>Bothwell's intrigues.--Desperate schemes attri...</td>\n",
       "      <td>said to his son:  'Now that we own such a sple...</td>\n",
       "      <td>of dark walls reflecting lamplight, and the my...</td>\n",
       "      <td>regular steps; then a friendly knocking: \"We a...</td>\n",
       "      <td>all black in the pale wall, stood open as he h...</td>\n",
       "      <td>gate of the kraal. But then her strength left ...</td>\n",
       "      <td>but that simple-minded dependant and relative,...</td>\n",
       "    </tr>\n",
       "    <tr>\n",
       "      <th>3</th>\n",
       "      <td>3</td>\n",
       "      <td>to breathe. There it was again! And again! Now...</td>\n",
       "      <td>I have this day learned more of Duke Charles t...</td>\n",
       "      <td>let us help you if we can. Are you ill, in wan...</td>\n",
       "      <td>understand, to be sure, that I speak of Charle...</td>\n",
       "      <td>the slip both together, and never heard more o...</td>\n",
       "      <td>issue is not understood by the people, and the...</td>\n",
       "      <td>twisted into knots, riven with rents and diamo...</td>\n",
       "      <td>in a religious calm; recollections of many a h...</td>\n",
       "      <td>papa. I am Number 46 in the Exhibition of the ...</td>\n",
       "      <td>...</td>\n",
       "      <td>making that speech he had departed a great dea...</td>\n",
       "      <td>person who thanked goodness that he was not al...</td>\n",
       "      <td>in it.  But Carmack, the squaw-man! And Skooku...</td>\n",
       "      <td>revolve by the machinery. The axle, thus revol...</td>\n",
       "      <td>truth there may be in Saint-Germain's travels ...</td>\n",
       "      <td>Teddy! Poor old Adam and Eve we are! Ficial Re...</td>\n",
       "      <td>Authorities, and consequent Real-Anarchies bas...</td>\n",
       "      <td>within a yard of the ship's side. White on the...</td>\n",
       "      <td>known who was sentenced to death by the Inquis...</td>\n",
       "      <td>it had not been for this unfortunate and jealo...</td>\n",
       "    </tr>\n",
       "    <tr>\n",
       "      <th>4</th>\n",
       "      <td>4</td>\n",
       "      <td>chair, he brewed himself a glass of grog, in w...</td>\n",
       "      <td>murdered Countess, while at the same time he d...</td>\n",
       "      <td>thoughts swept through his mind during a brief...</td>\n",
       "      <td>Dowlah Bahadur, do agree that      the jaghire...</td>\n",
       "      <td>itself, I thought it seemed to lie higher out ...</td>\n",
       "      <td>thus to secure a portion of it than none: but ...</td>\n",
       "      <td>bush-tailed thieves!'  Mother Wolf threw herse...</td>\n",
       "      <td>place of study and retirement.  There was a fa...</td>\n",
       "      <td>Course! the Course is at Calcutta, papa!\" crie...</td>\n",
       "      <td>...</td>\n",
       "      <td>read a little more of the New Testament and a ...</td>\n",
       "      <td>suddenly pulled into the conversation, again l...</td>\n",
       "      <td>most for least, he faces a frightful slavery s...</td>\n",
       "      <td>upon the pupils to spell them aloud as they ha...</td>\n",
       "      <td>well as the suspension holes    on each side.\"...</td>\n",
       "      <td>delivery of goods if the current owner got win...</td>\n",
       "      <td>into the current epigrammatic redaction; the a...</td>\n",
       "      <td>This \"O-P Book\" Is an Authorized Reprint of...</td>\n",
       "      <td>Thither we went up the sides of the steep pyra...</td>\n",
       "      <td>before me and taken the place I crave, I have ...</td>\n",
       "    </tr>\n",
       "  </tbody>\n",
       "</table>\n",
       "<p>5 rows × 21 columns</p>\n",
       "</div>"
      ],
      "text/plain": [
       "   Unnamed: 0                             Sir Arthur Conan Doyle  \\\n",
       "0           0  efforts of old Gilray in the interests of law ...   \n",
       "1           1  of accepting the inevitable.  A flat Arab loaf...   \n",
       "2           2  Commons with an energy of hatred that one woul...   \n",
       "3           3  to breathe. There it was again! And again! Now...   \n",
       "4           4  chair, he brewed himself a glass of grog, in w...   \n",
       "\n",
       "                                    Sir Walter Scott  \\\n",
       "0  wood or stone, but only as emblems of the holy...   \n",
       "1  was burned alive. Her name was Alison Pearson,...   \n",
       "2  the assertion, that a king might take a lesson...   \n",
       "3  I have this day learned more of Duke Charles t...   \n",
       "4  murdered Countess, while at the same time he d...   \n",
       "\n",
       "                                   Louisa May Alcott  \\\n",
       "0  of penitence and thankfulness.  \"Call them now...   \n",
       "1  and there was no time to ask leave, but it was...   \n",
       "2  locks powdered the dark ones.  \"A heavenly wal...   \n",
       "3  let us help you if we can. Are you ill, in wan...   \n",
       "4  thoughts swept through his mind during a brief...   \n",
       "\n",
       "                                        Edmund Burke  \\\n",
       "0  formerly received from the Vizier. _But a copy...   \n",
       "1  for traders and manufacturers of every denomin...   \n",
       "2  honorable and advantageous to the India Compan...   \n",
       "3  understand, to be sure, that I speak of Charle...   \n",
       "4  Dowlah Bahadur, do agree that      the jaghire...   \n",
       "\n",
       "                                        Daniel Defoe  \\\n",
       "0  musket, I sat down myself to load all the rest...   \n",
       "1  substantial Matter, which tho' it is full of S...   \n",
       "2  would not accept of it alone, but would have m...   \n",
       "3  the slip both together, and never heard more o...   \n",
       "4  itself, I thought it seemed to lie higher out ...   \n",
       "\n",
       "                                         John Ruskin  \\\n",
       "0  a stone-mason's yard; and its rooms whitewashe...   \n",
       "1  instance, the Gothic foliage, of which one ess...   \n",
       "2  God. To these alone we have to look; in these ...   \n",
       "3  issue is not understood by the people, and the...   \n",
       "4  thus to secure a portion of it than none: but ...   \n",
       "\n",
       "                                     Rudyard Kipling  \\\n",
       "0  once with a Bank of England director; wish I'd...   \n",
       "1  way. _Time_: The edge of sunset. Single room i...   \n",
       "2  them. \"Fitz is right. I'm dead; only I don't s...   \n",
       "3  twisted into knots, riven with rents and diamo...   \n",
       "4  bush-tailed thieves!'  Mother Wolf threw herse...   \n",
       "\n",
       "                                 Nathaniel Hawthorne  \\\n",
       "0  commander-in-chief of all the British forces i...   \n",
       "1  feeling of an intruder, I walked towards Goat ...   \n",
       "2  suppose, and in the winter and spring it will ...   \n",
       "3  in a religious calm; recollections of many a h...   \n",
       "4  place of study and retirement.  There was a fa...   \n",
       "\n",
       "                         William Makepeace Thackeray  \\\n",
       "0  hard-heartedness in order to try those people ...   \n",
       "1  out blaggerd names at you, and takes his pewny...   \n",
       "2  those of Parson Thwackum, or Miss Seagrim. But...   \n",
       "3  papa. I am Number 46 in the Exhibition of the ...   \n",
       "4  Course! the Course is at Calcutta, papa!\" crie...   \n",
       "\n",
       "                         ...                          \\\n",
       "0                        ...                           \n",
       "1                        ...                           \n",
       "2                        ...                           \n",
       "3                        ...                           \n",
       "4                        ...                           \n",
       "\n",
       "                           Edward Phillips Oppenheim  \\\n",
       "0  say, I should have expected to have found her ...   \n",
       "1  the blowing away of the window was merely a ru...   \n",
       "2  you, wouldn't it?\" Philip remarked.  \"Five hun...   \n",
       "3  making that speech he had departed a great dea...   \n",
       "4  read a little more of the New Testament and a ...   \n",
       "\n",
       "                                       P G Wodehouse  \\\n",
       "0  Mr. Peters? Don't you think there is danger he...   \n",
       "1  cereal and a shirred egg? Now, for the love of...   \n",
       "2  more about your unfortunate affair with that g...   \n",
       "3  person who thanked goodness that he was not al...   \n",
       "4  suddenly pulled into the conversation, again l...   \n",
       "\n",
       "                                         Jack London  \\\n",
       "0  warmer. Buck was wildly glad. He knew he was a...   \n",
       "1  might well hint to them that their bedtime had...   \n",
       "2  were iron.  They were perceivers, willers, and...   \n",
       "3  in it.  But Carmack, the squaw-man! And Skooku...   \n",
       "4  most for least, he faces a frightful slavery s...   \n",
       "\n",
       "                                        Jacob Abbott  \\\n",
       "0  danger that they were often exposed to, that s...   \n",
       "1  strange refusal could mean.  Although James th...   \n",
       "2  Bothwell's intrigues.--Desperate schemes attri...   \n",
       "3  revolve by the machinery. The axle, thus revol...   \n",
       "4  upon the pupils to spell them aloud as they ha...   \n",
       "\n",
       "                                         Andrew Lang  \\\n",
       "0  think that the Achaeans were the Aryan conquer...   \n",
       "1  watched the date tree till the cocks were crow...   \n",
       "2  said to his son:  'Now that we own such a sple...   \n",
       "3  truth there may be in Saint-Germain's travels ...   \n",
       "4  well as the suspension holes    on each side.\"...   \n",
       "\n",
       "                                Herbert George Wells  \\\n",
       "0  EXPERIMENTS; OF GRAND MONARCHY                ...   \n",
       "1  went into my study and wrote down everything a...   \n",
       "2  of dark walls reflecting lamplight, and the my...   \n",
       "3  Teddy! Poor old Adam and Eve we are! Ficial Re...   \n",
       "4  delivery of goods if the current owner got win...   \n",
       "\n",
       "                                      Thomas Carlyle  \\\n",
       "0  changes in our notions, informations, in our r...   \n",
       "1  the Nightmares shall, to all time, be welcome ...   \n",
       "2  regular steps; then a friendly knocking: \"We a...   \n",
       "3  Authorities, and consequent Real-Anarchies bas...   \n",
       "4  into the current epigrammatic redaction; the a...   \n",
       "\n",
       "                                       Joseph Conrad  \\\n",
       "0  Wretched old Allang went nearly mad with appre...   \n",
       "1  find for it a pedigree of distinguished ancest...   \n",
       "2  all black in the pale wall, stood open as he h...   \n",
       "3  within a yard of the ship's side. White on the...   \n",
       "4     This \"O-P Book\" Is an Authorized Reprint of...   \n",
       "\n",
       "                                 Henry Rider Haggard  \\\n",
       "0  stood by the open door, Martin, a helmet from ...   \n",
       "1  it must be supreme. For this ornament was noth...   \n",
       "2  gate of the kraal. But then her strength left ...   \n",
       "3  known who was sentenced to death by the Inquis...   \n",
       "4  Thither we went up the sides of the steep pyra...   \n",
       "\n",
       "                              Frank Richard Stockton  \n",
       "0  growing twilight of her happiness, and one was...  \n",
       "1  continued, often with great earnestness and he...  \n",
       "2  but that simple-minded dependant and relative,...  \n",
       "3  it had not been for this unfortunate and jealo...  \n",
       "4  before me and taken the place I crave, I have ...  \n",
       "\n",
       "[5 rows x 21 columns]"
      ]
     },
     "execution_count": 361,
     "metadata": {},
     "output_type": "execute_result"
    }
   ],
   "source": [
    "dataset.head()\n",
    "# print(dataset)"
   ]
  },
  {
   "cell_type": "markdown",
   "metadata": {},
   "source": [
    "Dataset contains samples  of  text  from  20 different  authors and one useless column (Unnamed:0).  Each sample  has  50.000  characters  and  there  are  20  samples  for  each  author."
   ]
  },
  {
   "cell_type": "code",
   "execution_count": 362,
   "metadata": {},
   "outputs": [
    {
     "name": "stdout",
     "output_type": "stream",
     "text": [
      "Index(['Unnamed: 0', 'Sir Arthur Conan Doyle', 'Sir Walter Scott',\n",
      "       'Louisa May Alcott', 'Edmund Burke', 'Daniel Defoe', 'John Ruskin',\n",
      "       'Rudyard Kipling', 'Nathaniel Hawthorne', 'William Makepeace Thackeray',\n",
      "       'Lord Byron', 'Edward Phillips Oppenheim', 'P G Wodehouse',\n",
      "       'Jack London', 'Jacob Abbott', 'Andrew Lang', 'Herbert George Wells',\n",
      "       'Thomas Carlyle', 'Joseph Conrad', 'Henry Rider Haggard',\n",
      "       'Frank Richard Stockton'],\n",
      "      dtype='object')\n"
     ]
    }
   ],
   "source": [
    "print(dataset.columns)"
   ]
  },
  {
   "cell_type": "markdown",
   "metadata": {},
   "source": [
    "### Drop unused column ('Unnamed: 0')"
   ]
  },
  {
   "cell_type": "code",
   "execution_count": 363,
   "metadata": {},
   "outputs": [],
   "source": [
    "dataset = dataset.drop('Unnamed: 0', axis=1)"
   ]
  },
  {
   "cell_type": "code",
   "execution_count": 364,
   "metadata": {},
   "outputs": [
    {
     "data": {
      "text/html": [
       "<div>\n",
       "<style scoped>\n",
       "    .dataframe tbody tr th:only-of-type {\n",
       "        vertical-align: middle;\n",
       "    }\n",
       "\n",
       "    .dataframe tbody tr th {\n",
       "        vertical-align: top;\n",
       "    }\n",
       "\n",
       "    .dataframe thead th {\n",
       "        text-align: right;\n",
       "    }\n",
       "</style>\n",
       "<table border=\"1\" class=\"dataframe\">\n",
       "  <thead>\n",
       "    <tr style=\"text-align: right;\">\n",
       "      <th></th>\n",
       "      <th>Sir Arthur Conan Doyle</th>\n",
       "      <th>Sir Walter Scott</th>\n",
       "      <th>Louisa May Alcott</th>\n",
       "      <th>Edmund Burke</th>\n",
       "      <th>Daniel Defoe</th>\n",
       "      <th>John Ruskin</th>\n",
       "      <th>Rudyard Kipling</th>\n",
       "      <th>Nathaniel Hawthorne</th>\n",
       "      <th>William Makepeace Thackeray</th>\n",
       "      <th>Lord Byron</th>\n",
       "      <th>Edward Phillips Oppenheim</th>\n",
       "      <th>P G Wodehouse</th>\n",
       "      <th>Jack London</th>\n",
       "      <th>Jacob Abbott</th>\n",
       "      <th>Andrew Lang</th>\n",
       "      <th>Herbert George Wells</th>\n",
       "      <th>Thomas Carlyle</th>\n",
       "      <th>Joseph Conrad</th>\n",
       "      <th>Henry Rider Haggard</th>\n",
       "      <th>Frank Richard Stockton</th>\n",
       "    </tr>\n",
       "  </thead>\n",
       "  <tbody>\n",
       "    <tr>\n",
       "      <th>0</th>\n",
       "      <td>efforts of old Gilray in the interests of law ...</td>\n",
       "      <td>wood or stone, but only as emblems of the holy...</td>\n",
       "      <td>of penitence and thankfulness.  \"Call them now...</td>\n",
       "      <td>formerly received from the Vizier. _But a copy...</td>\n",
       "      <td>musket, I sat down myself to load all the rest...</td>\n",
       "      <td>a stone-mason's yard; and its rooms whitewashe...</td>\n",
       "      <td>once with a Bank of England director; wish I'd...</td>\n",
       "      <td>commander-in-chief of all the British forces i...</td>\n",
       "      <td>hard-heartedness in order to try those people ...</td>\n",
       "      <td>metaphor.]  [387] {335} The answer of the moth...</td>\n",
       "      <td>say, I should have expected to have found her ...</td>\n",
       "      <td>Mr. Peters? Don't you think there is danger he...</td>\n",
       "      <td>warmer. Buck was wildly glad. He knew he was a...</td>\n",
       "      <td>danger that they were often exposed to, that s...</td>\n",
       "      <td>think that the Achaeans were the Aryan conquer...</td>\n",
       "      <td>EXPERIMENTS; OF GRAND MONARCHY                ...</td>\n",
       "      <td>changes in our notions, informations, in our r...</td>\n",
       "      <td>Wretched old Allang went nearly mad with appre...</td>\n",
       "      <td>stood by the open door, Martin, a helmet from ...</td>\n",
       "      <td>growing twilight of her happiness, and one was...</td>\n",
       "    </tr>\n",
       "    <tr>\n",
       "      <th>1</th>\n",
       "      <td>of accepting the inevitable.  A flat Arab loaf...</td>\n",
       "      <td>was burned alive. Her name was Alison Pearson,...</td>\n",
       "      <td>and there was no time to ask leave, but it was...</td>\n",
       "      <td>for traders and manufacturers of every denomin...</td>\n",
       "      <td>substantial Matter, which tho' it is full of S...</td>\n",
       "      <td>instance, the Gothic foliage, of which one ess...</td>\n",
       "      <td>way. _Time_: The edge of sunset. Single room i...</td>\n",
       "      <td>feeling of an intruder, I walked towards Goat ...</td>\n",
       "      <td>out blaggerd names at you, and takes his pewny...</td>\n",
       "      <td>THE WORKS  OF  LORD BYRON.        A NEW, REVI...</td>\n",
       "      <td>the blowing away of the window was merely a ru...</td>\n",
       "      <td>cereal and a shirred egg? Now, for the love of...</td>\n",
       "      <td>might well hint to them that their bedtime had...</td>\n",
       "      <td>strange refusal could mean.  Although James th...</td>\n",
       "      <td>watched the date tree till the cocks were crow...</td>\n",
       "      <td>went into my study and wrote down everything a...</td>\n",
       "      <td>the Nightmares shall, to all time, be welcome ...</td>\n",
       "      <td>find for it a pedigree of distinguished ancest...</td>\n",
       "      <td>it must be supreme. For this ornament was noth...</td>\n",
       "      <td>continued, often with great earnestness and he...</td>\n",
       "    </tr>\n",
       "    <tr>\n",
       "      <th>2</th>\n",
       "      <td>Commons with an energy of hatred that one woul...</td>\n",
       "      <td>the assertion, that a king might take a lesson...</td>\n",
       "      <td>locks powdered the dark ones.  \"A heavenly wal...</td>\n",
       "      <td>honorable and advantageous to the India Compan...</td>\n",
       "      <td>would not accept of it alone, but would have m...</td>\n",
       "      <td>God. To these alone we have to look; in these ...</td>\n",
       "      <td>them. \"Fitz is right. I'm dead; only I don't s...</td>\n",
       "      <td>suppose, and in the winter and spring it will ...</td>\n",
       "      <td>those of Parson Thwackum, or Miss Seagrim. But...</td>\n",
       "      <td>scrubby paper to write on--excuse it. I am cer...</td>\n",
       "      <td>you, wouldn't it?\" Philip remarked.  \"Five hun...</td>\n",
       "      <td>more about your unfortunate affair with that g...</td>\n",
       "      <td>were iron.  They were perceivers, willers, and...</td>\n",
       "      <td>Bothwell's intrigues.--Desperate schemes attri...</td>\n",
       "      <td>said to his son:  'Now that we own such a sple...</td>\n",
       "      <td>of dark walls reflecting lamplight, and the my...</td>\n",
       "      <td>regular steps; then a friendly knocking: \"We a...</td>\n",
       "      <td>all black in the pale wall, stood open as he h...</td>\n",
       "      <td>gate of the kraal. But then her strength left ...</td>\n",
       "      <td>but that simple-minded dependant and relative,...</td>\n",
       "    </tr>\n",
       "    <tr>\n",
       "      <th>3</th>\n",
       "      <td>to breathe. There it was again! And again! Now...</td>\n",
       "      <td>I have this day learned more of Duke Charles t...</td>\n",
       "      <td>let us help you if we can. Are you ill, in wan...</td>\n",
       "      <td>understand, to be sure, that I speak of Charle...</td>\n",
       "      <td>the slip both together, and never heard more o...</td>\n",
       "      <td>issue is not understood by the people, and the...</td>\n",
       "      <td>twisted into knots, riven with rents and diamo...</td>\n",
       "      <td>in a religious calm; recollections of many a h...</td>\n",
       "      <td>papa. I am Number 46 in the Exhibition of the ...</td>\n",
       "      <td>marble where her feet                         ...</td>\n",
       "      <td>making that speech he had departed a great dea...</td>\n",
       "      <td>person who thanked goodness that he was not al...</td>\n",
       "      <td>in it.  But Carmack, the squaw-man! And Skooku...</td>\n",
       "      <td>revolve by the machinery. The axle, thus revol...</td>\n",
       "      <td>truth there may be in Saint-Germain's travels ...</td>\n",
       "      <td>Teddy! Poor old Adam and Eve we are! Ficial Re...</td>\n",
       "      <td>Authorities, and consequent Real-Anarchies bas...</td>\n",
       "      <td>within a yard of the ship's side. White on the...</td>\n",
       "      <td>known who was sentenced to death by the Inquis...</td>\n",
       "      <td>it had not been for this unfortunate and jealo...</td>\n",
       "    </tr>\n",
       "    <tr>\n",
       "      <th>4</th>\n",
       "      <td>chair, he brewed himself a glass of grog, in w...</td>\n",
       "      <td>murdered Countess, while at the same time he d...</td>\n",
       "      <td>thoughts swept through his mind during a brief...</td>\n",
       "      <td>Dowlah Bahadur, do agree that      the jaghire...</td>\n",
       "      <td>itself, I thought it seemed to lie higher out ...</td>\n",
       "      <td>thus to secure a portion of it than none: but ...</td>\n",
       "      <td>bush-tailed thieves!'  Mother Wolf threw herse...</td>\n",
       "      <td>place of study and retirement.  There was a fa...</td>\n",
       "      <td>Course! the Course is at Calcutta, papa!\" crie...</td>\n",
       "      <td>but sure and slow:     He faded, and so calm a...</td>\n",
       "      <td>read a little more of the New Testament and a ...</td>\n",
       "      <td>suddenly pulled into the conversation, again l...</td>\n",
       "      <td>most for least, he faces a frightful slavery s...</td>\n",
       "      <td>upon the pupils to spell them aloud as they ha...</td>\n",
       "      <td>well as the suspension holes    on each side.\"...</td>\n",
       "      <td>delivery of goods if the current owner got win...</td>\n",
       "      <td>into the current epigrammatic redaction; the a...</td>\n",
       "      <td>This \"O-P Book\" Is an Authorized Reprint of...</td>\n",
       "      <td>Thither we went up the sides of the steep pyra...</td>\n",
       "      <td>before me and taken the place I crave, I have ...</td>\n",
       "    </tr>\n",
       "  </tbody>\n",
       "</table>\n",
       "</div>"
      ],
      "text/plain": [
       "                              Sir Arthur Conan Doyle  \\\n",
       "0  efforts of old Gilray in the interests of law ...   \n",
       "1  of accepting the inevitable.  A flat Arab loaf...   \n",
       "2  Commons with an energy of hatred that one woul...   \n",
       "3  to breathe. There it was again! And again! Now...   \n",
       "4  chair, he brewed himself a glass of grog, in w...   \n",
       "\n",
       "                                    Sir Walter Scott  \\\n",
       "0  wood or stone, but only as emblems of the holy...   \n",
       "1  was burned alive. Her name was Alison Pearson,...   \n",
       "2  the assertion, that a king might take a lesson...   \n",
       "3  I have this day learned more of Duke Charles t...   \n",
       "4  murdered Countess, while at the same time he d...   \n",
       "\n",
       "                                   Louisa May Alcott  \\\n",
       "0  of penitence and thankfulness.  \"Call them now...   \n",
       "1  and there was no time to ask leave, but it was...   \n",
       "2  locks powdered the dark ones.  \"A heavenly wal...   \n",
       "3  let us help you if we can. Are you ill, in wan...   \n",
       "4  thoughts swept through his mind during a brief...   \n",
       "\n",
       "                                        Edmund Burke  \\\n",
       "0  formerly received from the Vizier. _But a copy...   \n",
       "1  for traders and manufacturers of every denomin...   \n",
       "2  honorable and advantageous to the India Compan...   \n",
       "3  understand, to be sure, that I speak of Charle...   \n",
       "4  Dowlah Bahadur, do agree that      the jaghire...   \n",
       "\n",
       "                                        Daniel Defoe  \\\n",
       "0  musket, I sat down myself to load all the rest...   \n",
       "1  substantial Matter, which tho' it is full of S...   \n",
       "2  would not accept of it alone, but would have m...   \n",
       "3  the slip both together, and never heard more o...   \n",
       "4  itself, I thought it seemed to lie higher out ...   \n",
       "\n",
       "                                         John Ruskin  \\\n",
       "0  a stone-mason's yard; and its rooms whitewashe...   \n",
       "1  instance, the Gothic foliage, of which one ess...   \n",
       "2  God. To these alone we have to look; in these ...   \n",
       "3  issue is not understood by the people, and the...   \n",
       "4  thus to secure a portion of it than none: but ...   \n",
       "\n",
       "                                     Rudyard Kipling  \\\n",
       "0  once with a Bank of England director; wish I'd...   \n",
       "1  way. _Time_: The edge of sunset. Single room i...   \n",
       "2  them. \"Fitz is right. I'm dead; only I don't s...   \n",
       "3  twisted into knots, riven with rents and diamo...   \n",
       "4  bush-tailed thieves!'  Mother Wolf threw herse...   \n",
       "\n",
       "                                 Nathaniel Hawthorne  \\\n",
       "0  commander-in-chief of all the British forces i...   \n",
       "1  feeling of an intruder, I walked towards Goat ...   \n",
       "2  suppose, and in the winter and spring it will ...   \n",
       "3  in a religious calm; recollections of many a h...   \n",
       "4  place of study and retirement.  There was a fa...   \n",
       "\n",
       "                         William Makepeace Thackeray  \\\n",
       "0  hard-heartedness in order to try those people ...   \n",
       "1  out blaggerd names at you, and takes his pewny...   \n",
       "2  those of Parson Thwackum, or Miss Seagrim. But...   \n",
       "3  papa. I am Number 46 in the Exhibition of the ...   \n",
       "4  Course! the Course is at Calcutta, papa!\" crie...   \n",
       "\n",
       "                                          Lord Byron  \\\n",
       "0  metaphor.]  [387] {335} The answer of the moth...   \n",
       "1   THE WORKS  OF  LORD BYRON.        A NEW, REVI...   \n",
       "2  scrubby paper to write on--excuse it. I am cer...   \n",
       "3  marble where her feet                         ...   \n",
       "4  but sure and slow:     He faded, and so calm a...   \n",
       "\n",
       "                           Edward Phillips Oppenheim  \\\n",
       "0  say, I should have expected to have found her ...   \n",
       "1  the blowing away of the window was merely a ru...   \n",
       "2  you, wouldn't it?\" Philip remarked.  \"Five hun...   \n",
       "3  making that speech he had departed a great dea...   \n",
       "4  read a little more of the New Testament and a ...   \n",
       "\n",
       "                                       P G Wodehouse  \\\n",
       "0  Mr. Peters? Don't you think there is danger he...   \n",
       "1  cereal and a shirred egg? Now, for the love of...   \n",
       "2  more about your unfortunate affair with that g...   \n",
       "3  person who thanked goodness that he was not al...   \n",
       "4  suddenly pulled into the conversation, again l...   \n",
       "\n",
       "                                         Jack London  \\\n",
       "0  warmer. Buck was wildly glad. He knew he was a...   \n",
       "1  might well hint to them that their bedtime had...   \n",
       "2  were iron.  They were perceivers, willers, and...   \n",
       "3  in it.  But Carmack, the squaw-man! And Skooku...   \n",
       "4  most for least, he faces a frightful slavery s...   \n",
       "\n",
       "                                        Jacob Abbott  \\\n",
       "0  danger that they were often exposed to, that s...   \n",
       "1  strange refusal could mean.  Although James th...   \n",
       "2  Bothwell's intrigues.--Desperate schemes attri...   \n",
       "3  revolve by the machinery. The axle, thus revol...   \n",
       "4  upon the pupils to spell them aloud as they ha...   \n",
       "\n",
       "                                         Andrew Lang  \\\n",
       "0  think that the Achaeans were the Aryan conquer...   \n",
       "1  watched the date tree till the cocks were crow...   \n",
       "2  said to his son:  'Now that we own such a sple...   \n",
       "3  truth there may be in Saint-Germain's travels ...   \n",
       "4  well as the suspension holes    on each side.\"...   \n",
       "\n",
       "                                Herbert George Wells  \\\n",
       "0  EXPERIMENTS; OF GRAND MONARCHY                ...   \n",
       "1  went into my study and wrote down everything a...   \n",
       "2  of dark walls reflecting lamplight, and the my...   \n",
       "3  Teddy! Poor old Adam and Eve we are! Ficial Re...   \n",
       "4  delivery of goods if the current owner got win...   \n",
       "\n",
       "                                      Thomas Carlyle  \\\n",
       "0  changes in our notions, informations, in our r...   \n",
       "1  the Nightmares shall, to all time, be welcome ...   \n",
       "2  regular steps; then a friendly knocking: \"We a...   \n",
       "3  Authorities, and consequent Real-Anarchies bas...   \n",
       "4  into the current epigrammatic redaction; the a...   \n",
       "\n",
       "                                       Joseph Conrad  \\\n",
       "0  Wretched old Allang went nearly mad with appre...   \n",
       "1  find for it a pedigree of distinguished ancest...   \n",
       "2  all black in the pale wall, stood open as he h...   \n",
       "3  within a yard of the ship's side. White on the...   \n",
       "4     This \"O-P Book\" Is an Authorized Reprint of...   \n",
       "\n",
       "                                 Henry Rider Haggard  \\\n",
       "0  stood by the open door, Martin, a helmet from ...   \n",
       "1  it must be supreme. For this ornament was noth...   \n",
       "2  gate of the kraal. But then her strength left ...   \n",
       "3  known who was sentenced to death by the Inquis...   \n",
       "4  Thither we went up the sides of the steep pyra...   \n",
       "\n",
       "                              Frank Richard Stockton  \n",
       "0  growing twilight of her happiness, and one was...  \n",
       "1  continued, often with great earnestness and he...  \n",
       "2  but that simple-minded dependant and relative,...  \n",
       "3  it had not been for this unfortunate and jealo...  \n",
       "4  before me and taken the place I crave, I have ...  "
      ]
     },
     "execution_count": 364,
     "metadata": {},
     "output_type": "execute_result"
    }
   ],
   "source": [
    "dataset.head()\n"
   ]
  },
  {
   "cell_type": "markdown",
   "metadata": {},
   "source": [
    "### Remove useless characters"
   ]
  },
  {
   "cell_type": "markdown",
   "metadata": {},
   "source": [
    "Remove parantheses and numbers from text"
   ]
  },
  {
   "cell_type": "code",
   "execution_count": 365,
   "metadata": {},
   "outputs": [
    {
     "data": {
      "text/html": [
       "<div>\n",
       "<style scoped>\n",
       "    .dataframe tbody tr th:only-of-type {\n",
       "        vertical-align: middle;\n",
       "    }\n",
       "\n",
       "    .dataframe tbody tr th {\n",
       "        vertical-align: top;\n",
       "    }\n",
       "\n",
       "    .dataframe thead th {\n",
       "        text-align: right;\n",
       "    }\n",
       "</style>\n",
       "<table border=\"1\" class=\"dataframe\">\n",
       "  <thead>\n",
       "    <tr style=\"text-align: right;\">\n",
       "      <th></th>\n",
       "      <th>Sir Arthur Conan Doyle</th>\n",
       "      <th>Sir Walter Scott</th>\n",
       "      <th>Louisa May Alcott</th>\n",
       "      <th>Edmund Burke</th>\n",
       "      <th>Daniel Defoe</th>\n",
       "      <th>John Ruskin</th>\n",
       "      <th>Rudyard Kipling</th>\n",
       "      <th>Nathaniel Hawthorne</th>\n",
       "      <th>William Makepeace Thackeray</th>\n",
       "      <th>Lord Byron</th>\n",
       "      <th>Edward Phillips Oppenheim</th>\n",
       "      <th>P G Wodehouse</th>\n",
       "      <th>Jack London</th>\n",
       "      <th>Jacob Abbott</th>\n",
       "      <th>Andrew Lang</th>\n",
       "      <th>Herbert George Wells</th>\n",
       "      <th>Thomas Carlyle</th>\n",
       "      <th>Joseph Conrad</th>\n",
       "      <th>Henry Rider Haggard</th>\n",
       "      <th>Frank Richard Stockton</th>\n",
       "    </tr>\n",
       "  </thead>\n",
       "  <tbody>\n",
       "    <tr>\n",
       "      <th>0</th>\n",
       "      <td>efforts of old Gilray in the interests of law ...</td>\n",
       "      <td>wood or stone, but only as emblems of the holy...</td>\n",
       "      <td>of penitence and thankfulness.  \"Call them now...</td>\n",
       "      <td>formerly received from the Vizier. But a copy ...</td>\n",
       "      <td>musket, I sat down myself to load all the rest...</td>\n",
       "      <td>a stone-mason's yard; and its rooms whitewashe...</td>\n",
       "      <td>once with a Bank of England director; wish I'd...</td>\n",
       "      <td>commander-in-chief of all the British forces i...</td>\n",
       "      <td>hard-heartedness in order to try those people ...</td>\n",
       "      <td>metaphor.    The answer of the mother of Brasi...</td>\n",
       "      <td>say, I should have expected to have found her ...</td>\n",
       "      <td>Mr. Peters? Don't you think there is danger he...</td>\n",
       "      <td>warmer. Buck was wildly glad. He knew he was a...</td>\n",
       "      <td>danger that they were often exposed to, that s...</td>\n",
       "      <td>think that the Achaeans were the Aryan conquer...</td>\n",
       "      <td>EXPERIMENTS; OF GRAND MONARCHY                ...</td>\n",
       "      <td>changes in our notions, informations, in our r...</td>\n",
       "      <td>Wretched old Allang went nearly mad with appre...</td>\n",
       "      <td>stood by the open door, Martin, a helmet from ...</td>\n",
       "      <td>growing twilight of her happiness, and one was...</td>\n",
       "    </tr>\n",
       "    <tr>\n",
       "      <th>1</th>\n",
       "      <td>of accepting the inevitable.  A flat Arab loaf...</td>\n",
       "      <td>was burned alive. Her name was Alison Pearson,...</td>\n",
       "      <td>and there was no time to ask leave, but it was...</td>\n",
       "      <td>for traders and manufacturers of every denomin...</td>\n",
       "      <td>substantial Matter, which tho' it is full of S...</td>\n",
       "      <td>instance, the Gothic foliage, of which one ess...</td>\n",
       "      <td>way. Time: The edge of sunset. Single room in ...</td>\n",
       "      <td>feeling of an intruder, I walked towards Goat ...</td>\n",
       "      <td>out blaggerd names at you, and takes his pewny...</td>\n",
       "      <td>THE WORKS  OF  LORD BYRON.        A NEW, REVI...</td>\n",
       "      <td>the blowing away of the window was merely a ru...</td>\n",
       "      <td>cereal and a shirred egg? Now, for the love of...</td>\n",
       "      <td>might well hint to them that their bedtime had...</td>\n",
       "      <td>strange refusal could mean.  Although James th...</td>\n",
       "      <td>watched the date tree till the cocks were crow...</td>\n",
       "      <td>went into my study and wrote down everything a...</td>\n",
       "      <td>the Nightmares shall, to all time, be welcome ...</td>\n",
       "      <td>find for it a pedigree of distinguished ancest...</td>\n",
       "      <td>it must be supreme. For this ornament was noth...</td>\n",
       "      <td>continued, often with great earnestness and he...</td>\n",
       "    </tr>\n",
       "    <tr>\n",
       "      <th>2</th>\n",
       "      <td>Commons with an energy of hatred that one woul...</td>\n",
       "      <td>the assertion, that a king might take a lesson...</td>\n",
       "      <td>locks powdered the dark ones.  \"A heavenly wal...</td>\n",
       "      <td>honorable and advantageous to the India Compan...</td>\n",
       "      <td>would not accept of it alone, but would have m...</td>\n",
       "      <td>God. To these alone we have to look; in these ...</td>\n",
       "      <td>them. \"Fitz is right. I'm dead; only I don't s...</td>\n",
       "      <td>suppose, and in the winter and spring it will ...</td>\n",
       "      <td>those of Parson Thwackum, or Miss Seagrim. But...</td>\n",
       "      <td>scrubby paper to write on--excuse it. I am cer...</td>\n",
       "      <td>you, wouldn't it?\" Philip remarked.  \"Five hun...</td>\n",
       "      <td>more about your unfortunate affair with that g...</td>\n",
       "      <td>were iron.  They were perceivers, willers, and...</td>\n",
       "      <td>Bothwell's intrigues.--Desperate schemes attri...</td>\n",
       "      <td>said to his son:  'Now that we own such a sple...</td>\n",
       "      <td>of dark walls reflecting lamplight, and the my...</td>\n",
       "      <td>regular steps; then a friendly knocking: \"We a...</td>\n",
       "      <td>all black in the pale wall, stood open as he h...</td>\n",
       "      <td>gate of the kraal. But then her strength left ...</td>\n",
       "      <td>but that simple-minded dependant and relative,...</td>\n",
       "    </tr>\n",
       "    <tr>\n",
       "      <th>3</th>\n",
       "      <td>to breathe. There it was again! And again! Now...</td>\n",
       "      <td>I have this day learned more of Duke Charles t...</td>\n",
       "      <td>let us help you if we can. Are you ill, in wan...</td>\n",
       "      <td>understand, to be sure, that I speak of Charle...</td>\n",
       "      <td>the slip both together, and never heard more o...</td>\n",
       "      <td>issue is not understood by the people, and the...</td>\n",
       "      <td>twisted into knots, riven with rents and diamo...</td>\n",
       "      <td>in a religious calm; recollections of many a h...</td>\n",
       "      <td>papa. I am Number  in the Exhibition of the Ga...</td>\n",
       "      <td>marble where her feet                         ...</td>\n",
       "      <td>making that speech he had departed a great dea...</td>\n",
       "      <td>person who thanked goodness that he was not al...</td>\n",
       "      <td>in it.  But Carmack, the squaw-man! And Skooku...</td>\n",
       "      <td>revolve by the machinery. The axle, thus revol...</td>\n",
       "      <td>truth there may be in Saint-Germain's travels ...</td>\n",
       "      <td>Teddy! Poor old Adam and Eve we are! Ficial Re...</td>\n",
       "      <td>Authorities, and consequent Real-Anarchies bas...</td>\n",
       "      <td>within a yard of the ship's side. White on the...</td>\n",
       "      <td>known who was sentenced to death by the Inquis...</td>\n",
       "      <td>it had not been for this unfortunate and jealo...</td>\n",
       "    </tr>\n",
       "    <tr>\n",
       "      <th>4</th>\n",
       "      <td>chair, he brewed himself a glass of grog, in w...</td>\n",
       "      <td>murdered Countess, while at the same time he d...</td>\n",
       "      <td>thoughts swept through his mind during a brief...</td>\n",
       "      <td>Dowlah Bahadur, do agree that      the jaghire...</td>\n",
       "      <td>itself, I thought it seemed to lie higher out ...</td>\n",
       "      <td>thus to secure a portion of it than none: but ...</td>\n",
       "      <td>bush-tailed thieves!'  Mother Wolf threw herse...</td>\n",
       "      <td>place of study and retirement.  There was a fa...</td>\n",
       "      <td>Course! the Course is at Calcutta, papa!\" crie...</td>\n",
       "      <td>but sure and slow:     He faded, and so calm a...</td>\n",
       "      <td>read a little more of the New Testament and a ...</td>\n",
       "      <td>suddenly pulled into the conversation, again l...</td>\n",
       "      <td>most for least, he faces a frightful slavery s...</td>\n",
       "      <td>upon the pupils to spell them aloud as they ha...</td>\n",
       "      <td>well as the suspension holes    on each side.\"...</td>\n",
       "      <td>delivery of goods if the current owner got win...</td>\n",
       "      <td>into the current epigrammatic redaction; the a...</td>\n",
       "      <td>This \"O-P Book\" Is an Authorized Reprint of...</td>\n",
       "      <td>Thither we went up the sides of the steep pyra...</td>\n",
       "      <td>before me and taken the place I crave, I have ...</td>\n",
       "    </tr>\n",
       "  </tbody>\n",
       "</table>\n",
       "</div>"
      ],
      "text/plain": [
       "                              Sir Arthur Conan Doyle  \\\n",
       "0  efforts of old Gilray in the interests of law ...   \n",
       "1  of accepting the inevitable.  A flat Arab loaf...   \n",
       "2  Commons with an energy of hatred that one woul...   \n",
       "3  to breathe. There it was again! And again! Now...   \n",
       "4  chair, he brewed himself a glass of grog, in w...   \n",
       "\n",
       "                                    Sir Walter Scott  \\\n",
       "0  wood or stone, but only as emblems of the holy...   \n",
       "1  was burned alive. Her name was Alison Pearson,...   \n",
       "2  the assertion, that a king might take a lesson...   \n",
       "3  I have this day learned more of Duke Charles t...   \n",
       "4  murdered Countess, while at the same time he d...   \n",
       "\n",
       "                                   Louisa May Alcott  \\\n",
       "0  of penitence and thankfulness.  \"Call them now...   \n",
       "1  and there was no time to ask leave, but it was...   \n",
       "2  locks powdered the dark ones.  \"A heavenly wal...   \n",
       "3  let us help you if we can. Are you ill, in wan...   \n",
       "4  thoughts swept through his mind during a brief...   \n",
       "\n",
       "                                        Edmund Burke  \\\n",
       "0  formerly received from the Vizier. But a copy ...   \n",
       "1  for traders and manufacturers of every denomin...   \n",
       "2  honorable and advantageous to the India Compan...   \n",
       "3  understand, to be sure, that I speak of Charle...   \n",
       "4  Dowlah Bahadur, do agree that      the jaghire...   \n",
       "\n",
       "                                        Daniel Defoe  \\\n",
       "0  musket, I sat down myself to load all the rest...   \n",
       "1  substantial Matter, which tho' it is full of S...   \n",
       "2  would not accept of it alone, but would have m...   \n",
       "3  the slip both together, and never heard more o...   \n",
       "4  itself, I thought it seemed to lie higher out ...   \n",
       "\n",
       "                                         John Ruskin  \\\n",
       "0  a stone-mason's yard; and its rooms whitewashe...   \n",
       "1  instance, the Gothic foliage, of which one ess...   \n",
       "2  God. To these alone we have to look; in these ...   \n",
       "3  issue is not understood by the people, and the...   \n",
       "4  thus to secure a portion of it than none: but ...   \n",
       "\n",
       "                                     Rudyard Kipling  \\\n",
       "0  once with a Bank of England director; wish I'd...   \n",
       "1  way. Time: The edge of sunset. Single room in ...   \n",
       "2  them. \"Fitz is right. I'm dead; only I don't s...   \n",
       "3  twisted into knots, riven with rents and diamo...   \n",
       "4  bush-tailed thieves!'  Mother Wolf threw herse...   \n",
       "\n",
       "                                 Nathaniel Hawthorne  \\\n",
       "0  commander-in-chief of all the British forces i...   \n",
       "1  feeling of an intruder, I walked towards Goat ...   \n",
       "2  suppose, and in the winter and spring it will ...   \n",
       "3  in a religious calm; recollections of many a h...   \n",
       "4  place of study and retirement.  There was a fa...   \n",
       "\n",
       "                         William Makepeace Thackeray  \\\n",
       "0  hard-heartedness in order to try those people ...   \n",
       "1  out blaggerd names at you, and takes his pewny...   \n",
       "2  those of Parson Thwackum, or Miss Seagrim. But...   \n",
       "3  papa. I am Number  in the Exhibition of the Ga...   \n",
       "4  Course! the Course is at Calcutta, papa!\" crie...   \n",
       "\n",
       "                                          Lord Byron  \\\n",
       "0  metaphor.    The answer of the mother of Brasi...   \n",
       "1   THE WORKS  OF  LORD BYRON.        A NEW, REVI...   \n",
       "2  scrubby paper to write on--excuse it. I am cer...   \n",
       "3  marble where her feet                         ...   \n",
       "4  but sure and slow:     He faded, and so calm a...   \n",
       "\n",
       "                           Edward Phillips Oppenheim  \\\n",
       "0  say, I should have expected to have found her ...   \n",
       "1  the blowing away of the window was merely a ru...   \n",
       "2  you, wouldn't it?\" Philip remarked.  \"Five hun...   \n",
       "3  making that speech he had departed a great dea...   \n",
       "4  read a little more of the New Testament and a ...   \n",
       "\n",
       "                                       P G Wodehouse  \\\n",
       "0  Mr. Peters? Don't you think there is danger he...   \n",
       "1  cereal and a shirred egg? Now, for the love of...   \n",
       "2  more about your unfortunate affair with that g...   \n",
       "3  person who thanked goodness that he was not al...   \n",
       "4  suddenly pulled into the conversation, again l...   \n",
       "\n",
       "                                         Jack London  \\\n",
       "0  warmer. Buck was wildly glad. He knew he was a...   \n",
       "1  might well hint to them that their bedtime had...   \n",
       "2  were iron.  They were perceivers, willers, and...   \n",
       "3  in it.  But Carmack, the squaw-man! And Skooku...   \n",
       "4  most for least, he faces a frightful slavery s...   \n",
       "\n",
       "                                        Jacob Abbott  \\\n",
       "0  danger that they were often exposed to, that s...   \n",
       "1  strange refusal could mean.  Although James th...   \n",
       "2  Bothwell's intrigues.--Desperate schemes attri...   \n",
       "3  revolve by the machinery. The axle, thus revol...   \n",
       "4  upon the pupils to spell them aloud as they ha...   \n",
       "\n",
       "                                         Andrew Lang  \\\n",
       "0  think that the Achaeans were the Aryan conquer...   \n",
       "1  watched the date tree till the cocks were crow...   \n",
       "2  said to his son:  'Now that we own such a sple...   \n",
       "3  truth there may be in Saint-Germain's travels ...   \n",
       "4  well as the suspension holes    on each side.\"...   \n",
       "\n",
       "                                Herbert George Wells  \\\n",
       "0  EXPERIMENTS; OF GRAND MONARCHY                ...   \n",
       "1  went into my study and wrote down everything a...   \n",
       "2  of dark walls reflecting lamplight, and the my...   \n",
       "3  Teddy! Poor old Adam and Eve we are! Ficial Re...   \n",
       "4  delivery of goods if the current owner got win...   \n",
       "\n",
       "                                      Thomas Carlyle  \\\n",
       "0  changes in our notions, informations, in our r...   \n",
       "1  the Nightmares shall, to all time, be welcome ...   \n",
       "2  regular steps; then a friendly knocking: \"We a...   \n",
       "3  Authorities, and consequent Real-Anarchies bas...   \n",
       "4  into the current epigrammatic redaction; the a...   \n",
       "\n",
       "                                       Joseph Conrad  \\\n",
       "0  Wretched old Allang went nearly mad with appre...   \n",
       "1  find for it a pedigree of distinguished ancest...   \n",
       "2  all black in the pale wall, stood open as he h...   \n",
       "3  within a yard of the ship's side. White on the...   \n",
       "4     This \"O-P Book\" Is an Authorized Reprint of...   \n",
       "\n",
       "                                 Henry Rider Haggard  \\\n",
       "0  stood by the open door, Martin, a helmet from ...   \n",
       "1  it must be supreme. For this ornament was noth...   \n",
       "2  gate of the kraal. But then her strength left ...   \n",
       "3  known who was sentenced to death by the Inquis...   \n",
       "4  Thither we went up the sides of the steep pyra...   \n",
       "\n",
       "                              Frank Richard Stockton  \n",
       "0  growing twilight of her happiness, and one was...  \n",
       "1  continued, often with great earnestness and he...  \n",
       "2  but that simple-minded dependant and relative,...  \n",
       "3  it had not been for this unfortunate and jealo...  \n",
       "4  before me and taken the place I crave, I have ...  "
      ]
     },
     "execution_count": 365,
     "metadata": {},
     "output_type": "execute_result"
    }
   ],
   "source": [
    "import re\n",
    "\n",
    "regexes = [r\"\\[*{*\\(*\\)*}*\\]*[0-9]*\"]\n",
    "regex = regexes[0]\n",
    "\n",
    "for column in list(dataset):\n",
    "    dataset[column] = dataset[column].str.replace(\"_\", \"\")\n",
    "    dataset[column] = dataset[column].str.replace(regex, \"\")\n",
    "    \n",
    "dataset.head()"
   ]
  },
  {
   "cell_type": "code",
   "execution_count": 9,
   "metadata": {},
   "outputs": [],
   "source": [
    "# data_flat = dataset.values.flatten()"
   ]
  },
  {
   "cell_type": "code",
   "execution_count": 367,
   "metadata": {},
   "outputs": [],
   "source": [
    "# Same thing as flattend, but doesn't make a copy in memory if not required and is faster\n",
    "data_flat = dataset.values.ravel()"
   ]
  },
  {
   "cell_type": "markdown",
   "metadata": {},
   "source": [
    "#### Analyze length of flatten data and some texts"
   ]
  },
  {
   "cell_type": "code",
   "execution_count": 369,
   "metadata": {},
   "outputs": [
    {
     "name": "stdout",
     "output_type": "stream",
     "text": [
      "400\n",
      "499735\n",
      "of penitence and thankfulness.  \"Call them now, and let us get home,\" said Mrs. Jo; and Dan, getting upon the wall, sent a joyful word \"Found!\" ringing over the field.  How the wandering lights came dancing from all sides, and gathered round the little group among the sweet fern bushes! Such a hugging, and kissing, and talking, and crying, as went on must have amazed the glowworms, and evidently delighted the mosquitoes, for they hummed frantically, while the little moths came in flocks to the party, and the frogs croaked as if they could not express their satisfaction loudly enough.  Then they set out for home, a queer party, for Franz rode on to tell the news; Dan and Toby led the way; then came Nan in the strong arms of Silas, who considered her \"the smartest little baggage he ever saw,\" and teased her all the way home about her pranks. Mrs. Bhaer would let no one carry Rob but himself, and the little fellow, refreshed by sleep, sat up, and chattered gayly, feeling himself a hero, wof penitence and thankfulness.  \"Call them now, and let us get home,\" said Mrs. Jo; and Dan, getting upon the wall, sent a joyful word \"Found!\" ringing over the field.  How the wandering lights came dancing from all sides, and gathered round the little group among the sweet fern bushes! Such a hugging, and kissing, and talking, and crying, as went on must have amazed the glowworms, and evidently delighted the mosquitoes, for they hummed frantically, while the little moths came in flocks to the party, and the frogs croaked as if they could not express their satisfaction loudly enough.  Then they set out for home, a queer party, for Franz rode on to tell the news; Dan and Toby led the way; then came Nan in the strong arms of Silas, who considered her \"the smartest little baggage he ever saw,\" and teased her all the way home about her pranks. Mrs. Bhaer would let no one carry Rob but himself, and the little fellow, refreshed by sleep, sat up, and chattered gayly, feeling himself a hero, w\n"
     ]
    }
   ],
   "source": [
    "print(len(data_flat))\n",
    "print(len(data_flat[2]))\n",
    "print(data_flat[2][0:1000]+data_flat[2][0:1000])"
   ]
  },
  {
   "cell_type": "code",
   "execution_count": 21,
   "metadata": {},
   "outputs": [],
   "source": [
    "# print(data_flat[1:2])"
   ]
  },
  {
   "cell_type": "markdown",
   "metadata": {},
   "source": [
    "## Targets\n"
   ]
  },
  {
   "cell_type": "markdown",
   "metadata": {},
   "source": [
    "Create list with all author names x 20 for the targets"
   ]
  },
  {
   "cell_type": "code",
   "execution_count": 370,
   "metadata": {
    "scrolled": true
   },
   "outputs": [
    {
     "name": "stdout",
     "output_type": "stream",
     "text": [
      "['Sir Arthur Conan Doyle', 'Sir Walter Scott', 'Louisa May Alcott', 'Edmund Burke', 'Daniel Defoe', 'John Ruskin', 'Rudyard Kipling', 'Nathaniel Hawthorne', 'William Makepeace Thackeray', 'Lord Byron', 'Edward Phillips Oppenheim', 'P G Wodehouse', 'Jack London', 'Jacob Abbott', 'Andrew Lang', 'Herbert George Wells', 'Thomas Carlyle', 'Joseph Conrad', 'Henry Rider Haggard', 'Frank Richard Stockton']\n"
     ]
    }
   ],
   "source": [
    "# print(dataset.columns)\n",
    "author_targets = list(dataset)\n",
    "print(author_targets)"
   ]
  },
  {
   "cell_type": "markdown",
   "metadata": {},
   "source": [
    "#### Transform authors to numeric data"
   ]
  },
  {
   "cell_type": "code",
   "execution_count": 371,
   "metadata": {},
   "outputs": [
    {
     "name": "stdout",
     "output_type": "stream",
     "text": [
      "['Sir Arthur Conan Doyle', 'Sir Walter Scott', 'Louisa May Alcott', 'Edmund Burke', 'Daniel Defoe', 'John Ruskin', 'Rudyard Kipling', 'Nathaniel Hawthorne', 'William Makepeace Thackeray', 'Lord Byron', 'Edward Phillips Oppenheim', 'P G Wodehouse', 'Jack London', 'Jacob Abbott', 'Andrew Lang', 'Herbert George Wells', 'Thomas Carlyle', 'Joseph Conrad', 'Henry Rider Haggard', 'Frank Richard Stockton']\n",
      "[16 17 12  2  1  9 15 13 19 11  3 14  7  8  0  6 18 10  5  4]\n",
      "[16 17 12  2  1  9 15 13 19 11  3 14  7  8  0  6 18 10  5  4 16 17 12  2\n",
      "  1  9 15 13 19 11  3 14  7  8  0  6 18 10  5  4 16 17 12  2  1  9 15 13\n",
      " 19 11  3 14  7  8  0  6 18 10  5  4 16 17 12  2  1  9 15 13 19 11  3 14\n",
      "  7  8  0  6 18 10  5  4 16 17 12  2  1  9 15 13 19 11  3 14  7  8  0  6\n",
      " 18 10  5  4 16 17 12  2  1  9 15 13 19 11  3 14  7  8  0  6 18 10  5  4\n",
      " 16 17 12  2  1  9 15 13 19 11  3 14  7  8  0  6 18 10  5  4 16 17 12  2\n",
      "  1  9 15 13 19 11  3 14  7  8  0  6 18 10  5  4 16 17 12  2  1  9 15 13\n",
      " 19 11  3 14  7  8  0  6 18 10  5  4 16 17 12  2  1  9 15 13 19 11  3 14\n",
      "  7  8  0  6 18 10  5  4 16 17 12  2  1  9 15 13 19 11  3 14  7  8  0  6\n",
      " 18 10  5  4 16 17 12  2  1  9 15 13 19 11  3 14  7  8  0  6 18 10  5  4\n",
      " 16 17 12  2  1  9 15 13 19 11  3 14  7  8  0  6 18 10  5  4 16 17 12  2\n",
      "  1  9 15 13 19 11  3 14  7  8  0  6 18 10  5  4 16 17 12  2  1  9 15 13\n",
      " 19 11  3 14  7  8  0  6 18 10  5  4 16 17 12  2  1  9 15 13 19 11  3 14\n",
      "  7  8  0  6 18 10  5  4 16 17 12  2  1  9 15 13 19 11  3 14  7  8  0  6\n",
      " 18 10  5  4 16 17 12  2  1  9 15 13 19 11  3 14  7  8  0  6 18 10  5  4\n",
      " 16 17 12  2  1  9 15 13 19 11  3 14  7  8  0  6 18 10  5  4 16 17 12  2\n",
      "  1  9 15 13 19 11  3 14  7  8  0  6 18 10  5  4]\n",
      "400\n"
     ]
    }
   ],
   "source": [
    "le = preprocessing.LabelEncoder()\n",
    "le.fit(author_targets)\n",
    "print(author_targets)\n",
    "numeric_targets = le.transform(author_targets)\n",
    "print(numeric_targets)\n",
    "\n",
    "# numeric_targets = np.repeat(numeric_targets,20)\n",
    "numeric_targets = np.tile(numeric_targets,20)\n",
    "\n",
    "print(numeric_targets)\n",
    "print(len(numeric_targets))\n",
    "    "
   ]
  },
  {
   "cell_type": "markdown",
   "metadata": {},
   "source": [
    "### Using CountVectorizer"
   ]
  },
  {
   "cell_type": "code",
   "execution_count": 373,
   "metadata": {
    "scrolled": true
   },
   "outputs": [
    {
     "name": "stdout",
     "output_type": "stream",
     "text": [
      "  (0, 146351)\t1\n",
      "  (0, 152055)\t1\n",
      "  (0, 147223)\t1\n",
      "  (0, 18412)\t1\n",
      "  (0, 40080)\t1\n",
      "  (0, 68735)\t1\n",
      "  (0, 143371)\t1\n",
      "  (0, 37714)\t1\n",
      "  (0, 35216)\t1\n",
      "  (0, 127267)\t1\n",
      "  (0, 122077)\t1\n",
      "  (0, 128704)\t1\n",
      "  (0, 151695)\t1\n",
      "  (0, 163787)\t1\n",
      "  (0, 77787)\t1\n",
      "  (0, 103252)\t1\n",
      "  (0, 56454)\t1\n",
      "  (0, 55228)\t1\n",
      "  (0, 27991)\t1\n",
      "  (0, 84528)\t1\n",
      "  (0, 158208)\t1\n",
      "  (0, 79628)\t1\n",
      "  (0, 125466)\t1\n",
      "  (0, 152060)\t1\n",
      "  (0, 68174)\t1\n",
      "  :\t:\n",
      "  (399, 136066)\t44\n",
      "  (399, 78000)\t17\n",
      "  (399, 126060)\t30\n",
      "  (399, 64074)\t7\n",
      "  (399, 33866)\t14\n",
      "  (399, 104801)\t170\n",
      "  (399, 62123)\t11\n",
      "  (399, 64676)\t49\n",
      "  (399, 164415)\t600\n",
      "  (399, 103611)\t335\n",
      "  (399, 43466)\t4\n",
      "  (399, 152602)\t211\n",
      "  (399, 21058)\t313\n",
      "  (399, 6672)\t10\n",
      "  (399, 161850)\t1380\n",
      "  (399, 79272)\t5\n",
      "  (399, 97669)\t40\n",
      "  (399, 104203)\t15\n",
      "  (399, 5068)\t3181\n",
      "  (399, 84381)\t4\n",
      "  (399, 146837)\t5474\n",
      "  (399, 74154)\t1423\n",
      "  (399, 103323)\t37\n",
      "  (399, 102996)\t2528\n",
      "  (399, 46706)\t2\n"
     ]
    }
   ],
   "source": [
    "from sklearn.feature_extraction.text import CountVectorizer\n",
    "\n",
    "vectorizer = CountVectorizer()\n",
    "\n",
    "X = vectorizer.fit_transform(data_flat)\n",
    "print(X)"
   ]
  },
  {
   "cell_type": "markdown",
   "metadata": {},
   "source": [
    "### Split data in train, test, validation"
   ]
  },
  {
   "cell_type": "code",
   "execution_count": 377,
   "metadata": {},
   "outputs": [],
   "source": [
    "# Split data into train set and test set\n",
    "\n",
    "from sklearn.model_selection import StratifiedShuffleSplit\n",
    "\n",
    "sss = StratifiedShuffleSplit()\n",
    "X = data_flat\n",
    "y = numeric_targets\n",
    "\n",
    "for train_index, test_index in sss.split(X, y):\n",
    "#     print(\"TRAIN:\", train_index, \"TEST:\", test_index)\n",
    "    X_train, X_test = X[train_index], X[test_index]\n",
    "    y_train, y_test = y[train_index], y[test_index]\n",
    "\n"
   ]
  },
  {
   "cell_type": "markdown",
   "metadata": {},
   "source": [
    "### Using TfidfVectorizer"
   ]
  },
  {
   "cell_type": "code",
   "execution_count": 379,
   "metadata": {},
   "outputs": [
    {
     "name": "stdout",
     "output_type": "stream",
     "text": [
      "['aa', 'aaaaaah', 'aaah', 'aaarh', 'aab', 'aachen', 'aacomfortable', 'aage', 'aah', 'aahh']\n",
      "['zylland', 'zym', 'zymotic', 'zytomar', 'zz', 'zzp', 'zzz', 'zzzing', 'zzzz', 'zzzzed']\n"
     ]
    }
   ],
   "source": [
    "from sklearn.feature_extraction.text import TfidfVectorizer\n",
    "\n",
    "vectorizer = TfidfVectorizer(strip_accents='ascii', stop_words='english', token_pattern=r'(?u)\\b[A-Za-z]+\\b')\n",
    "\n",
    "X_train = vectorizer.fit_transform(X_train)\n",
    "vocabulary = vectorizer.get_feature_names()\n",
    "\n",
    "print(vocabulary[:10])\n",
    "print(vocabulary[-10:])\n"
   ]
  },
  {
   "cell_type": "code",
   "execution_count": 380,
   "metadata": {},
   "outputs": [],
   "source": [
    "X_test = vectorizer.transform(X_test)"
   ]
  },
  {
   "cell_type": "markdown",
   "metadata": {},
   "source": [
    "### Set hyperparameters for  SVC (using gridsearch)"
   ]
  },
  {
   "cell_type": "code",
   "execution_count": 382,
   "metadata": {},
   "outputs": [],
   "source": [
    "hyperparams = {\"gamma\": [0.0, 0.1],\n",
    "               \"kernel\": [\"linear\", \"poly\" ],\n",
    "               \"C\": [float(0.5), float(0.75)] }"
   ]
  },
  {
   "cell_type": "markdown",
   "metadata": {},
   "source": [
    "### Set scores"
   ]
  },
  {
   "cell_type": "markdown",
   "metadata": {},
   "source": [
    "### Train"
   ]
  },
  {
   "cell_type": "code",
   "execution_count": 383,
   "metadata": {},
   "outputs": [],
   "source": [
    "from sklearn.svm import SVC\n",
    "from sklearn.model_selection import GridSearchCV\n",
    "\n",
    "\n",
    "def trainSVM(X_train, y_train, X_test=None, y_test=None):\n",
    "    cl = SVC()\n",
    "\n",
    "    grid_search = GridSearchCV(cl, param_grid=hyperparams, cv=3, verbose=3, \n",
    "                               return_train_score=True)\n",
    "\n",
    "    # start = time()\n",
    "    print(grid_search.fit(X_train, y_train))\n",
    "    \n",
    "    return grid_search\n",
    "\n"
   ]
  },
  {
   "cell_type": "code",
   "execution_count": 384,
   "metadata": {},
   "outputs": [
    {
     "name": "stdout",
     "output_type": "stream",
     "text": [
      "Fitting 3 folds for each of 8 candidates, totalling 24 fits\n",
      "[CV] C=0.5, gamma=0.0, kernel=linear .................................\n"
     ]
    },
    {
     "name": "stderr",
     "output_type": "stream",
     "text": [
      "[Parallel(n_jobs=1)]: Using backend SequentialBackend with 1 concurrent workers.\n"
     ]
    },
    {
     "name": "stdout",
     "output_type": "stream",
     "text": [
      "[CV] ..... C=0.5, gamma=0.0, kernel=linear, score=0.875, total=  13.3s\n",
      "[CV] C=0.5, gamma=0.0, kernel=linear .................................\n"
     ]
    },
    {
     "name": "stderr",
     "output_type": "stream",
     "text": [
      "[Parallel(n_jobs=1)]: Done   1 out of   1 | elapsed:   18.7s remaining:    0.0s\n"
     ]
    },
    {
     "name": "stdout",
     "output_type": "stream",
     "text": [
      "[CV]  C=0.5, gamma=0.0, kernel=linear, score=0.8666666666666667, total=  13.1s\n",
      "[CV] C=0.5, gamma=0.0, kernel=linear .................................\n"
     ]
    },
    {
     "name": "stderr",
     "output_type": "stream",
     "text": [
      "[Parallel(n_jobs=1)]: Done   2 out of   2 | elapsed:   37.1s remaining:    0.0s\n"
     ]
    },
    {
     "name": "stdout",
     "output_type": "stream",
     "text": [
      "[CV]  C=0.5, gamma=0.0, kernel=linear, score=0.8333333333333334, total=  13.1s\n",
      "[CV] C=0.5, gamma=0.0, kernel=poly ...................................\n",
      "[CV] ........ C=0.5, gamma=0.0, kernel=poly, score=0.05, total=  13.3s\n",
      "[CV] C=0.5, gamma=0.0, kernel=poly ...................................\n",
      "[CV] ........ C=0.5, gamma=0.0, kernel=poly, score=0.05, total=  13.5s\n",
      "[CV] C=0.5, gamma=0.0, kernel=poly ...................................\n",
      "[CV] ........ C=0.5, gamma=0.0, kernel=poly, score=0.05, total=  13.2s\n",
      "[CV] C=0.5, gamma=0.1, kernel=linear .................................\n",
      "[CV] ..... C=0.5, gamma=0.1, kernel=linear, score=0.875, total=  13.2s\n",
      "[CV] C=0.5, gamma=0.1, kernel=linear .................................\n",
      "[CV]  C=0.5, gamma=0.1, kernel=linear, score=0.8666666666666667, total=  13.1s\n",
      "[CV] C=0.5, gamma=0.1, kernel=linear .................................\n",
      "[CV]  C=0.5, gamma=0.1, kernel=linear, score=0.8333333333333334, total=  13.1s\n",
      "[CV] C=0.5, gamma=0.1, kernel=poly ...................................\n",
      "[CV]  C=0.5, gamma=0.1, kernel=poly, score=0.6333333333333333, total=  13.6s\n",
      "[CV] C=0.5, gamma=0.1, kernel=poly ...................................\n",
      "[CV]  C=0.5, gamma=0.1, kernel=poly, score=0.5916666666666667, total=  13.4s\n",
      "[CV] C=0.5, gamma=0.1, kernel=poly ...................................\n",
      "[CV] ....... C=0.5, gamma=0.1, kernel=poly, score=0.675, total=  13.2s\n",
      "[CV] C=0.75, gamma=0.0, kernel=linear ................................\n",
      "[CV]  C=0.75, gamma=0.0, kernel=linear, score=0.9333333333333333, total=  13.2s\n",
      "[CV] C=0.75, gamma=0.0, kernel=linear ................................\n",
      "[CV]  C=0.75, gamma=0.0, kernel=linear, score=0.9166666666666666, total=  13.1s\n",
      "[CV] C=0.75, gamma=0.0, kernel=linear ................................\n",
      "[CV]  C=0.75, gamma=0.0, kernel=linear, score=0.8666666666666667, total=  13.0s\n",
      "[CV] C=0.75, gamma=0.0, kernel=poly ..................................\n",
      "[CV] ....... C=0.75, gamma=0.0, kernel=poly, score=0.05, total=  13.4s\n",
      "[CV] C=0.75, gamma=0.0, kernel=poly ..................................\n",
      "[CV] ....... C=0.75, gamma=0.0, kernel=poly, score=0.05, total=  13.3s\n",
      "[CV] C=0.75, gamma=0.0, kernel=poly ..................................\n",
      "[CV] ....... C=0.75, gamma=0.0, kernel=poly, score=0.05, total=  13.2s\n",
      "[CV] C=0.75, gamma=0.1, kernel=linear ................................\n",
      "[CV]  C=0.75, gamma=0.1, kernel=linear, score=0.9333333333333333, total=  13.2s\n",
      "[CV] C=0.75, gamma=0.1, kernel=linear ................................\n",
      "[CV]  C=0.75, gamma=0.1, kernel=linear, score=0.9166666666666666, total=  13.1s\n",
      "[CV] C=0.75, gamma=0.1, kernel=linear ................................\n",
      "[CV]  C=0.75, gamma=0.1, kernel=linear, score=0.8666666666666667, total=  13.0s\n",
      "[CV] C=0.75, gamma=0.1, kernel=poly ..................................\n",
      "[CV]  C=0.75, gamma=0.1, kernel=poly, score=0.6333333333333333, total=  13.3s\n",
      "[CV] C=0.75, gamma=0.1, kernel=poly ..................................\n",
      "[CV]  C=0.75, gamma=0.1, kernel=poly, score=0.5916666666666667, total=  13.3s\n",
      "[CV] C=0.75, gamma=0.1, kernel=poly ..................................\n",
      "[CV] ...... C=0.75, gamma=0.1, kernel=poly, score=0.675, total=  13.3s\n"
     ]
    },
    {
     "name": "stderr",
     "output_type": "stream",
     "text": [
      "[Parallel(n_jobs=1)]: Done  24 out of  24 | elapsed:  7.4min finished\n"
     ]
    },
    {
     "name": "stdout",
     "output_type": "stream",
     "text": [
      "GridSearchCV(cv=3, error_score='raise-deprecating',\n",
      "       estimator=SVC(C=1.0, cache_size=200, class_weight=None, coef0=0.0,\n",
      "  decision_function_shape='ovr', degree=3, gamma='auto_deprecated',\n",
      "  kernel='rbf', max_iter=-1, probability=False, random_state=None,\n",
      "  shrinking=True, tol=0.001, verbose=False),\n",
      "       fit_params=None, iid='warn', n_jobs=None,\n",
      "       param_grid={'gamma': [0.0, 0.1], 'kernel': ['linear', 'poly'], 'C': [0.5, 0.75]},\n",
      "       pre_dispatch='2*n_jobs', refit=True, return_train_score=True,\n",
      "       scoring=None, verbose=3)\n"
     ]
    }
   ],
   "source": [
    "grid_search = trainSVM(X_train, y_train)"
   ]
  },
  {
   "cell_type": "code",
   "execution_count": 385,
   "metadata": {},
   "outputs": [
    {
     "name": "stdout",
     "output_type": "stream",
     "text": [
      "{'mean_fit_time': array([10.4461449 , 10.58852164, 10.39808019, 10.66203586, 10.36496067,\n",
      "       10.5691452 , 10.37386847, 10.56781117]), 'std_fit_time': array([0.12514415, 0.11764412, 0.05147292, 0.15593853, 0.07043676,\n",
      "       0.07417407, 0.07582043, 0.04187035]), 'mean_score_time': array([2.73123805, 2.74443849, 2.75804774, 2.74867662, 2.71977822,\n",
      "       2.74850909, 2.71908847, 2.74854501]), 'std_score_time': array([0.0020907 , 0.01255405, 0.03135129, 0.00925698, 0.00378589,\n",
      "       0.01230414, 0.00154085, 0.01284134]), 'param_C': masked_array(data=[0.5, 0.5, 0.5, 0.5, 0.75, 0.75, 0.75, 0.75],\n",
      "             mask=[False, False, False, False, False, False, False, False],\n",
      "       fill_value='?',\n",
      "            dtype=object), 'param_gamma': masked_array(data=[0.0, 0.0, 0.1, 0.1, 0.0, 0.0, 0.1, 0.1],\n",
      "             mask=[False, False, False, False, False, False, False, False],\n",
      "       fill_value='?',\n",
      "            dtype=object), 'param_kernel': masked_array(data=['linear', 'poly', 'linear', 'poly', 'linear', 'poly',\n",
      "                   'linear', 'poly'],\n",
      "             mask=[False, False, False, False, False, False, False, False],\n",
      "       fill_value='?',\n",
      "            dtype=object), 'params': [{'C': 0.5, 'gamma': 0.0, 'kernel': 'linear'}, {'C': 0.5, 'gamma': 0.0, 'kernel': 'poly'}, {'C': 0.5, 'gamma': 0.1, 'kernel': 'linear'}, {'C': 0.5, 'gamma': 0.1, 'kernel': 'poly'}, {'C': 0.75, 'gamma': 0.0, 'kernel': 'linear'}, {'C': 0.75, 'gamma': 0.0, 'kernel': 'poly'}, {'C': 0.75, 'gamma': 0.1, 'kernel': 'linear'}, {'C': 0.75, 'gamma': 0.1, 'kernel': 'poly'}], 'split0_test_score': array([0.875     , 0.05      , 0.875     , 0.63333333, 0.93333333,\n",
      "       0.05      , 0.93333333, 0.63333333]), 'split1_test_score': array([0.86666667, 0.05      , 0.86666667, 0.59166667, 0.91666667,\n",
      "       0.05      , 0.91666667, 0.59166667]), 'split2_test_score': array([0.83333333, 0.05      , 0.83333333, 0.675     , 0.86666667,\n",
      "       0.05      , 0.86666667, 0.675     ]), 'mean_test_score': array([0.85833333, 0.05      , 0.85833333, 0.63333333, 0.90555556,\n",
      "       0.05      , 0.90555556, 0.63333333]), 'std_test_score': array([0.01800206, 0.        , 0.01800206, 0.03402069, 0.02832789,\n",
      "       0.        , 0.02832789, 0.03402069]), 'rank_test_score': array([3, 7, 3, 5, 1, 7, 1, 5], dtype=int32), 'split0_train_score': array([1.  , 0.05, 1.  , 1.  , 1.  , 0.05, 1.  , 1.  ]), 'split1_train_score': array([0.99583333, 0.05      , 0.99583333, 1.        , 1.        ,\n",
      "       0.05      , 1.        , 1.        ]), 'split2_train_score': array([0.99166667, 0.05      , 0.99166667, 0.99583333, 1.        ,\n",
      "       0.05      , 1.        , 0.99583333]), 'mean_train_score': array([0.99583333, 0.05      , 0.99583333, 0.99861111, 1.        ,\n",
      "       0.05      , 1.        , 0.99861111]), 'std_train_score': array([3.40206909e-03, 6.93889390e-18, 3.40206909e-03, 1.96418550e-03,\n",
      "       0.00000000e+00, 6.93889390e-18, 0.00000000e+00, 1.96418550e-03])}\n"
     ]
    }
   ],
   "source": [
    "results = grid_search.cv_results_\n",
    "print(results)"
   ]
  },
  {
   "cell_type": "code",
   "execution_count": 386,
   "metadata": {
    "scrolled": true
   },
   "outputs": [
    {
     "name": "stdout",
     "output_type": "stream",
     "text": [
      "Grid best score:\n",
      "0.9055555555555556\n"
     ]
    }
   ],
   "source": [
    "print(\"Grid best score:\")\n",
    "print (grid_search.best_score_)\n"
   ]
  },
  {
   "cell_type": "markdown",
   "metadata": {},
   "source": [
    "### Display results"
   ]
  },
  {
   "cell_type": "code",
   "execution_count": 388,
   "metadata": {},
   "outputs": [],
   "source": [
    "from IPython.display import HTML, display\n",
    "\n",
    "\n",
    "def dispResults(results):\n",
    "    for sample, style in (('train', '--'), ('test', '-')):\n",
    "            sample_score_mean = results['mean_%s_score' % (sample)]\n",
    "            sample_score_std = results['std_%s_score' % (sample)]\n",
    "\n",
    "    params = results['params']\n",
    "    # print(sample_score_mean)\n",
    "    # print(sample_score_std)\n",
    "    # print(params)\n",
    "\n",
    "    for param in params:\n",
    "        if param == grid_search.best_params_:\n",
    "            print(\"***\", param, '***')\n",
    "        else:\n",
    "            print(param)\n",
    "\n",
    "\n",
    "\n",
    "\n",
    "    # Build table header\n",
    "    tableHeader = '<tr>'    \n",
    "    for item in [\"Nr\", \"Parameters\", \"Score mean (MSE)\", \"Score std (Variance)\"]:\n",
    "        tableHeader += '<th>' + item  + '</th>'\n",
    "    tableHeader += '</tr>'\n",
    "\n",
    "    data_rows = ''\n",
    "\n",
    "    for idx, param in enumerate(params):\n",
    "        data_row = '<tr>'\n",
    "\n",
    "        if param == grid_search.best_params_:\n",
    "            data_row = '<tr style=\"font-weight:bold; color:red;\">'\n",
    "\n",
    "        data_row += '<td>' + str(idx+1) + '</td>'\n",
    "        data_row += '<td>' + str(param) + '</td>'\n",
    "        data_row += '<td>' + str(sample_score_mean[idx]) + '</td>'\n",
    "        data_row += '<td>' + str(sample_score_std[idx]) + '</td>'\n",
    "\n",
    "\n",
    "        data_row += '</tr>'\n",
    "\n",
    "        data_rows += data_row\n",
    "\n",
    "    HTML_code = '<table style=\"border: 1px solid black\">'+tableHeader+ data_rows + '</table>' \n",
    "\n",
    "    display(HTML(HTML_code))"
   ]
  },
  {
   "cell_type": "code",
   "execution_count": 389,
   "metadata": {},
   "outputs": [
    {
     "name": "stdout",
     "output_type": "stream",
     "text": [
      "{'C': 0.5, 'gamma': 0.0, 'kernel': 'linear'}\n",
      "{'C': 0.5, 'gamma': 0.0, 'kernel': 'poly'}\n",
      "{'C': 0.5, 'gamma': 0.1, 'kernel': 'linear'}\n",
      "{'C': 0.5, 'gamma': 0.1, 'kernel': 'poly'}\n",
      "*** {'C': 0.75, 'gamma': 0.0, 'kernel': 'linear'} ***\n",
      "{'C': 0.75, 'gamma': 0.0, 'kernel': 'poly'}\n",
      "{'C': 0.75, 'gamma': 0.1, 'kernel': 'linear'}\n",
      "{'C': 0.75, 'gamma': 0.1, 'kernel': 'poly'}\n"
     ]
    },
    {
     "data": {
      "text/html": [
       "<table style=\"border: 1px solid black\"><tr><th>Nr</th><th>Parameters</th><th>Score mean (MSE)</th><th>Score std (Variance)</th></tr><tr><td>1</td><td>{'C': 0.5, 'gamma': 0.0, 'kernel': 'linear'}</td><td>0.8583333333333333</td><td>0.018002057495577376</td></tr><tr><td>2</td><td>{'C': 0.5, 'gamma': 0.0, 'kernel': 'poly'}</td><td>0.05</td><td>0.0</td></tr><tr><td>3</td><td>{'C': 0.5, 'gamma': 0.1, 'kernel': 'linear'}</td><td>0.8583333333333333</td><td>0.018002057495577376</td></tr><tr><td>4</td><td>{'C': 0.5, 'gamma': 0.1, 'kernel': 'poly'}</td><td>0.6333333333333333</td><td>0.0340206908719886</td></tr><tr style=\"font-weight:bold; color:red;\"><td>5</td><td>{'C': 0.75, 'gamma': 0.0, 'kernel': 'linear'}</td><td>0.9055555555555556</td><td>0.02832788618662657</td></tr><tr><td>6</td><td>{'C': 0.75, 'gamma': 0.0, 'kernel': 'poly'}</td><td>0.05</td><td>0.0</td></tr><tr><td>7</td><td>{'C': 0.75, 'gamma': 0.1, 'kernel': 'linear'}</td><td>0.9055555555555556</td><td>0.02832788618662657</td></tr><tr><td>8</td><td>{'C': 0.75, 'gamma': 0.1, 'kernel': 'poly'}</td><td>0.6333333333333333</td><td>0.0340206908719886</td></tr></table>"
      ],
      "text/plain": [
       "<IPython.core.display.HTML object>"
      ]
     },
     "metadata": {},
     "output_type": "display_data"
    }
   ],
   "source": [
    "dispResults(results)"
   ]
  },
  {
   "cell_type": "markdown",
   "metadata": {},
   "source": [
    "## Using PCA"
   ]
  },
  {
   "cell_type": "markdown",
   "metadata": {},
   "source": [
    "### Transform data to array"
   ]
  },
  {
   "cell_type": "code",
   "execution_count": 390,
   "metadata": {},
   "outputs": [],
   "source": [
    "X_train = X_train.toarray()"
   ]
  },
  {
   "cell_type": "code",
   "execution_count": 391,
   "metadata": {},
   "outputs": [],
   "source": [
    "X_test = X_test.toarray()"
   ]
  },
  {
   "cell_type": "markdown",
   "metadata": {},
   "source": [
    "### Apply PCA "
   ]
  },
  {
   "cell_type": "code",
   "execution_count": 396,
   "metadata": {},
   "outputs": [],
   "source": [
    "from sklearn.decomposition import PCA\n",
    "pca = PCA()\n",
    "    \n",
    "def applyPCA(X, n_components=None, test=False):\n",
    "    global pca\n",
    "    \n",
    "    if test==True:\n",
    "        X = pca.transform(X)    \n",
    "    else:\n",
    "        pca = PCA(n_components=n_components)\n",
    "        X = pca.fit_transform(X)\n",
    "    print(pca.singular_values_) \n",
    "    return X"
   ]
  },
  {
   "cell_type": "code",
   "execution_count": 397,
   "metadata": {
    "scrolled": true
   },
   "outputs": [
    {
     "name": "stdout",
     "output_type": "stream",
     "text": [
      "[3.35204433 2.8013351 ]\n"
     ]
    }
   ],
   "source": [
    "X_train_PCA = applyPCA(X_train, n_components=2)"
   ]
  },
  {
   "cell_type": "code",
   "execution_count": 53,
   "metadata": {},
   "outputs": [
    {
     "name": "stdout",
     "output_type": "stream",
     "text": [
      "[[  1.07923218e+02  -7.57269770e+02]\n",
      " [  4.73051732e+02   1.43126585e+02]\n",
      " [  8.38800557e+01   1.61662084e+03]\n",
      " [  3.57965133e+02   5.11606343e+02]\n",
      " [  7.44042220e+02  -7.17957195e+02]\n",
      " [ -1.16883530e+03  -8.35395484e+02]\n",
      " [ -9.15538768e+02   2.04103638e+02]\n",
      " [  3.63573729e+02  -1.44165899e+02]\n",
      " [  4.27796666e+02   1.56434061e+03]\n",
      " [  1.41185056e+02   1.56230760e+03]\n",
      " [ -4.06800830e+02  -9.71866665e+01]\n",
      " [  3.92409248e+02   1.56192647e+03]\n",
      " [  2.18335153e+02  -1.18590756e+01]\n",
      " [  2.18134229e+02   4.75659595e+02]\n",
      " [  2.35300433e+02  -2.88334283e+02]\n",
      " [ -9.12383792e+02   5.17961918e+02]\n",
      " [  1.07861058e+03  -3.15087938e+02]\n",
      " [  5.38430704e+02   7.22160944e+02]\n",
      " [ -9.85468256e+02  -3.48412766e+02]\n",
      " [  1.21140273e+03  -9.11722420e+02]\n",
      " [  1.18363980e+03   1.94010180e+03]\n",
      " [  4.64841183e+03   5.15297712e+03]\n",
      " [  9.85817381e+02   1.79071854e+03]\n",
      " [ -2.35153425e+03   4.32208672e+02]\n",
      " [  2.29436414e+02  -3.40161308e+02]\n",
      " [ -1.81146786e+03  -1.11944656e+03]\n",
      " [  6.81009612e+01  -4.49964756e+02]\n",
      " [  2.87597835e+02   1.49728300e+03]\n",
      " [  1.34036344e+03  -3.73951312e+02]\n",
      " [ -1.92767303e+03   2.02937229e+02]\n",
      " [  2.33535331e+02  -1.16119073e+03]\n",
      " [ -1.82905743e+03   4.98449458e+02]\n",
      " [ -1.05574563e+03  -1.53604327e+02]\n",
      " [  9.21743226e+02  -4.31641512e+02]\n",
      " [  6.73411546e+01  -1.02721412e+02]\n",
      " [ -7.94560976e+02   4.54158191e+02]\n",
      " [ -2.05077647e+02  -4.24964299e+02]\n",
      " [  4.29940538e+02  -8.25775463e+02]\n",
      " [ -9.63110793e+02   8.70982959e+02]\n",
      " [ -7.69221701e+02  -3.16116557e+02]\n",
      " [ -2.17996643e+03   6.55864503e+02]\n",
      " [  7.75773238e+02  -2.49332065e+01]\n",
      " [ -5.19465744e+02  -1.00105801e+03]\n",
      " [  1.01420377e+03  -7.43924959e+02]\n",
      " [ -9.46460775e+02  -7.91013986e+02]\n",
      " [ -2.36574738e+03   5.56343424e+02]\n",
      " [ -5.67085933e+02   4.64737646e+02]\n",
      " [  5.13191680e+02  -5.73729186e+02]\n",
      " [  2.44009270e+03  -2.08548296e+02]\n",
      " [ -1.53991270e+03  -6.07834344e+02]\n",
      " [ -1.18951156e+02   1.82769318e+03]\n",
      " [  1.45663359e+03  -6.02171568e+02]\n",
      " [ -1.04847621e+03   3.54956449e+02]\n",
      " [  1.86505996e+03  -2.80462945e+02]\n",
      " [ -4.67694699e+02  -5.90508547e+02]\n",
      " [ -3.96819268e+02   1.18140686e+03]\n",
      " [  9.99410485e+02  -2.14367866e+02]\n",
      " [  2.83832882e+02   2.60414919e+02]\n",
      " [  1.15767612e+03  -6.72310056e+02]\n",
      " [  1.16147594e+03  -2.90343271e+02]\n",
      " [ -1.74065825e+03  -1.12388653e+03]\n",
      " [  2.06515645e+02   4.06439323e+02]\n",
      " [  7.51284288e+02  -4.09502183e+01]\n",
      " [  8.54223334e+00  -7.28508437e+02]\n",
      " [  1.26117472e+03  -1.26027309e+03]\n",
      " [ -5.13826894e+02  -9.37311129e+02]\n",
      " [ -1.41217196e+03   3.08853889e+02]\n",
      " [ -3.53423087e+02  -5.35175702e+02]\n",
      " [ -1.98671975e+03   8.77045434e+02]\n",
      " [  3.01460502e+01  -4.97829233e+02]\n",
      " [  1.24380698e+03  -8.52742928e+02]\n",
      " [ -3.76628557e+01  -1.47578876e+03]\n",
      " [ -2.71614252e+02  -8.65089759e+02]\n",
      " [  5.94668588e+02   1.62371669e+03]\n",
      " [  2.04870868e+03  -2.50290315e+02]\n",
      " [  2.20111195e+03  -3.48679860e+02]\n",
      " [  1.43631598e+03  -8.26705357e+02]\n",
      " [ -5.86183001e+02  -4.57176213e+01]\n",
      " [ -2.90270062e+02  -5.51879305e+02]\n",
      " [ -1.77767326e+03   4.38452335e+02]\n",
      " [ -1.12181398e+03  -6.58044442e+02]\n",
      " [  1.02668553e+03  -1.18963388e+03]\n",
      " [  5.23329368e+02  -8.32409394e+02]\n",
      " [ -4.96961547e+02  -9.25283957e+02]\n",
      " [ -7.99642863e+02   3.40355935e+02]\n",
      " [  2.89800897e+02   3.94124908e+02]\n",
      " [ -3.21757981e+03   9.72664477e+02]\n",
      " [  1.13292786e+02  -3.16157405e+02]\n",
      " [  2.52230752e+03   1.26621238e+02]\n",
      " [ -2.28102957e+03   9.43356193e+02]\n",
      " [  7.69393898e+02   1.12428167e+03]\n",
      " [ -1.31328567e+03   6.74539824e+00]\n",
      " [  1.80182087e+02  -9.45318030e+02]\n",
      " [ -2.34168891e+03   1.06847239e+03]\n",
      " [  4.42603673e+01  -6.93620943e+02]\n",
      " [  1.05000524e+03  -7.68894016e+02]\n",
      " [  4.01446696e+02  -1.03418095e+03]\n",
      " [ -6.79452387e+02  -1.37711013e+02]\n",
      " [ -1.70955484e+03  -1.38666186e+03]\n",
      " [ -1.54707754e+03  -7.27534008e+02]\n",
      " [ -7.97356387e+02  -7.10778559e+01]\n",
      " [ -6.67360135e+02  -4.31007934e+02]\n",
      " [ -2.18101244e+03   1.03261750e+03]\n",
      " [  1.78458940e+03  -1.05949693e+03]\n",
      " [ -1.86614468e+03   1.44544785e+03]\n",
      " [  2.33950811e+03   1.78791494e+02]\n",
      " [ -5.13296840e+02  -1.18557125e+03]\n",
      " [  5.69449461e+02   1.42733616e+03]\n",
      " [  5.24582939e+02  -8.85941616e+02]\n",
      " [  1.13158009e+02  -1.04257887e+03]\n",
      " [  2.08221271e+03  -2.90784471e+02]\n",
      " [  1.02077792e+03   2.21989153e+02]\n",
      " [ -1.30762399e+02   1.95709242e+03]\n",
      " [  4.64240458e+02  -7.52086258e+02]\n",
      " [ -7.33479028e+01  -4.40402713e+02]\n",
      " [  1.15312096e+03   5.31486807e+01]\n",
      " [  1.28980730e+03  -5.74803739e+02]\n",
      " [ -3.99980930e+02  -6.09221492e+02]\n",
      " [  1.09079122e+03  -1.23428404e+03]\n",
      " [ -1.12515484e+03   8.42635479e+01]\n",
      " [  6.45214131e+01  -1.01211889e+03]\n",
      " [  2.49621764e+03   2.45146028e+02]\n",
      " [  1.86199899e+03  -2.39517148e+02]\n",
      " [  1.19841850e+03  -6.01151378e+02]\n",
      " [  1.45592562e+02  -5.49029260e+02]\n",
      " [ -6.92368474e+02   1.95980721e+02]\n",
      " [  4.27175232e+02  -4.80990056e+02]\n",
      " [ -2.21662106e+03   1.03334641e+03]\n",
      " [ -1.08343432e+03   1.06343573e+03]\n",
      " [ -1.69443067e+03  -1.02776105e+03]\n",
      " [ -6.16248922e+02   1.74051237e+02]\n",
      " [ -2.56471219e+03   1.38959829e+03]\n",
      " [  2.99107395e+02  -3.77939427e+02]\n",
      " [  2.43064926e+02   1.30501428e+03]\n",
      " [ -2.79480856e+02  -5.75669584e+02]\n",
      " [ -1.42788005e+03   5.62431380e+01]\n",
      " [ -6.56532452e+02   1.68699897e+02]\n",
      " [  2.58218152e+03  -1.96428236e+02]\n",
      " [  1.27343804e+03  -4.55133839e+02]\n",
      " [  5.90247269e+02  -6.70653606e+02]\n",
      " [  7.37488521e+02  -3.02629121e+02]\n",
      " [  1.89726924e+03   3.40610020e+03]\n",
      " [  1.00032183e+03  -5.51360245e+02]\n",
      " [ -8.78553723e+02  -1.41277554e+02]\n",
      " [ -2.88299650e+03   1.10986145e+03]\n",
      " [ -6.45752057e+02  -6.64650260e+01]\n",
      " [  1.10631091e+03  -4.15260655e+02]\n",
      " [ -5.03489679e+02  -6.68272297e+02]\n",
      " [  5.34505955e+02  -9.02445858e+02]\n",
      " [  1.79807601e+03  -3.57898211e+02]\n",
      " [  1.06976677e+03   3.30899344e+00]\n",
      " [  8.96988830e+02  -3.91333395e+02]\n",
      " [  5.45092768e+02  -2.61156363e+02]\n",
      " [ -1.42108818e+01  -2.13717269e+02]\n",
      " [  6.22636384e+02  -3.20592941e+02]\n",
      " [  9.28212532e+02   2.00731389e+01]\n",
      " [ -1.49579609e+03  -1.17963416e+03]\n",
      " [  1.41212894e+03  -3.26894372e+02]\n",
      " [ -9.79696393e+01  -1.62778555e+01]\n",
      " [  4.01159915e+02  -4.80449335e+02]\n",
      " [  3.51040514e+02  -3.49314347e+02]\n",
      " [  1.74311274e+02   1.14332918e+03]\n",
      " [  1.20823650e+03  -1.06494086e+03]\n",
      " [  1.43228023e+03  -8.60489782e+02]\n",
      " [ -4.69326668e+02  -1.96780198e+02]\n",
      " [ -1.58516171e+03   1.46161951e+02]\n",
      " [ -6.85975858e+02  -3.98422924e+01]\n",
      " [  1.18598155e+03  -5.80738513e+02]\n",
      " [  7.61698545e+02  -5.51813390e+02]\n",
      " [  6.14333905e+02  -6.63435524e+02]\n",
      " [ -1.33690910e+03  -1.65556373e+03]\n",
      " [ -1.37405299e+03   6.97167447e+02]\n",
      " [  4.30463812e+02   1.23666127e+03]\n",
      " [  1.26715606e+03   2.03715157e+03]\n",
      " [ -1.30193031e+02   1.53797415e+03]\n",
      " [  1.04831458e+03  -1.58464979e+02]\n",
      " [  6.19444146e+02  -1.11752663e+02]\n",
      " [ -1.04842314e+03  -1.23521005e+03]\n",
      " [  2.12507919e+03  -3.62592236e+02]\n",
      " [  1.04493075e+03  -7.82600582e+01]\n",
      " [ -6.57011504e+02  -1.15366477e+03]\n",
      " [  6.14598860e+02  -1.36814428e+02]\n",
      " [ -1.29594374e+03   3.42285458e+02]\n",
      " [ -1.52705802e+03   3.45836114e+02]\n",
      " [ -5.90396168e+02  -3.06108888e+02]\n",
      " [  1.18578136e+03  -3.31617645e+01]\n",
      " [  5.13371889e+02   7.43962426e+02]\n",
      " [ -5.99691797e+02   3.66373589e+02]\n",
      " [  5.65535266e+02  -1.45893728e+03]\n",
      " [ -8.54147967e+02   4.09428181e+00]\n",
      " [ -1.21489406e+03   8.96182435e+02]\n",
      " [  5.96290872e+01  -1.50274200e+03]\n",
      " [  1.61366723e+03  -2.00890911e+02]\n",
      " [ -3.46331478e+02  -6.47940751e+01]\n",
      " [  1.21518720e+03  -1.54622634e+03]\n",
      " [ -2.43748597e+03   7.82898450e+02]\n",
      " [  5.64963579e+01  -7.15275906e+02]\n",
      " [ -1.62374798e+03  -1.18090874e+03]\n",
      " [  7.03473350e+02  -6.27974091e+02]\n",
      " [  1.42674594e+03  -3.50324652e+02]\n",
      " [ -4.57829155e+02   4.84519211e+02]\n",
      " [ -9.06300112e+02   9.20700297e+02]\n",
      " [ -1.28341974e+03  -8.76420743e+02]\n",
      " [  4.22269411e+02  -9.24492139e+01]\n",
      " [  1.14111561e+03  -9.87546065e+02]\n",
      " [ -1.49041132e+03   4.71905002e+02]\n",
      " [ -2.42540753e+03   7.43180716e+02]\n",
      " [  2.09634478e+03   1.90028946e+02]\n",
      " [ -2.51721627e+03   1.45181236e+02]\n",
      " [ -2.02675635e+03   1.20735412e+03]\n",
      " [ -4.32542079e+02  -7.75180735e+02]\n",
      " [ -1.69408192e+02  -7.09147421e+02]\n",
      " [  6.80739602e+02  -6.58098403e+02]\n",
      " [ -2.10711156e+02   1.40881778e+03]\n",
      " [  5.11022854e+02  -1.39675926e+03]\n",
      " [ -2.16886597e+03  -4.53835160e+02]\n",
      " [  1.41120892e+02  -8.00733765e+02]\n",
      " [ -2.51643391e+03   1.49630595e+02]\n",
      " [ -1.75103596e+03  -1.29938400e+03]\n",
      " [  1.71075844e+03  -7.21998683e+02]\n",
      " [ -1.28163465e+03  -1.05376050e+03]\n",
      " [  1.94617606e+03  -3.47475028e+02]\n",
      " [ -1.05130815e+03  -2.97907690e+02]\n",
      " [ -2.49397071e+03   8.35202221e+02]\n",
      " [  1.84378246e+03  -1.80516550e+01]\n",
      " [ -1.88407910e+03   4.27412441e+02]\n",
      " [  3.62932867e+02  -3.40030888e+02]\n",
      " [  1.55646993e+03  -4.24838762e+02]\n",
      " [ -1.07409061e+03   3.50848370e+02]\n",
      " [  1.16851590e+03  -4.99710937e+02]\n",
      " [ -6.85644534e+02  -8.74158290e+02]\n",
      " [  1.50206706e+03   2.56108894e+03]\n",
      " [ -2.75389383e+03   1.28769948e+03]\n",
      " [  1.52283112e+03  -8.37203834e+02]\n",
      " [  3.40688501e+02  -7.24550441e+02]\n",
      " [ -4.52877757e+02   1.37080121e+02]\n",
      " [  1.73092324e+01   2.90864805e+01]\n",
      " [  9.63949967e+02   1.52369011e+03]\n",
      " [ -1.77386752e+03   1.57409729e+03]\n",
      " [ -2.00759949e+03   7.40921269e+02]\n",
      " [  1.18364871e+03  -1.83715516e+03]\n",
      " [  7.78934408e+02  -1.35686632e+03]\n",
      " [  1.65906761e+03   1.49104321e+03]\n",
      " [ -6.22709059e+02  -1.96623313e+02]\n",
      " [  6.63915245e+02   1.76369021e+03]\n",
      " [  7.66760828e+02  -6.95112622e+02]\n",
      " [ -1.11134994e+03   6.58815119e+01]\n",
      " [ -1.17976888e+03   1.45514502e+03]\n",
      " [  1.38747118e+03  -4.92074122e+02]\n",
      " [ -3.47882936e+02   1.66799505e+03]\n",
      " [ -7.47974094e+02  -1.77889801e+02]\n",
      " [  7.75274523e+02  -1.45282612e+03]\n",
      " [  4.91343769e+02  -6.66810931e+02]\n",
      " [  1.61886614e+03   1.48982348e+02]\n",
      " [  4.46587347e+03   4.78406892e+03]\n",
      " [  4.84252548e+02  -7.12922982e+02]\n",
      " [  9.41198782e+01   1.43895785e+03]\n",
      " [  3.65831344e+02  -1.77443878e+02]\n",
      " [ -2.50217633e+03   8.74119041e+02]\n",
      " [ -4.39111346e+02  -5.37414610e+02]\n",
      " [  1.87537334e+01   2.33189476e+02]\n",
      " [  3.82229484e+02   3.92659132e+02]\n",
      " [  9.64374184e+02  -1.24113146e+03]\n",
      " [ -1.05775735e+03  -1.31730339e+03]\n",
      " [ -3.23093429e+02  -6.34254511e+02]\n",
      " [  1.69089992e+03   2.45684057e+02]\n",
      " [  3.79303793e+02   1.33302074e+03]\n",
      " [  9.61751820e+02  -6.44436906e+02]\n",
      " [  1.20010906e+02  -2.94904760e+02]\n",
      " [ -1.05946598e+01   1.15930823e+03]\n",
      " [  9.24946121e+02   1.49832352e+02]\n",
      " [  3.73158669e+02  -8.43092496e+02]\n",
      " [  2.31386191e+03   7.42934420e+02]\n",
      " [  1.86083117e+03  -8.77286711e+02]\n",
      " [  1.83790951e+03  -1.57953811e+03]\n",
      " [  1.96759500e+03  -2.11369840e+02]\n",
      " [  8.20866345e+02  -6.58133924e+02]\n",
      " [  1.55625219e+03   2.68453801e+02]\n",
      " [ -2.14132703e+03   9.70202385e+02]\n",
      " [ -9.12162872e+02  -1.18956796e+03]\n",
      " [ -4.62959878e+02  -6.12092806e+02]\n",
      " [ -2.80982686e+03   1.29610112e+03]\n",
      " [  1.72489583e+02  -1.62332533e+02]\n",
      " [ -1.79585757e+03  -9.40375878e+02]\n",
      " [  1.08651271e+03  -7.57438846e+02]\n",
      " [  1.82702706e+03  -1.86169927e+02]\n",
      " [  1.07443245e+03   1.18353883e+03]\n",
      " [ -3.51101899e+02  -2.54224008e+03]\n",
      " [  1.53933794e+03  -1.06356200e+03]\n",
      " [ -1.78092235e+03  -7.55963142e-01]\n",
      " [ -1.63342289e+03   2.77039539e+02]\n",
      " [ -3.52947871e+02  -2.34591425e+02]\n",
      " [ -1.77806209e+02  -4.77070335e+02]\n",
      " [  1.84239998e+02  -3.16490406e+02]\n",
      " [ -7.41829489e+02   2.71174466e+02]\n",
      " [ -1.72542247e+03   3.32670415e+02]\n",
      " [  6.97552840e+02   1.66784711e+03]\n",
      " [ -2.46459972e+03   6.00204800e+02]\n",
      " [  1.83962801e+02  -5.99957903e+02]\n",
      " [ -1.54478102e+03  -8.35177427e+02]\n",
      " [ -2.20943924e+03   7.24197952e+02]\n",
      " [  2.76781465e+03  -1.26957494e+02]\n",
      " [  5.23517109e+01   4.18811210e+02]\n",
      " [ -1.23302656e+03   2.01723066e+02]\n",
      " [ -1.81745618e+01   3.81406899e+02]\n",
      " [  5.41712914e+02  -7.13778608e+02]\n",
      " [ -2.08159384e+03   1.19862631e+03]\n",
      " [ -1.92654346e+03   6.89168975e+02]\n",
      " [  1.69274751e+02   1.24096087e+03]\n",
      " [  1.57594271e+03   2.09316147e+03]\n",
      " [ -1.10853904e+03   1.08527802e+02]\n",
      " [  6.54423671e+02  -1.33245445e+02]\n",
      " [ -9.43216592e+02  -4.72152528e+01]\n",
      " [  1.87553363e+03   5.13674281e+01]\n",
      " [ -4.28219612e+02   2.04521752e+01]\n",
      " [ -7.88117886e+02   8.46175041e+02]\n",
      " [ -4.75322454e+02  -1.08017007e+03]\n",
      " [  2.45545343e+03   1.40215569e+02]\n",
      " [ -3.62852177e+02  -1.27868044e+03]\n",
      " [  4.23288218e+02  -2.47708185e+02]\n",
      " [ -2.94091828e+01  -7.15695694e+02]\n",
      " [ -2.11623398e+03   8.92410630e+02]\n",
      " [  2.36101346e+03  -1.72226884e+02]\n",
      " [ -1.12791243e+03   8.45499958e+02]\n",
      " [  8.32085721e+02   4.90829057e+01]\n",
      " [  1.95809635e+03  -1.07166984e+03]\n",
      " [  5.54521579e+00  -9.33022765e+02]\n",
      " [  6.91571161e+02   1.70621653e+03]\n",
      " [ -3.17780584e+02  -3.04426944e+02]\n",
      " [ -2.39956440e+03  -3.95850453e+01]\n",
      " [ -7.81784760e+02   4.98493990e+01]\n",
      " [ -3.75213511e+02   1.70838688e+03]\n",
      " [  1.40273649e+03  -7.38842265e+02]\n",
      " [  1.78947921e+03   1.93374043e+02]\n",
      " [  2.15934886e+03  -4.79179399e+02]\n",
      " [ -1.06305478e+03   3.44879701e+02]\n",
      " [ -2.07458645e+03  -1.62245628e+02]\n",
      " [  1.82365573e+03   4.37731408e+03]\n",
      " [  1.38280315e+02   1.35230169e+03]\n",
      " [  2.06525111e+03  -3.64453698e+02]\n",
      " [  2.89267588e+02  -3.65269543e+02]\n",
      " [  7.44632958e+02   1.27351002e+02]\n",
      " [  1.03856289e+03  -4.13048492e+02]\n",
      " [  1.57278785e+03  -4.38856701e+02]\n",
      " [ -1.06995834e+03  -5.83650567e+02]\n",
      " [  1.65449837e+03   1.93049186e+02]\n",
      " [  1.43137690e+03  -6.50131950e+02]\n",
      " [ -2.12698533e+03   8.42326348e+02]\n",
      " [  3.60096575e+03   4.82406454e+03]\n",
      " [  1.44639724e+03  -6.32313003e+02]\n",
      " [ -3.37363009e+03  -7.15563236e+02]\n",
      " [  1.52126728e+02  -1.72731248e+02]\n",
      " [ -2.84596205e+03  -6.24613293e+02]\n",
      " [  4.47880754e+02   1.34101063e+03]\n",
      " [ -1.49159991e+03  -1.37779228e+03]\n",
      " [  2.28765228e+02  -6.73061012e+02]\n",
      " [ -3.25033561e+03   9.34697876e+02]\n",
      " [ -2.54374546e+03   9.99925534e+02]\n",
      " [ -2.48123486e+03   9.46188325e+02]\n",
      " [  1.16268406e+01  -1.15017292e+03]]\n"
     ]
    }
   ],
   "source": [
    "# print(X_train_PCA)"
   ]
  },
  {
   "cell_type": "code",
   "execution_count": 398,
   "metadata": {},
   "outputs": [
    {
     "name": "stdout",
     "output_type": "stream",
     "text": [
      "[3.35204433 2.8013351 ]\n"
     ]
    }
   ],
   "source": [
    "X_test_PCA = applyPCA(X_test, n_components=2,test=True)"
   ]
  },
  {
   "cell_type": "markdown",
   "metadata": {},
   "source": [
    "#### Plot"
   ]
  },
  {
   "cell_type": "code",
   "execution_count": 401,
   "metadata": {},
   "outputs": [
    {
     "data": {
      "text/plain": [
       "<matplotlib.collections.PathCollection at 0x7f56461307f0>"
      ]
     },
     "execution_count": 401,
     "metadata": {},
     "output_type": "execute_result"
    },
    {
     "data": {
      "image/png": "[encoded data removed]",
      "text/plain": [
       "<Figure size 432x288 with 1 Axes>"
      ]
     },
     "metadata": {
      "needs_background": "light"
     },
     "output_type": "display_data"
    }
   ],
   "source": [
    "plt.scatter(X_train_PCA[:,0], X_train_PCA[:,1], c=y_train)\n"
   ]
  },
  {
   "cell_type": "code",
   "execution_count": 402,
   "metadata": {},
   "outputs": [
    {
     "data": {
      "text/plain": [
       "<matplotlib.collections.PathCollection at 0x7f5646ff54a8>"
      ]
     },
     "execution_count": 402,
     "metadata": {},
     "output_type": "execute_result"
    },
    {
     "data": {
      "image/png": "[encoded data removed]",
      "text/plain": [
       "<Figure size 432x288 with 1 Axes>"
      ]
     },
     "metadata": {
      "needs_background": "light"
     },
     "output_type": "display_data"
    }
   ],
   "source": [
    "plt.scatter(X_test_PCA[:,0], X_test_PCA[:,1], c=y_test)\n"
   ]
  },
  {
   "cell_type": "markdown",
   "metadata": {},
   "source": [
    "### Apply TSNE"
   ]
  },
  {
   "cell_type": "code",
   "execution_count": 403,
   "metadata": {},
   "outputs": [],
   "source": [
    "from sklearn.manifold import TSNE\n",
    "\n",
    "def applyTSNE(X):\n",
    "    X = TSNE(n_components=2).fit_transform(X)\n",
    "    return X"
   ]
  },
  {
   "cell_type": "code",
   "execution_count": 404,
   "metadata": {},
   "outputs": [],
   "source": [
    "X_train_TSNE = applyTSNE(X_train)\n",
    "X_test_TSNE = applyTSNE(X_test)"
   ]
  },
  {
   "cell_type": "markdown",
   "metadata": {},
   "source": [
    "**Plot:**"
   ]
  },
  {
   "cell_type": "code",
   "execution_count": 405,
   "metadata": {},
   "outputs": [
    {
     "data": {
      "text/plain": [
       "<matplotlib.collections.PathCollection at 0x7f5646818dd8>"
      ]
     },
     "execution_count": 405,
     "metadata": {},
     "output_type": "execute_result"
    },
    {
     "data": {
      "image/png": "[encoded data removed]",
      "text/plain": [
       "<Figure size 432x288 with 1 Axes>"
      ]
     },
     "metadata": {
      "needs_background": "light"
     },
     "output_type": "display_data"
    }
   ],
   "source": [
    "plt.scatter(X_train_TSNE[:,0], X_train_TSNE[:,1], c=y_train)"
   ]
  },
  {
   "cell_type": "code",
   "execution_count": 407,
   "metadata": {},
   "outputs": [
    {
     "data": {
      "text/plain": [
       "<matplotlib.collections.PathCollection at 0x7f56467a35c0>"
      ]
     },
     "execution_count": 407,
     "metadata": {},
     "output_type": "execute_result"
    },
    {
     "data": {
      "image/png": "[encoded data removed]",
      "text/plain": [
       "<Figure size 432x288 with 1 Axes>"
      ]
     },
     "metadata": {
      "needs_background": "light"
     },
     "output_type": "display_data"
    }
   ],
   "source": [
    "plt.scatter(X_test_TSNE[:,0], X_test_TSNE[:,1], c=y_test)"
   ]
  },
  {
   "cell_type": "markdown",
   "metadata": {},
   "source": [
    "## Applying PCA in more dimensions to train"
   ]
  },
  {
   "cell_type": "code",
   "execution_count": 425,
   "metadata": {},
   "outputs": [
    {
     "name": "stdout",
     "output_type": "stream",
     "text": [
      "[3.35204433e+00 2.80133519e+00 2.65220093e+00 2.36947013e+00\n",
      " 2.21855891e+00 2.11369163e+00 1.96531365e+00 1.86783866e+00\n",
      " 1.81108089e+00 1.71055642e+00 1.65824870e+00 1.62678070e+00\n",
      " 1.61261464e+00 1.50556438e+00 1.46292249e+00 1.44870838e+00\n",
      " 1.38816035e+00 1.36572762e+00 1.33892240e+00 1.31638591e+00\n",
      " 1.29023019e+00 1.28098730e+00 1.26034004e+00 1.23958695e+00\n",
      " 1.23177926e+00 1.22483820e+00 1.21970374e+00 1.20948612e+00\n",
      " 1.20123863e+00 1.17670174e+00 1.17207662e+00 1.16553359e+00\n",
      " 1.15508648e+00 1.15417497e+00 1.13822514e+00 1.13063658e+00\n",
      " 1.12797859e+00 1.11779137e+00 1.11477475e+00 1.10996474e+00\n",
      " 1.09755570e+00 1.09395475e+00 1.08292584e+00 1.08101679e+00\n",
      " 1.07642317e+00 1.07450427e+00 1.07130969e+00 1.06518173e+00\n",
      " 1.05617866e+00 1.05336516e+00 1.04773505e+00 1.04060084e+00\n",
      " 1.03815282e+00 1.03660587e+00 1.03351219e+00 1.02527874e+00\n",
      " 1.02337566e+00 1.02141864e+00 1.01904771e+00 1.01724992e+00\n",
      " 1.01412914e+00 1.00833428e+00 1.00110181e+00 9.97289796e-01\n",
      " 9.94105793e-01 9.90518503e-01 9.88081081e-01 9.85838937e-01\n",
      " 9.82880419e-01 9.75199118e-01 9.72934194e-01 9.70305255e-01\n",
      " 9.67554595e-01 9.64548108e-01 9.61716305e-01 9.56095640e-01\n",
      " 9.53799595e-01 9.52264705e-01 9.50587842e-01 9.48578260e-01\n",
      " 9.46801540e-01 9.46386559e-01 9.44936277e-01 9.40795406e-01\n",
      " 9.37932447e-01 9.33426021e-01 9.32561895e-01 9.30464014e-01\n",
      " 9.29674848e-01 9.26918881e-01 9.25250118e-01 9.22521164e-01\n",
      " 9.22166037e-01 9.20465125e-01 9.18771420e-01 9.15501562e-01\n",
      " 9.14610038e-01 9.13315891e-01 9.13038233e-01 9.08901200e-01\n",
      " 9.07181971e-01 9.06256557e-01 9.05272237e-01 9.02805117e-01\n",
      " 9.00896894e-01 9.00087953e-01 8.97368989e-01 8.97099123e-01\n",
      " 8.95661742e-01 8.93969245e-01 8.91848964e-01 8.89849471e-01\n",
      " 8.87946177e-01 8.84314378e-01 8.81112078e-01 8.79188120e-01\n",
      " 8.76408415e-01 8.74028785e-01 8.73458494e-01 8.71447712e-01\n",
      " 8.69211737e-01 8.67372193e-01 8.61571022e-01 8.60153475e-01\n",
      " 8.58055459e-01 8.56862650e-01 8.55730334e-01 8.54993156e-01\n",
      " 8.51715065e-01 8.50160866e-01 8.48899716e-01 8.45251143e-01\n",
      " 8.42280038e-01 8.40386765e-01 8.36521263e-01 8.35094397e-01\n",
      " 8.33498082e-01 8.32438243e-01 8.31332135e-01 8.29144527e-01\n",
      " 8.26979227e-01 8.25337722e-01 8.23327408e-01 8.21168179e-01\n",
      " 8.19745236e-01 8.15505415e-01 8.14088690e-01 8.13471804e-01\n",
      " 8.10969141e-01 8.06586417e-01 8.06115479e-01 8.02731112e-01\n",
      " 8.02181432e-01 8.00435024e-01 7.99778883e-01 7.98251017e-01\n",
      " 7.96394974e-01 7.94270670e-01 7.93241680e-01 7.92116392e-01\n",
      " 7.88052694e-01 7.86052332e-01 7.84461893e-01 7.81735598e-01\n",
      " 7.81436926e-01 7.79572387e-01 7.74369145e-01 7.73097909e-01\n",
      " 7.70163235e-01 7.68247866e-01 7.66569922e-01 7.64631067e-01\n",
      " 7.63653619e-01 7.60286527e-01 7.58698664e-01 7.57205688e-01\n",
      " 7.56849094e-01 7.54409841e-01 7.52339540e-01 7.50763804e-01\n",
      " 7.49475584e-01 7.49088903e-01 7.46173976e-01 7.44683624e-01\n",
      " 7.43792281e-01 7.41375649e-01 7.38832373e-01 7.37616165e-01\n",
      " 7.34709647e-01 7.33442858e-01 7.32063133e-01 7.29208044e-01\n",
      " 7.27117463e-01 7.26511151e-01 7.24884927e-01 7.22040659e-01\n",
      " 7.19738589e-01 7.17939119e-01 7.14535151e-01 7.13720661e-01\n",
      " 7.11311602e-01 7.08913844e-01 7.06497691e-01 7.05563755e-01\n",
      " 7.02187144e-01 7.01078661e-01 6.99490206e-01 6.98742804e-01\n",
      " 6.95932513e-01 6.93471087e-01 6.90683243e-01 6.89451129e-01\n",
      " 6.87377706e-01 6.87104873e-01 6.85950133e-01 6.82617562e-01\n",
      " 6.81199271e-01 6.80702978e-01 6.78289382e-01 6.76238318e-01\n",
      " 6.75463149e-01 6.73501920e-01 6.69321043e-01 6.68885294e-01\n",
      " 6.65522588e-01 6.63569314e-01 6.62164575e-01 6.59800567e-01\n",
      " 6.58975326e-01 6.58102619e-01 6.52430750e-01 6.49370339e-01\n",
      " 6.47128821e-01 6.44465000e-01 6.44152195e-01 6.39869086e-01\n",
      " 6.39029379e-01 6.37114170e-01 6.33692466e-01 6.33614972e-01\n",
      " 6.32333718e-01 6.29570965e-01 6.28455306e-01 6.26440032e-01\n",
      " 6.23813469e-01 6.18150284e-01 6.16807994e-01 6.15290417e-01\n",
      " 6.13296462e-01 6.10184384e-01 6.06815597e-01 6.05886169e-01\n",
      " 6.05371777e-01 6.02661494e-01 6.01310195e-01 5.99850268e-01\n",
      " 5.97671219e-01 5.94771921e-01 5.92591359e-01 5.91068981e-01\n",
      " 5.88219169e-01 5.86028147e-01 5.83637407e-01 5.80875172e-01\n",
      " 5.80421611e-01 5.74267369e-01 5.70991780e-01 5.68513122e-01\n",
      " 5.64924045e-01 5.64459507e-01 5.62556280e-01 5.61162846e-01\n",
      " 5.57585464e-01 5.54597544e-01 5.53066444e-01 5.51643863e-01\n",
      " 5.50577197e-01 5.46754743e-01 5.45076583e-01 5.39329438e-01\n",
      " 5.37413223e-01 5.35591700e-01 5.33799394e-01 5.31233403e-01\n",
      " 5.28585759e-01 5.25729216e-01 5.23887874e-01 5.22343325e-01\n",
      " 5.16603328e-01 5.14919317e-01 5.13973394e-01 5.12907635e-01\n",
      " 5.11594410e-01 5.08679654e-01 5.07146571e-01 5.03735153e-01\n",
      " 5.02344367e-01 4.99391551e-01 4.98399461e-01 4.97564589e-01\n",
      " 4.94536518e-01 4.93346562e-01 4.89276971e-01 4.87446215e-01\n",
      " 4.85091881e-01 4.82588554e-01 4.81574796e-01 4.80112583e-01\n",
      " 4.76967180e-01 4.75723541e-01 4.74323190e-01 4.71436851e-01\n",
      " 4.69264605e-01 4.66783815e-01 4.66745849e-01 4.64926834e-01\n",
      " 4.64269108e-01 4.61793741e-01 4.58442508e-01 4.55686254e-01\n",
      " 4.53402225e-01 4.52242490e-01 4.50157422e-01 4.46729147e-01\n",
      " 4.43260465e-01 4.42868837e-01 4.41718858e-01 4.37765372e-01\n",
      " 4.34548000e-01 4.33864625e-01 4.29202679e-01 4.27996632e-01\n",
      " 4.23927472e-01 4.21326531e-01 4.17794644e-01 4.16462558e-01\n",
      " 4.13591654e-01 4.11940271e-01 4.10962570e-01 4.08490099e-01\n",
      " 4.07607423e-01 4.04458752e-01 3.92627761e-01 3.83100557e-01\n",
      " 3.80362628e-01 3.76307393e-01 3.69649760e-01 3.63315487e-01\n",
      " 3.57178785e-01 3.49214580e-01 3.33986115e-01 3.29284302e-01\n",
      " 3.28646611e-01 3.21099141e-01 3.16801688e-01 3.07261243e-01\n",
      " 2.89184343e-01 2.36180190e-01 1.87796190e-01 1.21963994e-14]\n",
      "[3.35204433e+00 2.80133519e+00 2.65220093e+00 2.36947013e+00\n",
      " 2.21855891e+00 2.11369163e+00 1.96531365e+00 1.86783866e+00\n",
      " 1.81108089e+00 1.71055642e+00 1.65824870e+00 1.62678070e+00\n",
      " 1.61261464e+00 1.50556438e+00 1.46292249e+00 1.44870838e+00\n",
      " 1.38816035e+00 1.36572762e+00 1.33892240e+00 1.31638591e+00\n",
      " 1.29023019e+00 1.28098730e+00 1.26034004e+00 1.23958695e+00\n",
      " 1.23177926e+00 1.22483820e+00 1.21970374e+00 1.20948612e+00\n",
      " 1.20123863e+00 1.17670174e+00 1.17207662e+00 1.16553359e+00\n",
      " 1.15508648e+00 1.15417497e+00 1.13822514e+00 1.13063658e+00\n",
      " 1.12797859e+00 1.11779137e+00 1.11477475e+00 1.10996474e+00\n",
      " 1.09755570e+00 1.09395475e+00 1.08292584e+00 1.08101679e+00\n",
      " 1.07642317e+00 1.07450427e+00 1.07130969e+00 1.06518173e+00\n",
      " 1.05617866e+00 1.05336516e+00 1.04773505e+00 1.04060084e+00\n",
      " 1.03815282e+00 1.03660587e+00 1.03351219e+00 1.02527874e+00\n",
      " 1.02337566e+00 1.02141864e+00 1.01904771e+00 1.01724992e+00\n",
      " 1.01412914e+00 1.00833428e+00 1.00110181e+00 9.97289796e-01\n",
      " 9.94105793e-01 9.90518503e-01 9.88081081e-01 9.85838937e-01\n",
      " 9.82880419e-01 9.75199118e-01 9.72934194e-01 9.70305255e-01\n",
      " 9.67554595e-01 9.64548108e-01 9.61716305e-01 9.56095640e-01\n",
      " 9.53799595e-01 9.52264705e-01 9.50587842e-01 9.48578260e-01\n",
      " 9.46801540e-01 9.46386559e-01 9.44936277e-01 9.40795406e-01\n",
      " 9.37932447e-01 9.33426021e-01 9.32561895e-01 9.30464014e-01\n",
      " 9.29674848e-01 9.26918881e-01 9.25250118e-01 9.22521164e-01\n",
      " 9.22166037e-01 9.20465125e-01 9.18771420e-01 9.15501562e-01\n",
      " 9.14610038e-01 9.13315891e-01 9.13038233e-01 9.08901200e-01\n",
      " 9.07181971e-01 9.06256557e-01 9.05272237e-01 9.02805117e-01\n",
      " 9.00896894e-01 9.00087953e-01 8.97368989e-01 8.97099123e-01\n",
      " 8.95661742e-01 8.93969245e-01 8.91848964e-01 8.89849471e-01\n",
      " 8.87946177e-01 8.84314378e-01 8.81112078e-01 8.79188120e-01\n",
      " 8.76408415e-01 8.74028785e-01 8.73458494e-01 8.71447712e-01\n",
      " 8.69211737e-01 8.67372193e-01 8.61571022e-01 8.60153475e-01\n",
      " 8.58055459e-01 8.56862650e-01 8.55730334e-01 8.54993156e-01\n",
      " 8.51715065e-01 8.50160866e-01 8.48899716e-01 8.45251143e-01\n",
      " 8.42280038e-01 8.40386765e-01 8.36521263e-01 8.35094397e-01\n",
      " 8.33498082e-01 8.32438243e-01 8.31332135e-01 8.29144527e-01\n",
      " 8.26979227e-01 8.25337722e-01 8.23327408e-01 8.21168179e-01\n",
      " 8.19745236e-01 8.15505415e-01 8.14088690e-01 8.13471804e-01\n",
      " 8.10969141e-01 8.06586417e-01 8.06115479e-01 8.02731112e-01\n",
      " 8.02181432e-01 8.00435024e-01 7.99778883e-01 7.98251017e-01\n",
      " 7.96394974e-01 7.94270670e-01 7.93241680e-01 7.92116392e-01\n",
      " 7.88052694e-01 7.86052332e-01 7.84461893e-01 7.81735598e-01\n",
      " 7.81436926e-01 7.79572387e-01 7.74369145e-01 7.73097909e-01\n",
      " 7.70163235e-01 7.68247866e-01 7.66569922e-01 7.64631067e-01\n",
      " 7.63653619e-01 7.60286527e-01 7.58698664e-01 7.57205688e-01\n",
      " 7.56849094e-01 7.54409841e-01 7.52339540e-01 7.50763804e-01\n",
      " 7.49475584e-01 7.49088903e-01 7.46173976e-01 7.44683624e-01\n",
      " 7.43792281e-01 7.41375649e-01 7.38832373e-01 7.37616165e-01\n",
      " 7.34709647e-01 7.33442858e-01 7.32063133e-01 7.29208044e-01\n",
      " 7.27117463e-01 7.26511151e-01 7.24884927e-01 7.22040659e-01\n",
      " 7.19738589e-01 7.17939119e-01 7.14535151e-01 7.13720661e-01\n",
      " 7.11311602e-01 7.08913844e-01 7.06497691e-01 7.05563755e-01\n",
      " 7.02187144e-01 7.01078661e-01 6.99490206e-01 6.98742804e-01\n",
      " 6.95932513e-01 6.93471087e-01 6.90683243e-01 6.89451129e-01\n",
      " 6.87377706e-01 6.87104873e-01 6.85950133e-01 6.82617562e-01\n",
      " 6.81199271e-01 6.80702978e-01 6.78289382e-01 6.76238318e-01\n",
      " 6.75463149e-01 6.73501920e-01 6.69321043e-01 6.68885294e-01\n",
      " 6.65522588e-01 6.63569314e-01 6.62164575e-01 6.59800567e-01\n",
      " 6.58975326e-01 6.58102619e-01 6.52430750e-01 6.49370339e-01\n",
      " 6.47128821e-01 6.44465000e-01 6.44152195e-01 6.39869086e-01\n",
      " 6.39029379e-01 6.37114170e-01 6.33692466e-01 6.33614972e-01\n",
      " 6.32333718e-01 6.29570965e-01 6.28455306e-01 6.26440032e-01\n",
      " 6.23813469e-01 6.18150284e-01 6.16807994e-01 6.15290417e-01\n",
      " 6.13296462e-01 6.10184384e-01 6.06815597e-01 6.05886169e-01\n",
      " 6.05371777e-01 6.02661494e-01 6.01310195e-01 5.99850268e-01\n",
      " 5.97671219e-01 5.94771921e-01 5.92591359e-01 5.91068981e-01\n",
      " 5.88219169e-01 5.86028147e-01 5.83637407e-01 5.80875172e-01\n",
      " 5.80421611e-01 5.74267369e-01 5.70991780e-01 5.68513122e-01\n",
      " 5.64924045e-01 5.64459507e-01 5.62556280e-01 5.61162846e-01\n",
      " 5.57585464e-01 5.54597544e-01 5.53066444e-01 5.51643863e-01\n",
      " 5.50577197e-01 5.46754743e-01 5.45076583e-01 5.39329438e-01\n",
      " 5.37413223e-01 5.35591700e-01 5.33799394e-01 5.31233403e-01\n",
      " 5.28585759e-01 5.25729216e-01 5.23887874e-01 5.22343325e-01\n",
      " 5.16603328e-01 5.14919317e-01 5.13973394e-01 5.12907635e-01\n",
      " 5.11594410e-01 5.08679654e-01 5.07146571e-01 5.03735153e-01\n",
      " 5.02344367e-01 4.99391551e-01 4.98399461e-01 4.97564589e-01\n",
      " 4.94536518e-01 4.93346562e-01 4.89276971e-01 4.87446215e-01\n",
      " 4.85091881e-01 4.82588554e-01 4.81574796e-01 4.80112583e-01\n",
      " 4.76967180e-01 4.75723541e-01 4.74323190e-01 4.71436851e-01\n",
      " 4.69264605e-01 4.66783815e-01 4.66745849e-01 4.64926834e-01\n",
      " 4.64269108e-01 4.61793741e-01 4.58442508e-01 4.55686254e-01\n",
      " 4.53402225e-01 4.52242490e-01 4.50157422e-01 4.46729147e-01\n",
      " 4.43260465e-01 4.42868837e-01 4.41718858e-01 4.37765372e-01\n",
      " 4.34548000e-01 4.33864625e-01 4.29202679e-01 4.27996632e-01\n",
      " 4.23927472e-01 4.21326531e-01 4.17794644e-01 4.16462558e-01\n",
      " 4.13591654e-01 4.11940271e-01 4.10962570e-01 4.08490099e-01\n",
      " 4.07607423e-01 4.04458752e-01 3.92627761e-01 3.83100557e-01\n",
      " 3.80362628e-01 3.76307393e-01 3.69649760e-01 3.63315487e-01\n",
      " 3.57178785e-01 3.49214580e-01 3.33986115e-01 3.29284302e-01\n",
      " 3.28646611e-01 3.21099141e-01 3.16801688e-01 3.07261243e-01\n",
      " 2.89184343e-01 2.36180190e-01 1.87796190e-01 1.21963994e-14]\n",
      "[[-1.39932830e-01  1.46732234e-01 -9.38930260e-02 ... -4.95454548e-05\n",
      "  -6.24360497e-04  6.42806690e-16]\n",
      " [-2.00457029e-01  1.12333369e-01 -1.20040337e-02 ... -3.12011232e-04\n",
      "  -2.80221954e-04  6.42806690e-16]\n",
      " [-7.44909600e-02  1.04126619e-01 -6.02303525e-02 ... -2.57462823e-04\n",
      "   4.65188706e-04  6.42806690e-16]\n",
      " ...\n",
      " [-1.00082393e-01  1.63805415e-02 -3.84631439e-03 ... -1.44605187e-03\n",
      "  -9.72320170e-04  6.42806690e-16]\n",
      " [ 2.80499345e-01 -1.84802420e-01  2.56788444e-02 ...  5.36562633e-03\n",
      "  -4.17702481e-04  6.42806690e-16]\n",
      " [-3.79868969e-02 -2.91405249e-02  4.29607264e-01 ...  3.13773815e-03\n",
      "  -2.87168270e-03  6.42806690e-16]]\n"
     ]
    }
   ],
   "source": [
    "X_train_PCA = applyPCA(X_train)\n",
    "X_test_PCA = applyPCA(X_test, test=True)\n",
    "print(X_train_PCA)"
   ]
  },
  {
   "cell_type": "code",
   "execution_count": 421,
   "metadata": {},
   "outputs": [
    {
     "name": "stdout",
     "output_type": "stream",
     "text": [
      "Fitting 3 folds for each of 8 candidates, totalling 24 fits\n",
      "[CV] C=0.5, gamma=0.0, kernel=linear .................................\n",
      "[CV] ..... C=0.5, gamma=0.0, kernel=linear, score=0.875, total=   0.1s\n",
      "[CV] C=0.5, gamma=0.0, kernel=linear .................................\n"
     ]
    },
    {
     "name": "stderr",
     "output_type": "stream",
     "text": [
      "[Parallel(n_jobs=1)]: Using backend SequentialBackend with 1 concurrent workers.\n",
      "[Parallel(n_jobs=1)]: Done   1 out of   1 | elapsed:    0.1s remaining:    0.0s\n"
     ]
    },
    {
     "name": "stdout",
     "output_type": "stream",
     "text": [
      "[CV]  C=0.5, gamma=0.0, kernel=linear, score=0.8666666666666667, total=   0.1s\n",
      "[CV] C=0.5, gamma=0.0, kernel=linear .................................\n",
      "[CV]  C=0.5, gamma=0.0, kernel=linear, score=0.8333333333333334, total=   0.1s\n",
      "[CV] C=0.5, gamma=0.0, kernel=poly ...................................\n"
     ]
    },
    {
     "name": "stderr",
     "output_type": "stream",
     "text": [
      "[Parallel(n_jobs=1)]: Done   2 out of   2 | elapsed:    0.3s remaining:    0.0s\n"
     ]
    },
    {
     "name": "stdout",
     "output_type": "stream",
     "text": [
      "[CV] ........ C=0.5, gamma=0.0, kernel=poly, score=0.05, total=   0.1s\n",
      "[CV] C=0.5, gamma=0.0, kernel=poly ...................................\n",
      "[CV] ........ C=0.5, gamma=0.0, kernel=poly, score=0.05, total=   0.1s\n",
      "[CV] C=0.5, gamma=0.0, kernel=poly ...................................\n",
      "[CV] ........ C=0.5, gamma=0.0, kernel=poly, score=0.05, total=   0.1s\n",
      "[CV] C=0.5, gamma=0.1, kernel=linear .................................\n",
      "[CV] ..... C=0.5, gamma=0.1, kernel=linear, score=0.875, total=   0.1s\n",
      "[CV] C=0.5, gamma=0.1, kernel=linear .................................\n",
      "[CV]  C=0.5, gamma=0.1, kernel=linear, score=0.8666666666666667, total=   0.1s\n",
      "[CV] C=0.5, gamma=0.1, kernel=linear .................................\n",
      "[CV]  C=0.5, gamma=0.1, kernel=linear, score=0.8333333333333334, total=   0.1s\n",
      "[CV] C=0.5, gamma=0.1, kernel=poly ...................................\n",
      "[CV]  C=0.5, gamma=0.1, kernel=poly, score=0.21666666666666667, total=   0.1s\n",
      "[CV] C=0.5, gamma=0.1, kernel=poly ...................................\n",
      "[CV] ....... C=0.5, gamma=0.1, kernel=poly, score=0.375, total=   0.1s\n",
      "[CV] C=0.5, gamma=0.1, kernel=poly ...................................\n",
      "[CV] ....... C=0.5, gamma=0.1, kernel=poly, score=0.325, total=   0.1s\n",
      "[CV] C=0.75, gamma=0.0, kernel=linear ................................\n",
      "[CV]  C=0.75, gamma=0.0, kernel=linear, score=0.9333333333333333, total=   0.1s\n",
      "[CV] C=0.75, gamma=0.0, kernel=linear ................................\n",
      "[CV]  C=0.75, gamma=0.0, kernel=linear, score=0.9166666666666666, total=   0.1s\n",
      "[CV] C=0.75, gamma=0.0, kernel=linear ................................\n",
      "[CV]  C=0.75, gamma=0.0, kernel=linear, score=0.8666666666666667, total=   0.1s\n",
      "[CV] C=0.75, gamma=0.0, kernel=poly ..................................\n",
      "[CV] ....... C=0.75, gamma=0.0, kernel=poly, score=0.05, total=   0.1s\n",
      "[CV] C=0.75, gamma=0.0, kernel=poly ..................................\n",
      "[CV] ....... C=0.75, gamma=0.0, kernel=poly, score=0.05, total=   0.1s\n",
      "[CV] C=0.75, gamma=0.0, kernel=poly ..................................\n",
      "[CV] ....... C=0.75, gamma=0.0, kernel=poly, score=0.05, total=   0.1s\n",
      "[CV] C=0.75, gamma=0.1, kernel=linear ................................\n",
      "[CV]  C=0.75, gamma=0.1, kernel=linear, score=0.9333333333333333, total=   0.1s\n",
      "[CV] C=0.75, gamma=0.1, kernel=linear ................................\n",
      "[CV]  C=0.75, gamma=0.1, kernel=linear, score=0.9166666666666666, total=   0.1s\n",
      "[CV] C=0.75, gamma=0.1, kernel=linear ................................\n",
      "[CV]  C=0.75, gamma=0.1, kernel=linear, score=0.8666666666666667, total=   0.1s\n",
      "[CV] C=0.75, gamma=0.1, kernel=poly ..................................\n",
      "[CV]  C=0.75, gamma=0.1, kernel=poly, score=0.21666666666666667, total=   0.1s\n",
      "[CV] C=0.75, gamma=0.1, kernel=poly ..................................\n",
      "[CV] ...... C=0.75, gamma=0.1, kernel=poly, score=0.375, total=   0.1s\n",
      "[CV] C=0.75, gamma=0.1, kernel=poly ..................................\n",
      "[CV] ...... C=0.75, gamma=0.1, kernel=poly, score=0.325, total=   0.1s\n",
      "GridSearchCV(cv=3, error_score='raise-deprecating',\n",
      "       estimator=SVC(C=1.0, cache_size=200, class_weight=None, coef0=0.0,\n",
      "  decision_function_shape='ovr', degree=3, gamma='auto_deprecated',\n",
      "  kernel='rbf', max_iter=-1, probability=False, random_state=None,\n",
      "  shrinking=True, tol=0.001, verbose=False),\n",
      "       fit_params=None, iid='warn', n_jobs=None,\n",
      "       param_grid={'gamma': [0.0, 0.1], 'kernel': ['linear', 'poly'], 'C': [0.5, 0.75]},\n",
      "       pre_dispatch='2*n_jobs', refit=True, return_train_score=True,\n",
      "       scoring=None, verbose=3)\n"
     ]
    },
    {
     "name": "stderr",
     "output_type": "stream",
     "text": [
      "[Parallel(n_jobs=1)]: Done  24 out of  24 | elapsed:    3.8s finished\n"
     ]
    }
   ],
   "source": [
    "grid_search = trainSVM(X_train_PCA, y_train)"
   ]
  },
  {
   "cell_type": "code",
   "execution_count": 422,
   "metadata": {},
   "outputs": [
    {
     "name": "stdout",
     "output_type": "stream",
     "text": [
      "{'mean_fit_time': array([0.08303587, 0.08468199, 0.08284879, 0.08435353, 0.08695006,\n",
      "       0.0866197 , 0.08515938, 0.08566459]), 'std_fit_time': array([0.00091889, 0.00066509, 0.00253001, 0.00090289, 0.00271842,\n",
      "       0.00102076, 0.00180667, 0.00061597]), 'mean_score_time': array([0.02311571, 0.02473108, 0.02220861, 0.02459772, 0.02509745,\n",
      "       0.02755888, 0.02380347, 0.02599287]), 'std_score_time': array([0.00231009, 0.00270758, 0.0028054 , 0.00259265, 0.00025964,\n",
      "       0.00065639, 0.00272284, 0.00044452]), 'param_C': masked_array(data=[0.5, 0.5, 0.5, 0.5, 0.75, 0.75, 0.75, 0.75],\n",
      "             mask=[False, False, False, False, False, False, False, False],\n",
      "       fill_value='?',\n",
      "            dtype=object), 'param_gamma': masked_array(data=[0.0, 0.0, 0.1, 0.1, 0.0, 0.0, 0.1, 0.1],\n",
      "             mask=[False, False, False, False, False, False, False, False],\n",
      "       fill_value='?',\n",
      "            dtype=object), 'param_kernel': masked_array(data=['linear', 'poly', 'linear', 'poly', 'linear', 'poly',\n",
      "                   'linear', 'poly'],\n",
      "             mask=[False, False, False, False, False, False, False, False],\n",
      "       fill_value='?',\n",
      "            dtype=object), 'params': [{'C': 0.5, 'gamma': 0.0, 'kernel': 'linear'}, {'C': 0.5, 'gamma': 0.0, 'kernel': 'poly'}, {'C': 0.5, 'gamma': 0.1, 'kernel': 'linear'}, {'C': 0.5, 'gamma': 0.1, 'kernel': 'poly'}, {'C': 0.75, 'gamma': 0.0, 'kernel': 'linear'}, {'C': 0.75, 'gamma': 0.0, 'kernel': 'poly'}, {'C': 0.75, 'gamma': 0.1, 'kernel': 'linear'}, {'C': 0.75, 'gamma': 0.1, 'kernel': 'poly'}], 'split0_test_score': array([0.875     , 0.05      , 0.875     , 0.21666667, 0.93333333,\n",
      "       0.05      , 0.93333333, 0.21666667]), 'split1_test_score': array([0.86666667, 0.05      , 0.86666667, 0.375     , 0.91666667,\n",
      "       0.05      , 0.91666667, 0.375     ]), 'split2_test_score': array([0.83333333, 0.05      , 0.83333333, 0.325     , 0.86666667,\n",
      "       0.05      , 0.86666667, 0.325     ]), 'mean_test_score': array([0.85833333, 0.05      , 0.85833333, 0.30555556, 0.90555556,\n",
      "       0.05      , 0.90555556, 0.30555556]), 'std_test_score': array([0.01800206, 0.        , 0.01800206, 0.06608543, 0.02832789,\n",
      "       0.        , 0.02832789, 0.06608543]), 'rank_test_score': array([3, 7, 3, 5, 1, 7, 1, 5], dtype=int32), 'split0_train_score': array([1.        , 0.05      , 1.        , 0.89583333, 1.        ,\n",
      "       0.05      , 1.        , 0.89583333]), 'split1_train_score': array([0.99583333, 0.05      , 0.99583333, 0.95833333, 1.        ,\n",
      "       0.05      , 1.        , 0.95833333]), 'split2_train_score': array([0.99166667, 0.05      , 0.99166667, 0.975     , 1.        ,\n",
      "       0.05      , 1.        , 0.975     ]), 'mean_train_score': array([0.99583333, 0.05      , 0.99583333, 0.94305556, 1.        ,\n",
      "       0.05      , 1.        , 0.94305556]), 'std_train_score': array([3.40206909e-03, 6.93889390e-18, 3.40206909e-03, 3.40773449e-02,\n",
      "       0.00000000e+00, 6.93889390e-18, 0.00000000e+00, 3.40773449e-02])}\n"
     ]
    }
   ],
   "source": [
    "results = grid_search.cv_results_\n",
    "print(results)"
   ]
  },
  {
   "cell_type": "code",
   "execution_count": 423,
   "metadata": {
    "scrolled": true
   },
   "outputs": [
    {
     "name": "stdout",
     "output_type": "stream",
     "text": [
      "{'C': 0.5, 'gamma': 0.0, 'kernel': 'linear'}\n",
      "{'C': 0.5, 'gamma': 0.0, 'kernel': 'poly'}\n",
      "{'C': 0.5, 'gamma': 0.1, 'kernel': 'linear'}\n",
      "{'C': 0.5, 'gamma': 0.1, 'kernel': 'poly'}\n",
      "*** {'C': 0.75, 'gamma': 0.0, 'kernel': 'linear'} ***\n",
      "{'C': 0.75, 'gamma': 0.0, 'kernel': 'poly'}\n",
      "{'C': 0.75, 'gamma': 0.1, 'kernel': 'linear'}\n",
      "{'C': 0.75, 'gamma': 0.1, 'kernel': 'poly'}\n"
     ]
    },
    {
     "data": {
      "text/html": [
       "<table style=\"border: 1px solid black\"><tr><th>Nr</th><th>Parameters</th><th>Score mean (MSE)</th><th>Score std (Variance)</th></tr><tr><td>1</td><td>{'C': 0.5, 'gamma': 0.0, 'kernel': 'linear'}</td><td>0.8583333333333333</td><td>0.018002057495577376</td></tr><tr><td>2</td><td>{'C': 0.5, 'gamma': 0.0, 'kernel': 'poly'}</td><td>0.05</td><td>0.0</td></tr><tr><td>3</td><td>{'C': 0.5, 'gamma': 0.1, 'kernel': 'linear'}</td><td>0.8583333333333333</td><td>0.018002057495577376</td></tr><tr><td>4</td><td>{'C': 0.5, 'gamma': 0.1, 'kernel': 'poly'}</td><td>0.3055555555555556</td><td>0.06608542918539066</td></tr><tr style=\"font-weight:bold; color:red;\"><td>5</td><td>{'C': 0.75, 'gamma': 0.0, 'kernel': 'linear'}</td><td>0.9055555555555556</td><td>0.02832788618662657</td></tr><tr><td>6</td><td>{'C': 0.75, 'gamma': 0.0, 'kernel': 'poly'}</td><td>0.05</td><td>0.0</td></tr><tr><td>7</td><td>{'C': 0.75, 'gamma': 0.1, 'kernel': 'linear'}</td><td>0.9055555555555556</td><td>0.02832788618662657</td></tr><tr><td>8</td><td>{'C': 0.75, 'gamma': 0.1, 'kernel': 'poly'}</td><td>0.3055555555555556</td><td>0.06608542918539066</td></tr></table>"
      ],
      "text/plain": [
       "<IPython.core.display.HTML object>"
      ]
     },
     "metadata": {},
     "output_type": "display_data"
    }
   ],
   "source": [
    "dispResults(results)"
   ]
  },
  {
   "cell_type": "markdown",
   "metadata": {},
   "source": [
    "### Results on test set:"
   ]
  },
  {
   "cell_type": "code",
   "execution_count": 428,
   "metadata": {},
   "outputs": [
    {
     "name": "stdout",
     "output_type": "stream",
     "text": [
      "[ 4  7 10  1  4 15 17 13  6 12 12  0  7  2  8 16  9  9  3 11 13  6  8 15\n",
      "  6  6  2 16 19  0  3  5 17 19 10  1 11 14 14 18]\n"
     ]
    }
   ],
   "source": [
    "# print(grid_search)\n",
    "y_pred = grid_search.predict(X_test_PCA)\n",
    "print(y_pred)\n"
   ]
  },
  {
   "cell_type": "code",
   "execution_count": 436,
   "metadata": {},
   "outputs": [
    {
     "name": "stdout",
     "output_type": "stream",
     "text": [
      "0.95\n"
     ]
    }
   ],
   "source": [
    "from sklearn.metrics import accuracy_score, precision_score, recall_score\n",
    "\n",
    "print(accuracy_score(y_test, y_pred ))"
   ]
  },
  {
   "cell_type": "markdown",
   "metadata": {},
   "source": [
    "\n",
    "### Final Conclusions - task 1"
   ]
  },
  {
   "cell_type": "markdown",
   "metadata": {},
   "source": [
    "The results obtained for this task are:\n",
    "- 95% accuracy on test set (with usign PCA)\n",
    "- PCA in 2 dimensions, doesn't show good results\n",
    "- much faster training using PCA with the default parameters (auto dimensions)\n",
    "- best parameters for Support Vector Classifier:  {'C': 0.75, 'gamma': 0.0, 'kernel': 'linear'}\n"
   ]
  },
  {
   "cell_type": "markdown",
   "metadata": {},
   "source": [
    "# Task 2: Text clustering"
   ]
  },
  {
   "cell_type": "markdown",
   "metadata": {},
   "source": [
    "**The algorithms that will be used for this task:**\n",
    "- DBCAN ( *eps*  and  *minsamples* hyperparams)\n",
    "- KMeans ( *nclusters*  and  *init* hyperparams)\n",
    "- Hierarchical(Agglomerative)  ( *nclusters* hyperparams)\n",
    "\n",
    "**The metrics that will be used for this task:**\n",
    "- *silhouette  score*\n",
    "- *homogeneityscore*\n",
    "- *completness  score*. "
   ]
  },
  {
   "cell_type": "markdown",
   "metadata": {},
   "source": [
    "## Data analysis"
   ]
  },
  {
   "cell_type": "markdown",
   "metadata": {},
   "source": [
    "### Sentiment analysis"
   ]
  },
  {
   "cell_type": "code",
   "execution_count": 126,
   "metadata": {},
   "outputs": [
    {
     "name": "stdout",
     "output_type": "stream",
     "text": [
      "Requirement already satisfied: nltk in /home/mdiannna/.local/lib/python2.7/site-packages (3.4)\n",
      "Requirement already satisfied: six in /home/mdiannna/.local/lib/python2.7/site-packages (from nltk) (1.11.0)\n",
      "Requirement already satisfied: singledispatch in /usr/local/lib/python2.7/dist-packages (from nltk) (3.4.0.3)\n",
      "Iteration  0 /400\n"
     ]
    },
    {
     "name": "stderr",
     "output_type": "stream",
     "text": [
      "[nltk_data] Downloading package punkt to /home/mdiannna/nltk_data...\n",
      "[nltk_data]   Package punkt is already up-to-date!\n",
      "[nltk_data] Downloading package vader_lexicon to\n",
      "[nltk_data]     /home/mdiannna/nltk_data...\n",
      "[nltk_data]   Package vader_lexicon is already up-to-date!\n"
     ]
    },
    {
     "name": "stdout",
     "output_type": "stream",
     "text": [
      "Iteration  20 /400\n",
      "Iteration  40 /400\n",
      "Iteration  60 /400\n",
      "Iteration  80 /400\n",
      "Iteration  100 /400\n",
      "Iteration  120 /400\n",
      "Iteration  140 /400\n",
      "Iteration  160 /400\n",
      "Iteration  180 /400\n",
      "Iteration  200 /400\n",
      "Iteration  220 /400\n",
      "Iteration  240 /400\n",
      "Iteration  260 /400\n",
      "Iteration  280 /400\n",
      "Iteration  300 /400\n",
      "Iteration  320 /400\n",
      "Iteration  340 /400\n",
      "Iteration  360 /400\n",
      "Iteration  380 /400\n"
     ]
    }
   ],
   "source": [
    "!pip install nltk\n",
    "import nltk\n",
    "nltk.download('punkt')\n",
    "nltk.download('vader_lexicon')\n",
    "\n",
    "from nltk.sentiment.vader import SentimentIntensityAnalyzer\n",
    "from nltk import tokenize\n",
    "from nltk.tokenize import MWETokenizer\n",
    "import string\n",
    "  \n",
    "texts = data_flat\n",
    "\n",
    "sid = SentimentIntensityAnalyzer()\n",
    "\n",
    "def analyzeText(text):\n",
    "    ss = sid.polarity_scores(text)\n",
    "    \n",
    "    return ss[\"neg\"], ss[\"pos\"], ss[\"neu\"], ss[\"compound\"] \n",
    "\n",
    "\n",
    "negs = np.zeros(len(texts))\n",
    "neus = np.zeros(len(texts))\n",
    "poss = np.zeros(len(texts))\n",
    "comps = np.zeros(len(texts))\n",
    "\n",
    "for i, text in enumerate(texts):\n",
    "    if i%20==0:\n",
    "        print(\"Iteration \", i ,\"/400\")\n",
    "    neg, pos, neu, comp=analyzeText(text[:10000] + \".\" + text[-1000:])\n",
    "#     neg, pos, neu, comp=analyzeText(text)\n",
    "    negs[i] = neg\n",
    "    poss[i] = pos\n",
    "    neus[i] = neu\n",
    "    comps[i] = comp\n"
   ]
  },
  {
   "cell_type": "code",
   "execution_count": 127,
   "metadata": {},
   "outputs": [
    {
     "name": "stdout",
     "output_type": "stream",
     "text": [
      "[0.083 0.095 0.124 0.083 0.101 0.054 0.125 0.084 0.11  0.084]\n",
      "[0.109 0.136 0.151 0.086 0.083 0.121 0.08  0.11  0.155 0.076]\n",
      "[0.808 0.769 0.725 0.83  0.817 0.825 0.795 0.806 0.735 0.839]\n",
      "[ 0.9959  0.9986  0.9971  0.9207 -0.9943  0.9992 -0.9984  0.9956  0.999\n",
      " -0.9073]\n"
     ]
    }
   ],
   "source": [
    "print(negs[0:10])\n",
    "print(poss[0:10])\n",
    "print(neus[0:10])\n",
    "print(comps[0:10])"
   ]
  },
  {
   "cell_type": "code",
   "execution_count": 128,
   "metadata": {},
   "outputs": [
    {
     "data": {
      "image/png": "[encoded data removed]",
      "text/plain": [
       "<Figure size 432x288 with 1 Axes>"
      ]
     },
     "metadata": {
      "needs_background": "light"
     },
     "output_type": "display_data"
    }
   ],
   "source": [
    "plt.plot(range(0,400), comps, 'x')\n",
    "plt.title(\"Compound sentiment analysis scores\")\n",
    "plt.show()"
   ]
  },
  {
   "cell_type": "code",
   "execution_count": 129,
   "metadata": {
    "scrolled": true
   },
   "outputs": [
    {
     "data": {
      "image/png": "[encoded data removed]",
      "text/plain": [
       "<Figure size 432x288 with 1 Axes>"
      ]
     },
     "metadata": {
      "needs_background": "light"
     },
     "output_type": "display_data"
    }
   ],
   "source": [
    "plt.plot(range(0,400), negs, 'xr')\n",
    "plt.title(\"Negative sentiment analysis scores\")\n",
    "plt.show()"
   ]
  },
  {
   "cell_type": "code",
   "execution_count": 130,
   "metadata": {},
   "outputs": [
    {
     "data": {
      "image/png": "[encoded data removed]",
      "text/plain": [
       "<Figure size 432x288 with 1 Axes>"
      ]
     },
     "metadata": {
      "needs_background": "light"
     },
     "output_type": "display_data"
    }
   ],
   "source": [
    "plt.plot(range(0,400), poss, 'xy')\n",
    "plt.title(\"Positive sentiment analysis scores\")\n",
    "plt.show()"
   ]
  },
  {
   "cell_type": "code",
   "execution_count": 131,
   "metadata": {},
   "outputs": [
    {
     "name": "stdout",
     "output_type": "stream",
     "text": [
      "[[0.083 0.095 0.124 0.083 0.101 0.054 0.125 0.084 0.11  0.084 0.082 0.096\n",
      "  0.115 0.068 0.046 0.028 0.056 0.099 0.135 0.105 0.092 0.077 0.066 0.057\n",
      "  0.074 0.054 0.057 0.062 0.083 0.03  0.061 0.082 0.064 0.097 0.053 0.059\n",
      "  0.093 0.074 0.08  0.064 0.084 0.073 0.075 0.114 0.095 0.077 0.089 0.052\n",
      "  0.087 0.062 0.066 0.07  0.087 0.08  0.097 0.106 0.09  0.116 0.126 0.072\n",
      "  0.098 0.09  0.1   0.107 0.124 0.057 0.067 0.173 0.073 0.087 0.052 0.039\n",
      "  0.091 0.042 0.055 0.113 0.093 0.074 0.129 0.097 0.126 0.096 0.143 0.099\n",
      "  0.161 0.05  0.105 0.064 0.105 0.122 0.067 0.065 0.081 0.057 0.041 0.086\n",
      "  0.119 0.128 0.093 0.071 0.064 0.059 0.095 0.091 0.108 0.069 0.1   0.054\n",
      "  0.052 0.103 0.075 0.097 0.099 0.05  0.05  0.063 0.089 0.086 0.069 0.062\n",
      "  0.066 0.077 0.043 0.095 0.08  0.097 0.119 0.046 0.086 0.027 0.047 0.078\n",
      "  0.065 0.073 0.023 0.056 0.091 0.171 0.109 0.07  0.055 0.069 0.123 0.11\n",
      "  0.099 0.047 0.134 0.062 0.071 0.077 0.075 0.045 0.102 0.089 0.082 0.088\n",
      "  0.074 0.085 0.07  0.054 0.073 0.056 0.096 0.066 0.091 0.045 0.106 0.063\n",
      "  0.045 0.132 0.045 0.065 0.104 0.155 0.111 0.073 0.101 0.1   0.111 0.084\n",
      "  0.059 0.058 0.097 0.092 0.055 0.062 0.065 0.061 0.102 0.102 0.069 0.039\n",
      "  0.11  0.171 0.075 0.16  0.046 0.13  0.069 0.071 0.076 0.107 0.119 0.126\n",
      "  0.105 0.045 0.103 0.078 0.08  0.143 0.071 0.05  0.117 0.016 0.09  0.081\n",
      "  0.109 0.085 0.055 0.07  0.057 0.117 0.055 0.114 0.097 0.089 0.08  0.08\n",
      "  0.054 0.064 0.051 0.07  0.082 0.053 0.086 0.136 0.099 0.087 0.108 0.025\n",
      "  0.113 0.108 0.092 0.111 0.115 0.064 0.136 0.102 0.047 0.087 0.066 0.076\n",
      "  0.085 0.123 0.067 0.064 0.115 0.071 0.168 0.035 0.079 0.06  0.109 0.128\n",
      "  0.097 0.045 0.09  0.055 0.071 0.041 0.059 0.092 0.06  0.027 0.067 0.178\n",
      "  0.072 0.067 0.083 0.042 0.109 0.094 0.064 0.055 0.111 0.136 0.06  0.056\n",
      "  0.101 0.073 0.058 0.057 0.11  0.095 0.062 0.071 0.09  0.072 0.112 0.065\n",
      "  0.087 0.07  0.094 0.124 0.073 0.082 0.076 0.074 0.061 0.09  0.072 0.086\n",
      "  0.108 0.116 0.113 0.059 0.121 0.069 0.108 0.044 0.104 0.067 0.096 0.039\n",
      "  0.126 0.027 0.081 0.064 0.108 0.122 0.064 0.081 0.142 0.047 0.049 0.088\n",
      "  0.098 0.148 0.121 0.022 0.069 0.088 0.068 0.124 0.091 0.05  0.133 0.082\n",
      "  0.078 0.096 0.101 0.083 0.076 0.103 0.052 0.069 0.065 0.112 0.131 0.066\n",
      "  0.097 0.118 0.089 0.152 0.089 0.057 0.063 0.07  0.071 0.115 0.057 0.053\n",
      "  0.103 0.047 0.086 0.062 0.079 0.091 0.097 0.072 0.106 0.073 0.135 0.1\n",
      "  0.119 0.063 0.122 0.123 0.073 0.034 0.06  0.071 0.073 0.035 0.086 0.078\n",
      "  0.101 0.102 0.123 0.051]\n",
      " [0.109 0.136 0.151 0.086 0.083 0.121 0.08  0.11  0.155 0.076 0.106 0.119\n",
      "  0.096 0.09  0.079 0.037 0.191 0.088 0.084 0.13  0.153 0.049 0.222 0.142\n",
      "  0.141 0.126 0.096 0.112 0.14  0.1   0.148 0.112 0.074 0.085 0.078 0.08\n",
      "  0.099 0.148 0.143 0.148 0.098 0.164 0.188 0.13  0.087 0.103 0.088 0.178\n",
      "  0.199 0.152 0.089 0.164 0.091 0.162 0.069 0.098 0.107 0.085 0.114 0.124\n",
      "  0.101 0.155 0.215 0.131 0.118 0.198 0.109 0.149 0.171 0.085 0.084 0.082\n",
      "  0.07  0.037 0.1   0.093 0.121 0.101 0.079 0.105 0.086 0.101 0.17  0.085\n",
      "  0.078 0.197 0.098 0.11  0.128 0.144 0.142 0.13  0.12  0.096 0.072 0.135\n",
      "  0.091 0.107 0.089 0.112 0.117 0.082 0.165 0.174 0.154 0.16  0.092 0.152\n",
      "  0.095 0.231 0.121 0.102 0.081 0.091 0.111 0.076 0.103 0.094 0.11  0.119\n",
      "  0.163 0.129 0.2   0.151 0.106 0.128 0.117 0.147 0.15  0.01  0.104 0.108\n",
      "  0.1   0.085 0.058 0.105 0.148 0.081 0.07  0.123 0.036 0.113 0.158 0.111\n",
      "  0.08  0.156 0.045 0.105 0.176 0.125 0.121 0.106 0.097 0.107 0.135 0.099\n",
      "  0.092 0.122 0.143 0.098 0.106 0.119 0.162 0.131 0.103 0.189 0.104 0.202\n",
      "  0.158 0.138 0.114 0.135 0.07  0.14  0.117 0.123 0.081 0.111 0.171 0.104\n",
      "  0.089 0.147 0.191 0.1   0.139 0.139 0.099 0.125 0.1   0.118 0.113 0.112\n",
      "  0.096 0.098 0.136 0.083 0.127 0.071 0.099 0.12  0.141 0.141 0.144 0.091\n",
      "  0.111 0.138 0.082 0.136 0.195 0.097 0.095 0.143 0.091 0.064 0.159 0.121\n",
      "  0.09  0.073 0.092 0.089 0.119 0.098 0.16  0.108 0.128 0.123 0.107 0.147\n",
      "  0.138 0.122 0.102 0.096 0.128 0.134 0.062 0.096 0.137 0.088 0.154 0.112\n",
      "  0.073 0.112 0.192 0.13  0.095 0.079 0.089 0.112 0.137 0.159 0.097 0.118\n",
      "  0.061 0.151 0.206 0.144 0.077 0.121 0.088 0.092 0.105 0.181 0.2   0.107\n",
      "  0.105 0.109 0.097 0.116 0.139 0.079 0.135 0.122 0.133 0.071 0.165 0.077\n",
      "  0.227 0.16  0.143 0.093 0.102 0.108 0.208 0.106 0.152 0.141 0.092 0.119\n",
      "  0.127 0.098 0.094 0.141 0.087 0.133 0.12  0.106 0.172 0.09  0.104 0.095\n",
      "  0.113 0.154 0.169 0.125 0.064 0.11  0.07  0.123 0.161 0.165 0.122 0.113\n",
      "  0.101 0.108 0.102 0.125 0.096 0.143 0.086 0.11  0.114 0.135 0.133 0.074\n",
      "  0.1   0.077 0.104 0.12  0.128 0.212 0.115 0.13  0.115 0.14  0.153 0.108\n",
      "  0.08  0.084 0.129 0.123 0.112 0.119 0.189 0.122 0.09  0.182 0.102 0.11\n",
      "  0.168 0.13  0.084 0.151 0.13  0.096 0.127 0.105 0.102 0.117 0.077 0.082\n",
      "  0.124 0.155 0.169 0.163 0.184 0.132 0.092 0.102 0.157 0.157 0.141 0.121\n",
      "  0.089 0.115 0.063 0.136 0.091 0.084 0.136 0.087 0.127 0.117 0.159 0.149\n",
      "  0.096 0.12  0.09  0.08  0.107 0.045 0.144 0.123 0.094 0.12  0.108 0.069\n",
      "  0.054 0.156 0.115 0.098]]\n",
      "[1. 1. 1. 1. 0. 1. 0. 1. 1. 0. 1. 1. 0. 1. 1. 1. 1. 0. 0. 1. 1. 0. 1. 1.\n",
      " 1. 1. 1. 1. 1. 1. 1. 1. 1. 0. 1. 1. 1. 1. 1. 1. 1. 1. 1. 1. 0. 1. 0. 1.\n",
      " 1. 1. 1. 1. 1. 1. 0. 0. 1. 0. 0. 1. 1. 1. 1. 1. 0. 1. 1. 0. 1. 0. 1. 1.\n",
      " 0. 0. 1. 0. 1. 1. 0. 1. 0. 1. 1. 0. 0. 1. 0. 1. 1. 1. 1. 1. 1. 1. 1. 1.\n",
      " 0. 0. 0. 1. 1. 1. 1. 1. 1. 1. 0. 1. 1. 1. 1. 1. 0. 1. 1. 1. 1. 1. 1. 1.\n",
      " 1. 1. 1. 1. 1. 1. 0. 1. 1. 0. 1. 1. 1. 1. 1. 1. 1. 0. 0. 1. 0. 1. 1. 1.\n",
      " 0. 1. 0. 1. 1. 1. 1. 1. 0. 1. 1. 1. 1. 1. 1. 1. 1. 1. 1. 1. 1. 1. 0. 1.\n",
      " 1. 1. 1. 1. 0. 0. 1. 1. 0. 1. 1. 1. 1. 1. 1. 1. 1. 1. 1. 1. 0. 1. 1. 1.\n",
      " 0. 0. 1. 0. 1. 0. 1. 1. 1. 1. 1. 0. 1. 1. 0. 1. 1. 0. 1. 1. 0. 1. 1. 1.\n",
      " 0. 0. 1. 1. 1. 0. 1. 0. 1. 1. 1. 1. 1. 1. 1. 1. 1. 1. 0. 0. 1. 1. 1. 1.\n",
      " 0. 1. 1. 1. 0. 1. 0. 1. 1. 1. 1. 1. 0. 1. 1. 1. 0. 1. 0. 1. 1. 1. 1. 0.\n",
      " 1. 1. 1. 1. 1. 1. 1. 1. 1. 1. 1. 0. 1. 1. 1. 1. 0. 1. 1. 1. 1. 1. 1. 1.\n",
      " 1. 1. 1. 1. 0. 1. 1. 1. 1. 1. 0. 1. 1. 1. 1. 1. 0. 1. 0. 1. 1. 1. 1. 1.\n",
      " 0. 0. 0. 1. 0. 1. 0. 1. 1. 1. 1. 1. 0. 1. 1. 1. 1. 1. 1. 1. 0. 1. 1. 1.\n",
      " 0. 0. 1. 1. 1. 1. 1. 0. 0. 1. 0. 1. 1. 1. 0. 1. 1. 0. 1. 1. 1. 1. 0. 1.\n",
      " 1. 1. 1. 1. 1. 1. 1. 1. 1. 1. 1. 1. 0. 1. 0. 1. 1. 0. 1. 1. 1. 1. 1. 1.\n",
      " 0. 1. 0. 0. 1. 1. 1. 1. 1. 1. 1. 0. 0. 1. 0. 1.]\n"
     ]
    }
   ],
   "source": [
    "ar = np.array([negs, poss])\n",
    "print(ar)\n",
    "results = np.zeros(400)\n",
    "\n",
    "for i in range(0, 400):\n",
    "    results[i] = np.argmax(ar[:,i])\n",
    "print(results)"
   ]
  },
  {
   "cell_type": "markdown",
   "metadata": {},
   "source": [
    "### Plot compound score and color each text in 2 colors based on positive/negative maximum"
   ]
  },
  {
   "cell_type": "code",
   "execution_count": 132,
   "metadata": {
    "scrolled": true
   },
   "outputs": [
    {
     "data": {
      "text/plain": [
       "<matplotlib.collections.PathCollection at 0x7f56461e1c50>"
      ]
     },
     "execution_count": 132,
     "metadata": {},
     "output_type": "execute_result"
    },
    {
     "data": {
      "image/png": "[encoded data removed]",
      "text/plain": [
       "<Figure size 432x288 with 1 Axes>"
      ]
     },
     "metadata": {
      "needs_background": "light"
     },
     "output_type": "display_data"
    }
   ],
   "source": [
    "# plt.scatter(range(0,400), neus, c=np.maximum(poss, negs, neus))\n",
    "# plt.scatter(range(0,400), neus, c=results)\n",
    "# plt.scatter(range(0,400), results, c=results)\n",
    "plt.scatter(range(0,400), comps, c=results)\n"
   ]
  },
  {
   "cell_type": "markdown",
   "metadata": {},
   "source": [
    "#### Observations"
   ]
  },
  {
   "cell_type": "markdown",
   "metadata": {},
   "source": [
    "It can be observed that the texts can be separated in 2 clusteres based on predominant positive/negative sentiment"
   ]
  },
  {
   "cell_type": "markdown",
   "metadata": {},
   "source": [
    "#### Apply tfidf on full dataset"
   ]
  },
  {
   "cell_type": "code",
   "execution_count": null,
   "metadata": {},
   "outputs": [],
   "source": [
    "from sklearn.feature_extraction.text import TfidfVectorizer\n",
    "\n",
    "vectorizer = TfidfVectorizer(strip_accents='ascii', stop_words='english', token_pattern=r'(?u)\\b[A-Za-z]+\\b')\n",
    "\n",
    "X = vectorizer.fit_transform(X)\n",
    "vocabulary = vectorizer.get_feature_names()\n",
    "\n",
    "print(vocabulary[:10])\n",
    "print(vocabulary[-10:])\n"
   ]
  },
  {
   "cell_type": "markdown",
   "metadata": {},
   "source": [
    "### Set hyperparameters"
   ]
  },
  {
   "cell_type": "markdown",
   "metadata": {},
   "source": [
    "### Applying PCA and changing eps for dbscan"
   ]
  },
  {
   "cell_type": "code",
   "execution_count": 228,
   "metadata": {},
   "outputs": [
    {
     "name": "stdout",
     "output_type": "stream",
     "text": [
      "[3.51220826e+00 2.93806249e+00 2.78613439e+00 2.40749381e+00\n",
      " 2.29155357e+00 2.21494229e+00 2.06736800e+00 1.92434379e+00\n",
      " 1.87888059e+00 1.79742766e+00 1.70942666e+00 1.69213454e+00\n",
      " 1.67831677e+00 1.57318985e+00 1.50497023e+00 1.47870965e+00\n",
      " 1.47394645e+00 1.44347734e+00 1.41405941e+00 1.40848634e+00\n",
      " 1.35656206e+00 1.32980636e+00 1.31799338e+00 1.30446517e+00\n",
      " 1.28399408e+00 1.27172802e+00 1.26318255e+00 1.23691824e+00\n",
      " 1.22694975e+00 1.22016664e+00 1.21508234e+00 1.19909548e+00\n",
      " 1.19102312e+00 1.18314467e+00 1.17038134e+00 1.16758086e+00\n",
      " 1.16459654e+00 1.15670157e+00 1.14913264e+00 1.14723523e+00\n",
      " 1.14346292e+00 1.14191499e+00 1.13304985e+00 1.12389203e+00\n",
      " 1.11108121e+00 1.10442220e+00 1.09776160e+00 1.09464853e+00\n",
      " 1.08865795e+00 1.08517626e+00 1.08142116e+00 1.07553526e+00\n",
      " 1.07128365e+00 1.06741403e+00 1.06058665e+00 1.05883657e+00\n",
      " 1.05820775e+00 1.04880188e+00 1.04359489e+00 1.04113403e+00\n",
      " 1.03645834e+00 1.03361076e+00 1.02888369e+00 1.02613966e+00\n",
      " 1.02275475e+00 1.01969554e+00 1.01856228e+00 1.01405539e+00\n",
      " 1.01305396e+00 1.00290302e+00 9.99101745e-01 9.94496620e-01\n",
      " 9.91478832e-01 9.87935418e-01 9.85494238e-01 9.81867998e-01\n",
      " 9.80773386e-01 9.77199708e-01 9.76258766e-01 9.75189712e-01\n",
      " 9.71349333e-01 9.66876117e-01 9.64920040e-01 9.61611775e-01\n",
      " 9.58079009e-01 9.55215034e-01 9.54087932e-01 9.52461515e-01\n",
      " 9.51586031e-01 9.49675842e-01 9.47234643e-01 9.42709165e-01\n",
      " 9.41361209e-01 9.39381783e-01 9.36939733e-01 9.34999639e-01\n",
      " 9.32528256e-01 9.31927738e-01 9.30080750e-01 9.27699197e-01\n",
      " 9.26221636e-01 9.25082374e-01 9.22680128e-01 9.21240878e-01\n",
      " 9.18144373e-01 9.16706516e-01 9.14360443e-01 9.13985814e-01\n",
      " 9.11885416e-01 9.11299059e-01 9.09528522e-01 9.08052506e-01\n",
      " 9.07540843e-01 9.06461411e-01 9.02321773e-01 9.01232882e-01\n",
      " 8.99755435e-01 8.98522648e-01 8.98106319e-01 8.95955624e-01\n",
      " 8.93830081e-01 8.92616835e-01 8.92097373e-01 8.91159185e-01\n",
      " 8.89814646e-01 8.87605424e-01 8.86232198e-01 8.83311622e-01\n",
      " 8.81191269e-01 8.79169936e-01 8.77744453e-01 8.77232615e-01\n",
      " 8.74178315e-01 8.70087096e-01 8.68170141e-01 8.66906910e-01\n",
      " 8.66130711e-01 8.64055797e-01 8.62560032e-01 8.58478358e-01\n",
      " 8.57353947e-01 8.55294682e-01 8.52919081e-01 8.49620858e-01\n",
      " 8.48641552e-01 8.46867520e-01 8.45207581e-01 8.43878219e-01\n",
      " 8.42092851e-01 8.39459915e-01 8.36945747e-01 8.34811709e-01\n",
      " 8.34074562e-01 8.33741118e-01 8.29497410e-01 8.25893877e-01\n",
      " 8.23683210e-01 8.22878313e-01 8.20507245e-01 8.17801169e-01\n",
      " 8.17431270e-01 8.14470156e-01 8.10017557e-01 8.08332675e-01\n",
      " 8.07652658e-01 8.05224107e-01 8.02521530e-01 8.01044746e-01\n",
      " 7.98773187e-01 7.98110053e-01 7.95989052e-01 7.94082876e-01\n",
      " 7.92389977e-01 7.91036214e-01 7.89439012e-01 7.87054099e-01\n",
      " 7.85173692e-01 7.83472757e-01 7.82334053e-01 7.80783252e-01\n",
      " 7.79620285e-01 7.76314893e-01 7.76215669e-01 7.74534241e-01\n",
      " 7.73807393e-01 7.72839157e-01 7.68612849e-01 7.66816944e-01\n",
      " 7.65320380e-01 7.62892229e-01 7.61828429e-01 7.60119914e-01\n",
      " 7.58401261e-01 7.56445313e-01 7.53789935e-01 7.53407342e-01\n",
      " 7.52522934e-01 7.49992715e-01 7.49696391e-01 7.45864250e-01\n",
      " 7.43184898e-01 7.41599046e-01 7.39783283e-01 7.39524805e-01\n",
      " 7.37769882e-01 7.34550027e-01 7.33261585e-01 7.32240605e-01\n",
      " 7.31687995e-01 7.31273065e-01 7.28858511e-01 7.28019593e-01\n",
      " 7.24210273e-01 7.22064594e-01 7.19748176e-01 7.17072782e-01\n",
      " 7.13194663e-01 7.12213191e-01 7.11090459e-01 7.08876834e-01\n",
      " 7.06114135e-01 7.03937009e-01 7.03100933e-01 7.00825373e-01\n",
      " 6.98741275e-01 6.96873856e-01 6.93175586e-01 6.92471435e-01\n",
      " 6.90917670e-01 6.87781809e-01 6.87377476e-01 6.85351612e-01\n",
      " 6.85102115e-01 6.83492635e-01 6.80954253e-01 6.78751615e-01\n",
      " 6.76756872e-01 6.73718073e-01 6.71506656e-01 6.67926838e-01\n",
      " 6.66490955e-01 6.66056028e-01 6.64439421e-01 6.64012241e-01\n",
      " 6.62236200e-01 6.58472197e-01 6.54128083e-01 6.53019137e-01\n",
      " 6.51354695e-01 6.48791103e-01 6.47222588e-01 6.44141155e-01\n",
      " 6.42820534e-01 6.41128217e-01 6.39596954e-01 6.36305679e-01\n",
      " 6.33656967e-01 6.32390246e-01 6.30513321e-01 6.28033115e-01\n",
      " 6.27022936e-01 6.25603351e-01 6.22223000e-01 6.20084159e-01\n",
      " 6.19652129e-01 6.17806711e-01 6.14774257e-01 6.13777762e-01\n",
      " 6.09661974e-01 6.07560488e-01 6.07247196e-01 6.03457351e-01\n",
      " 6.03269634e-01 6.01754767e-01 5.99450871e-01 5.98884933e-01\n",
      " 5.97235857e-01 5.95222733e-01 5.92542463e-01 5.91209603e-01\n",
      " 5.89820822e-01 5.86219000e-01 5.84893095e-01 5.83973974e-01\n",
      " 5.82099796e-01 5.79703937e-01 5.78575969e-01 5.76099413e-01\n",
      " 5.74112946e-01 5.72074992e-01 5.70020232e-01 5.68274788e-01\n",
      " 5.64657680e-01 5.64159471e-01 5.60317683e-01 5.59067556e-01\n",
      " 5.56694095e-01 5.55567437e-01 5.53018008e-01 5.52682187e-01\n",
      " 5.49631529e-01 5.46025027e-01 5.45025182e-01 5.44403376e-01\n",
      " 5.40766014e-01 5.35978255e-01 5.34856658e-01 5.31483829e-01\n",
      " 5.28649382e-01 5.28084493e-01 5.25026981e-01 5.23113471e-01\n",
      " 5.21633469e-01 5.20182885e-01 5.18057720e-01 5.15336553e-01\n",
      " 5.14726392e-01 5.10605137e-01 5.09749575e-01 5.08222680e-01\n",
      " 5.06597726e-01 5.04840320e-01 5.03791486e-01 5.02807822e-01\n",
      " 5.01802079e-01 4.98208976e-01 4.97243864e-01 4.94452371e-01\n",
      " 4.93229560e-01 4.91921712e-01 4.90322125e-01 4.88937478e-01\n",
      " 4.87989690e-01 4.84703151e-01 4.82267306e-01 4.81150840e-01\n",
      " 4.78902033e-01 4.78270210e-01 4.74795864e-01 4.74499007e-01\n",
      " 4.73436646e-01 4.70414007e-01 4.68298523e-01 4.66795540e-01\n",
      " 4.64349112e-01 4.63702866e-01 4.62398056e-01 4.62011375e-01\n",
      " 4.58997588e-01 4.58279795e-01 4.54844867e-01 4.54043741e-01\n",
      " 4.51830557e-01 4.47535369e-01 4.47012157e-01 4.46107025e-01\n",
      " 4.41266430e-01 4.39429502e-01 4.36092322e-01 4.34852947e-01\n",
      " 4.31877857e-01 4.29953174e-01 4.28582133e-01 4.27506232e-01\n",
      " 4.26655549e-01 4.20928518e-01 4.19625322e-01 4.16813071e-01\n",
      " 4.15501186e-01 4.11531526e-01 4.08978405e-01 4.08212542e-01\n",
      " 4.06431081e-01 4.05238012e-01 4.03337417e-01 3.99289560e-01\n",
      " 3.93876602e-01 3.85572476e-01 3.78920584e-01 3.77736145e-01\n",
      " 3.71514085e-01 3.69172466e-01 3.63517075e-01 3.57262324e-01\n",
      " 3.52004073e-01 3.46422059e-01 3.39991709e-01 3.34855691e-01\n",
      " 3.27657565e-01 3.27380678e-01 3.19677511e-01 3.17860810e-01\n",
      " 3.12009679e-01 3.01854461e-01 2.94141239e-01 2.73446092e-01\n",
      " 2.34909760e-01 2.30310217e-01 1.84518172e-01 1.25015163e-14]\n"
     ]
    }
   ],
   "source": [
    "X_PCA = applyPCA(X.toarray())\n"
   ]
  },
  {
   "cell_type": "markdown",
   "metadata": {},
   "source": [
    "**Initialize clustering array**"
   ]
  },
  {
   "cell_type": "code",
   "execution_count": 339,
   "metadata": {},
   "outputs": [
    {
     "name": "stdout",
     "output_type": "stream",
     "text": [
      "eps: 0.5 min_samples: 5 clusters: {-1: 400}\n",
      "eps: 0.5 min_samples: 10 clusters: {-1: 400}\n",
      "eps: 0.5 min_samples: 20 clusters: {-1: 400}\n",
      "eps: 0.5 min_samples: 50 clusters: {-1: 400}\n",
      "eps: 0.6 min_samples: 5 clusters: {-1: 400}\n",
      "eps: 0.6 min_samples: 10 clusters: {-1: 400}\n",
      "eps: 0.6 min_samples: 20 clusters: {-1: 400}\n",
      "eps: 0.6 min_samples: 50 clusters: {-1: 400}\n",
      "eps: 0.7 min_samples: 5 clusters: {-1: 384, 0: 5, 1: 5, 2: 6}\n",
      "eps: 0.7 min_samples: 10 clusters: {-1: 400}\n",
      "eps: 0.7 min_samples: 20 clusters: {-1: 400}\n",
      "eps: 0.7 min_samples: 50 clusters: {-1: 400}\n",
      "eps: 0.7999999999999999 min_samples: 5 clusters: {-1: 358, 0: 10, 1: 7, 2: 6, 3: 7, 4: 7, 5: 5}\n",
      "eps: 0.7999999999999999 min_samples: 10 clusters: {-1: 400}\n",
      "eps: 0.7999999999999999 min_samples: 20 clusters: {-1: 400}\n",
      "eps: 0.7999999999999999 min_samples: 50 clusters: {-1: 400}\n",
      "eps: 0.8999999999999999 min_samples: 5 clusters: {-1: 266, 0: 59, 1: 19, 2: 16, 3: 15, 4: 13, 5: 7, 6: 5}\n",
      "eps: 0.8999999999999999 min_samples: 10 clusters: {-1: 333, 0: 12, 1: 30, 2: 13, 3: 12}\n",
      "eps: 0.8999999999999999 min_samples: 20 clusters: {-1: 400}\n",
      "eps: 0.8999999999999999 min_samples: 50 clusters: {-1: 400}\n",
      "eps: 0.9999999999999999 min_samples: 5 clusters: {-1: 176, 0: 201, 1: 14, 2: 9}\n",
      "eps: 0.9999999999999999 min_samples: 10 clusters: {-1: 221, 0: 165, 1: 14}\n",
      "eps: 0.9999999999999999 min_samples: 20 clusters: {-1: 285, 0: 115}\n",
      "eps: 0.9999999999999999 min_samples: 50 clusters: {-1: 311, 0: 89}\n",
      "eps: 1.0999999999999999 min_samples: 5 clusters: {-1: 76, 0: 315, 1: 9}\n",
      "eps: 1.0999999999999999 min_samples: 10 clusters: {-1: 97, 0: 303}\n",
      "eps: 1.0999999999999999 min_samples: 20 clusters: {-1: 116, 0: 284}\n",
      "eps: 1.0999999999999999 min_samples: 50 clusters: {-1: 153, 0: 247}\n",
      "eps: 1.1999999999999997 min_samples: 5 clusters: {-1: 17, 0: 383}\n",
      "eps: 1.1999999999999997 min_samples: 10 clusters: {-1: 19, 0: 381}\n",
      "eps: 1.1999999999999997 min_samples: 20 clusters: {-1: 21, 0: 379}\n",
      "eps: 1.1999999999999997 min_samples: 50 clusters: {-1: 25, 0: 375}\n",
      "eps: 1.2999999999999998 min_samples: 5 clusters: {0: 400}\n",
      "eps: 1.2999999999999998 min_samples: 10 clusters: {0: 400}\n",
      "eps: 1.2999999999999998 min_samples: 20 clusters: {0: 400}\n",
      "eps: 1.2999999999999998 min_samples: 50 clusters: {0: 400}\n"
     ]
    }
   ],
   "source": [
    "clusterings = []\n",
    "\n",
    "epsilon = np.arange(0.5, 1.4, 0.1)\n",
    "min_sampless = [5,10,20,50]\n",
    "\n",
    "for e in epsilon:\n",
    "    for min_samples in min_sampless:\n",
    "        cluster = {}\n",
    "        dbscan = DBSCAN(eps=e, min_samples=min_samples)\n",
    "        dbscan.fit(X_PCA)\n",
    "        cluster[\"algorithm\"] = \"DBSCAN\"\n",
    "        cluster[\"labels\"] = dbscan.labels_\n",
    "        cluster[\"parameters\"] = {'eps': e, 'min_samples':min_samples}\n",
    "        clusterings.append(cluster)\n",
    "\n",
    "        y_pred = dbscan.labels_\n",
    "\n",
    "        unique, counts = np.unique(dbscan.labels_, return_counts=True)\n",
    "\n",
    "        print(\"eps:\",e,\"min_samples:\", min_samples,\"clusters:\", dict(zip(unique, counts)))"
   ]
  },
  {
   "cell_type": "markdown",
   "metadata": {},
   "source": [
    "### Calculating scores"
   ]
  },
  {
   "cell_type": "code",
   "execution_count": 340,
   "metadata": {},
   "outputs": [],
   "source": [
    "def calcScores(clustering):\n",
    "    ss = silhouette_score(X_PCA, clustering[\"labels\"])\n",
    "    #print(\"Silhouette score:\", ss)\n",
    "\n",
    "    hs = homogeneity_score(y, clustering[\"labels\"])\n",
    "    #print(\"Homogenity score:\", hs)\n",
    "\n",
    "    cs = completeness_score(y, clustering[\"labels\"])\n",
    "    #print(\"Completeness score:\", cs)\n",
    "    \n",
    "    return ss, hs, cs"
   ]
  },
  {
   "cell_type": "code",
   "execution_count": 341,
   "metadata": {
    "scrolled": true
   },
   "outputs": [
    {
     "name": "stdout",
     "output_type": "stream",
     "text": [
      "{-1}\n",
      "{-1}\n",
      "{-1}\n",
      "{-1}\n",
      "{-1}\n",
      "{-1}\n",
      "{-1}\n",
      "{-1}\n",
      "{0, 1, 2, -1}\n",
      "{-1}\n",
      "{-1}\n",
      "{-1}\n",
      "{0, 1, 2, 3, 4, 5, -1}\n",
      "{-1}\n",
      "{-1}\n",
      "{-1}\n",
      "{0, 1, 2, 3, 4, 5, 6, -1}\n",
      "{0, 1, 2, 3, -1}\n",
      "{-1}\n",
      "{-1}\n",
      "{0, 1, 2, -1}\n",
      "{0, 1, -1}\n",
      "{0, -1}\n",
      "{0, -1}\n",
      "{0, 1, -1}\n",
      "{0, -1}\n",
      "{0, -1}\n",
      "{0, -1}\n",
      "{0, -1}\n",
      "{0, -1}\n",
      "{0, -1}\n",
      "{0, -1}\n",
      "{0}\n",
      "{0}\n",
      "{0}\n",
      "{0}\n"
     ]
    }
   ],
   "source": [
    "silhouette_scores = []\n",
    "homogeneity_scores = []\n",
    "completeness_scores = []\n",
    "\n",
    "for clustering in clusterings:\n",
    "    print(set(clustering[\"labels\"]))\n",
    "    if(len(set(clustering[\"labels\"]))<2):\n",
    "        ss, hs, cs = 0,0,0\n",
    "    else:\n",
    "        ss, hs, cs = calcScores(clustering)\n",
    "#     print(\"Silhouette score:\", ss)\n",
    "#     print(\"Homogenity score:\", hs)\n",
    "#     print(\"Completeness score:\", cs)\n",
    "\n",
    "    silhouette_scores.append(ss)\n",
    "    homogeneity_scores.append(hs)\n",
    "    completeness_scores.append(cs)\n",
    "\n",
    "# print(silhouette_scores)\n",
    "# print(homogeneity_scores)\n",
    "# print(completeness_scores)"
   ]
  },
  {
   "cell_type": "markdown",
   "metadata": {},
   "source": [
    "### Display results in table"
   ]
  },
  {
   "cell_type": "code",
   "execution_count": 343,
   "metadata": {
    "scrolled": false
   },
   "outputs": [
    {
     "data": {
      "text/html": [
       "<table style=\"border: 1px solid black\"><tr><th>Nr</th><th>Algorithm</th><th>Parameters</th><th>Silhouette score</th><th>Homogenity score</th><th>Completeness score</th></tr><tr><td>0</td><td>DBSCAN</td><td>{'eps': 0.5, 'min_samples': 5}</td><td>0.0</td><td>0.0</td><td>0.0</td></td><tr><td>1</td><td>DBSCAN</td><td>{'eps': 0.5, 'min_samples': 10}</td><td>0.0</td><td>0.0</td><td>0.0</td></td><tr><td>2</td><td>DBSCAN</td><td>{'eps': 0.5, 'min_samples': 20}</td><td>0.0</td><td>0.0</td><td>0.0</td></td><tr><td>3</td><td>DBSCAN</td><td>{'eps': 0.5, 'min_samples': 50}</td><td>0.0</td><td>0.0</td><td>0.0</td></td><tr><td>4</td><td>DBSCAN</td><td>{'eps': 0.6, 'min_samples': 5}</td><td>0.0</td><td>0.0</td><td>0.0</td></td><tr><td>5</td><td>DBSCAN</td><td>{'eps': 0.6, 'min_samples': 10}</td><td>0.0</td><td>0.0</td><td>0.0</td></td><tr><td>6</td><td>DBSCAN</td><td>{'eps': 0.6, 'min_samples': 20}</td><td>0.0</td><td>0.0</td><td>0.0</td></td><tr><td>7</td><td>DBSCAN</td><td>{'eps': 0.6, 'min_samples': 50}</td><td>0.0</td><td>0.0</td><td>0.0</td></td><tr><td>8</td><td>DBSCAN</td><td>{'eps': 0.7, 'min_samples': 5}</td><td>-0.03232</td><td>0.04171</td><td>0.59016</td></td><tr><td>9</td><td>DBSCAN</td><td>{'eps': 0.7, 'min_samples': 10}</td><td>0.0</td><td>0.0</td><td>0.0</td></td><tr><td>10</td><td>DBSCAN</td><td>{'eps': 0.7, 'min_samples': 20}</td><td>0.0</td><td>0.0</td><td>0.0</td></td><tr><td>11</td><td>DBSCAN</td><td>{'eps': 0.7, 'min_samples': 50}</td><td>0.0</td><td>0.0</td><td>0.0</td></td><tr style=\"font-weight:bold; color:magenta;\"><td>12</td><td>DBSCAN</td><td>{'eps': 0.7999999999999999, 'min_samples': 5}</td><td>-0.01902</td><td>0.11515</td><td>0.66125</td></td><tr><td>13</td><td>DBSCAN</td><td>{'eps': 0.7999999999999999, 'min_samples': 10}</td><td>0.0</td><td>0.0</td><td>0.0</td></td><tr><td>14</td><td>DBSCAN</td><td>{'eps': 0.7999999999999999, 'min_samples': 20}</td><td>0.0</td><td>0.0</td><td>0.0</td></td><tr><td>15</td><td>DBSCAN</td><td>{'eps': 0.7999999999999999, 'min_samples': 50}</td><td>0.0</td><td>0.0</td><td>0.0</td></td><tr style=\"font-weight:bold; color:green;\"><td>16</td><td>DBSCAN</td><td>{'eps': 0.8999999999999999, 'min_samples': 5}</td><td>0.00714</td><td>0.25696</td><td>0.64842</td></td><tr><td>17</td><td>DBSCAN</td><td>{'eps': 0.8999999999999999, 'min_samples': 10}</td><td>-0.0369</td><td>0.1299</td><td>0.58201</td></td><tr><td>18</td><td>DBSCAN</td><td>{'eps': 0.8999999999999999, 'min_samples': 20}</td><td>0.0</td><td>0.0</td><td>0.0</td></td><tr><td>19</td><td>DBSCAN</td><td>{'eps': 0.8999999999999999, 'min_samples': 50}</td><td>0.0</td><td>0.0</td><td>0.0</td></td><tr><td>20</td><td>DBSCAN</td><td>{'eps': 0.9999999999999999, 'min_samples': 5}</td><td>0.02593</td><td>0.15655</td><td>0.51553</td></td><tr><td>21</td><td>DBSCAN</td><td>{'eps': 0.9999999999999999, 'min_samples': 10}</td><td>0.01299</td><td>0.11486</td><td>0.4246</td></td><tr><td>22</td><td>DBSCAN</td><td>{'eps': 0.9999999999999999, 'min_samples': 20}</td><td>-0.00574</td><td>0.06185</td><td>0.30886</td></td><tr><td>23</td><td>DBSCAN</td><td>{'eps': 0.9999999999999999, 'min_samples': 50}</td><td>-0.01631</td><td>0.04964</td><td>0.28056</td></td><tr><td>24</td><td>DBSCAN</td><td>{'eps': 1.0999999999999999, 'min_samples': 5}</td><td>0.04553</td><td>0.08357</td><td>0.42502</td></td><tr><td>25</td><td>DBSCAN</td><td>{'eps': 1.0999999999999999, 'min_samples': 10}</td><td>0.03969</td><td>0.06707</td><td>0.36269</td></td><tr><td>26</td><td>DBSCAN</td><td>{'eps': 1.0999999999999999, 'min_samples': 20}</td><td>0.03565</td><td>0.06804</td><td>0.33852</td></td><tr><td>27</td><td>DBSCAN</td><td>{'eps': 1.0999999999999999, 'min_samples': 50}</td><td>0.03194</td><td>0.06447</td><td>0.2903</td></td><tr style=\"font-weight:bold; color:blue;\"><td>28</td><td>DBSCAN</td><td>{'eps': 1.1999999999999997, 'min_samples': 5}</td><td>0.06183</td><td>0.02021</td><td>0.34441</td></td><tr><td>29</td><td>DBSCAN</td><td>{'eps': 1.1999999999999997, 'min_samples': 10}</td><td>0.06131</td><td>0.02298</td><td>0.36029</td></td><tr><td>30</td><td>DBSCAN</td><td>{'eps': 1.1999999999999997, 'min_samples': 20}</td><td>0.06076</td><td>0.02497</td><td>0.36352</td></td><tr><td>31</td><td>DBSCAN</td><td>{'eps': 1.1999999999999997, 'min_samples': 50}</td><td>0.06003</td><td>0.03014</td><td>0.38621</td></td><tr><td>32</td><td>DBSCAN</td><td>{'eps': 1.2999999999999998, 'min_samples': 5}</td><td>0.0</td><td>0.0</td><td>0.0</td></td><tr><td>33</td><td>DBSCAN</td><td>{'eps': 1.2999999999999998, 'min_samples': 10}</td><td>0.0</td><td>0.0</td><td>0.0</td></td><tr><td>34</td><td>DBSCAN</td><td>{'eps': 1.2999999999999998, 'min_samples': 20}</td><td>0.0</td><td>0.0</td><td>0.0</td></td><tr><td>35</td><td>DBSCAN</td><td>{'eps': 1.2999999999999998, 'min_samples': 50}</td><td>0.0</td><td>0.0</td><td>0.0</td></td></table><p>Legend:</p><p><b  style=\"color:blue\">best silhouette score</p><p><b  style=\"color:green\">best homogeneity score</b></p><p><b  style=\"color:magenta\"> best completeness score </b></p>"
      ],
      "text/plain": [
       "<IPython.core.display.HTML object>"
      ]
     },
     "metadata": {},
     "output_type": "display_data"
    }
   ],
   "source": [
    "from IPython.display import HTML, display\n",
    "\n",
    "# Build table header\n",
    "tableHeader = '<tr>'    \n",
    "for item in [\"Nr\", \"Algorithm\",\"Parameters\", \"Silhouette score\", \"Homogenity score\", \"Completeness score\"]:\n",
    "    tableHeader += '<th>' + item  + '</th>'\n",
    "tableHeader += '</tr>'\n",
    "\n",
    "\n",
    "data_rows = ''\n",
    "nr = 0\n",
    "best_model_index = {}\n",
    "\n",
    "for i, clustering in enumerate(clusterings):\n",
    "        data_row = '<tr>'\n",
    "         \n",
    "        if silhouette_scores[i]==max(silhouette_scores):\n",
    "            data_row = '<tr style=\"font-weight:bold; color:blue;\">'\n",
    "            best_model_index[clustering[\"algorithm\"]] = i\n",
    "        elif homogeneity_scores[i]==max(homogeneity_scores):\n",
    "            data_row = '<tr style=\"font-weight:bold; color:green;\">'\n",
    "        elif completeness_scores[i]==max(completeness_scores):\n",
    "            data_row = '<tr style=\"font-weight:bold; color:magenta;\">'\n",
    "            \n",
    "        data_row += '<td>' + str(nr) + '</td>'\n",
    "        data_row += '<td>' + str(clustering[\"algorithm\"]) + '</td>'\n",
    "        data_row += '<td>' + str(clustering[\"parameters\"]) + '</td>'\n",
    "        data_row += '<td>' + str(float(\"{0:.5f}\".format(silhouette_scores[i]))) + '</td>'\n",
    "        data_row += '<td>' + str(float(\"{0:.5f}\".format(homogeneity_scores[i]))) + '</td>'\n",
    "        data_row += '<td>' + str(float(\"{0:.5f}\".format(completeness_scores[i]))) + '</td>'\n",
    "        \n",
    "        data_row += '</td>'\n",
    "        data_rows += data_row\n",
    "        nr += 1\n",
    "\n",
    "\n",
    "legend = '<p>Legend:</p>'\n",
    "legend += '<p><b  style=\"color:blue\">best silhouette score</p>'\n",
    "legend += '<p><b  style=\"color:green\">best homogeneity score</b></p>'\n",
    "legend += '<p><b  style=\"color:magenta\"> best completeness score </b></p>'\n",
    "\n",
    "HTML_code = '<table style=\"border: 1px solid black\">'+tableHeader+ data_rows + '</table>'  + legend\n",
    "\n",
    "display(HTML(HTML_code))"
   ]
  },
  {
   "cell_type": "markdown",
   "metadata": {},
   "source": [
    "### KMeans"
   ]
  },
  {
   "cell_type": "code",
   "execution_count": 300,
   "metadata": {},
   "outputs": [],
   "source": [
    "clustering = []"
   ]
  },
  {
   "cell_type": "markdown",
   "metadata": {},
   "source": [
    "### Try to see if 2 clusters (based on positive/negative sentiment) can be obtained"
   ]
  },
  {
   "cell_type": "code",
   "execution_count": 255,
   "metadata": {},
   "outputs": [
    {
     "name": "stdout",
     "output_type": "stream",
     "text": [
      "clusters: {0: 122, 1: 278}\n",
      "clusters: {0: 176, 1: 224}\n"
     ]
    }
   ],
   "source": [
    "inits = [\"k-means++\", \"random\"]\n",
    "kmeans_2 = []\n",
    "n_clusters=2\n",
    "\n",
    "for init in inits:\n",
    "    kmeans = KMeans(n_clusters=n_clusters, init=init)\n",
    "    # kmeans.fit(X_train_PCA)\n",
    "    kmeans.fit(X_PCA)\n",
    "    unique, counts = np.unique(kmeans.labels_, return_counts=True)\n",
    "    clusters = dict(zip(unique, counts))\n",
    "    print(\"clusters:\", clusters)\n",
    "    cluster = {}\n",
    "    cluster[\"algorithm\"] = \"KMeans\"\n",
    "    cluster[\"labels\"] = kmeans.labels_\n",
    "    cluster[\"parameters\"] = {'inits': init, 'n_clusters':n_clusters}\n",
    "    clusterings.append(cluster)\n",
    "\n",
    "#     clusterings.append(kmeans)\n",
    "    kmeans_2.append(kmeans)"
   ]
  },
  {
   "cell_type": "code",
   "execution_count": 248,
   "metadata": {},
   "outputs": [
    {
     "data": {
      "image/png": "[encoded data removed]",
      "text/plain": [
       "<Figure size 432x288 with 1 Axes>"
      ]
     },
     "metadata": {
      "needs_background": "light"
     },
     "output_type": "display_data"
    },
    {
     "data": {
      "image/png": "[encoded data removed]",
      "text/plain": [
       "<Figure size 432x288 with 1 Axes>"
      ]
     },
     "metadata": {
      "needs_background": "light"
     },
     "output_type": "display_data"
    }
   ],
   "source": [
    "plt.scatter(range(0,400), comps, c=kmeans_2[0].labels_)\n",
    "plt.title(\"Kmeans - 2 clusters + sentiment + init: k-means++\")\n",
    "plt.show()\n",
    "\n",
    "plt.scatter(range(0,400), comps, c=kmeans_2[1].labels_)\n",
    "plt.title(\"Kmeans - 2 clusters + sentiment + init: random\")\n",
    "plt.show()\n"
   ]
  },
  {
   "cell_type": "markdown",
   "metadata": {},
   "source": [
    "**Conclusions:** clustering looks rather random than based on sentiment. Keans didn't separate data based on sentiment"
   ]
  },
  {
   "cell_type": "markdown",
   "metadata": {},
   "source": [
    "### Try to see if 20 clusters (based on author) can be obtained"
   ]
  },
  {
   "cell_type": "code",
   "execution_count": 256,
   "metadata": {
    "scrolled": true
   },
   "outputs": [
    {
     "name": "stdout",
     "output_type": "stream",
     "text": [
      "clusters: {0: 4, 1: 4, 2: 20, 3: 8, 4: 22, 5: 68, 6: 7, 7: 8, 8: 10, 9: 19, 10: 5, 11: 14, 12: 12, 13: 9, 14: 58, 15: 19, 16: 86, 17: 9, 18: 16, 19: 2}\n",
      "clusters: {0: 25, 1: 1, 2: 8, 3: 6, 4: 99, 5: 4, 6: 3, 7: 109, 8: 1, 9: 2, 10: 6, 11: 2, 12: 21, 13: 54, 14: 2, 15: 5, 16: 11, 17: 25, 18: 12, 19: 4}\n"
     ]
    }
   ],
   "source": [
    "inits = [\"k-means++\", \"random\"]\n",
    "kmeans_20 = []\n",
    "n_clusters=20\n",
    "\n",
    "for init in inits:\n",
    "    kmeans = KMeans(n_clusters=n_clusters, init=init)\n",
    "    # kmeans.fit(X_train_PCA)\n",
    "    kmeans.fit(X_PCA)\n",
    "    unique, counts = np.unique(kmeans.labels_, return_counts=True)\n",
    "    clusters = dict(zip(unique, counts))\n",
    "    print(\"clusters:\", clusters)\n",
    "    \n",
    "    cluster = {}\n",
    "    cluster[\"algorithm\"] = \"KMeans\"\n",
    "    cluster[\"labels\"] = kmeans.labels_\n",
    "    cluster[\"parameters\"] = {'inits': init, 'n_clusters':n_clusters}\n",
    "    clusterings.append(cluster)\n",
    "\n",
    "#     clusterings.append(kmeans)\n",
    "    kmeans_20.append(kmeans)"
   ]
  },
  {
   "cell_type": "markdown",
   "metadata": {},
   "source": [
    "**Conclusions:** The clustering of authors using kmeans is not ok. There should be 20 authors with 20 books (20 items in each cluster)"
   ]
  },
  {
   "cell_type": "markdown",
   "metadata": {},
   "source": [
    "### Trying kmeans with different number of clusters"
   ]
  },
  {
   "cell_type": "code",
   "execution_count": 299,
   "metadata": {},
   "outputs": [
    {
     "name": "stdout",
     "output_type": "stream",
     "text": [
      "clusters: {0: 176, 1: 35, 2: 22, 3: 12, 4: 155}\n",
      "clusters: {0: 21, 1: 26, 2: 34, 3: 24, 4: 44, 5: 14, 6: 6, 7: 39, 8: 20, 9: 10, 10: 21, 11: 18, 12: 16, 13: 5, 14: 102}\n",
      "clusters: {0: 20, 1: 12, 2: 20, 3: 3, 4: 5, 5: 6, 6: 78, 7: 12, 8: 10, 9: 6, 10: 2, 11: 8, 12: 8, 13: 34, 14: 8, 15: 4, 16: 7, 17: 29, 18: 10, 19: 6, 20: 5, 21: 4, 22: 18, 23: 68, 24: 17}\n",
      "clusters: {0: 2, 1: 4, 2: 9, 3: 13, 4: 20, 5: 79, 6: 4, 7: 14, 8: 6, 9: 10, 10: 5, 11: 2, 12: 11, 13: 2, 14: 2, 15: 2, 16: 2, 17: 13, 18: 8, 19: 16, 20: 18, 21: 15, 22: 4, 23: 15, 24: 5, 25: 76, 26: 2, 27: 2, 28: 4, 29: 3, 30: 8, 31: 7, 32: 4, 33: 11, 34: 2}\n",
      "clusters: {0: 19, 1: 32, 2: 14, 3: 16, 4: 80, 5: 12, 6: 4, 7: 8, 8: 20, 9: 1, 10: 10, 11: 5, 12: 13, 13: 12, 14: 16, 15: 18, 16: 6, 17: 10, 18: 4, 19: 3, 20: 4, 21: 2, 22: 7, 23: 3, 24: 2, 25: 2, 26: 13, 27: 4, 28: 2, 29: 4, 30: 2, 31: 4, 32: 3, 33: 2, 34: 2, 35: 7, 36: 5, 37: 2, 38: 1, 39: 2, 40: 2, 41: 1, 42: 10, 43: 9, 44: 2}\n",
      "clusters: {0: 2, 1: 5, 2: 8, 3: 3, 4: 2, 5: 10, 6: 9, 7: 2, 8: 3, 9: 8, 10: 4, 11: 13, 12: 10, 13: 14, 14: 6, 15: 11, 16: 2, 17: 8, 18: 3, 19: 20, 20: 13, 21: 5, 22: 5, 23: 4, 24: 6, 25: 2, 26: 2, 27: 12, 28: 3, 29: 2, 30: 3, 31: 6, 32: 17, 33: 4, 34: 2, 35: 2, 36: 3, 37: 2, 38: 2, 39: 3, 40: 2, 41: 10, 42: 23, 43: 10, 44: 2, 45: 1, 46: 1, 47: 51, 48: 18, 49: 3, 50: 2, 51: 9, 52: 2, 53: 1, 54: 24}\n",
      "clusters: {0: 2, 1: 14, 2: 4, 3: 16, 4: 5, 5: 4, 6: 3, 7: 4, 8: 14, 9: 8, 10: 2, 11: 4, 12: 2, 13: 4, 14: 9, 15: 4, 16: 12, 17: 9, 18: 10, 19: 2, 20: 2, 21: 3, 22: 3, 23: 5, 24: 9, 25: 57, 26: 10, 27: 4, 28: 2, 29: 2, 30: 2, 31: 6, 32: 7, 33: 19, 34: 6, 35: 3, 36: 24, 37: 4, 38: 2, 39: 3, 40: 3, 41: 2, 42: 1, 43: 7, 44: 4, 45: 2, 46: 2, 47: 5, 48: 21, 49: 3, 50: 4, 51: 1, 52: 3, 53: 2, 54: 2, 55: 5, 56: 10, 57: 2, 58: 2, 59: 2, 60: 3, 61: 2, 62: 2, 63: 3, 64: 2}\n",
      "clusters: {0: 9, 1: 20, 2: 12, 3: 5, 4: 12, 5: 2, 6: 8, 7: 13, 8: 3, 9: 10, 10: 3, 11: 5, 12: 8, 13: 7, 14: 8, 15: 2, 16: 2, 17: 3, 18: 3, 19: 3, 20: 5, 21: 31, 22: 2, 23: 3, 24: 4, 25: 2, 26: 2, 27: 9, 28: 4, 29: 3, 30: 3, 31: 5, 32: 5, 33: 2, 34: 2, 35: 2, 36: 3, 37: 4, 38: 8, 39: 4, 40: 3, 41: 6, 42: 2, 43: 3, 44: 4, 45: 2, 46: 1, 47: 8, 48: 2, 49: 2, 50: 5, 51: 4, 52: 2, 53: 2, 54: 1, 55: 2, 56: 1, 57: 4, 58: 1, 59: 2, 60: 32, 61: 1, 62: 2, 63: 3, 64: 7, 65: 1, 66: 15, 67: 2, 68: 30, 69: 1, 70: 1, 71: 1, 72: 2, 73: 2, 74: 2}\n",
      "clusters: {0: 8, 1: 3, 2: 5, 3: 5, 4: 15, 5: 2, 6: 10, 7: 18, 8: 2, 9: 3, 10: 10, 11: 6, 12: 11, 13: 2, 14: 6, 15: 30, 16: 4, 17: 5, 18: 12, 19: 3, 20: 1, 21: 4, 22: 8, 23: 17, 24: 6, 25: 8, 26: 29, 27: 2, 28: 12, 29: 2, 30: 2, 31: 4, 32: 2, 33: 2, 34: 2, 35: 1, 36: 3, 37: 4, 38: 2, 39: 1, 40: 5, 41: 13, 42: 4, 43: 2, 44: 1, 45: 2, 46: 1, 47: 2, 48: 2, 49: 2, 50: 3, 51: 16, 52: 2, 53: 2, 54: 2, 55: 2, 56: 2, 57: 1, 58: 1, 59: 1, 60: 4, 61: 1, 62: 6, 63: 1, 64: 1, 65: 2, 66: 2, 67: 2, 68: 2, 69: 4, 70: 1, 71: 3, 72: 1, 73: 3, 74: 10, 75: 2, 76: 3, 77: 2, 78: 2, 79: 2, 80: 1, 81: 1, 82: 2, 83: 3, 84: 1}\n",
      "clusters: {0: 3, 1: 3, 2: 8, 3: 10, 4: 5, 5: 2, 6: 4, 7: 5, 8: 13, 9: 3, 10: 3, 11: 2, 12: 3, 13: 5, 14: 5, 15: 2, 16: 2, 17: 5, 18: 7, 19: 4, 20: 10, 21: 44, 22: 8, 23: 2, 24: 16, 25: 3, 26: 1, 27: 5, 28: 2, 29: 2, 30: 2, 31: 5, 32: 12, 33: 10, 34: 4, 35: 1, 36: 4, 37: 3, 38: 3, 39: 2, 40: 2, 41: 3, 42: 4, 43: 2, 44: 2, 45: 1, 46: 3, 47: 3, 48: 3, 49: 2, 50: 2, 51: 5, 52: 2, 53: 5, 54: 2, 55: 2, 56: 2, 57: 2, 58: 1, 59: 2, 60: 2, 61: 1, 62: 1, 63: 5, 64: 2, 65: 2, 66: 1, 67: 14, 68: 3, 69: 2, 70: 1, 71: 2, 72: 20, 73: 24, 74: 1, 75: 1, 76: 1, 77: 2, 78: 8, 79: 3, 80: 1, 81: 2, 82: 2, 83: 1, 84: 1, 85: 1, 86: 2, 87: 1, 88: 1, 89: 3, 90: 1, 91: 1, 92: 1, 93: 1, 94: 2}\n",
      "clusters: {0: 1, 1: 16, 2: 4, 3: 2, 4: 1, 5: 12, 6: 10, 7: 12, 8: 3, 9: 4, 10: 1, 11: 2, 12: 2, 13: 10, 14: 8, 15: 2, 16: 13, 17: 1, 18: 4, 19: 7, 20: 16, 21: 2, 22: 2, 23: 2, 24: 3, 25: 1, 26: 13, 27: 7, 28: 3, 29: 5, 30: 3, 31: 2, 32: 4, 33: 2, 34: 3, 35: 5, 36: 2, 37: 2, 38: 2, 39: 7, 40: 13, 41: 1, 42: 2, 43: 2, 44: 1, 45: 1, 46: 6, 47: 4, 48: 2, 49: 4, 50: 3, 51: 1, 52: 1, 53: 8, 54: 2, 55: 2, 56: 2, 57: 4, 58: 2, 59: 2, 60: 2, 61: 2, 62: 1, 63: 1, 64: 2, 65: 2, 66: 1, 67: 3, 68: 3, 69: 25, 70: 31, 71: 3, 72: 1, 73: 1, 74: 1, 75: 1, 76: 2, 77: 1, 78: 1, 79: 3, 80: 2, 81: 1, 82: 3, 83: 2, 84: 2, 85: 1, 86: 1, 87: 1, 88: 3, 89: 4, 90: 1, 91: 1, 92: 1, 93: 2, 94: 1, 95: 3, 96: 2, 97: 1, 98: 1, 99: 2, 100: 6, 101: 2, 102: 2, 103: 3, 104: 1}\n",
      "clusters: {0: 1, 1: 9, 2: 2, 3: 20, 4: 3, 5: 2, 6: 8, 7: 12, 8: 4, 9: 5, 10: 2, 11: 2, 12: 5, 13: 13, 14: 1, 15: 8, 16: 8, 17: 4, 18: 2, 19: 3, 20: 1, 21: 4, 22: 2, 23: 7, 24: 3, 25: 1, 26: 5, 27: 2, 28: 2, 29: 8, 30: 2, 31: 5, 32: 3, 33: 4, 34: 3, 35: 6, 36: 9, 37: 1, 38: 2, 39: 2, 40: 3, 41: 4, 42: 2, 43: 1, 44: 6, 45: 1, 46: 2, 47: 2, 48: 5, 49: 2, 50: 2, 51: 1, 52: 2, 53: 11, 54: 3, 55: 18, 56: 3, 57: 2, 58: 14, 59: 2, 60: 3, 61: 2, 62: 1, 63: 6, 64: 8, 65: 2, 66: 2, 67: 1, 68: 1, 69: 1, 70: 3, 71: 1, 72: 3, 73: 2, 74: 2, 75: 1, 76: 2, 77: 26, 78: 1, 79: 2, 80: 2, 81: 1, 82: 2, 83: 2, 84: 1, 85: 2, 86: 5, 87: 1, 88: 1, 89: 2, 90: 1, 91: 3, 92: 1, 93: 1, 94: 7, 95: 1, 96: 3, 97: 2, 98: 1, 99: 1, 100: 1, 101: 1, 102: 1, 103: 2, 104: 1, 105: 1, 106: 1, 107: 1, 108: 1, 109: 1, 110: 1, 111: 1, 112: 1, 113: 2, 114: 2}\n",
      "clusters: {0: 4, 1: 3, 2: 8, 3: 3, 4: 5, 5: 1, 6: 4, 7: 3, 8: 5, 9: 2, 10: 3, 11: 9, 12: 10, 13: 7, 14: 32, 15: 3, 16: 12, 17: 4, 18: 3, 19: 6, 20: 3, 21: 1, 22: 1, 23: 3, 24: 6, 25: 5, 26: 4, 27: 2, 28: 5, 29: 1, 30: 2, 31: 5, 32: 3, 33: 6, 34: 14, 35: 2, 36: 4, 37: 2, 38: 3, 39: 9, 40: 2, 41: 2, 42: 2, 43: 19, 44: 3, 45: 2, 46: 4, 47: 2, 48: 3, 49: 1, 50: 1, 51: 4, 52: 4, 53: 3, 54: 1, 55: 1, 56: 2, 57: 5, 58: 2, 59: 3, 60: 1, 61: 2, 62: 1, 63: 2, 64: 2, 65: 1, 66: 2, 67: 2, 68: 5, 69: 3, 70: 4, 71: 1, 72: 2, 73: 1, 74: 2, 75: 4, 76: 2, 77: 2, 78: 1, 79: 1, 80: 1, 81: 1, 82: 2, 83: 1, 84: 19, 85: 1, 86: 1, 87: 2, 88: 1, 89: 1, 90: 2, 91: 2, 92: 2, 93: 2, 94: 1, 95: 1, 96: 1, 97: 2, 98: 1, 99: 2, 100: 1, 101: 1, 102: 3, 103: 1, 104: 1, 105: 2, 106: 1, 107: 2, 108: 8, 109: 2, 110: 1, 111: 1, 112: 1, 113: 1, 114: 1, 115: 1, 116: 1, 117: 1, 118: 1, 119: 2, 120: 1, 121: 1, 122: 1, 123: 1, 124: 2}\n",
      "clusters: {0: 9, 1: 12, 2: 11, 3: 2, 4: 6, 5: 12, 6: 9, 7: 4, 8: 8, 9: 2, 10: 3, 11: 4, 12: 4, 13: 2, 14: 2, 15: 15, 16: 4, 17: 5, 18: 1, 19: 9, 20: 6, 21: 4, 22: 3, 23: 2, 24: 1, 25: 2, 26: 2, 27: 2, 28: 4, 29: 19, 30: 2, 31: 11, 32: 3, 33: 2, 34: 3, 35: 2, 36: 1, 37: 2, 38: 1, 39: 9, 40: 2, 41: 2, 42: 4, 43: 2, 44: 2, 45: 3, 46: 5, 47: 3, 48: 1, 49: 3, 50: 1, 51: 3, 52: 3, 53: 1, 54: 2, 55: 1, 56: 2, 57: 3, 58: 3, 59: 1, 60: 2, 61: 31, 62: 1, 63: 5, 64: 1, 65: 1, 66: 2, 67: 1, 68: 1, 69: 1, 70: 1, 71: 2, 72: 2, 73: 2, 74: 1, 75: 1, 76: 1, 77: 1, 78: 4, 79: 1, 80: 1, 81: 1, 82: 1, 83: 2, 84: 2, 85: 2, 86: 3, 87: 2, 88: 1, 89: 1, 90: 1, 91: 1, 92: 3, 93: 1, 94: 1, 95: 1, 96: 1, 97: 1, 98: 1, 99: 3, 100: 3, 101: 1, 102: 4, 103: 1, 104: 1, 105: 1, 106: 1, 107: 3, 108: 3, 109: 1, 110: 1, 111: 1, 112: 2, 113: 1, 114: 1, 115: 1, 116: 2, 117: 1, 118: 1, 119: 1, 120: 1, 121: 1, 122: 1, 123: 1, 124: 1, 125: 1, 126: 1, 127: 3, 128: 2, 129: 2, 130: 3, 131: 1, 132: 2, 133: 1, 134: 4}\n",
      "clusters: {0: 5, 1: 1, 2: 3, 3: 6, 4: 1, 5: 5, 6: 6, 7: 3, 8: 20, 9: 3, 10: 9, 11: 6, 12: 3, 13: 2, 14: 2, 15: 4, 16: 3, 17: 9, 18: 2, 19: 2, 20: 1, 21: 2, 22: 2, 23: 2, 24: 2, 25: 3, 26: 9, 27: 3, 28: 9, 29: 5, 30: 4, 31: 3, 32: 2, 33: 3, 34: 4, 35: 2, 36: 2, 37: 1, 38: 3, 39: 2, 40: 2, 41: 4, 42: 5, 43: 3, 44: 1, 45: 2, 46: 1, 47: 2, 48: 7, 49: 2, 50: 2, 51: 3, 52: 1, 53: 3, 54: 2, 55: 2, 56: 2, 57: 1, 58: 1, 59: 1, 60: 2, 61: 2, 62: 11, 63: 10, 64: 2, 65: 1, 66: 2, 67: 2, 68: 1, 69: 1, 70: 2, 71: 2, 72: 11, 73: 1, 74: 1, 75: 2, 76: 3, 77: 3, 78: 1, 79: 2, 80: 1, 81: 2, 82: 1, 83: 2, 84: 1, 85: 2, 86: 3, 87: 3, 88: 1, 89: 3, 90: 1, 91: 2, 92: 1, 93: 1, 94: 1, 95: 1, 96: 1, 97: 3, 98: 1, 99: 2, 100: 1, 101: 1, 102: 1, 103: 5, 104: 1, 105: 1, 106: 1, 107: 1, 108: 1, 109: 2, 110: 21, 111: 1, 112: 2, 113: 2, 114: 1, 115: 1, 116: 1, 117: 1, 118: 3, 119: 3, 120: 1, 121: 1, 122: 1, 123: 1, 124: 2, 125: 1, 126: 1, 127: 1, 128: 1, 129: 7, 130: 14, 131: 1, 132: 1, 133: 1, 134: 1, 135: 1, 136: 3, 137: 1, 138: 1, 139: 1, 140: 2, 141: 1, 142: 1, 143: 1, 144: 1}\n",
      "clusters: {0: 57, 1: 10, 2: 79, 3: 6, 4: 248}\n"
     ]
    },
    {
     "name": "stdout",
     "output_type": "stream",
     "text": [
      "clusters: {0: 3, 1: 197, 2: 1, 3: 13, 4: 4, 5: 32, 6: 2, 7: 19, 8: 39, 9: 19, 10: 18, 11: 12, 12: 14, 13: 24, 14: 3}\n",
      "clusters: {0: 2, 1: 12, 2: 20, 3: 3, 4: 88, 5: 1, 6: 20, 7: 19, 8: 19, 9: 59, 10: 2, 11: 67, 12: 8, 13: 6, 14: 3, 15: 15, 16: 16, 17: 7, 18: 3, 19: 3, 20: 1, 21: 14, 22: 2, 23: 1, 24: 9}\n",
      "clusters: {0: 15, 1: 14, 2: 5, 3: 4, 4: 2, 5: 25, 6: 3, 7: 6, 8: 8, 9: 47, 10: 5, 11: 1, 12: 8, 13: 86, 14: 26, 15: 5, 16: 1, 17: 1, 18: 20, 19: 3, 20: 1, 21: 10, 22: 3, 23: 14, 24: 7, 25: 2, 26: 14, 27: 11, 28: 1, 29: 10, 30: 2, 31: 2, 32: 34, 33: 2, 34: 2}\n",
      "clusters: {0: 1, 1: 1, 2: 2, 3: 7, 4: 3, 5: 55, 6: 2, 7: 2, 8: 14, 9: 14, 10: 3, 11: 1, 12: 1, 13: 1, 14: 2, 15: 4, 16: 2, 17: 4, 18: 10, 19: 4, 20: 2, 21: 2, 22: 1, 23: 26, 24: 2, 25: 4, 26: 3, 27: 10, 28: 5, 29: 3, 30: 13, 31: 8, 32: 2, 33: 3, 34: 12, 35: 2, 36: 2, 37: 5, 38: 9, 39: 3, 40: 13, 41: 10, 42: 16, 43: 35, 44: 76}\n",
      "clusters: {0: 5, 1: 1, 2: 13, 3: 2, 4: 2, 5: 1, 6: 1, 7: 1, 8: 5, 9: 1, 10: 7, 11: 2, 12: 3, 13: 3, 14: 1, 15: 17, 16: 2, 17: 4, 18: 2, 19: 4, 20: 2, 21: 4, 22: 1, 23: 2, 24: 1, 25: 1, 26: 79, 27: 15, 28: 11, 29: 4, 30: 63, 31: 4, 32: 1, 33: 2, 34: 1, 35: 3, 36: 3, 37: 2, 38: 10, 39: 4, 40: 3, 41: 12, 42: 1, 43: 1, 44: 35, 45: 1, 46: 2, 47: 2, 48: 8, 49: 3, 50: 1, 51: 12, 52: 2, 53: 6, 54: 21}\n",
      "clusters: {0: 2, 1: 1, 2: 1, 3: 11, 4: 2, 5: 3, 6: 7, 7: 6, 8: 2, 9: 1, 10: 1, 11: 4, 12: 4, 13: 2, 14: 1, 15: 1, 16: 2, 17: 8, 18: 5, 19: 2, 20: 1, 21: 3, 22: 1, 23: 1, 24: 2, 25: 50, 26: 1, 27: 1, 28: 3, 29: 7, 30: 6, 31: 4, 32: 75, 33: 4, 34: 7, 35: 3, 36: 8, 37: 4, 38: 12, 39: 3, 40: 2, 41: 1, 42: 1, 43: 7, 44: 6, 45: 6, 46: 2, 47: 6, 48: 1, 49: 14, 50: 3, 51: 29, 52: 7, 53: 15, 54: 2, 55: 8, 56: 1, 57: 3, 58: 11, 59: 2, 60: 5, 61: 2, 62: 1, 63: 2, 64: 1}\n",
      "clusters: {0: 4, 1: 1, 2: 6, 3: 5, 4: 89, 5: 1, 6: 3, 7: 2, 8: 2, 9: 2, 10: 3, 11: 2, 12: 1, 13: 4, 14: 4, 15: 2, 16: 2, 17: 2, 18: 12, 19: 4, 20: 7, 21: 5, 22: 4, 23: 3, 24: 2, 25: 1, 26: 1, 27: 1, 28: 3, 29: 2, 30: 1, 31: 35, 32: 1, 33: 1, 34: 9, 35: 4, 36: 2, 37: 13, 38: 10, 39: 5, 40: 2, 41: 1, 42: 14, 43: 1, 44: 1, 45: 7, 46: 2, 47: 1, 48: 6, 49: 2, 50: 3, 51: 1, 52: 3, 53: 6, 54: 2, 55: 3, 56: 1, 57: 4, 58: 4, 59: 3, 60: 5, 61: 5, 62: 3, 63: 2, 64: 2, 65: 9, 66: 6, 67: 25, 68: 3, 69: 1, 70: 1, 71: 1, 72: 1, 73: 5, 74: 3}\n",
      "clusters: {0: 8, 1: 6, 2: 1, 3: 3, 4: 4, 5: 1, 6: 1, 7: 1, 8: 1, 9: 3, 10: 1, 11: 1, 12: 1, 13: 4, 14: 4, 15: 2, 16: 1, 17: 4, 18: 1, 19: 3, 20: 2, 21: 11, 22: 2, 23: 2, 24: 3, 25: 13, 26: 3, 27: 9, 28: 2, 29: 1, 30: 1, 31: 3, 32: 2, 33: 4, 34: 2, 35: 1, 36: 11, 37: 1, 38: 6, 39: 10, 40: 2, 41: 1, 42: 1, 43: 7, 44: 9, 45: 11, 46: 3, 47: 46, 48: 9, 49: 4, 50: 5, 51: 5, 52: 2, 53: 10, 54: 2, 55: 7, 56: 2, 57: 1, 58: 14, 59: 1, 60: 3, 61: 3, 62: 1, 63: 7, 64: 4, 65: 2, 66: 1, 67: 4, 68: 33, 69: 12, 70: 3, 71: 3, 72: 3, 73: 4, 74: 1, 75: 8, 76: 1, 77: 9, 78: 2, 79: 2, 80: 2, 81: 3, 82: 1, 83: 1, 84: 5}\n",
      "clusters: {0: 2, 1: 1, 2: 44, 3: 6, 4: 2, 5: 15, 6: 1, 7: 2, 8: 3, 9: 2, 10: 1, 11: 6, 12: 4, 13: 3, 14: 1, 15: 5, 16: 2, 17: 2, 18: 3, 19: 2, 20: 5, 21: 1, 22: 8, 23: 8, 24: 2, 25: 2, 26: 12, 27: 24, 28: 1, 29: 9, 30: 2, 31: 1, 32: 1, 33: 5, 34: 5, 35: 1, 36: 3, 37: 1, 38: 2, 39: 2, 40: 2, 41: 2, 42: 8, 43: 1, 44: 3, 45: 1, 46: 2, 47: 1, 48: 1, 49: 18, 50: 2, 51: 4, 52: 4, 53: 1, 54: 9, 55: 1, 56: 1, 57: 1, 58: 1, 59: 2, 60: 1, 61: 6, 62: 2, 63: 1, 64: 1, 65: 2, 66: 2, 67: 2, 68: 1, 69: 2, 70: 2, 71: 5, 72: 1, 73: 5, 74: 20, 75: 6, 76: 1, 77: 1, 78: 3, 79: 2, 80: 25, 81: 6, 82: 3, 83: 7, 84: 1, 85: 3, 86: 1, 87: 2, 88: 9, 89: 1, 90: 2, 91: 2, 92: 2, 93: 1, 94: 2}\n",
      "clusters: {0: 7, 1: 2, 2: 1, 3: 1, 4: 2, 5: 1, 6: 1, 7: 5, 8: 2, 9: 3, 10: 2, 11: 3, 12: 1, 13: 2, 14: 2, 15: 4, 16: 1, 17: 4, 18: 2, 19: 3, 20: 11, 21: 1, 22: 1, 23: 5, 24: 1, 25: 4, 26: 5, 27: 12, 28: 5, 29: 2, 30: 5, 31: 4, 32: 4, 33: 8, 34: 2, 35: 2, 36: 2, 37: 1, 38: 1, 39: 1, 40: 1, 41: 13, 42: 2, 43: 1, 44: 2, 45: 7, 46: 7, 47: 4, 48: 3, 49: 2, 50: 1, 51: 3, 52: 1, 53: 3, 54: 1, 55: 3, 56: 3, 57: 2, 58: 26, 59: 7, 60: 50, 61: 5, 62: 3, 63: 2, 64: 1, 65: 2, 66: 1, 67: 1, 68: 1, 69: 5, 70: 3, 71: 2, 72: 2, 73: 1, 74: 2, 75: 2, 76: 1, 77: 8, 78: 2, 79: 4, 80: 2, 81: 2, 82: 1, 83: 1, 84: 9, 85: 1, 86: 1, 87: 11, 88: 2, 89: 1, 90: 2, 91: 5, 92: 2, 93: 3, 94: 2, 95: 11, 96: 1, 97: 1, 98: 4, 99: 11, 100: 1, 101: 1, 102: 1, 103: 3, 104: 5}\n",
      "clusters: {0: 1, 1: 1, 2: 1, 3: 1, 4: 1, 5: 3, 6: 1, 7: 1, 8: 1, 9: 1, 10: 1, 11: 7, 12: 2, 13: 1, 14: 2, 15: 2, 16: 2, 17: 1, 18: 2, 19: 1, 20: 6, 21: 1, 22: 5, 23: 2, 24: 1, 25: 7, 26: 2, 27: 4, 28: 2, 29: 1, 30: 1, 31: 8, 32: 2, 33: 1, 34: 1, 35: 14, 36: 4, 37: 6, 38: 1, 39: 2, 40: 1, 41: 1, 42: 7, 43: 1, 44: 2, 45: 1, 46: 1, 47: 1, 48: 1, 49: 2, 50: 3, 51: 4, 52: 5, 53: 2, 54: 1, 55: 2, 56: 2, 57: 2, 58: 1, 59: 11, 60: 3, 61: 3, 62: 2, 63: 2, 64: 1, 65: 4, 66: 4, 67: 2, 68: 42, 69: 1, 70: 1, 71: 2, 72: 2, 73: 1, 74: 2, 75: 2, 76: 4, 77: 2, 78: 1, 79: 4, 80: 2, 81: 5, 82: 2, 83: 6, 84: 10, 85: 4, 86: 2, 87: 2, 88: 1, 89: 1, 90: 2, 91: 9, 92: 2, 93: 1, 94: 12, 95: 6, 96: 16, 97: 3, 98: 5, 99: 4, 100: 1, 101: 4, 102: 1, 103: 2, 104: 3, 105: 12, 106: 3, 107: 2, 108: 8, 109: 2, 110: 5, 111: 3, 112: 2, 113: 16, 114: 1}\n",
      "clusters: {0: 3, 1: 2, 2: 2, 3: 1, 4: 1, 5: 2, 6: 5, 7: 11, 8: 1, 9: 5, 10: 2, 11: 2, 12: 1, 13: 6, 14: 1, 15: 2, 16: 2, 17: 2, 18: 1, 19: 23, 20: 2, 21: 5, 22: 1, 23: 5, 24: 1, 25: 1, 26: 3, 27: 1, 28: 1, 29: 2, 30: 2, 31: 1, 32: 1, 33: 1, 34: 4, 35: 1, 36: 2, 37: 1, 38: 5, 39: 1, 40: 4, 41: 1, 42: 2, 43: 9, 44: 1, 45: 1, 46: 6, 47: 3, 48: 4, 49: 2, 50: 1, 51: 2, 52: 1, 53: 1, 54: 1, 55: 2, 56: 1, 57: 4, 58: 4, 59: 2, 60: 8, 61: 3, 62: 1, 63: 4, 64: 1, 65: 6, 66: 3, 67: 3, 68: 4, 69: 1, 70: 1, 71: 1, 72: 1, 73: 2, 74: 1, 75: 17, 76: 1, 77: 1, 78: 3, 79: 2, 80: 1, 81: 33, 82: 1, 83: 2, 84: 2, 85: 3, 86: 12, 87: 1, 88: 1, 89: 1, 90: 8, 91: 2, 92: 3, 93: 3, 94: 2, 95: 3, 96: 3, 97: 2, 98: 1, 99: 2, 100: 2, 101: 5, 102: 1, 103: 1, 104: 2, 105: 2, 106: 4, 107: 1, 108: 22, 109: 3, 110: 8, 111: 2, 112: 1, 113: 2, 114: 1, 115: 1, 116: 2, 117: 1, 118: 2, 119: 4, 120: 4, 121: 5, 122: 1, 123: 3, 124: 2}\n",
      "clusters: {0: 2, 1: 2, 2: 2, 3: 1, 4: 18, 5: 1, 6: 1, 7: 7, 8: 1, 9: 1, 10: 2, 11: 3, 12: 1, 13: 2, 14: 2, 15: 2, 16: 9, 17: 9, 18: 1, 19: 2, 20: 1, 21: 2, 22: 3, 23: 1, 24: 1, 25: 8, 26: 4, 27: 2, 28: 3, 29: 3, 30: 2, 31: 1, 32: 2, 33: 1, 34: 2, 35: 3, 36: 1, 37: 3, 38: 1, 39: 1, 40: 1, 41: 1, 42: 1, 43: 2, 44: 3, 45: 1, 46: 2, 47: 8, 48: 1, 49: 1, 50: 2, 51: 1, 52: 3, 53: 2, 54: 5, 55: 2, 56: 1, 57: 1, 58: 1, 59: 1, 60: 1, 61: 1, 62: 28, 63: 1, 64: 5, 65: 1, 66: 6, 67: 4, 68: 2, 69: 2, 70: 1, 71: 1, 72: 3, 73: 1, 74: 5, 75: 2, 76: 7, 77: 2, 78: 2, 79: 1, 80: 1, 81: 7, 82: 4, 83: 2, 84: 1, 85: 3, 86: 1, 87: 1, 88: 1, 89: 1, 90: 2, 91: 6, 92: 2, 93: 2, 94: 2, 95: 1, 96: 3, 97: 8, 98: 3, 99: 1, 100: 1, 101: 4, 102: 2, 103: 1, 104: 2, 105: 3, 106: 6, 107: 2, 108: 1, 109: 1, 110: 2, 111: 1, 112: 5, 113: 2, 114: 3, 115: 1, 116: 2, 117: 5, 118: 5, 119: 1, 120: 3, 121: 2, 122: 16, 123: 2, 124: 4, 125: 11, 126: 1, 127: 2, 128: 10, 129: 4, 130: 8, 131: 1, 132: 2, 133: 1, 134: 1}\n",
      "clusters: {0: 3, 1: 4, 2: 23, 3: 1, 4: 1, 5: 3, 6: 2, 7: 1, 8: 2, 9: 1, 10: 1, 11: 2, 12: 1, 13: 1, 14: 1, 15: 1, 16: 1, 17: 1, 18: 6, 19: 1, 20: 2, 21: 2, 22: 3, 23: 1, 24: 3, 25: 5, 26: 1, 27: 2, 28: 1, 29: 2, 30: 1, 31: 1, 32: 1, 33: 1, 34: 2, 35: 1, 36: 1, 37: 2, 38: 2, 39: 1, 40: 2, 41: 1, 42: 3, 43: 1, 44: 3, 45: 14, 46: 1, 47: 2, 48: 2, 49: 2, 50: 5, 51: 1, 52: 2, 53: 1, 54: 2, 55: 5, 56: 4, 57: 3, 58: 2, 59: 1, 60: 14, 61: 9, 62: 4, 63: 13, 64: 1, 65: 2, 66: 2, 67: 1, 68: 8, 69: 1, 70: 1, 71: 4, 72: 1, 73: 3, 74: 3, 75: 5, 76: 2, 77: 1, 78: 1, 79: 1, 80: 6, 81: 8, 82: 2, 83: 1, 84: 1, 85: 2, 86: 2, 87: 26, 88: 1, 89: 1, 90: 2, 91: 2, 92: 3, 93: 1, 94: 1, 95: 1, 96: 12, 97: 2, 98: 3, 99: 1, 100: 1, 101: 4, 102: 1, 103: 12, 104: 1, 105: 1, 106: 1, 107: 2, 108: 1, 109: 4, 110: 1, 111: 2, 112: 1, 113: 1, 114: 3, 115: 2, 116: 1, 117: 1, 118: 3, 119: 3, 120: 2, 121: 2, 122: 1, 123: 2, 124: 1, 125: 1, 126: 1, 127: 2, 128: 2, 129: 2, 130: 1, 131: 1, 132: 1, 133: 2, 134: 1, 135: 4, 136: 1, 137: 12, 138: 2, 139: 3, 140: 1, 141: 2, 142: 1, 143: 1, 144: 1}\n"
     ]
    }
   ],
   "source": [
    "inits = [\"k-means++\", \"random\"]\n",
    "n_clusterss = [3, 5, 10, 25, 40, 60, 100]\n",
    "n_clusterss = np.arange(5, 150, 10)\n",
    "kmeans_2 = []\n",
    "\n",
    "for init in inits:\n",
    "    for n_clusters in n_clusterss:\n",
    "        kmeans = KMeans(n_clusters=n_clusters, init=init)\n",
    "        # kmeans.fit(X_train_PCA)\n",
    "        kmeans.fit(X_PCA)\n",
    "        unique, counts = np.unique(kmeans.labels_, return_counts=True)\n",
    "        clusters = dict(zip(unique, counts))\n",
    "        print(\"clusters:\", clusters)\n",
    "\n",
    "        cluster = {}\n",
    "        cluster[\"algorithm\"] = \"KMeans\"\n",
    "        cluster[\"labels\"] = kmeans.labels_\n",
    "        cluster[\"parameters\"] = {'inits': init, 'n_clusters':n_clusters}\n",
    "        clusterings.append(cluster)\n",
    "\n",
    "    #     clusterings.append(kmeans)\n",
    "        kmeans_2.append(kmeans)"
   ]
  },
  {
   "cell_type": "markdown",
   "metadata": {},
   "source": [
    "### Calculate scores"
   ]
  },
  {
   "cell_type": "code",
   "execution_count": 302,
   "metadata": {},
   "outputs": [
    {
     "name": "stdout",
     "output_type": "stream",
     "text": [
      "{0, 1}\n",
      "{0, 1}\n",
      "{0, 1, 2, 3, 4, 5, 6, 7, 8, 9, 10, 11, 12, 13, 14, 15, 16, 17, 18, 19}\n",
      "{0, 1, 2, 3, 4, 5, 6, 7, 8, 9, 10, 11, 12, 13, 14, 15, 16, 17, 18, 19}\n",
      "{0, 1, 2}\n",
      "{0, 1, 2, 3, 4}\n",
      "{0, 1, 2, 3, 4, 5, 6, 7, 8, 9}\n",
      "{0, 1, 2, 3, 4, 5, 6, 7, 8, 9, 10, 11, 12, 13, 14, 15, 16, 17, 18, 19, 20, 21, 22, 23, 24}\n",
      "{0, 1, 2, 3, 4, 5, 6, 7, 8, 9, 10, 11, 12, 13, 14, 15, 16, 17, 18, 19, 20, 21, 22, 23, 24, 25, 26, 27, 28, 29, 30, 31, 32, 33, 34, 35, 36, 37, 38, 39}\n",
      "{0, 1, 2, 3, 4, 5, 6, 7, 8, 9, 10, 11, 12, 13, 14, 15, 16, 17, 18, 19, 20, 21, 22, 23, 24, 25, 26, 27, 28, 29, 30, 31, 32, 33, 34, 35, 36, 37, 38, 39, 40, 41, 42, 43, 44, 45, 46, 47, 48, 49, 50, 51, 52, 53, 54, 55, 56, 57, 58, 59}\n",
      "{0, 1, 2, 3, 4, 5, 6, 7, 8, 9, 10, 11, 12, 13, 14, 15, 16, 17, 18, 19, 20, 21, 22, 23, 24, 25, 26, 27, 28, 29, 30, 31, 32, 33, 34, 35, 36, 37, 38, 39, 40, 41, 42, 43, 44, 45, 46, 47, 48, 49, 50, 51, 52, 53, 54, 55, 56, 57, 58, 59, 60, 61, 62, 63, 64, 65, 66, 67, 68, 69, 70, 71, 72, 73, 74, 75, 76, 77, 78, 79, 80, 81, 82, 83, 84, 85, 86, 87, 88, 89, 90, 91, 92, 93, 94, 95, 96, 97, 98, 99}\n",
      "{0, 1, 2}\n",
      "{0, 1, 2, 3, 4}\n",
      "{0, 1, 2, 3, 4, 5, 6, 7, 8, 9}\n",
      "{0, 1, 2, 3, 4, 5, 6, 7, 8, 9, 10, 11, 12, 13, 14, 15, 16, 17, 18, 19, 20, 21, 22, 23, 24}\n",
      "{0, 1, 2, 3, 4, 5, 6, 7, 8, 9, 10, 11, 12, 13, 14, 15, 16, 17, 18, 19, 20, 21, 22, 23, 24, 25, 26, 27, 28, 29, 30, 31, 32, 33, 34, 35, 36, 37, 38, 39}\n",
      "{0, 1, 2, 3, 4, 5, 6, 7, 8, 9, 10, 11, 12, 13, 14, 15, 16, 17, 18, 19, 20, 21, 22, 23, 24, 25, 26, 27, 28, 29, 30, 31, 32, 33, 34, 35, 36, 37, 38, 39, 40, 41, 42, 43, 44, 45, 46, 47, 48, 49, 50, 51, 52, 53, 54, 55, 56, 57, 58, 59}\n",
      "{0, 1, 2, 3, 4, 5, 6, 7, 8, 9, 10, 11, 12, 13, 14, 15, 16, 17, 18, 19, 20, 21, 22, 23, 24, 25, 26, 27, 28, 29, 30, 31, 32, 33, 34, 35, 36, 37, 38, 39, 40, 41, 42, 43, 44, 45, 46, 47, 48, 49, 50, 51, 52, 53, 54, 55, 56, 57, 58, 59, 60, 61, 62, 63, 64, 65, 66, 67, 68, 69, 70, 71, 72, 73, 74, 75, 76, 77, 78, 79, 80, 81, 82, 83, 84, 85, 86, 87, 88, 89, 90, 91, 92, 93, 94, 95, 96, 97, 98, 99}\n",
      "{0, 1, 2, 3, 4}\n",
      "{0, 1, 2, 3, 4, 5, 6, 7, 8, 9, 10, 11, 12, 13, 14}\n",
      "{0, 1, 2, 3, 4, 5, 6, 7, 8, 9, 10, 11, 12, 13, 14, 15, 16, 17, 18, 19, 20, 21, 22, 23, 24}\n",
      "{0, 1, 2, 3, 4, 5, 6, 7, 8, 9, 10, 11, 12, 13, 14, 15, 16, 17, 18, 19, 20, 21, 22, 23, 24, 25, 26, 27, 28, 29, 30, 31, 32, 33, 34}\n",
      "{0, 1, 2, 3, 4, 5, 6, 7, 8, 9, 10, 11, 12, 13, 14, 15, 16, 17, 18, 19, 20, 21, 22, 23, 24, 25, 26, 27, 28, 29, 30, 31, 32, 33, 34, 35, 36, 37, 38, 39, 40, 41, 42, 43, 44}\n",
      "{0, 1, 2, 3, 4, 5, 6, 7, 8, 9, 10, 11, 12, 13, 14, 15, 16, 17, 18, 19, 20, 21, 22, 23, 24, 25, 26, 27, 28, 29, 30, 31, 32, 33, 34, 35, 36, 37, 38, 39, 40, 41, 42, 43, 44, 45, 46, 47, 48, 49, 50, 51, 52, 53, 54}\n",
      "{0, 1, 2, 3, 4, 5, 6, 7, 8, 9, 10, 11, 12, 13, 14, 15, 16, 17, 18, 19, 20, 21, 22, 23, 24, 25, 26, 27, 28, 29, 30, 31, 32, 33, 34, 35, 36, 37, 38, 39, 40, 41, 42, 43, 44, 45, 46, 47, 48, 49, 50, 51, 52, 53, 54, 55, 56, 57, 58, 59, 60, 61, 62, 63, 64}\n",
      "{0, 1, 2, 3, 4, 5, 6, 7, 8, 9, 10, 11, 12, 13, 14, 15, 16, 17, 18, 19, 20, 21, 22, 23, 24, 25, 26, 27, 28, 29, 30, 31, 32, 33, 34, 35, 36, 37, 38, 39, 40, 41, 42, 43, 44, 45, 46, 47, 48, 49, 50, 51, 52, 53, 54, 55, 56, 57, 58, 59, 60, 61, 62, 63, 64, 65, 66, 67, 68, 69, 70, 71, 72, 73, 74}\n",
      "{0, 1, 2, 3, 4, 5, 6, 7, 8, 9, 10, 11, 12, 13, 14, 15, 16, 17, 18, 19, 20, 21, 22, 23, 24, 25, 26, 27, 28, 29, 30, 31, 32, 33, 34, 35, 36, 37, 38, 39, 40, 41, 42, 43, 44, 45, 46, 47, 48, 49, 50, 51, 52, 53, 54, 55, 56, 57, 58, 59, 60, 61, 62, 63, 64, 65, 66, 67, 68, 69, 70, 71, 72, 73, 74, 75, 76, 77, 78, 79, 80, 81, 82, 83, 84}\n",
      "{0, 1, 2, 3, 4, 5, 6, 7, 8, 9, 10, 11, 12, 13, 14, 15, 16, 17, 18, 19, 20, 21, 22, 23, 24, 25, 26, 27, 28, 29, 30, 31, 32, 33, 34, 35, 36, 37, 38, 39, 40, 41, 42, 43, 44, 45, 46, 47, 48, 49, 50, 51, 52, 53, 54, 55, 56, 57, 58, 59, 60, 61, 62, 63, 64, 65, 66, 67, 68, 69, 70, 71, 72, 73, 74, 75, 76, 77, 78, 79, 80, 81, 82, 83, 84, 85, 86, 87, 88, 89, 90, 91, 92, 93, 94}\n",
      "{0, 1, 2, 3, 4, 5, 6, 7, 8, 9, 10, 11, 12, 13, 14, 15, 16, 17, 18, 19, 20, 21, 22, 23, 24, 25, 26, 27, 28, 29, 30, 31, 32, 33, 34, 35, 36, 37, 38, 39, 40, 41, 42, 43, 44, 45, 46, 47, 48, 49, 50, 51, 52, 53, 54, 55, 56, 57, 58, 59, 60, 61, 62, 63, 64, 65, 66, 67, 68, 69, 70, 71, 72, 73, 74, 75, 76, 77, 78, 79, 80, 81, 82, 83, 84, 85, 86, 87, 88, 89, 90, 91, 92, 93, 94, 95, 96, 97, 98, 99, 100, 101, 102, 103, 104}\n",
      "{0, 1, 2, 3, 4, 5, 6, 7, 8, 9, 10, 11, 12, 13, 14, 15, 16, 17, 18, 19, 20, 21, 22, 23, 24, 25, 26, 27, 28, 29, 30, 31, 32, 33, 34, 35, 36, 37, 38, 39, 40, 41, 42, 43, 44, 45, 46, 47, 48, 49, 50, 51, 52, 53, 54, 55, 56, 57, 58, 59, 60, 61, 62, 63, 64, 65, 66, 67, 68, 69, 70, 71, 72, 73, 74, 75, 76, 77, 78, 79, 80, 81, 82, 83, 84, 85, 86, 87, 88, 89, 90, 91, 92, 93, 94, 95, 96, 97, 98, 99, 100, 101, 102, 103, 104, 105, 106, 107, 108, 109, 110, 111, 112, 113, 114}\n",
      "{0, 1, 2, 3, 4, 5, 6, 7, 8, 9, 10, 11, 12, 13, 14, 15, 16, 17, 18, 19, 20, 21, 22, 23, 24, 25, 26, 27, 28, 29, 30, 31, 32, 33, 34, 35, 36, 37, 38, 39, 40, 41, 42, 43, 44, 45, 46, 47, 48, 49, 50, 51, 52, 53, 54, 55, 56, 57, 58, 59, 60, 61, 62, 63, 64, 65, 66, 67, 68, 69, 70, 71, 72, 73, 74, 75, 76, 77, 78, 79, 80, 81, 82, 83, 84, 85, 86, 87, 88, 89, 90, 91, 92, 93, 94, 95, 96, 97, 98, 99, 100, 101, 102, 103, 104, 105, 106, 107, 108, 109, 110, 111, 112, 113, 114, 115, 116, 117, 118, 119, 120, 121, 122, 123, 124}\n",
      "{0, 1, 2, 3, 4, 5, 6, 7, 8, 9, 10, 11, 12, 13, 14, 15, 16, 17, 18, 19, 20, 21, 22, 23, 24, 25, 26, 27, 28, 29, 30, 31, 32, 33, 34, 35, 36, 37, 38, 39, 40, 41, 42, 43, 44, 45, 46, 47, 48, 49, 50, 51, 52, 53, 54, 55, 56, 57, 58, 59, 60, 61, 62, 63, 64, 65, 66, 67, 68, 69, 70, 71, 72, 73, 74, 75, 76, 77, 78, 79, 80, 81, 82, 83, 84, 85, 86, 87, 88, 89, 90, 91, 92, 93, 94, 95, 96, 97, 98, 99, 100, 101, 102, 103, 104, 105, 106, 107, 108, 109, 110, 111, 112, 113, 114, 115, 116, 117, 118, 119, 120, 121, 122, 123, 124, 125, 126, 127, 128, 129, 130, 131, 132, 133, 134}\n",
      "{0, 1, 2, 3, 4, 5, 6, 7, 8, 9, 10, 11, 12, 13, 14, 15, 16, 17, 18, 19, 20, 21, 22, 23, 24, 25, 26, 27, 28, 29, 30, 31, 32, 33, 34, 35, 36, 37, 38, 39, 40, 41, 42, 43, 44, 45, 46, 47, 48, 49, 50, 51, 52, 53, 54, 55, 56, 57, 58, 59, 60, 61, 62, 63, 64, 65, 66, 67, 68, 69, 70, 71, 72, 73, 74, 75, 76, 77, 78, 79, 80, 81, 82, 83, 84, 85, 86, 87, 88, 89, 90, 91, 92, 93, 94, 95, 96, 97, 98, 99, 100, 101, 102, 103, 104, 105, 106, 107, 108, 109, 110, 111, 112, 113, 114, 115, 116, 117, 118, 119, 120, 121, 122, 123, 124, 125, 126, 127, 128, 129, 130, 131, 132, 133, 134, 135, 136, 137, 138, 139, 140, 141, 142, 143, 144}\n",
      "{0, 1, 2, 3, 4}\n",
      "{0, 1, 2, 3, 4, 5, 6, 7, 8, 9, 10, 11, 12, 13, 14}\n",
      "{0, 1, 2, 3, 4, 5, 6, 7, 8, 9, 10, 11, 12, 13, 14, 15, 16, 17, 18, 19, 20, 21, 22, 23, 24}\n",
      "{0, 1, 2, 3, 4, 5, 6, 7, 8, 9, 10, 11, 12, 13, 14, 15, 16, 17, 18, 19, 20, 21, 22, 23, 24, 25, 26, 27, 28, 29, 30, 31, 32, 33, 34}\n",
      "{0, 1, 2, 3, 4, 5, 6, 7, 8, 9, 10, 11, 12, 13, 14, 15, 16, 17, 18, 19, 20, 21, 22, 23, 24, 25, 26, 27, 28, 29, 30, 31, 32, 33, 34, 35, 36, 37, 38, 39, 40, 41, 42, 43, 44}\n",
      "{0, 1, 2, 3, 4, 5, 6, 7, 8, 9, 10, 11, 12, 13, 14, 15, 16, 17, 18, 19, 20, 21, 22, 23, 24, 25, 26, 27, 28, 29, 30, 31, 32, 33, 34, 35, 36, 37, 38, 39, 40, 41, 42, 43, 44, 45, 46, 47, 48, 49, 50, 51, 52, 53, 54}\n",
      "{0, 1, 2, 3, 4, 5, 6, 7, 8, 9, 10, 11, 12, 13, 14, 15, 16, 17, 18, 19, 20, 21, 22, 23, 24, 25, 26, 27, 28, 29, 30, 31, 32, 33, 34, 35, 36, 37, 38, 39, 40, 41, 42, 43, 44, 45, 46, 47, 48, 49, 50, 51, 52, 53, 54, 55, 56, 57, 58, 59, 60, 61, 62, 63, 64}\n",
      "{0, 1, 2, 3, 4, 5, 6, 7, 8, 9, 10, 11, 12, 13, 14, 15, 16, 17, 18, 19, 20, 21, 22, 23, 24, 25, 26, 27, 28, 29, 30, 31, 32, 33, 34, 35, 36, 37, 38, 39, 40, 41, 42, 43, 44, 45, 46, 47, 48, 49, 50, 51, 52, 53, 54, 55, 56, 57, 58, 59, 60, 61, 62, 63, 64, 65, 66, 67, 68, 69, 70, 71, 72, 73, 74}\n",
      "{0, 1, 2, 3, 4, 5, 6, 7, 8, 9, 10, 11, 12, 13, 14, 15, 16, 17, 18, 19, 20, 21, 22, 23, 24, 25, 26, 27, 28, 29, 30, 31, 32, 33, 34, 35, 36, 37, 38, 39, 40, 41, 42, 43, 44, 45, 46, 47, 48, 49, 50, 51, 52, 53, 54, 55, 56, 57, 58, 59, 60, 61, 62, 63, 64, 65, 66, 67, 68, 69, 70, 71, 72, 73, 74, 75, 76, 77, 78, 79, 80, 81, 82, 83, 84}\n",
      "{0, 1, 2, 3, 4, 5, 6, 7, 8, 9, 10, 11, 12, 13, 14, 15, 16, 17, 18, 19, 20, 21, 22, 23, 24, 25, 26, 27, 28, 29, 30, 31, 32, 33, 34, 35, 36, 37, 38, 39, 40, 41, 42, 43, 44, 45, 46, 47, 48, 49, 50, 51, 52, 53, 54, 55, 56, 57, 58, 59, 60, 61, 62, 63, 64, 65, 66, 67, 68, 69, 70, 71, 72, 73, 74, 75, 76, 77, 78, 79, 80, 81, 82, 83, 84, 85, 86, 87, 88, 89, 90, 91, 92, 93, 94}\n",
      "{0, 1, 2, 3, 4, 5, 6, 7, 8, 9, 10, 11, 12, 13, 14, 15, 16, 17, 18, 19, 20, 21, 22, 23, 24, 25, 26, 27, 28, 29, 30, 31, 32, 33, 34, 35, 36, 37, 38, 39, 40, 41, 42, 43, 44, 45, 46, 47, 48, 49, 50, 51, 52, 53, 54, 55, 56, 57, 58, 59, 60, 61, 62, 63, 64, 65, 66, 67, 68, 69, 70, 71, 72, 73, 74, 75, 76, 77, 78, 79, 80, 81, 82, 83, 84, 85, 86, 87, 88, 89, 90, 91, 92, 93, 94, 95, 96, 97, 98, 99, 100, 101, 102, 103, 104}\n",
      "{0, 1, 2, 3, 4, 5, 6, 7, 8, 9, 10, 11, 12, 13, 14, 15, 16, 17, 18, 19, 20, 21, 22, 23, 24, 25, 26, 27, 28, 29, 30, 31, 32, 33, 34, 35, 36, 37, 38, 39, 40, 41, 42, 43, 44, 45, 46, 47, 48, 49, 50, 51, 52, 53, 54, 55, 56, 57, 58, 59, 60, 61, 62, 63, 64, 65, 66, 67, 68, 69, 70, 71, 72, 73, 74, 75, 76, 77, 78, 79, 80, 81, 82, 83, 84, 85, 86, 87, 88, 89, 90, 91, 92, 93, 94, 95, 96, 97, 98, 99, 100, 101, 102, 103, 104, 105, 106, 107, 108, 109, 110, 111, 112, 113, 114}\n"
     ]
    },
    {
     "name": "stdout",
     "output_type": "stream",
     "text": [
      "{0, 1, 2, 3, 4, 5, 6, 7, 8, 9, 10, 11, 12, 13, 14, 15, 16, 17, 18, 19, 20, 21, 22, 23, 24, 25, 26, 27, 28, 29, 30, 31, 32, 33, 34, 35, 36, 37, 38, 39, 40, 41, 42, 43, 44, 45, 46, 47, 48, 49, 50, 51, 52, 53, 54, 55, 56, 57, 58, 59, 60, 61, 62, 63, 64, 65, 66, 67, 68, 69, 70, 71, 72, 73, 74, 75, 76, 77, 78, 79, 80, 81, 82, 83, 84, 85, 86, 87, 88, 89, 90, 91, 92, 93, 94, 95, 96, 97, 98, 99, 100, 101, 102, 103, 104, 105, 106, 107, 108, 109, 110, 111, 112, 113, 114, 115, 116, 117, 118, 119, 120, 121, 122, 123, 124}\n",
      "{0, 1, 2, 3, 4, 5, 6, 7, 8, 9, 10, 11, 12, 13, 14, 15, 16, 17, 18, 19, 20, 21, 22, 23, 24, 25, 26, 27, 28, 29, 30, 31, 32, 33, 34, 35, 36, 37, 38, 39, 40, 41, 42, 43, 44, 45, 46, 47, 48, 49, 50, 51, 52, 53, 54, 55, 56, 57, 58, 59, 60, 61, 62, 63, 64, 65, 66, 67, 68, 69, 70, 71, 72, 73, 74, 75, 76, 77, 78, 79, 80, 81, 82, 83, 84, 85, 86, 87, 88, 89, 90, 91, 92, 93, 94, 95, 96, 97, 98, 99, 100, 101, 102, 103, 104, 105, 106, 107, 108, 109, 110, 111, 112, 113, 114, 115, 116, 117, 118, 119, 120, 121, 122, 123, 124, 125, 126, 127, 128, 129, 130, 131, 132, 133, 134}\n",
      "{0, 1, 2, 3, 4, 5, 6, 7, 8, 9, 10, 11, 12, 13, 14, 15, 16, 17, 18, 19, 20, 21, 22, 23, 24, 25, 26, 27, 28, 29, 30, 31, 32, 33, 34, 35, 36, 37, 38, 39, 40, 41, 42, 43, 44, 45, 46, 47, 48, 49, 50, 51, 52, 53, 54, 55, 56, 57, 58, 59, 60, 61, 62, 63, 64, 65, 66, 67, 68, 69, 70, 71, 72, 73, 74, 75, 76, 77, 78, 79, 80, 81, 82, 83, 84, 85, 86, 87, 88, 89, 90, 91, 92, 93, 94, 95, 96, 97, 98, 99, 100, 101, 102, 103, 104, 105, 106, 107, 108, 109, 110, 111, 112, 113, 114, 115, 116, 117, 118, 119, 120, 121, 122, 123, 124, 125, 126, 127, 128, 129, 130, 131, 132, 133, 134, 135, 136, 137, 138, 139, 140, 141, 142, 143, 144}\n",
      "{0, 1, 2}\n",
      "{0, 1, 2, 3, 4}\n",
      "{0, 1, 2, 3, 4, 5, 6, 7, 8, 9}\n",
      "{0, 1, 2, 3, 4, 5, 6, 7, 8, 9, 10, 11, 12, 13, 14, 15, 16, 17, 18, 19, 20, 21, 22, 23, 24}\n",
      "{0, 1, 2, 3, 4, 5, 6, 7, 8, 9, 10, 11, 12, 13, 14, 15, 16, 17, 18, 19, 20, 21, 22, 23, 24, 25, 26, 27, 28, 29, 30, 31, 32, 33, 34, 35, 36, 37, 38, 39}\n",
      "{0, 1, 2, 3, 4, 5, 6, 7, 8, 9, 10, 11, 12, 13, 14, 15, 16, 17, 18, 19, 20, 21, 22, 23, 24, 25, 26, 27, 28, 29, 30, 31, 32, 33, 34, 35, 36, 37, 38, 39, 40, 41, 42, 43, 44, 45, 46, 47, 48, 49, 50, 51, 52, 53, 54, 55, 56, 57, 58, 59}\n",
      "{0, 1, 2, 3, 4, 5, 6, 7, 8, 9, 10, 11, 12, 13, 14, 15, 16, 17, 18, 19, 20, 21, 22, 23, 24, 25, 26, 27, 28, 29, 30, 31, 32, 33, 34, 35, 36, 37, 38, 39, 40, 41, 42, 43, 44, 45, 46, 47, 48, 49, 50, 51, 52, 53, 54, 55, 56, 57, 58, 59, 60, 61, 62, 63, 64, 65, 66, 67, 68, 69, 70, 71, 72, 73, 74, 75, 76, 77, 78, 79, 80, 81, 82, 83, 84, 85, 86, 87, 88, 89, 90, 91, 92, 93, 94, 95, 96, 97, 98, 99}\n",
      "{0, 1, 2}\n",
      "{0, 1, 2, 3, 4}\n",
      "{0, 1, 2, 3, 4, 5, 6, 7, 8, 9}\n",
      "{0, 1, 2, 3, 4, 5, 6, 7, 8, 9, 10, 11, 12, 13, 14, 15, 16, 17, 18, 19, 20, 21, 22, 23, 24}\n",
      "{0, 1, 2, 3, 4, 5, 6, 7, 8, 9, 10, 11, 12, 13, 14, 15, 16, 17, 18, 19, 20, 21, 22, 23, 24, 25, 26, 27, 28, 29, 30, 31, 32, 33, 34, 35, 36, 37, 38, 39}\n",
      "{0, 1, 2, 3, 4, 5, 6, 7, 8, 9, 10, 11, 12, 13, 14, 15, 16, 17, 18, 19, 20, 21, 22, 23, 24, 25, 26, 27, 28, 29, 30, 31, 32, 33, 34, 35, 36, 37, 38, 39, 40, 41, 42, 43, 44, 45, 46, 47, 48, 49, 50, 51, 52, 53, 54, 55, 56, 57, 58, 59}\n",
      "{0, 1, 2, 3, 4, 5, 6, 7, 8, 9, 10, 11, 12, 13, 14, 15, 16, 17, 18, 19, 20, 21, 22, 23, 24, 25, 26, 27, 28, 29, 30, 31, 32, 33, 34, 35, 36, 37, 38, 39, 40, 41, 42, 43, 44, 45, 46, 47, 48, 49, 50, 51, 52, 53, 54, 55, 56, 57, 58, 59, 60, 61, 62, 63, 64, 65, 66, 67, 68, 69, 70, 71, 72, 73, 74, 75, 76, 77, 78, 79, 80, 81, 82, 83, 84, 85, 86, 87, 88, 89, 90, 91, 92, 93, 94, 95, 96, 97, 98, 99}\n",
      "{0, 1, 2, 3, 4}\n",
      "{0, 1, 2, 3, 4, 5, 6, 7, 8, 9, 10, 11, 12, 13, 14}\n",
      "{0, 1, 2, 3, 4, 5, 6, 7, 8, 9, 10, 11, 12, 13, 14, 15, 16, 17, 18, 19, 20, 21, 22, 23, 24}\n",
      "{0, 1, 2, 3, 4, 5, 6, 7, 8, 9, 10, 11, 12, 13, 14, 15, 16, 17, 18, 19, 20, 21, 22, 23, 24, 25, 26, 27, 28, 29, 30, 31, 32, 33, 34}\n",
      "{0, 1, 2, 3, 4, 5, 6, 7, 8, 9, 10, 11, 12, 13, 14, 15, 16, 17, 18, 19, 20, 21, 22, 23, 24, 25, 26, 27, 28, 29, 30, 31, 32, 33, 34, 35, 36, 37, 38, 39, 40, 41, 42, 43, 44}\n",
      "{0, 1, 2, 3, 4, 5, 6, 7, 8, 9, 10, 11, 12, 13, 14, 15, 16, 17, 18, 19, 20, 21, 22, 23, 24, 25, 26, 27, 28, 29, 30, 31, 32, 33, 34, 35, 36, 37, 38, 39, 40, 41, 42, 43, 44, 45, 46, 47, 48, 49, 50, 51, 52, 53, 54}\n",
      "{0, 1, 2, 3, 4, 5, 6, 7, 8, 9, 10, 11, 12, 13, 14, 15, 16, 17, 18, 19, 20, 21, 22, 23, 24, 25, 26, 27, 28, 29, 30, 31, 32, 33, 34, 35, 36, 37, 38, 39, 40, 41, 42, 43, 44, 45, 46, 47, 48, 49, 50, 51, 52, 53, 54, 55, 56, 57, 58, 59, 60, 61, 62, 63, 64}\n",
      "{0, 1, 2, 3, 4, 5, 6, 7, 8, 9, 10, 11, 12, 13, 14, 15, 16, 17, 18, 19, 20, 21, 22, 23, 24, 25, 26, 27, 28, 29, 30, 31, 32, 33, 34, 35, 36, 37, 38, 39, 40, 41, 42, 43, 44, 45, 46, 47, 48, 49, 50, 51, 52, 53, 54, 55, 56, 57, 58, 59, 60, 61, 62, 63, 64, 65, 66, 67, 68, 69, 70, 71, 72, 73, 74}\n",
      "{0, 1, 2, 3, 4, 5, 6, 7, 8, 9, 10, 11, 12, 13, 14, 15, 16, 17, 18, 19, 20, 21, 22, 23, 24, 25, 26, 27, 28, 29, 30, 31, 32, 33, 34, 35, 36, 37, 38, 39, 40, 41, 42, 43, 44, 45, 46, 47, 48, 49, 50, 51, 52, 53, 54, 55, 56, 57, 58, 59, 60, 61, 62, 63, 64, 65, 66, 67, 68, 69, 70, 71, 72, 73, 74, 75, 76, 77, 78, 79, 80, 81, 82, 83, 84}\n",
      "{0, 1, 2, 3, 4, 5, 6, 7, 8, 9, 10, 11, 12, 13, 14, 15, 16, 17, 18, 19, 20, 21, 22, 23, 24, 25, 26, 27, 28, 29, 30, 31, 32, 33, 34, 35, 36, 37, 38, 39, 40, 41, 42, 43, 44, 45, 46, 47, 48, 49, 50, 51, 52, 53, 54, 55, 56, 57, 58, 59, 60, 61, 62, 63, 64, 65, 66, 67, 68, 69, 70, 71, 72, 73, 74, 75, 76, 77, 78, 79, 80, 81, 82, 83, 84, 85, 86, 87, 88, 89, 90, 91, 92, 93, 94}\n",
      "{0, 1, 2, 3, 4, 5, 6, 7, 8, 9, 10, 11, 12, 13, 14, 15, 16, 17, 18, 19, 20, 21, 22, 23, 24, 25, 26, 27, 28, 29, 30, 31, 32, 33, 34, 35, 36, 37, 38, 39, 40, 41, 42, 43, 44, 45, 46, 47, 48, 49, 50, 51, 52, 53, 54, 55, 56, 57, 58, 59, 60, 61, 62, 63, 64, 65, 66, 67, 68, 69, 70, 71, 72, 73, 74, 75, 76, 77, 78, 79, 80, 81, 82, 83, 84, 85, 86, 87, 88, 89, 90, 91, 92, 93, 94, 95, 96, 97, 98, 99, 100, 101, 102, 103, 104}\n",
      "{0, 1, 2, 3, 4, 5, 6, 7, 8, 9, 10, 11, 12, 13, 14, 15, 16, 17, 18, 19, 20, 21, 22, 23, 24, 25, 26, 27, 28, 29, 30, 31, 32, 33, 34, 35, 36, 37, 38, 39, 40, 41, 42, 43, 44, 45, 46, 47, 48, 49, 50, 51, 52, 53, 54, 55, 56, 57, 58, 59, 60, 61, 62, 63, 64, 65, 66, 67, 68, 69, 70, 71, 72, 73, 74, 75, 76, 77, 78, 79, 80, 81, 82, 83, 84, 85, 86, 87, 88, 89, 90, 91, 92, 93, 94, 95, 96, 97, 98, 99, 100, 101, 102, 103, 104, 105, 106, 107, 108, 109, 110, 111, 112, 113, 114}\n",
      "{0, 1, 2, 3, 4, 5, 6, 7, 8, 9, 10, 11, 12, 13, 14, 15, 16, 17, 18, 19, 20, 21, 22, 23, 24, 25, 26, 27, 28, 29, 30, 31, 32, 33, 34, 35, 36, 37, 38, 39, 40, 41, 42, 43, 44, 45, 46, 47, 48, 49, 50, 51, 52, 53, 54, 55, 56, 57, 58, 59, 60, 61, 62, 63, 64, 65, 66, 67, 68, 69, 70, 71, 72, 73, 74, 75, 76, 77, 78, 79, 80, 81, 82, 83, 84, 85, 86, 87, 88, 89, 90, 91, 92, 93, 94, 95, 96, 97, 98, 99, 100, 101, 102, 103, 104, 105, 106, 107, 108, 109, 110, 111, 112, 113, 114, 115, 116, 117, 118, 119, 120, 121, 122, 123, 124}\n",
      "{0, 1, 2, 3, 4, 5, 6, 7, 8, 9, 10, 11, 12, 13, 14, 15, 16, 17, 18, 19, 20, 21, 22, 23, 24, 25, 26, 27, 28, 29, 30, 31, 32, 33, 34, 35, 36, 37, 38, 39, 40, 41, 42, 43, 44, 45, 46, 47, 48, 49, 50, 51, 52, 53, 54, 55, 56, 57, 58, 59, 60, 61, 62, 63, 64, 65, 66, 67, 68, 69, 70, 71, 72, 73, 74, 75, 76, 77, 78, 79, 80, 81, 82, 83, 84, 85, 86, 87, 88, 89, 90, 91, 92, 93, 94, 95, 96, 97, 98, 99, 100, 101, 102, 103, 104, 105, 106, 107, 108, 109, 110, 111, 112, 113, 114, 115, 116, 117, 118, 119, 120, 121, 122, 123, 124, 125, 126, 127, 128, 129, 130, 131, 132, 133, 134}\n",
      "{0, 1, 2, 3, 4, 5, 6, 7, 8, 9, 10, 11, 12, 13, 14, 15, 16, 17, 18, 19, 20, 21, 22, 23, 24, 25, 26, 27, 28, 29, 30, 31, 32, 33, 34, 35, 36, 37, 38, 39, 40, 41, 42, 43, 44, 45, 46, 47, 48, 49, 50, 51, 52, 53, 54, 55, 56, 57, 58, 59, 60, 61, 62, 63, 64, 65, 66, 67, 68, 69, 70, 71, 72, 73, 74, 75, 76, 77, 78, 79, 80, 81, 82, 83, 84, 85, 86, 87, 88, 89, 90, 91, 92, 93, 94, 95, 96, 97, 98, 99, 100, 101, 102, 103, 104, 105, 106, 107, 108, 109, 110, 111, 112, 113, 114, 115, 116, 117, 118, 119, 120, 121, 122, 123, 124, 125, 126, 127, 128, 129, 130, 131, 132, 133, 134, 135, 136, 137, 138, 139, 140, 141, 142, 143, 144}\n",
      "{0, 1, 2, 3, 4}\n",
      "{0, 1, 2, 3, 4, 5, 6, 7, 8, 9, 10, 11, 12, 13, 14}\n",
      "{0, 1, 2, 3, 4, 5, 6, 7, 8, 9, 10, 11, 12, 13, 14, 15, 16, 17, 18, 19, 20, 21, 22, 23, 24}\n",
      "{0, 1, 2, 3, 4, 5, 6, 7, 8, 9, 10, 11, 12, 13, 14, 15, 16, 17, 18, 19, 20, 21, 22, 23, 24, 25, 26, 27, 28, 29, 30, 31, 32, 33, 34}\n",
      "{0, 1, 2, 3, 4, 5, 6, 7, 8, 9, 10, 11, 12, 13, 14, 15, 16, 17, 18, 19, 20, 21, 22, 23, 24, 25, 26, 27, 28, 29, 30, 31, 32, 33, 34, 35, 36, 37, 38, 39, 40, 41, 42, 43, 44}\n"
     ]
    },
    {
     "name": "stdout",
     "output_type": "stream",
     "text": [
      "{0, 1, 2, 3, 4, 5, 6, 7, 8, 9, 10, 11, 12, 13, 14, 15, 16, 17, 18, 19, 20, 21, 22, 23, 24, 25, 26, 27, 28, 29, 30, 31, 32, 33, 34, 35, 36, 37, 38, 39, 40, 41, 42, 43, 44, 45, 46, 47, 48, 49, 50, 51, 52, 53, 54}\n",
      "{0, 1, 2, 3, 4, 5, 6, 7, 8, 9, 10, 11, 12, 13, 14, 15, 16, 17, 18, 19, 20, 21, 22, 23, 24, 25, 26, 27, 28, 29, 30, 31, 32, 33, 34, 35, 36, 37, 38, 39, 40, 41, 42, 43, 44, 45, 46, 47, 48, 49, 50, 51, 52, 53, 54, 55, 56, 57, 58, 59, 60, 61, 62, 63, 64}\n",
      "{0, 1, 2, 3, 4, 5, 6, 7, 8, 9, 10, 11, 12, 13, 14, 15, 16, 17, 18, 19, 20, 21, 22, 23, 24, 25, 26, 27, 28, 29, 30, 31, 32, 33, 34, 35, 36, 37, 38, 39, 40, 41, 42, 43, 44, 45, 46, 47, 48, 49, 50, 51, 52, 53, 54, 55, 56, 57, 58, 59, 60, 61, 62, 63, 64, 65, 66, 67, 68, 69, 70, 71, 72, 73, 74}\n",
      "{0, 1, 2, 3, 4, 5, 6, 7, 8, 9, 10, 11, 12, 13, 14, 15, 16, 17, 18, 19, 20, 21, 22, 23, 24, 25, 26, 27, 28, 29, 30, 31, 32, 33, 34, 35, 36, 37, 38, 39, 40, 41, 42, 43, 44, 45, 46, 47, 48, 49, 50, 51, 52, 53, 54, 55, 56, 57, 58, 59, 60, 61, 62, 63, 64, 65, 66, 67, 68, 69, 70, 71, 72, 73, 74, 75, 76, 77, 78, 79, 80, 81, 82, 83, 84}\n",
      "{0, 1, 2, 3, 4, 5, 6, 7, 8, 9, 10, 11, 12, 13, 14, 15, 16, 17, 18, 19, 20, 21, 22, 23, 24, 25, 26, 27, 28, 29, 30, 31, 32, 33, 34, 35, 36, 37, 38, 39, 40, 41, 42, 43, 44, 45, 46, 47, 48, 49, 50, 51, 52, 53, 54, 55, 56, 57, 58, 59, 60, 61, 62, 63, 64, 65, 66, 67, 68, 69, 70, 71, 72, 73, 74, 75, 76, 77, 78, 79, 80, 81, 82, 83, 84, 85, 86, 87, 88, 89, 90, 91, 92, 93, 94}\n",
      "{0, 1, 2, 3, 4, 5, 6, 7, 8, 9, 10, 11, 12, 13, 14, 15, 16, 17, 18, 19, 20, 21, 22, 23, 24, 25, 26, 27, 28, 29, 30, 31, 32, 33, 34, 35, 36, 37, 38, 39, 40, 41, 42, 43, 44, 45, 46, 47, 48, 49, 50, 51, 52, 53, 54, 55, 56, 57, 58, 59, 60, 61, 62, 63, 64, 65, 66, 67, 68, 69, 70, 71, 72, 73, 74, 75, 76, 77, 78, 79, 80, 81, 82, 83, 84, 85, 86, 87, 88, 89, 90, 91, 92, 93, 94, 95, 96, 97, 98, 99, 100, 101, 102, 103, 104}\n",
      "{0, 1, 2, 3, 4, 5, 6, 7, 8, 9, 10, 11, 12, 13, 14, 15, 16, 17, 18, 19, 20, 21, 22, 23, 24, 25, 26, 27, 28, 29, 30, 31, 32, 33, 34, 35, 36, 37, 38, 39, 40, 41, 42, 43, 44, 45, 46, 47, 48, 49, 50, 51, 52, 53, 54, 55, 56, 57, 58, 59, 60, 61, 62, 63, 64, 65, 66, 67, 68, 69, 70, 71, 72, 73, 74, 75, 76, 77, 78, 79, 80, 81, 82, 83, 84, 85, 86, 87, 88, 89, 90, 91, 92, 93, 94, 95, 96, 97, 98, 99, 100, 101, 102, 103, 104, 105, 106, 107, 108, 109, 110, 111, 112, 113, 114}\n",
      "{0, 1, 2, 3, 4, 5, 6, 7, 8, 9, 10, 11, 12, 13, 14, 15, 16, 17, 18, 19, 20, 21, 22, 23, 24, 25, 26, 27, 28, 29, 30, 31, 32, 33, 34, 35, 36, 37, 38, 39, 40, 41, 42, 43, 44, 45, 46, 47, 48, 49, 50, 51, 52, 53, 54, 55, 56, 57, 58, 59, 60, 61, 62, 63, 64, 65, 66, 67, 68, 69, 70, 71, 72, 73, 74, 75, 76, 77, 78, 79, 80, 81, 82, 83, 84, 85, 86, 87, 88, 89, 90, 91, 92, 93, 94, 95, 96, 97, 98, 99, 100, 101, 102, 103, 104, 105, 106, 107, 108, 109, 110, 111, 112, 113, 114, 115, 116, 117, 118, 119, 120, 121, 122, 123, 124}\n",
      "{0, 1, 2, 3, 4, 5, 6, 7, 8, 9, 10, 11, 12, 13, 14, 15, 16, 17, 18, 19, 20, 21, 22, 23, 24, 25, 26, 27, 28, 29, 30, 31, 32, 33, 34, 35, 36, 37, 38, 39, 40, 41, 42, 43, 44, 45, 46, 47, 48, 49, 50, 51, 52, 53, 54, 55, 56, 57, 58, 59, 60, 61, 62, 63, 64, 65, 66, 67, 68, 69, 70, 71, 72, 73, 74, 75, 76, 77, 78, 79, 80, 81, 82, 83, 84, 85, 86, 87, 88, 89, 90, 91, 92, 93, 94, 95, 96, 97, 98, 99, 100, 101, 102, 103, 104, 105, 106, 107, 108, 109, 110, 111, 112, 113, 114, 115, 116, 117, 118, 119, 120, 121, 122, 123, 124, 125, 126, 127, 128, 129, 130, 131, 132, 133, 134}\n",
      "{0, 1, 2, 3, 4, 5, 6, 7, 8, 9, 10, 11, 12, 13, 14, 15, 16, 17, 18, 19, 20, 21, 22, 23, 24, 25, 26, 27, 28, 29, 30, 31, 32, 33, 34, 35, 36, 37, 38, 39, 40, 41, 42, 43, 44, 45, 46, 47, 48, 49, 50, 51, 52, 53, 54, 55, 56, 57, 58, 59, 60, 61, 62, 63, 64, 65, 66, 67, 68, 69, 70, 71, 72, 73, 74, 75, 76, 77, 78, 79, 80, 81, 82, 83, 84, 85, 86, 87, 88, 89, 90, 91, 92, 93, 94, 95, 96, 97, 98, 99, 100, 101, 102, 103, 104, 105, 106, 107, 108, 109, 110, 111, 112, 113, 114, 115, 116, 117, 118, 119, 120, 121, 122, 123, 124, 125, 126, 127, 128, 129, 130, 131, 132, 133, 134, 135, 136, 137, 138, 139, 140, 141, 142, 143, 144}\n"
     ]
    }
   ],
   "source": [
    "silhouette_scores = []\n",
    "homogeneity_scores = []\n",
    "completeness_scores = []\n",
    "\n",
    "for clustering in clusterings:\n",
    "    print(set(clustering[\"labels\"]))\n",
    "    if(len(set(clustering[\"labels\"]))<2):\n",
    "        ss, hs, cs = 0,0,0\n",
    "    else:\n",
    "        ss, hs, cs = calcScores(clustering)\n",
    "#     print(\"Silhouette score:\", ss)\n",
    "#     print(\"Homogenity score:\", hs)\n",
    "#     print(\"Completeness score:\", cs)\n",
    "\n",
    "    silhouette_scores.append(ss)\n",
    "    homogeneity_scores.append(hs)\n",
    "    completeness_scores.append(cs)\n",
    "\n",
    "# print(silhouette_scores)\n",
    "# print(homogeneity_scores)\n",
    "# print(completeness_scores)"
   ]
  },
  {
   "cell_type": "markdown",
   "metadata": {},
   "source": [
    "### Display scores"
   ]
  },
  {
   "cell_type": "code",
   "execution_count": 303,
   "metadata": {
    "scrolled": false
   },
   "outputs": [
    {
     "data": {
      "text/html": [
       "<table style=\"border: 1px solid black\"><tr><th>Nr</th><th>Algorithm</th><th>Parameters</th><th>Silhouette score</th><th>Homogenity score</th><th>Completeness score</th></tr><tr><td>0</td><td>KMeans</td><td>{'inits': 'k-means++', 'n_clusters': 2}</td><td>0.03215</td><td>0.12823</td><td>0.62458</td></td><tr><td>1</td><td>KMeans</td><td>{'inits': 'random', 'n_clusters': 2}</td><td>0.02399</td><td>0.15002</td><td>0.65521</td></td><tr><td>2</td><td>KMeans</td><td>{'inits': 'k-means++', 'n_clusters': 20}</td><td>0.04808</td><td>0.59581</td><td>0.70678</td></td><tr><td>3</td><td>KMeans</td><td>{'inits': 'random', 'n_clusters': 20}</td><td>0.03343</td><td>0.50761</td><td>0.69988</td></td><tr><td>4</td><td>KMeans</td><td>{'inits': 'k-means++', 'n_clusters': 3}</td><td>0.03316</td><td>0.1709</td><td>0.65094</td></td><tr><td>5</td><td>KMeans</td><td>{'inits': 'k-means++', 'n_clusters': 5}</td><td>0.03649</td><td>0.29485</td><td>0.67314</td></td><tr style=\"font-weight:bold; color:magenta;\"><td>6</td><td>KMeans</td><td>{'inits': 'k-means++', 'n_clusters': 10}</td><td>0.02295</td><td>0.44449</td><td>0.79764</td></td><tr><td>7</td><td>KMeans</td><td>{'inits': 'k-means++', 'n_clusters': 25}</td><td>0.04041</td><td>0.66076</td><td>0.73398</td></td><tr><td>8</td><td>KMeans</td><td>{'inits': 'k-means++', 'n_clusters': 40}</td><td>0.05938</td><td>0.6914</td><td>0.65582</td></td><tr><td>9</td><td>KMeans</td><td>{'inits': 'k-means++', 'n_clusters': 60}</td><td>0.06968</td><td>0.74573</td><td>0.62474</td></td><tr><td>10</td><td>KMeans</td><td>{'inits': 'k-means++', 'n_clusters': 100}</td><td>0.08738</td><td>0.83893</td><td>0.61111</td></td><tr><td>11</td><td>KMeans</td><td>{'inits': 'random', 'n_clusters': 3}</td><td>0.02643</td><td>0.18486</td><td>0.64979</td></td><tr><td>12</td><td>KMeans</td><td>{'inits': 'random', 'n_clusters': 5}</td><td>0.01945</td><td>0.22455</td><td>0.58237</td></td><tr><td>13</td><td>KMeans</td><td>{'inits': 'random', 'n_clusters': 10}</td><td>0.03793</td><td>0.39794</td><td>0.6766</td></td><tr><td>14</td><td>KMeans</td><td>{'inits': 'random', 'n_clusters': 25}</td><td>0.02921</td><td>0.59655</td><td>0.70315</td></td><tr><td>15</td><td>KMeans</td><td>{'inits': 'random', 'n_clusters': 40}</td><td>0.0327</td><td>0.63898</td><td>0.68096</td></td><tr><td>16</td><td>KMeans</td><td>{'inits': 'random', 'n_clusters': 60}</td><td>0.03744</td><td>0.72529</td><td>0.63008</td></td><tr><td>17</td><td>KMeans</td><td>{'inits': 'random', 'n_clusters': 100}</td><td>0.03595</td><td>0.78564</td><td>0.59239</td></td><tr><td>18</td><td>KMeans</td><td>{'inits': 'k-means++', 'n_clusters': 5}</td><td>0.01181</td><td>0.30378</td><td>0.70679</td></td><tr><td>19</td><td>KMeans</td><td>{'inits': 'k-means++', 'n_clusters': 15}</td><td>0.02813</td><td>0.56642</td><td>0.71862</td></td><tr><td>20</td><td>KMeans</td><td>{'inits': 'k-means++', 'n_clusters': 25}</td><td>0.04164</td><td>0.63229</td><td>0.68717</td></td><tr><td>21</td><td>KMeans</td><td>{'inits': 'k-means++', 'n_clusters': 35}</td><td>0.05463</td><td>0.71738</td><td>0.6777</td></td><tr><td>22</td><td>KMeans</td><td>{'inits': 'k-means++', 'n_clusters': 45}</td><td>0.05707</td><td>0.7608</td><td>0.67627</td></td><tr><td>23</td><td>KMeans</td><td>{'inits': 'k-means++', 'n_clusters': 55}</td><td>0.0761</td><td>0.79345</td><td>0.67881</td></td><tr><td>24</td><td>KMeans</td><td>{'inits': 'k-means++', 'n_clusters': 65}</td><td>0.07571</td><td>0.77248</td><td>0.6353</td></td><tr><td>25</td><td>KMeans</td><td>{'inits': 'k-means++', 'n_clusters': 75}</td><td>0.07467</td><td>0.80936</td><td>0.62795</td></td><tr><td>26</td><td>KMeans</td><td>{'inits': 'k-means++', 'n_clusters': 85}</td><td>0.08072</td><td>0.80997</td><td>0.61411</td></td><tr><td>27</td><td>KMeans</td><td>{'inits': 'k-means++', 'n_clusters': 95}</td><td>0.08975</td><td>0.81886</td><td>0.60683</td></td><tr><td>28</td><td>KMeans</td><td>{'inits': 'k-means++', 'n_clusters': 105}</td><td>0.09272</td><td>0.82742</td><td>0.60231</td></td><tr><td>29</td><td>KMeans</td><td>{'inits': 'k-means++', 'n_clusters': 115}</td><td>0.09021</td><td>0.889</td><td>0.60951</td></td><tr><td>30</td><td>KMeans</td><td>{'inits': 'k-means++', 'n_clusters': 125}</td><td>0.09269</td><td>0.87688</td><td>0.59696</td></td><tr><td>31</td><td>KMeans</td><td>{'inits': 'k-means++', 'n_clusters': 135}</td><td>0.09254</td><td>0.89614</td><td>0.59679</td></td><tr><td>32</td><td>KMeans</td><td>{'inits': 'k-means++', 'n_clusters': 145}</td><td>0.09187</td><td>0.87922</td><td>0.57863</td></td><tr><td>33</td><td>KMeans</td><td>{'inits': 'random', 'n_clusters': 5}</td><td>0.02848</td><td>0.30987</td><td>0.67788</td></td><tr><td>34</td><td>KMeans</td><td>{'inits': 'random', 'n_clusters': 15}</td><td>0.02467</td><td>0.45627</td><td>0.73483</td></td><tr><td>35</td><td>KMeans</td><td>{'inits': 'random', 'n_clusters': 25}</td><td>0.03442</td><td>0.55095</td><td>0.70358</td></td><tr><td>36</td><td>KMeans</td><td>{'inits': 'random', 'n_clusters': 35}</td><td>0.04032</td><td>0.56137</td><td>0.63517</td></td><tr><td>37</td><td>KMeans</td><td>{'inits': 'random', 'n_clusters': 45}</td><td>0.04745</td><td>0.68031</td><td>0.66857</td></td><tr><td>38</td><td>KMeans</td><td>{'inits': 'random', 'n_clusters': 55}</td><td>0.03148</td><td>0.71524</td><td>0.64955</td></td><tr><td>39</td><td>KMeans</td><td>{'inits': 'random', 'n_clusters': 65}</td><td>0.0425</td><td>0.7991</td><td>0.65276</td></td><tr><td>40</td><td>KMeans</td><td>{'inits': 'random', 'n_clusters': 75}</td><td>0.04727</td><td>0.70667</td><td>0.59955</td></td><tr><td>41</td><td>KMeans</td><td>{'inits': 'random', 'n_clusters': 85}</td><td>0.0482</td><td>0.79375</td><td>0.60898</td></td><tr><td>42</td><td>KMeans</td><td>{'inits': 'random', 'n_clusters': 95}</td><td>0.03973</td><td>0.81069</td><td>0.6028</td></td><tr><td>43</td><td>KMeans</td><td>{'inits': 'random', 'n_clusters': 105}</td><td>0.04524</td><td>0.79862</td><td>0.60257</td></td><tr><td>44</td><td>KMeans</td><td>{'inits': 'random', 'n_clusters': 115}</td><td>0.04571</td><td>0.80708</td><td>0.58054</td></td><tr><td>45</td><td>KMeans</td><td>{'inits': 'random', 'n_clusters': 125}</td><td>0.04993</td><td>0.83027</td><td>0.58571</td></td><tr><td>46</td><td>KMeans</td><td>{'inits': 'random', 'n_clusters': 135}</td><td>0.03412</td><td>0.84034</td><td>0.56077</td></td><tr><td>47</td><td>KMeans</td><td>{'inits': 'random', 'n_clusters': 145}</td><td>0.04028</td><td>0.84769</td><td>0.56692</td></td><tr><td>48</td><td>KMeans</td><td>{'inits': 'k-means++', 'n_clusters': 3}</td><td>0.01936</td><td>0.20485</td><td>0.601</td></td><tr><td>49</td><td>KMeans</td><td>{'inits': 'k-means++', 'n_clusters': 5}</td><td>0.03407</td><td>0.3197</td><td>0.7765</td></td><tr><td>50</td><td>KMeans</td><td>{'inits': 'k-means++', 'n_clusters': 10}</td><td>0.00428</td><td>0.37252</td><td>0.67508</td></td><tr><td>51</td><td>KMeans</td><td>{'inits': 'k-means++', 'n_clusters': 25}</td><td>0.04246</td><td>0.61752</td><td>0.71141</td></td><tr><td>52</td><td>KMeans</td><td>{'inits': 'k-means++', 'n_clusters': 40}</td><td>0.06348</td><td>0.65345</td><td>0.63161</td></td><tr><td>53</td><td>KMeans</td><td>{'inits': 'k-means++', 'n_clusters': 60}</td><td>0.07541</td><td>0.76081</td><td>0.64069</td></td><tr><td>54</td><td>KMeans</td><td>{'inits': 'k-means++', 'n_clusters': 100}</td><td>0.08417</td><td>0.83371</td><td>0.60697</td></td><tr><td>55</td><td>KMeans</td><td>{'inits': 'random', 'n_clusters': 3}</td><td>0.01904</td><td>0.22401</td><td>0.6341</td></td><tr><td>56</td><td>KMeans</td><td>{'inits': 'random', 'n_clusters': 5}</td><td>0.03918</td><td>0.2372</td><td>0.67348</td></td><tr><td>57</td><td>KMeans</td><td>{'inits': 'random', 'n_clusters': 10}</td><td>0.01172</td><td>0.37186</td><td>0.68439</td></td><tr><td>58</td><td>KMeans</td><td>{'inits': 'random', 'n_clusters': 25}</td><td>0.04124</td><td>0.5505</td><td>0.69103</td></td><tr><td>59</td><td>KMeans</td><td>{'inits': 'random', 'n_clusters': 40}</td><td>0.04061</td><td>0.65182</td><td>0.64271</td></td><tr><td>60</td><td>KMeans</td><td>{'inits': 'random', 'n_clusters': 60}</td><td>0.04185</td><td>0.69397</td><td>0.64062</td></td><tr><td>61</td><td>KMeans</td><td>{'inits': 'random', 'n_clusters': 100}</td><td>0.04914</td><td>0.79961</td><td>0.59393</td></td><tr><td>62</td><td>KMeans</td><td>{'inits': 'k-means++', 'n_clusters': 5}</td><td>0.03715</td><td>0.2971</td><td>0.73771</td></td><tr><td>63</td><td>KMeans</td><td>{'inits': 'k-means++', 'n_clusters': 15}</td><td>0.04096</td><td>0.60546</td><td>0.74671</td></td><tr><td>64</td><td>KMeans</td><td>{'inits': 'k-means++', 'n_clusters': 25}</td><td>0.04525</td><td>0.64265</td><td>0.70076</td></td><tr><td>65</td><td>KMeans</td><td>{'inits': 'k-means++', 'n_clusters': 35}</td><td>0.06052</td><td>0.66587</td><td>0.68297</td></td><tr><td>66</td><td>KMeans</td><td>{'inits': 'k-means++', 'n_clusters': 45}</td><td>0.0667</td><td>0.72048</td><td>0.66552</td></td><tr><td>67</td><td>KMeans</td><td>{'inits': 'k-means++', 'n_clusters': 55}</td><td>0.056</td><td>0.7897</td><td>0.66361</td></td><tr><td>68</td><td>KMeans</td><td>{'inits': 'k-means++', 'n_clusters': 65}</td><td>0.07055</td><td>0.76091</td><td>0.61616</td></td><tr><td>69</td><td>KMeans</td><td>{'inits': 'k-means++', 'n_clusters': 75}</td><td>0.09333</td><td>0.80819</td><td>0.62773</td></td><tr><td>70</td><td>KMeans</td><td>{'inits': 'k-means++', 'n_clusters': 85}</td><td>0.09397</td><td>0.81363</td><td>0.61337</td></td><tr><td>71</td><td>KMeans</td><td>{'inits': 'k-means++', 'n_clusters': 95}</td><td>0.09025</td><td>0.84185</td><td>0.62363</td></td><tr><td>72</td><td>KMeans</td><td>{'inits': 'k-means++', 'n_clusters': 105}</td><td>0.09647</td><td>0.85376</td><td>0.61363</td></td><tr><td>73</td><td>KMeans</td><td>{'inits': 'k-means++', 'n_clusters': 115}</td><td>0.09364</td><td>0.85711</td><td>0.5958</td></td><tr><td>74</td><td>KMeans</td><td>{'inits': 'k-means++', 'n_clusters': 125}</td><td>0.09013</td><td>0.86712</td><td>0.59251</td></td><tr style=\"font-weight:bold; color:blue;\"><td>75</td><td>KMeans</td><td>{'inits': 'k-means++', 'n_clusters': 135}</td><td>0.10028</td><td>0.87649</td><td>0.59092</td></td><tr style=\"font-weight:bold; color:green;\"><td>76</td><td>KMeans</td><td>{'inits': 'k-means++', 'n_clusters': 145}</td><td>0.08687</td><td>0.89661</td><td>0.58633</td></td><tr><td>77</td><td>KMeans</td><td>{'inits': 'random', 'n_clusters': 5}</td><td>-0.00595</td><td>0.26318</td><td>0.75117</td></td><tr><td>78</td><td>KMeans</td><td>{'inits': 'random', 'n_clusters': 15}</td><td>0.04352</td><td>0.45941</td><td>0.73579</td></td><tr><td>79</td><td>KMeans</td><td>{'inits': 'random', 'n_clusters': 25}</td><td>0.03314</td><td>0.58456</td><td>0.68761</td></td><tr><td>80</td><td>KMeans</td><td>{'inits': 'random', 'n_clusters': 35}</td><td>0.03151</td><td>0.6222</td><td>0.64378</td></td><tr><td>81</td><td>KMeans</td><td>{'inits': 'random', 'n_clusters': 45}</td><td>0.05201</td><td>0.61989</td><td>0.60356</td></td><tr><td>82</td><td>KMeans</td><td>{'inits': 'random', 'n_clusters': 55}</td><td>0.03222</td><td>0.66455</td><td>0.64011</td></td><tr><td>83</td><td>KMeans</td><td>{'inits': 'random', 'n_clusters': 65}</td><td>0.03673</td><td>0.68164</td><td>0.5994</td></td><tr><td>84</td><td>KMeans</td><td>{'inits': 'random', 'n_clusters': 75}</td><td>0.04266</td><td>0.70029</td><td>0.59591</td></td><tr><td>85</td><td>KMeans</td><td>{'inits': 'random', 'n_clusters': 85}</td><td>0.03364</td><td>0.7943</td><td>0.60726</td></td><tr><td>86</td><td>KMeans</td><td>{'inits': 'random', 'n_clusters': 95}</td><td>0.03511</td><td>0.79891</td><td>0.60481</td></td><tr><td>87</td><td>KMeans</td><td>{'inits': 'random', 'n_clusters': 105}</td><td>0.03346</td><td>0.78506</td><td>0.5719</td></td><tr><td>88</td><td>KMeans</td><td>{'inits': 'random', 'n_clusters': 115}</td><td>0.04096</td><td>0.84571</td><td>0.59655</td></td><tr><td>89</td><td>KMeans</td><td>{'inits': 'random', 'n_clusters': 125}</td><td>0.0387</td><td>0.80771</td><td>0.5591</td></td><tr><td>90</td><td>KMeans</td><td>{'inits': 'random', 'n_clusters': 135}</td><td>0.04525</td><td>0.86102</td><td>0.57492</td></td><tr><td>91</td><td>KMeans</td><td>{'inits': 'random', 'n_clusters': 145}</td><td>0.04554</td><td>0.85454</td><td>0.57034</td></td></table><p>Legend:</p><p><b  style=\"color:blue\">best silhouette score</p><p><b  style=\"color:green\">best homogeneity score</b></p><p><b  style=\"color:magenta\"> best completeness score </b></p>"
      ],
      "text/plain": [
       "<IPython.core.display.HTML object>"
      ]
     },
     "metadata": {},
     "output_type": "display_data"
    }
   ],
   "source": [
    "from IPython.display import HTML, display\n",
    "\n",
    "# Build table header\n",
    "tableHeader = '<tr>'    \n",
    "for item in [\"Nr\", \"Algorithm\",\"Parameters\", \"Silhouette score\", \"Homogenity score\", \"Completeness score\"]:\n",
    "    tableHeader += '<th>' + item  + '</th>'\n",
    "tableHeader += '</tr>'\n",
    "\n",
    "\n",
    "data_rows = ''\n",
    "nr = 0\n",
    "best_model_index = {}\n",
    "\n",
    "for i, clustering in enumerate(clusterings):\n",
    "        data_row = '<tr>'\n",
    "         \n",
    "        if silhouette_scores[i]==max(silhouette_scores):\n",
    "            data_row = '<tr style=\"font-weight:bold; color:blue;\">'\n",
    "            best_model_index[clustering[\"algorithm\"]] = i\n",
    "        elif homogeneity_scores[i]==max(homogeneity_scores):\n",
    "            data_row = '<tr style=\"font-weight:bold; color:green;\">'\n",
    "        elif completeness_scores[i]==max(completeness_scores):\n",
    "            data_row = '<tr style=\"font-weight:bold; color:magenta;\">'\n",
    "            \n",
    "        data_row += '<td>' + str(nr) + '</td>'\n",
    "        data_row += '<td>' + str(clustering[\"algorithm\"]) + '</td>'\n",
    "        data_row += '<td>' + str(clustering[\"parameters\"]) + '</td>'\n",
    "        data_row += '<td>' + str(float(\"{0:.5f}\".format(silhouette_scores[i]))) + '</td>'\n",
    "        data_row += '<td>' + str(float(\"{0:.5f}\".format(homogeneity_scores[i]))) + '</td>'\n",
    "        data_row += '<td>' + str(float(\"{0:.5f}\".format(completeness_scores[i]))) + '</td>'\n",
    "        \n",
    "        data_row += '</td>'\n",
    "        data_rows += data_row\n",
    "        nr += 1\n",
    "\n",
    "\n",
    "legend = '<p>Legend:</p>'\n",
    "legend += '<p><b  style=\"color:blue\">best silhouette score</p>'\n",
    "legend += '<p><b  style=\"color:green\">best homogeneity score</b></p>'\n",
    "legend += '<p><b  style=\"color:magenta\"> best completeness score </b></p>'\n",
    "\n",
    "HTML_code = '<table style=\"border: 1px solid black\">'+tableHeader+ data_rows + '</table>'  + legend\n",
    "\n",
    "display(HTML(HTML_code))"
   ]
  },
  {
   "cell_type": "markdown",
   "metadata": {},
   "source": [
    "**Conclusions:**\n",
    "For KMeans algorithm, best homogeneity score (0.83) is obtained by using 100 clusters."
   ]
  },
  {
   "cell_type": "code",
   "execution_count": 305,
   "metadata": {
    "scrolled": true
   },
   "outputs": [
    {
     "data": {
      "text/plain": [
       "<matplotlib.legend.Legend at 0x7f5646a840b8>"
      ]
     },
     "execution_count": 305,
     "metadata": {},
     "output_type": "execute_result"
    },
    {
     "data": {
      "image/png": "[encoded data removed]",
      "text/plain": [
       "<Figure size 432x288 with 1 Axes>"
      ]
     },
     "metadata": {
      "needs_background": "light"
     },
     "output_type": "display_data"
    }
   ],
   "source": [
    "n_clusters = []\n",
    "for i in range(4, 10):\n",
    "    n_clusters.append(clusterings[i][\"parameters\"][\"n_clusters\"])\n",
    "\n",
    "# print(silhouette_scores)\n",
    "plt.plot(n_clusters, silhouette_scores[3:9], 'b', label=\"silhouette\")\n",
    "plt.plot(n_clusters, homogeneity_scores[3:9], 'g',label=\"homogeneity\")\n",
    "plt.plot(n_clusters, completeness_scores[3:9], 'm', label=\"completeness\")\n",
    "plt.legend()\n"
   ]
  },
  {
   "cell_type": "markdown",
   "metadata": {},
   "source": [
    "\n",
    "### Agglomerative"
   ]
  },
  {
   "cell_type": "code",
   "execution_count": 318,
   "metadata": {},
   "outputs": [],
   "source": [
    "clusterings = []"
   ]
  },
  {
   "cell_type": "code",
   "execution_count": 319,
   "metadata": {},
   "outputs": [
    {
     "name": "stdout",
     "output_type": "stream",
     "text": [
      "0.03379850613254451\n",
      "0.048143055152502966\n",
      "0.06432521528228802\n",
      "0.07500954504440671\n",
      "0.08579497208608455\n",
      "0.09271256248960257\n",
      "0.09898108002756238\n",
      "0.1050354434715067\n",
      "0.10862930852999174\n",
      "0.11263133403200498\n",
      "0.11551810418736701\n",
      "0.11737545328888671\n",
      "0.12092209735977974\n",
      "0.1211311056266662\n"
     ]
    }
   ],
   "source": [
    "# n_clusterss = [3, 5, 10, 25, 40, 60, 100]\n",
    "n_clusterss = np.arange(10, 150, 10)\n",
    "\n",
    "for n_clusters in n_clusterss:\n",
    "    agg = AgglomerativeClustering(n_clusters=n_clusters)\n",
    "    agg.fit(X_PCA)\n",
    "    s=silhouette_score(X,agg.labels_)\n",
    "    print(s)\n",
    "\n",
    "    cluster = {}\n",
    "    cluster[\"algorithm\"] = \"Agglomerative\"\n",
    "    cluster[\"labels\"] = agg.labels_\n",
    "    cluster[\"parameters\"] = {'n_clusters': n_clusters}\n",
    "    clusterings.append(cluster)\n",
    "\n"
   ]
  },
  {
   "cell_type": "markdown",
   "metadata": {},
   "source": [
    "#### Calculate scores"
   ]
  },
  {
   "cell_type": "code",
   "execution_count": 320,
   "metadata": {},
   "outputs": [
    {
     "name": "stdout",
     "output_type": "stream",
     "text": [
      "{0, 1, 2, 3, 4, 5, 6, 7, 8, 9}\n",
      "{0, 1, 2, 3, 4, 5, 6, 7, 8, 9, 10, 11, 12, 13, 14, 15, 16, 17, 18, 19}\n",
      "{0, 1, 2, 3, 4, 5, 6, 7, 8, 9, 10, 11, 12, 13, 14, 15, 16, 17, 18, 19, 20, 21, 22, 23, 24, 25, 26, 27, 28, 29}\n",
      "{0, 1, 2, 3, 4, 5, 6, 7, 8, 9, 10, 11, 12, 13, 14, 15, 16, 17, 18, 19, 20, 21, 22, 23, 24, 25, 26, 27, 28, 29, 30, 31, 32, 33, 34, 35, 36, 37, 38, 39}\n",
      "{0, 1, 2, 3, 4, 5, 6, 7, 8, 9, 10, 11, 12, 13, 14, 15, 16, 17, 18, 19, 20, 21, 22, 23, 24, 25, 26, 27, 28, 29, 30, 31, 32, 33, 34, 35, 36, 37, 38, 39, 40, 41, 42, 43, 44, 45, 46, 47, 48, 49}\n",
      "{0, 1, 2, 3, 4, 5, 6, 7, 8, 9, 10, 11, 12, 13, 14, 15, 16, 17, 18, 19, 20, 21, 22, 23, 24, 25, 26, 27, 28, 29, 30, 31, 32, 33, 34, 35, 36, 37, 38, 39, 40, 41, 42, 43, 44, 45, 46, 47, 48, 49, 50, 51, 52, 53, 54, 55, 56, 57, 58, 59}\n",
      "{0, 1, 2, 3, 4, 5, 6, 7, 8, 9, 10, 11, 12, 13, 14, 15, 16, 17, 18, 19, 20, 21, 22, 23, 24, 25, 26, 27, 28, 29, 30, 31, 32, 33, 34, 35, 36, 37, 38, 39, 40, 41, 42, 43, 44, 45, 46, 47, 48, 49, 50, 51, 52, 53, 54, 55, 56, 57, 58, 59, 60, 61, 62, 63, 64, 65, 66, 67, 68, 69}\n",
      "{0, 1, 2, 3, 4, 5, 6, 7, 8, 9, 10, 11, 12, 13, 14, 15, 16, 17, 18, 19, 20, 21, 22, 23, 24, 25, 26, 27, 28, 29, 30, 31, 32, 33, 34, 35, 36, 37, 38, 39, 40, 41, 42, 43, 44, 45, 46, 47, 48, 49, 50, 51, 52, 53, 54, 55, 56, 57, 58, 59, 60, 61, 62, 63, 64, 65, 66, 67, 68, 69, 70, 71, 72, 73, 74, 75, 76, 77, 78, 79}\n",
      "{0, 1, 2, 3, 4, 5, 6, 7, 8, 9, 10, 11, 12, 13, 14, 15, 16, 17, 18, 19, 20, 21, 22, 23, 24, 25, 26, 27, 28, 29, 30, 31, 32, 33, 34, 35, 36, 37, 38, 39, 40, 41, 42, 43, 44, 45, 46, 47, 48, 49, 50, 51, 52, 53, 54, 55, 56, 57, 58, 59, 60, 61, 62, 63, 64, 65, 66, 67, 68, 69, 70, 71, 72, 73, 74, 75, 76, 77, 78, 79, 80, 81, 82, 83, 84, 85, 86, 87, 88, 89}\n",
      "{0, 1, 2, 3, 4, 5, 6, 7, 8, 9, 10, 11, 12, 13, 14, 15, 16, 17, 18, 19, 20, 21, 22, 23, 24, 25, 26, 27, 28, 29, 30, 31, 32, 33, 34, 35, 36, 37, 38, 39, 40, 41, 42, 43, 44, 45, 46, 47, 48, 49, 50, 51, 52, 53, 54, 55, 56, 57, 58, 59, 60, 61, 62, 63, 64, 65, 66, 67, 68, 69, 70, 71, 72, 73, 74, 75, 76, 77, 78, 79, 80, 81, 82, 83, 84, 85, 86, 87, 88, 89, 90, 91, 92, 93, 94, 95, 96, 97, 98, 99}\n",
      "{0, 1, 2, 3, 4, 5, 6, 7, 8, 9, 10, 11, 12, 13, 14, 15, 16, 17, 18, 19, 20, 21, 22, 23, 24, 25, 26, 27, 28, 29, 30, 31, 32, 33, 34, 35, 36, 37, 38, 39, 40, 41, 42, 43, 44, 45, 46, 47, 48, 49, 50, 51, 52, 53, 54, 55, 56, 57, 58, 59, 60, 61, 62, 63, 64, 65, 66, 67, 68, 69, 70, 71, 72, 73, 74, 75, 76, 77, 78, 79, 80, 81, 82, 83, 84, 85, 86, 87, 88, 89, 90, 91, 92, 93, 94, 95, 96, 97, 98, 99, 100, 101, 102, 103, 104, 105, 106, 107, 108, 109}\n",
      "{0, 1, 2, 3, 4, 5, 6, 7, 8, 9, 10, 11, 12, 13, 14, 15, 16, 17, 18, 19, 20, 21, 22, 23, 24, 25, 26, 27, 28, 29, 30, 31, 32, 33, 34, 35, 36, 37, 38, 39, 40, 41, 42, 43, 44, 45, 46, 47, 48, 49, 50, 51, 52, 53, 54, 55, 56, 57, 58, 59, 60, 61, 62, 63, 64, 65, 66, 67, 68, 69, 70, 71, 72, 73, 74, 75, 76, 77, 78, 79, 80, 81, 82, 83, 84, 85, 86, 87, 88, 89, 90, 91, 92, 93, 94, 95, 96, 97, 98, 99, 100, 101, 102, 103, 104, 105, 106, 107, 108, 109, 110, 111, 112, 113, 114, 115, 116, 117, 118, 119}\n",
      "{0, 1, 2, 3, 4, 5, 6, 7, 8, 9, 10, 11, 12, 13, 14, 15, 16, 17, 18, 19, 20, 21, 22, 23, 24, 25, 26, 27, 28, 29, 30, 31, 32, 33, 34, 35, 36, 37, 38, 39, 40, 41, 42, 43, 44, 45, 46, 47, 48, 49, 50, 51, 52, 53, 54, 55, 56, 57, 58, 59, 60, 61, 62, 63, 64, 65, 66, 67, 68, 69, 70, 71, 72, 73, 74, 75, 76, 77, 78, 79, 80, 81, 82, 83, 84, 85, 86, 87, 88, 89, 90, 91, 92, 93, 94, 95, 96, 97, 98, 99, 100, 101, 102, 103, 104, 105, 106, 107, 108, 109, 110, 111, 112, 113, 114, 115, 116, 117, 118, 119, 120, 121, 122, 123, 124, 125, 126, 127, 128, 129}\n",
      "{0, 1, 2, 3, 4, 5, 6, 7, 8, 9, 10, 11, 12, 13, 14, 15, 16, 17, 18, 19, 20, 21, 22, 23, 24, 25, 26, 27, 28, 29, 30, 31, 32, 33, 34, 35, 36, 37, 38, 39, 40, 41, 42, 43, 44, 45, 46, 47, 48, 49, 50, 51, 52, 53, 54, 55, 56, 57, 58, 59, 60, 61, 62, 63, 64, 65, 66, 67, 68, 69, 70, 71, 72, 73, 74, 75, 76, 77, 78, 79, 80, 81, 82, 83, 84, 85, 86, 87, 88, 89, 90, 91, 92, 93, 94, 95, 96, 97, 98, 99, 100, 101, 102, 103, 104, 105, 106, 107, 108, 109, 110, 111, 112, 113, 114, 115, 116, 117, 118, 119, 120, 121, 122, 123, 124, 125, 126, 127, 128, 129, 130, 131, 132, 133, 134, 135, 136, 137, 138, 139}\n"
     ]
    }
   ],
   "source": [
    "silhouette_scores = []\n",
    "homogeneity_scores = []\n",
    "completeness_scores = []\n",
    "\n",
    "for clustering in clusterings:\n",
    "    print(set(clustering[\"labels\"]))\n",
    "    if(len(set(clustering[\"labels\"]))<2):\n",
    "        ss, hs, cs = 0,0,0\n",
    "    else:\n",
    "        ss, hs, cs = calcScores(clustering)\n",
    "#     print(\"Silhouette score:\", ss)\n",
    "#     print(\"Homogenity score:\", hs)\n",
    "#     print(\"Completeness score:\", cs)\n",
    "\n",
    "    silhouette_scores.append(ss)\n",
    "    homogeneity_scores.append(hs)\n",
    "    completeness_scores.append(cs)\n",
    "\n",
    "# print(silhouette_scores)\n",
    "# print(homogeneity_scores)\n",
    "# print(completeness_scores)"
   ]
  },
  {
   "cell_type": "markdown",
   "metadata": {},
   "source": [
    "### Display results"
   ]
  },
  {
   "cell_type": "code",
   "execution_count": 321,
   "metadata": {},
   "outputs": [
    {
     "data": {
      "text/html": [
       "<table style=\"border: 1px solid black\"><tr><th>Nr</th><th>Algorithm</th><th>Parameters</th><th>Silhouette score</th><th>Homogenity score</th><th>Completeness score</th></tr><tr><td>0</td><td>Agglomerative</td><td>{'n_clusters': 10}</td><td>0.0338</td><td>0.4822</td><td>0.78853</td></td><tr><td>1</td><td>Agglomerative</td><td>{'n_clusters': 20}</td><td>0.04814</td><td>0.72415</td><td>0.78893</td></td><tr style=\"font-weight:bold; color:magenta;\"><td>2</td><td>Agglomerative</td><td>{'n_clusters': 30}</td><td>0.06433</td><td>0.83716</td><td>0.78906</td></td><tr><td>3</td><td>Agglomerative</td><td>{'n_clusters': 40}</td><td>0.07501</td><td>0.8512</td><td>0.74836</td></td><tr><td>4</td><td>Agglomerative</td><td>{'n_clusters': 50}</td><td>0.08579</td><td>0.86495</td><td>0.71841</td></td><tr><td>5</td><td>Agglomerative</td><td>{'n_clusters': 60}</td><td>0.09271</td><td>0.87421</td><td>0.69368</td></td><tr><td>6</td><td>Agglomerative</td><td>{'n_clusters': 70}</td><td>0.09898</td><td>0.90508</td><td>0.68177</td></td><tr><td>7</td><td>Agglomerative</td><td>{'n_clusters': 80}</td><td>0.10504</td><td>0.91259</td><td>0.66126</td></td><tr><td>8</td><td>Agglomerative</td><td>{'n_clusters': 90}</td><td>0.10863</td><td>0.92536</td><td>0.6503</td></td><tr><td>9</td><td>Agglomerative</td><td>{'n_clusters': 100}</td><td>0.11263</td><td>0.93545</td><td>0.64231</td></td><tr><td>10</td><td>Agglomerative</td><td>{'n_clusters': 110}</td><td>0.11552</td><td>0.93717</td><td>0.63073</td></td><tr><td>11</td><td>Agglomerative</td><td>{'n_clusters': 120}</td><td>0.11738</td><td>0.95194</td><td>0.62835</td></td><tr><td>12</td><td>Agglomerative</td><td>{'n_clusters': 130}</td><td>0.12092</td><td>0.95873</td><td>0.62281</td></td><tr style=\"font-weight:bold; color:blue;\"><td>13</td><td>Agglomerative</td><td>{'n_clusters': 140}</td><td>0.12113</td><td>0.96176</td><td>0.61486</td></td></table><p>Legend:</p><p><b  style=\"color:blue\">best silhouette score</p><p><b  style=\"color:green\">best homogeneity score</b></p><p><b  style=\"color:magenta\"> best completeness score </b></p>"
      ],
      "text/plain": [
       "<IPython.core.display.HTML object>"
      ]
     },
     "metadata": {},
     "output_type": "display_data"
    }
   ],
   "source": [
    "from IPython.display import HTML, display\n",
    "\n",
    "\n",
    "# Build table header\n",
    "tableHeader = '<tr>'    \n",
    "for item in [\"Nr\", \"Algorithm\",\"Parameters\", \"Silhouette score\", \"Homogenity score\", \"Completeness score\"]:\n",
    "    tableHeader += '<th>' + item  + '</th>'\n",
    "tableHeader += '</tr>'\n",
    "\n",
    "data_rows = ''\n",
    "\n",
    "\n",
    "data_rows = ''\n",
    "nr = 0\n",
    "best_model_index = {}\n",
    "\n",
    "for i, clustering in enumerate(clusterings):\n",
    "        data_row = '<tr>'\n",
    "         \n",
    "        if silhouette_scores[i]==max(silhouette_scores):\n",
    "            data_row = '<tr style=\"font-weight:bold; color:blue;\">'\n",
    "            best_model_index[clustering[\"algorithm\"]] = i\n",
    "        elif homogeneity_scores[i]==max(homogeneity_scores):\n",
    "            data_row = '<tr style=\"font-weight:bold; color:green;\">'\n",
    "        elif completeness_scores[i]==max(completeness_scores):\n",
    "            data_row = '<tr style=\"font-weight:bold; color:magenta;\">'\n",
    "            \n",
    "        data_row += '<td>' + str(nr) + '</td>'\n",
    "        data_row += '<td>' + str(clustering[\"algorithm\"]) + '</td>'\n",
    "        data_row += '<td>' + str(clustering[\"parameters\"]) + '</td>'\n",
    "        data_row += '<td>' + str(float(\"{0:.5f}\".format(silhouette_scores[i]))) + '</td>'\n",
    "        data_row += '<td>' + str(float(\"{0:.5f}\".format(homogeneity_scores[i]))) + '</td>'\n",
    "        data_row += '<td>' + str(float(\"{0:.5f}\".format(completeness_scores[i]))) + '</td>'\n",
    "        \n",
    "        data_row += '</td>'\n",
    "        data_rows += data_row\n",
    "        nr += 1\n",
    "\n",
    "\n",
    "legend = '<p>Legend:</p>'\n",
    "legend += '<p><b  style=\"color:blue\">best silhouette score</p>'\n",
    "legend += '<p><b  style=\"color:green\">best homogeneity score</b></p>'\n",
    "legend += '<p><b  style=\"color:magenta\"> best completeness score </b></p>'\n",
    "\n",
    "HTML_code = '<table style=\"border: 1px solid black\">'+tableHeader+ data_rows + '</table>'  + legend\n",
    "\n",
    "display(HTML(HTML_code))"
   ]
  },
  {
   "cell_type": "code",
   "execution_count": 322,
   "metadata": {},
   "outputs": [
    {
     "data": {
      "text/plain": [
       "<matplotlib.legend.Legend at 0x7f56469b1c50>"
      ]
     },
     "execution_count": 322,
     "metadata": {},
     "output_type": "execute_result"
    },
    {
     "data": {
      "image/png": "[encoded data removed]",
      "text/plain": [
       "<Figure size 432x288 with 1 Axes>"
      ]
     },
     "metadata": {
      "needs_background": "light"
     },
     "output_type": "display_data"
    }
   ],
   "source": [
    "n_clusters = []\n",
    "for i in range(0, len(clusterings)):\n",
    "    n_clusters.append(clusterings[i][\"parameters\"][\"n_clusters\"])\n",
    "\n",
    "# print(silhouette_scores)\n",
    "plt.plot(n_clusters, silhouette_scores, 'b', label=\"silhouette\")\n",
    "plt.plot(n_clusters, homogeneity_scores, 'g',label=\"homogeneity\")\n",
    "plt.plot(n_clusters, completeness_scores, 'm', label=\"completeness\")\n",
    "plt.legend()\n"
   ]
  },
  {
   "cell_type": "markdown",
   "metadata": {},
   "source": [
    "### Agglomerative with 2 classes - test with sentiment analysis"
   ]
  },
  {
   "cell_type": "code",
   "execution_count": 323,
   "metadata": {},
   "outputs": [
    {
     "name": "stdout",
     "output_type": "stream",
     "text": [
      "0.029508731815107127\n"
     ]
    }
   ],
   "source": [
    "n_clusters = 2\n",
    "\n",
    "agg = AgglomerativeClustering(n_clusters=n_clusters)\n",
    "agg.fit(X_PCA)\n",
    "s=silhouette_score(X,agg.labels_)\n",
    "print(s)\n",
    "\n",
    "cluster = {}\n",
    "cluster[\"algorithm\"] = \"Agglomerative\"\n",
    "cluster[\"labels\"] = agg.labels_\n",
    "cluster[\"parameters\"] = {'n_clusters': n_clusters}\n",
    "# clusterings.append(cluster)\n",
    "\n"
   ]
  },
  {
   "cell_type": "code",
   "execution_count": 325,
   "metadata": {},
   "outputs": [
    {
     "data": {
      "image/png": "[encoded data removed]",
      "text/plain": [
       "<Figure size 432x288 with 1 Axes>"
      ]
     },
     "metadata": {
      "needs_background": "light"
     },
     "output_type": "display_data"
    }
   ],
   "source": [
    "plt.scatter(range(0,400), comps, c=agg.labels_)\n",
    "plt.title(\"Agglomerative - 2 clusters + sentiment\")\n",
    "plt.show()"
   ]
  },
  {
   "cell_type": "markdown",
   "metadata": {},
   "source": [
    "## Final conclusions - task 2"
   ]
  },
  {
   "cell_type": "markdown",
   "metadata": {},
   "source": [
    "**DBscan:**\n",
    "- best silhouette score - obtained for params 'eps': 1.1999999999999997, 'min_samples': 5\n",
    "- best homogeneity score is 0.25696 - obtained for params 'eps': 0.8999999999999999, 'min_samples': 5\n",
    "- best completeness score is - 0.66125 - obtained for params 'eps': 0.7999999999999999, 'min_samples': 5\t\n",
    "\n",
    "**KMeans:**\n",
    "- sentiment analysis - using 2 clusters - doesn't classify based on sentiment and data looks rather random\n",
    "- trying classification by authors - n clusters=20 - completeness score is 0.70, \n",
    "(groups books written by same author with the accuracy of about 70%). Best classification is achieved for n_clusters=10\n",
    "- best homogeneity score is acieved for n_clusters=100 and grows with the number of clusters\n",
    "\n",
    "\n",
    "**Agglomerative:**\n",
    "- best silhouette score - by using 140 clusters (improves by having more clusters)\n",
    "- best homogeneity score - by using140 clusters (improves by having more clusters)\n",
    "- best completeness score - 20-30 clusters (groups books written by same author with the accuracy of about 78%)\n",
    "- sentiment analysis - using 2 clusters - doesn't classify based on sentiment\n",
    "\n",
    "<hr>\n",
    "\n",
    "***Note:*** \n",
    "\n",
    "*silhouette* - The Silhouette Coefficient is calculated using the mean intra-cluster distance (a) and the mean nearest-cluster distance (b) for each sample. \n",
    "*completeness* -  A clustering result satisfies completeness if all the data points that are members of a given class are elements of the same cluster.\n",
    "*homogeneity* - A clustering result satisfies homogeneity if all of its clusters contain only data points which are members of a single class.\n",
    "\n",
    "(from sklearn documentation)"
   ]
  }
 ],
 "metadata": {
  "kernelspec": {
   "display_name": "P3",
   "language": "python",
   "name": "p3"
  },
  "language_info": {
   "codemirror_mode": {
    "name": "ipython",
    "version": 3
   },
   "file_extension": ".py",
   "mimetype": "text/x-python",
   "name": "python",
   "nbconvert_exporter": "python",
   "pygments_lexer": "ipython3",
   "version": "3.6.7"
  }
 },
 "nbformat": 4,
 "nbformat_minor": 2
}
