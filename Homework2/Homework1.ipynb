{
 "cells": [
  {
   "cell_type": "markdown",
   "metadata": {},
   "source": [
    "# Dog breeds classification project\n",
    "#### Author: Marusic Diana"
   ]
  },
  {
   "cell_type": "markdown",
   "metadata": {},
   "source": [
    "This experiment aims to solve the problem of Dog Breed classification and Longevity prediction based on recorded features as weight, height, energy level, and other features. A dataset of 1000 samples with missing values for the height feature will be used. The features are stored as floating point numerical values and categorical values.\n",
    "\n",
    "The first part of this experiment is to design and select the best model for predicting Dog breed names using Logistic Regression, Random Forests and KNN classification algorithms with different hyperparameters.\n",
    "\n",
    "The second part of the experiment consists in using regression to predict Longevity using the same features, except Dog Breed Name. The algorithms that will be used are Linear Regression and KNN Regression."
   ]
  },
  {
   "cell_type": "markdown",
   "metadata": {},
   "source": [
    "## Problem statement"
   ]
  },
  {
   "cell_type": "markdown",
   "metadata": {},
   "source": [
    "## Import libraries"
   ]
  },
  {
   "cell_type": "code",
   "execution_count": 577,
   "metadata": {},
   "outputs": [],
   "source": [
    "%reload_ext autoreload\n",
    "%autoreload 2\n",
    "%matplotlib inline\n",
    "\n",
    "import numpy as np\n",
    "from io import StringIO   # StringIO behaves like a file object\n",
    "from sklearn.impute import SimpleImputer\n",
    "from sklearn import linear_model\n",
    "from sklearn.linear_model import LinearRegression, Ridge, Lasso, LogisticRegression\n",
    "from sklearn.ensemble import RandomForestClassifier\n",
    "from sklearn.neighbors import KNeighborsClassifier\n",
    "from sklearn.neighbors import KNeighborsRegressor\n",
    "from sklearn.model_selection import cross_val_score\n",
    "from sklearn.metrics import accuracy_score, f1_score, precision_score, recall_score\n",
    "from sklearn.metrics import explained_variance_score, mean_squared_error\n",
    "from sklearn.model_selection import train_test_split\n",
    "import pandas as pd\n",
    "import matplotlib.pyplot as plt\n",
    "from sklearn.metrics import classification_report\n",
    "from sklearn import preprocessing\n",
    "from sklearn.model_selection import KFold\n",
    "from sklearn.model_selection import cross_val_score\n",
    "from IPython.display import HTML, display\n"
   ]
  },
  {
   "cell_type": "code",
   "execution_count": 508,
   "metadata": {},
   "outputs": [],
   "source": [
    "# check python version\n",
    "# import sys\n",
    "# sys.version"
   ]
  },
  {
   "cell_type": "markdown",
   "metadata": {},
   "source": [
    "Define and initialize some constants"
   ]
  },
  {
   "cell_type": "code",
   "execution_count": 509,
   "metadata": {},
   "outputs": [],
   "source": [
    "######################################\n",
    "###  CONSTANTS \n",
    "######################################\n",
    "FILE_NAME = \"Marusic_I_Diana_train.csv\"\n",
    "\n",
    "ALL_FEATURES = [\"Breed Name\",\"Weight(g)\",\"Height(cm)\",\"Longevity(yrs)\",\n",
    "    \"Energy level\", \"Attention Needs\", \"Coat Lenght\", \"Sex\",\n",
    "    \"Owner Name\"]\n",
    "\n",
    "COLUMN_NAMES = [\"Breed Name\",\"Weight(g)\",\"Height(cm)\",\"Longevity(yrs)\",\n",
    "    \"Energy level\", \"Attention Needs\", \"Coat Lenght\", \"Sex\",\n",
    "    \"Owner Name\"]\n",
    "\n",
    "SELECTED_FEATURES_BREED = [\"Weight(g)\",\"Height(cm)\", \"Energy level\", \"Attention Needs\", \"Coat Lenght\", \"Sex\"];\n",
    "\n",
    "\n",
    "breed_tags = {}\n",
    "breeds = []\n"
   ]
  },
  {
   "cell_type": "markdown",
   "metadata": {},
   "source": [
    "## Read data from csv file"
   ]
  },
  {
   "cell_type": "code",
   "execution_count": 510,
   "metadata": {},
   "outputs": [
    {
     "name": "stdout",
     "output_type": "stream",
     "text": [
      "         Breed Name   Weight(g)  Height(cm)  Longevity(yrs) Energy level  \\\n",
      "0    Bearded Collie  22280.5964     54.3216         13.1931         high   \n",
      "1        Great Dane  51407.2976     76.6582          6.3828         high   \n",
      "2    Bearded Collie  22122.0794     51.1220         12.0584          med   \n",
      "3         Daschhund   6234.2029     21.4468         13.2225         high   \n",
      "4    Bearded Collie  18103.0403     54.3006         12.6288         high   \n",
      "5         Daschhund  10843.0668     21.1785         13.2595          med   \n",
      "6        Great Dane  49810.6146         NaN          6.3221          med   \n",
      "7         Daschhund  10333.2284     19.9325         12.6203         high   \n",
      "8    Bearded Collie  26618.0765     54.2249         12.4848         high   \n",
      "9        Great Dane  53354.6487     82.7296          6.7679         high   \n",
      "10       Great Dane  50098.9062     79.9508          6.7008          low   \n",
      "11        Dalmatian  20409.6415     48.0000         12.3616         high   \n",
      "12       Great Dane  50870.7271         NaN          7.8348          med   \n",
      "13        Daschhund  10299.2239     21.7039         13.0605         high   \n",
      "14   Bearded Collie  18356.9047     55.5343         12.7272         high   \n",
      "15       Great Dane  48362.7646         NaN          6.8854          med   \n",
      "16        Dalmatian  21368.5933     48.0000         13.3623         high   \n",
      "17        Daschhund   7042.3380     21.8623         13.3002         high   \n",
      "18        Dalmatian  21577.3243     48.0000         12.9687         high   \n",
      "19        Daschhund   4396.7016     20.5682         12.1936         high   \n",
      "20        Daschhund  11433.2976     21.2226         12.7733         high   \n",
      "21        Dalmatian  21656.6560     48.0000         12.1221         high   \n",
      "22   Bearded Collie  24306.7334     53.8335         13.1953         high   \n",
      "23        Dalmatian  22465.1342     48.0000         13.5011         high   \n",
      "24        Daschhund  12762.4336     21.0449         13.2343         high   \n",
      "25   Bearded Collie  26244.1070         NaN         12.3565         high   \n",
      "26        Daschhund  15753.9774     20.8158         12.6636         high   \n",
      "27        Dalmatian  22513.1093     48.0000         12.9858         high   \n",
      "28        Daschhund   5773.9699     20.9662         13.1109         high   \n",
      "29       Great Dane  53861.4657     79.6045          6.7502          med   \n",
      "..              ...         ...         ...             ...          ...   \n",
      "970       Daschhund   6255.8818     20.0609         14.3720         high   \n",
      "971       Daschhund  16015.9200     20.8394         12.9353         high   \n",
      "972       Daschhund   6054.0949     22.4742         11.5526         high   \n",
      "973  Bearded Collie  22473.5681     52.2653         12.3270         high   \n",
      "974       Daschhund   7428.7355         NaN         12.9798         high   \n",
      "975       Daschhund   5743.0749     21.6780         12.9176         high   \n",
      "976  Bearded Collie  20815.0938     53.7945         13.7196         high   \n",
      "977      Great Dane  42409.8660     79.1492          6.5953          med   \n",
      "978  Bearded Collie  23339.0555     51.5275         12.6412         high   \n",
      "979       Daschhund   7388.0392         NaN         11.6209         high   \n",
      "980       Daschhund  11740.0881     20.6187         12.6900         high   \n",
      "981       Daschhund  10778.8023     20.2909         12.5996         high   \n",
      "982      Great Dane  50153.1864     78.4999          7.1712          med   \n",
      "983  Bearded Collie  26019.1376     51.8643         13.6353         high   \n",
      "984       Daschhund  10218.3848     21.0785         13.0612          med   \n",
      "985      Great Dane  50457.7801     84.2325          6.8166          med   \n",
      "986       Dalmatian  20727.2790     48.0000         13.7212         high   \n",
      "987      Great Dane  52850.8866     79.5227          7.1041          med   \n",
      "988       Daschhund  13234.1511     21.1390         12.1184         high   \n",
      "989       Dalmatian  26708.1702     48.0000         13.9332         high   \n",
      "990      Great Dane  48471.0274         NaN          6.8635          med   \n",
      "991       Dalmatian  24053.1834     48.0000         12.2427         high   \n",
      "992  Bearded Collie  23010.2249     51.3982         13.2734         high   \n",
      "993      Great Dane  47968.9544     76.6145          6.6582          med   \n",
      "994      Great Dane  52059.8762         NaN          6.4776          med   \n",
      "995  Bearded Collie  25627.2075     53.1869         12.8122         high   \n",
      "996  Bearded Collie  24921.4650     54.5445         13.5297         high   \n",
      "997      Great Dane  51987.9996     81.2372          7.3245          med   \n",
      "998      Great Dane  50567.4984         NaN          7.7188          low   \n",
      "999       Dalmatian  21960.5921     48.0000         12.9592         high   \n",
      "\n",
      "    Attention Needs Coat Lenght     Sex  Owner Name  \n",
      "0              high        long    male        Dyer  \n",
      "1              high       short  female      Justin  \n",
      "2              high         med  female     Barnett  \n",
      "3               med         med  female   Henderson  \n",
      "4              high        long  female       Gomez  \n",
      "5               low         med  female    Buchanan  \n",
      "6              high       short    male         Lee  \n",
      "7               med       short    male    Chambers  \n",
      "8              high        long    male     Johnson  \n",
      "9              high       short  female        Ward  \n",
      "10             high       short    male      French  \n",
      "11             high       short  female       Evans  \n",
      "12             high       short    male    Campbell  \n",
      "13              med       short    male      Mosley  \n",
      "14             high        long  female       Scott  \n",
      "15             high       short    male       Baker  \n",
      "16             high       short    male      Foster  \n",
      "17             high       short  female       Floyd  \n",
      "18             high       short    male      Finley  \n",
      "19              med       short  female       Perez  \n",
      "20              med         med  female      Deleon  \n",
      "21             high       short  female      Morris  \n",
      "22             high         med    male     Andrews  \n",
      "23             high       short    male       Morse  \n",
      "24              med       short  female         Fry  \n",
      "25             high        long  female         May  \n",
      "26              med       short    male     Coleman  \n",
      "27             high       short    male    Faulkner  \n",
      "28              med       short    male     Edwards  \n",
      "29             high       short    male   Gallagher  \n",
      "..              ...         ...     ...         ...  \n",
      "970             low       short  female      Bright  \n",
      "971             low       short  female      Andrew  \n",
      "972             med       short  female      Fisher  \n",
      "973            high        long    male       Smith  \n",
      "974             med       short    male        Wise  \n",
      "975             med         med  female       Lynch  \n",
      "976            high        long  female      Rogers  \n",
      "977            high       short    male       White  \n",
      "978            high        long  female       Petty  \n",
      "979             low       short  female  Villarreal  \n",
      "980             med       short  female     Johnson  \n",
      "981            high       short  female        Mark  \n",
      "982            high       short  female       Smith  \n",
      "983            high        long    male       Marks  \n",
      "984            high       short  female       Allen  \n",
      "985            high       short  female     Krueger  \n",
      "986            high       short    male      Wilson  \n",
      "987            high       short    male        Ruiz  \n",
      "988             med       short  female      Taylor  \n",
      "989            high       short  female      Morgan  \n",
      "990            high       short  female     Everett  \n",
      "991            high       short    male      Walker  \n",
      "992            high        long    male        Gray  \n",
      "993            high       short  female       Davis  \n",
      "994            high       short    male       Smith  \n",
      "995            high        long    male      Lawson  \n",
      "996            high        long  female         Cox  \n",
      "997            high         med  female     Nichols  \n",
      "998            high       short  female      Foster  \n",
      "999            high       short  female       Linda  \n",
      "\n",
      "[1000 rows x 9 columns]\n",
      "          Weight(g)  Height(cm)  Longevity(yrs)\n",
      "count   1000.000000  803.000000     1000.000000\n",
      "mean   26257.922426   48.801252       11.517219\n",
      "std    14859.177781   20.511065        2.651504\n",
      "min     1439.968400   19.607900        5.029300\n",
      "25%    15273.784300   21.795500       11.544650\n",
      "50%    23029.724050   48.000000       12.749200\n",
      "75%    28193.106925   55.057650       13.265875\n",
      "max    58129.626600   84.232500       14.687000\n"
     ]
    }
   ],
   "source": [
    "data = pd.read_csv(FILE_NAME)\n",
    "print(data)\n",
    "\n",
    "print(data.describe())"
   ]
  },
  {
   "cell_type": "code",
   "execution_count": 511,
   "metadata": {
    "scrolled": true
   },
   "outputs": [
    {
     "data": {
      "image/png": "[encoded data removed]",
      "text/plain": [
       "<Figure size 1080x1080 with 6 Axes>"
      ]
     },
     "metadata": {
      "needs_background": "light"
     },
     "output_type": "display_data"
    }
   ],
   "source": [
    "\n",
    "\n",
    "columns = [\"Breed Name\",\"Weight(g)\",\"Height(cm)\",\"Longevity(yrs)\",\n",
    "    \"Energy level\", \"Attention Needs\", \"Coat Lenght\", \"Sex\",\n",
    "    \"Owner Name\"]\n",
    "\n",
    "fig = plt.figure(figsize=(15, 15))\n",
    "((p1,p2), (p3,p4), (p5,p6)) = fig.subplots(3,2)\n",
    "\n",
    "# Save breed_names in a variable\n",
    "breed_names = data.iloc[:, 0]\n",
    "\n",
    "\n",
    "for i in range(1, 7):\n",
    "        locals()['p'+str(i)].scatter(breed_names,data.iloc[:,i],alpha = 0.1, color=\"orange\")\n",
    "        locals()['p'+str(i)].set_title(data.columns[i])"
   ]
  },
  {
   "cell_type": "markdown",
   "metadata": {},
   "source": [
    "### Remove columns that do not represent features (Owner name)"
   ]
  },
  {
   "cell_type": "code",
   "execution_count": 512,
   "metadata": {},
   "outputs": [
    {
     "name": "stdout",
     "output_type": "stream",
     "text": [
      "         Breed Name   Weight(g)  Height(cm)  Longevity(yrs) Energy level  \\\n",
      "0    Bearded Collie  22280.5964     54.3216         13.1931         high   \n",
      "1        Great Dane  51407.2976     76.6582          6.3828         high   \n",
      "2    Bearded Collie  22122.0794     51.1220         12.0584          med   \n",
      "3         Daschhund   6234.2029     21.4468         13.2225         high   \n",
      "4    Bearded Collie  18103.0403     54.3006         12.6288         high   \n",
      "5         Daschhund  10843.0668     21.1785         13.2595          med   \n",
      "6        Great Dane  49810.6146         NaN          6.3221          med   \n",
      "7         Daschhund  10333.2284     19.9325         12.6203         high   \n",
      "8    Bearded Collie  26618.0765     54.2249         12.4848         high   \n",
      "9        Great Dane  53354.6487     82.7296          6.7679         high   \n",
      "10       Great Dane  50098.9062     79.9508          6.7008          low   \n",
      "11        Dalmatian  20409.6415     48.0000         12.3616         high   \n",
      "12       Great Dane  50870.7271         NaN          7.8348          med   \n",
      "13        Daschhund  10299.2239     21.7039         13.0605         high   \n",
      "14   Bearded Collie  18356.9047     55.5343         12.7272         high   \n",
      "15       Great Dane  48362.7646         NaN          6.8854          med   \n",
      "16        Dalmatian  21368.5933     48.0000         13.3623         high   \n",
      "17        Daschhund   7042.3380     21.8623         13.3002         high   \n",
      "18        Dalmatian  21577.3243     48.0000         12.9687         high   \n",
      "19        Daschhund   4396.7016     20.5682         12.1936         high   \n",
      "20        Daschhund  11433.2976     21.2226         12.7733         high   \n",
      "21        Dalmatian  21656.6560     48.0000         12.1221         high   \n",
      "22   Bearded Collie  24306.7334     53.8335         13.1953         high   \n",
      "23        Dalmatian  22465.1342     48.0000         13.5011         high   \n",
      "24        Daschhund  12762.4336     21.0449         13.2343         high   \n",
      "25   Bearded Collie  26244.1070         NaN         12.3565         high   \n",
      "26        Daschhund  15753.9774     20.8158         12.6636         high   \n",
      "27        Dalmatian  22513.1093     48.0000         12.9858         high   \n",
      "28        Daschhund   5773.9699     20.9662         13.1109         high   \n",
      "29       Great Dane  53861.4657     79.6045          6.7502          med   \n",
      "..              ...         ...         ...             ...          ...   \n",
      "970       Daschhund   6255.8818     20.0609         14.3720         high   \n",
      "971       Daschhund  16015.9200     20.8394         12.9353         high   \n",
      "972       Daschhund   6054.0949     22.4742         11.5526         high   \n",
      "973  Bearded Collie  22473.5681     52.2653         12.3270         high   \n",
      "974       Daschhund   7428.7355         NaN         12.9798         high   \n",
      "975       Daschhund   5743.0749     21.6780         12.9176         high   \n",
      "976  Bearded Collie  20815.0938     53.7945         13.7196         high   \n",
      "977      Great Dane  42409.8660     79.1492          6.5953          med   \n",
      "978  Bearded Collie  23339.0555     51.5275         12.6412         high   \n",
      "979       Daschhund   7388.0392         NaN         11.6209         high   \n",
      "980       Daschhund  11740.0881     20.6187         12.6900         high   \n",
      "981       Daschhund  10778.8023     20.2909         12.5996         high   \n",
      "982      Great Dane  50153.1864     78.4999          7.1712          med   \n",
      "983  Bearded Collie  26019.1376     51.8643         13.6353         high   \n",
      "984       Daschhund  10218.3848     21.0785         13.0612          med   \n",
      "985      Great Dane  50457.7801     84.2325          6.8166          med   \n",
      "986       Dalmatian  20727.2790     48.0000         13.7212         high   \n",
      "987      Great Dane  52850.8866     79.5227          7.1041          med   \n",
      "988       Daschhund  13234.1511     21.1390         12.1184         high   \n",
      "989       Dalmatian  26708.1702     48.0000         13.9332         high   \n",
      "990      Great Dane  48471.0274         NaN          6.8635          med   \n",
      "991       Dalmatian  24053.1834     48.0000         12.2427         high   \n",
      "992  Bearded Collie  23010.2249     51.3982         13.2734         high   \n",
      "993      Great Dane  47968.9544     76.6145          6.6582          med   \n",
      "994      Great Dane  52059.8762         NaN          6.4776          med   \n",
      "995  Bearded Collie  25627.2075     53.1869         12.8122         high   \n",
      "996  Bearded Collie  24921.4650     54.5445         13.5297         high   \n",
      "997      Great Dane  51987.9996     81.2372          7.3245          med   \n",
      "998      Great Dane  50567.4984         NaN          7.7188          low   \n",
      "999       Dalmatian  21960.5921     48.0000         12.9592         high   \n",
      "\n",
      "    Attention Needs Coat Lenght     Sex  \n",
      "0              high        long    male  \n",
      "1              high       short  female  \n",
      "2              high         med  female  \n",
      "3               med         med  female  \n",
      "4              high        long  female  \n",
      "5               low         med  female  \n",
      "6              high       short    male  \n",
      "7               med       short    male  \n",
      "8              high        long    male  \n",
      "9              high       short  female  \n",
      "10             high       short    male  \n",
      "11             high       short  female  \n",
      "12             high       short    male  \n",
      "13              med       short    male  \n",
      "14             high        long  female  \n",
      "15             high       short    male  \n",
      "16             high       short    male  \n",
      "17             high       short  female  \n",
      "18             high       short    male  \n",
      "19              med       short  female  \n",
      "20              med         med  female  \n",
      "21             high       short  female  \n",
      "22             high         med    male  \n",
      "23             high       short    male  \n",
      "24              med       short  female  \n",
      "25             high        long  female  \n",
      "26              med       short    male  \n",
      "27             high       short    male  \n",
      "28              med       short    male  \n",
      "29             high       short    male  \n",
      "..              ...         ...     ...  \n",
      "970             low       short  female  \n",
      "971             low       short  female  \n",
      "972             med       short  female  \n",
      "973            high        long    male  \n",
      "974             med       short    male  \n",
      "975             med         med  female  \n",
      "976            high        long  female  \n",
      "977            high       short    male  \n",
      "978            high        long  female  \n",
      "979             low       short  female  \n",
      "980             med       short  female  \n",
      "981            high       short  female  \n",
      "982            high       short  female  \n",
      "983            high        long    male  \n",
      "984            high       short  female  \n",
      "985            high       short  female  \n",
      "986            high       short    male  \n",
      "987            high       short    male  \n",
      "988             med       short  female  \n",
      "989            high       short  female  \n",
      "990            high       short  female  \n",
      "991            high       short    male  \n",
      "992            high        long    male  \n",
      "993            high       short  female  \n",
      "994            high       short    male  \n",
      "995            high        long    male  \n",
      "996            high        long  female  \n",
      "997            high         med  female  \n",
      "998            high       short  female  \n",
      "999            high       short  female  \n",
      "\n",
      "[1000 rows x 8 columns]\n"
     ]
    }
   ],
   "source": [
    "data = data.drop(\"Owner Name\", axis=1)\n",
    "print(data)"
   ]
  },
  {
   "cell_type": "markdown",
   "metadata": {},
   "source": [
    "Update breed name and remove breed name column from data"
   ]
  },
  {
   "cell_type": "markdown",
   "metadata": {},
   "source": [
    "### Transform non-numerical data to numerical"
   ]
  },
  {
   "cell_type": "markdown",
   "metadata": {},
   "source": [
    "I use map functions for all values of type \"low\", \"medium\" and \"heigh\", because the order counts.\n",
    "While for breed names, the order of numeric labels doesn't count, that's why I use scikit learn LabelEncoder."
   ]
  },
  {
   "cell_type": "code",
   "execution_count": 513,
   "metadata": {
    "scrolled": false
   },
   "outputs": [
    {
     "name": "stdout",
     "output_type": "stream",
     "text": [
      "0      Bearded Collie\n",
      "1          Great Dane\n",
      "2      Bearded Collie\n",
      "3           Daschhund\n",
      "4      Bearded Collie\n",
      "5           Daschhund\n",
      "6          Great Dane\n",
      "7           Daschhund\n",
      "8      Bearded Collie\n",
      "9          Great Dane\n",
      "10         Great Dane\n",
      "11          Dalmatian\n",
      "12         Great Dane\n",
      "13          Daschhund\n",
      "14     Bearded Collie\n",
      "15         Great Dane\n",
      "16          Dalmatian\n",
      "17          Daschhund\n",
      "18          Dalmatian\n",
      "19          Daschhund\n",
      "20          Daschhund\n",
      "21          Dalmatian\n",
      "22     Bearded Collie\n",
      "23          Dalmatian\n",
      "24          Daschhund\n",
      "25     Bearded Collie\n",
      "26          Daschhund\n",
      "27          Dalmatian\n",
      "28          Daschhund\n",
      "29         Great Dane\n",
      "            ...      \n",
      "970         Daschhund\n",
      "971         Daschhund\n",
      "972         Daschhund\n",
      "973    Bearded Collie\n",
      "974         Daschhund\n",
      "975         Daschhund\n",
      "976    Bearded Collie\n",
      "977        Great Dane\n",
      "978    Bearded Collie\n",
      "979         Daschhund\n",
      "980         Daschhund\n",
      "981         Daschhund\n",
      "982        Great Dane\n",
      "983    Bearded Collie\n",
      "984         Daschhund\n",
      "985        Great Dane\n",
      "986         Dalmatian\n",
      "987        Great Dane\n",
      "988         Daschhund\n",
      "989         Dalmatian\n",
      "990        Great Dane\n",
      "991         Dalmatian\n",
      "992    Bearded Collie\n",
      "993        Great Dane\n",
      "994        Great Dane\n",
      "995    Bearded Collie\n",
      "996    Bearded Collie\n",
      "997        Great Dane\n",
      "998        Great Dane\n",
      "999         Dalmatian\n",
      "Name: Breed Name, Length: 1000, dtype: object\n",
      "     Breed Name   Weight(g)  Height(cm)  Longevity(yrs)  Energy level  \\\n",
      "0             0  22280.5964     54.3216         13.1931             2   \n",
      "1             3  51407.2976     76.6582          6.3828             2   \n",
      "2             0  22122.0794     51.1220         12.0584             1   \n",
      "3             2   6234.2029     21.4468         13.2225             2   \n",
      "4             0  18103.0403     54.3006         12.6288             2   \n",
      "5             2  10843.0668     21.1785         13.2595             1   \n",
      "6             3  49810.6146         NaN          6.3221             1   \n",
      "7             2  10333.2284     19.9325         12.6203             2   \n",
      "8             0  26618.0765     54.2249         12.4848             2   \n",
      "9             3  53354.6487     82.7296          6.7679             2   \n",
      "10            3  50098.9062     79.9508          6.7008             0   \n",
      "11            1  20409.6415     48.0000         12.3616             2   \n",
      "12            3  50870.7271         NaN          7.8348             1   \n",
      "13            2  10299.2239     21.7039         13.0605             2   \n",
      "14            0  18356.9047     55.5343         12.7272             2   \n",
      "15            3  48362.7646         NaN          6.8854             1   \n",
      "16            1  21368.5933     48.0000         13.3623             2   \n",
      "17            2   7042.3380     21.8623         13.3002             2   \n",
      "18            1  21577.3243     48.0000         12.9687             2   \n",
      "19            2   4396.7016     20.5682         12.1936             2   \n",
      "20            2  11433.2976     21.2226         12.7733             2   \n",
      "21            1  21656.6560     48.0000         12.1221             2   \n",
      "22            0  24306.7334     53.8335         13.1953             2   \n",
      "23            1  22465.1342     48.0000         13.5011             2   \n",
      "24            2  12762.4336     21.0449         13.2343             2   \n",
      "25            0  26244.1070         NaN         12.3565             2   \n",
      "26            2  15753.9774     20.8158         12.6636             2   \n",
      "27            1  22513.1093     48.0000         12.9858             2   \n",
      "28            2   5773.9699     20.9662         13.1109             2   \n",
      "29            3  53861.4657     79.6045          6.7502             1   \n",
      "..          ...         ...         ...             ...           ...   \n",
      "970           2   6255.8818     20.0609         14.3720             2   \n",
      "971           2  16015.9200     20.8394         12.9353             2   \n",
      "972           2   6054.0949     22.4742         11.5526             2   \n",
      "973           0  22473.5681     52.2653         12.3270             2   \n",
      "974           2   7428.7355         NaN         12.9798             2   \n",
      "975           2   5743.0749     21.6780         12.9176             2   \n",
      "976           0  20815.0938     53.7945         13.7196             2   \n",
      "977           3  42409.8660     79.1492          6.5953             1   \n",
      "978           0  23339.0555     51.5275         12.6412             2   \n",
      "979           2   7388.0392         NaN         11.6209             2   \n",
      "980           2  11740.0881     20.6187         12.6900             2   \n",
      "981           2  10778.8023     20.2909         12.5996             2   \n",
      "982           3  50153.1864     78.4999          7.1712             1   \n",
      "983           0  26019.1376     51.8643         13.6353             2   \n",
      "984           2  10218.3848     21.0785         13.0612             1   \n",
      "985           3  50457.7801     84.2325          6.8166             1   \n",
      "986           1  20727.2790     48.0000         13.7212             2   \n",
      "987           3  52850.8866     79.5227          7.1041             1   \n",
      "988           2  13234.1511     21.1390         12.1184             2   \n",
      "989           1  26708.1702     48.0000         13.9332             2   \n",
      "990           3  48471.0274         NaN          6.8635             1   \n",
      "991           1  24053.1834     48.0000         12.2427             2   \n",
      "992           0  23010.2249     51.3982         13.2734             2   \n",
      "993           3  47968.9544     76.6145          6.6582             1   \n",
      "994           3  52059.8762         NaN          6.4776             1   \n",
      "995           0  25627.2075     53.1869         12.8122             2   \n",
      "996           0  24921.4650     54.5445         13.5297             2   \n",
      "997           3  51987.9996     81.2372          7.3245             1   \n",
      "998           3  50567.4984         NaN          7.7188             0   \n",
      "999           1  21960.5921     48.0000         12.9592             2   \n",
      "\n",
      "     Attention Needs  Coat Lenght  Sex  \n",
      "0                  2            2    1  \n",
      "1                  2            0    0  \n",
      "2                  2            1    0  \n",
      "3                  1            1    0  \n",
      "4                  2            2    0  \n",
      "5                  0            1    0  \n",
      "6                  2            0    1  \n",
      "7                  1            0    1  \n",
      "8                  2            2    1  \n",
      "9                  2            0    0  \n",
      "10                 2            0    1  \n",
      "11                 2            0    0  \n",
      "12                 2            0    1  \n",
      "13                 1            0    1  \n",
      "14                 2            2    0  \n",
      "15                 2            0    1  \n",
      "16                 2            0    1  \n",
      "17                 2            0    0  \n",
      "18                 2            0    1  \n",
      "19                 1            0    0  \n",
      "20                 1            1    0  \n",
      "21                 2            0    0  \n",
      "22                 2            1    1  \n",
      "23                 2            0    1  \n",
      "24                 1            0    0  \n",
      "25                 2            2    0  \n",
      "26                 1            0    1  \n",
      "27                 2            0    1  \n",
      "28                 1            0    1  \n",
      "29                 2            0    1  \n",
      "..               ...          ...  ...  \n",
      "970                0            0    0  \n",
      "971                0            0    0  \n",
      "972                1            0    0  \n",
      "973                2            2    1  \n",
      "974                1            0    1  \n",
      "975                1            1    0  \n",
      "976                2            2    0  \n",
      "977                2            0    1  \n",
      "978                2            2    0  \n",
      "979                0            0    0  \n",
      "980                1            0    0  \n",
      "981                2            0    0  \n",
      "982                2            0    0  \n",
      "983                2            2    1  \n",
      "984                2            0    0  \n",
      "985                2            0    0  \n",
      "986                2            0    1  \n",
      "987                2            0    1  \n",
      "988                1            0    0  \n",
      "989                2            0    0  \n",
      "990                2            0    0  \n",
      "991                2            0    1  \n",
      "992                2            2    1  \n",
      "993                2            0    0  \n",
      "994                2            0    1  \n",
      "995                2            2    1  \n",
      "996                2            2    0  \n",
      "997                2            1    0  \n",
      "998                2            0    0  \n",
      "999                2            0    0  \n",
      "\n",
      "[1000 rows x 8 columns]\n"
     ]
    }
   ],
   "source": [
    "data['Energy level'] = data['Energy level'].map( {'low':0, 'med':1, 'high':2})\n",
    "data['Attention Needs'] = data['Attention Needs'].map( {'low':0, 'med':1, 'high':2})\n",
    "data['Coat Lenght'] = data['Coat Lenght'].map( {'short':0, 'med':1, 'long':2})\n",
    "data['Sex'] = data['Sex'].map( {'female':0, 'male':1})\n",
    "\n",
    "\n",
    "# Update breed names\n",
    "\n",
    "\n",
    "# data['Breed Name'] = data.iloc[:, 0]\n",
    "print(data[\"Breed Name\"])\n",
    "le = preprocessing.LabelEncoder()\n",
    "le.fit(data[\"Breed Name\"])\n",
    "# print(le.classes_)\n",
    "data[\"Breed Name\"] = le.transform(data[\"Breed Name\"]) \n",
    "# print(data[\"Breed Name\"])\n",
    "\n",
    "\n",
    "print(data)"
   ]
  },
  {
   "cell_type": "markdown",
   "metadata": {},
   "source": [
    "### Process rows containing NaN"
   ]
  },
  {
   "cell_type": "code",
   "execution_count": 514,
   "metadata": {},
   "outputs": [],
   "source": [
    "# # Trying to use SimpleImputer\n",
    "# def handleMissing(data):\n",
    "#     # Available strategies: mean, median, most_frequent, constant\n",
    "# #     imp = SimpleImputer(missing_values=np.nan, strategy='mean')\n",
    "# #     imp.fit(data)  \n",
    "#     imp = SimpleImputer(strategy=\"mean\")\n",
    "#     result = imp.fit_transform(data)\n",
    "#     return result\n"
   ]
  },
  {
   "cell_type": "markdown",
   "metadata": {},
   "source": [
    "### Filling missing values for the height columns with mean value"
   ]
  },
  {
   "cell_type": "markdown",
   "metadata": {},
   "source": [
    "For handling missing values in the height column, the mean value for height column will be used to replace nan values."
   ]
  },
  {
   "cell_type": "code",
   "execution_count": 515,
   "metadata": {},
   "outputs": [],
   "source": [
    "# print(data)\n",
    "\n",
    "data = data.fillna(data.mean()['Height(cm)'])\n",
    "# data = data.fillna(data.mean())\n",
    "\n",
    "# # Another possible strategy - drop rows with nan, but not so effective\n",
    "# # data = data.dropna()\n",
    "\n",
    "# print(data)\n"
   ]
  },
  {
   "cell_type": "markdown",
   "metadata": {},
   "source": [
    "## Plot data again to see differences"
   ]
  },
  {
   "cell_type": "code",
   "execution_count": 516,
   "metadata": {
    "scrolled": true
   },
   "outputs": [
    {
     "data": {
      "image/png": "[encoded data removed]",
      "text/plain": [
       "<Figure size 1080x1080 with 6 Axes>"
      ]
     },
     "metadata": {
      "needs_background": "light"
     },
     "output_type": "display_data"
    }
   ],
   "source": [
    "\n",
    "\n",
    "columns = [\"Breed Name\",\"Weight(g)\",\"Height(cm)\",\"Longevity(yrs)\",\n",
    "    \"Energy level\", \"Attention Needs\", \"Coat Lenght\", \"Sex\",\n",
    "    \"Owner Name\"]\n",
    "\n",
    "fig = plt.figure(figsize=(15, 15))\n",
    "((p1,p2), (p3,p4), (p5,p6)) = fig.subplots(3,2)\n",
    "\n",
    "# Save breed_names in a variable\n",
    "breed_names = data.iloc[:, 0]\n",
    "\n",
    "\n",
    "for i in range(1, 7):\n",
    "        locals()['p'+str(i)].scatter(breed_names,data.iloc[:,i],alpha = 0.1, color=\"orange\")\n",
    "        locals()['p'+str(i)].set_title(data.columns[i])"
   ]
  },
  {
   "cell_type": "markdown",
   "metadata": {},
   "source": [
    "## Get breed names updated"
   ]
  },
  {
   "cell_type": "code",
   "execution_count": 517,
   "metadata": {},
   "outputs": [],
   "source": [
    "breed_names = data[\"Breed Name\"]"
   ]
  },
  {
   "cell_type": "markdown",
   "metadata": {},
   "source": [
    "##  Get longevities to use later in task 2"
   ]
  },
  {
   "cell_type": "code",
   "execution_count": 518,
   "metadata": {},
   "outputs": [],
   "source": [
    "longevities = data[\"Longevity(yrs)\"]"
   ]
  },
  {
   "cell_type": "markdown",
   "metadata": {},
   "source": [
    "## Drop breed name  and longevity columns"
   ]
  },
  {
   "cell_type": "code",
   "execution_count": 519,
   "metadata": {},
   "outputs": [
    {
     "name": "stdout",
     "output_type": "stream",
     "text": [
      "      Weight(g)  Height(cm)  Energy level  Attention Needs  Coat Lenght  Sex\n",
      "0    22280.5964   54.321600             2                2            2    1\n",
      "1    51407.2976   76.658200             2                2            0    0\n",
      "2    22122.0794   51.122000             1                2            1    0\n",
      "3     6234.2029   21.446800             2                1            1    0\n",
      "4    18103.0403   54.300600             2                2            2    0\n",
      "5    10843.0668   21.178500             1                0            1    0\n",
      "6    49810.6146   48.801252             1                2            0    1\n",
      "7    10333.2284   19.932500             2                1            0    1\n",
      "8    26618.0765   54.224900             2                2            2    1\n",
      "9    53354.6487   82.729600             2                2            0    0\n",
      "10   50098.9062   79.950800             0                2            0    1\n",
      "11   20409.6415   48.000000             2                2            0    0\n",
      "12   50870.7271   48.801252             1                2            0    1\n",
      "13   10299.2239   21.703900             2                1            0    1\n",
      "14   18356.9047   55.534300             2                2            2    0\n",
      "15   48362.7646   48.801252             1                2            0    1\n",
      "16   21368.5933   48.000000             2                2            0    1\n",
      "17    7042.3380   21.862300             2                2            0    0\n",
      "18   21577.3243   48.000000             2                2            0    1\n",
      "19    4396.7016   20.568200             2                1            0    0\n",
      "20   11433.2976   21.222600             2                1            1    0\n",
      "21   21656.6560   48.000000             2                2            0    0\n",
      "22   24306.7334   53.833500             2                2            1    1\n",
      "23   22465.1342   48.000000             2                2            0    1\n",
      "24   12762.4336   21.044900             2                1            0    0\n",
      "25   26244.1070   48.801252             2                2            2    0\n",
      "26   15753.9774   20.815800             2                1            0    1\n",
      "27   22513.1093   48.000000             2                2            0    1\n",
      "28    5773.9699   20.966200             2                1            0    1\n",
      "29   53861.4657   79.604500             1                2            0    1\n",
      "..          ...         ...           ...              ...          ...  ...\n",
      "970   6255.8818   20.060900             2                0            0    0\n",
      "971  16015.9200   20.839400             2                0            0    0\n",
      "972   6054.0949   22.474200             2                1            0    0\n",
      "973  22473.5681   52.265300             2                2            2    1\n",
      "974   7428.7355   48.801252             2                1            0    1\n",
      "975   5743.0749   21.678000             2                1            1    0\n",
      "976  20815.0938   53.794500             2                2            2    0\n",
      "977  42409.8660   79.149200             1                2            0    1\n",
      "978  23339.0555   51.527500             2                2            2    0\n",
      "979   7388.0392   48.801252             2                0            0    0\n",
      "980  11740.0881   20.618700             2                1            0    0\n",
      "981  10778.8023   20.290900             2                2            0    0\n",
      "982  50153.1864   78.499900             1                2            0    0\n",
      "983  26019.1376   51.864300             2                2            2    1\n",
      "984  10218.3848   21.078500             1                2            0    0\n",
      "985  50457.7801   84.232500             1                2            0    0\n",
      "986  20727.2790   48.000000             2                2            0    1\n",
      "987  52850.8866   79.522700             1                2            0    1\n",
      "988  13234.1511   21.139000             2                1            0    0\n",
      "989  26708.1702   48.000000             2                2            0    0\n",
      "990  48471.0274   48.801252             1                2            0    0\n",
      "991  24053.1834   48.000000             2                2            0    1\n",
      "992  23010.2249   51.398200             2                2            2    1\n",
      "993  47968.9544   76.614500             1                2            0    0\n",
      "994  52059.8762   48.801252             1                2            0    1\n",
      "995  25627.2075   53.186900             2                2            2    1\n",
      "996  24921.4650   54.544500             2                2            2    0\n",
      "997  51987.9996   81.237200             1                2            1    0\n",
      "998  50567.4984   48.801252             0                2            0    0\n",
      "999  21960.5921   48.000000             2                2            0    0\n",
      "\n",
      "[1000 rows x 6 columns]\n"
     ]
    }
   ],
   "source": [
    "data = data.drop(\"Breed Name\", axis=1)\n",
    "data = data.drop(\"Longevity(yrs)\", axis=1)\n",
    "print(data)"
   ]
  },
  {
   "cell_type": "markdown",
   "metadata": {},
   "source": [
    "# First task - predict dog breed names"
   ]
  },
  {
   "cell_type": "markdown",
   "metadata": {},
   "source": [
    "## Split data train into training, test and validation"
   ]
  },
  {
   "cell_type": "code",
   "execution_count": 549,
   "metadata": {},
   "outputs": [],
   "source": [
    "# Split data into train set and test set\n",
    "X_data, X_test, y_data, y_test = train_test_split(data, breed_names)\n",
    "\n",
    "# Using KFold to further split training data into train and validation\n",
    "kf = KFold(n_splits=2)\n",
    "\n",
    "for train_index, validation_index in kf.split(X_data):\n",
    "    X_train, X_validation = X_data.iloc[train_index], X_data.iloc[validation_index]\n",
    "    y_train, y_validation = y_data.iloc[train_index], y_data.iloc[validation_index]\n"
   ]
  },
  {
   "cell_type": "markdown",
   "metadata": {},
   "source": [
    "## Initialize Hyper Parameters for each model"
   ]
  },
  {
   "cell_type": "code",
   "execution_count": 550,
   "metadata": {},
   "outputs": [],
   "source": [
    "lp = [\n",
    "    [\n",
    "        {'solver': 'lbfgs', 'multi_class':'auto', 'max_iter': 5000},  #LogisticRegression\n",
    "        { 'solver': 'liblinear', 'multi_class':'auto', 'max_iter': 5000},  #LogisticRegression\n",
    "        {'solver': 'saga', 'multi_class':'auto', 'max_iter': 5000},  #LogisticRegression\n",
    "        { 'solver': 'sag', 'multi_class':'auto', 'max_iter': 5000},  #LogisticRegression\n",
    "        {'solver': 'newton-cg', 'multi_class':'auto', 'max_iter': 5000},  #LogisticRegression\n",
    "    ],\n",
    "    [ \n",
    "        {'n_estimators': 1, 'max_depth':100, 'max_leaf_nodes': 1000}, #RandomForestClassifier\n",
    "        {'n_estimators': 2, 'max_depth':100, 'max_leaf_nodes': 1000}, #RandomForestClassifier\n",
    "        {'n_estimators': 3, 'max_depth':100, 'max_leaf_nodes': 1000}, #RandomForestClassifier\n",
    "        {'n_estimators': 4, 'max_depth':100, 'max_leaf_nodes': 1000}, #RandomForestClassifier\n",
    "        {'n_estimators': 10, 'max_depth':100, 'max_leaf_nodes': 1000}, #RandomForestClassifier\n",
    "        {'n_estimators': 20, 'max_depth':100, 'max_leaf_nodes': 1000}, #RandomForestClassifier\n",
    "        {'n_estimators': 10, 'max_depth':1000, 'max_leaf_nodes': 1000}, #RandomForestClassifier\n",
    "        {'n_estimators': 20, 'max_depth':1000, 'max_leaf_nodes': 1000}, #RandomForestClassifier\n",
    "        {'n_estimators': 3, 'max_depth':1000, 'max_leaf_nodes': 1000}, #RandomForestClassifier\n",
    "    ],\n",
    "    [\n",
    "        {'n_neighbors': 5, 'leaf_size': 10, 'algorithm': 'ball_tree'}, #KNeightborsClassifier\n",
    "        {'n_neighbors': 5, 'leaf_size': 10, 'algorithm': 'kd_tree'}, #KNeightborsClassifier\n",
    "        {'n_neighbors': 10, 'leaf_size': 100, 'algorithm': 'ball_tree'}, #KNeightborsClassifier\n",
    "        {'n_neighbors': 10, 'leaf_size': 100, 'algorithm': 'kd_tree'}, #KNeightborsClassifier\n",
    "        {'n_neighbors': 20, 'leaf_size': 1000, 'algorithm': 'ball_tree'}, #KNeightborsClassifier\n",
    "        {'n_neighbors': 20, 'leaf_size': 1000, 'algorithm': 'kd_tree'} #KNeightborsClassifier\n",
    "    ]    \n",
    "]\n"
   ]
  },
  {
   "cell_type": "markdown",
   "metadata": {},
   "source": [
    "## Training process and results saving"
   ]
  },
  {
   "cell_type": "markdown",
   "metadata": {},
   "source": [
    "Begin training with each model and each hyperparameter set defined for each model. Also, calculate performance metrics as accuracy, f1 score, precision, recall and save them in arrays."
   ]
  },
  {
   "cell_type": "code",
   "execution_count": 551,
   "metadata": {
    "scrolled": true
   },
   "outputs": [
    {
     "name": "stdout",
     "output_type": "stream",
     "text": [
      "LogisticRegression(C=1.0, class_weight=None, dual=False, fit_intercept=True,\n",
      "          intercept_scaling=1, max_iter=5000, multi_class='auto',\n",
      "          n_jobs=None, penalty='l2', random_state=None, solver='lbfgs',\n",
      "          tol=0.0001, verbose=0, warm_start=False)\n",
      "-----accuracy score:-----\n",
      "0.944\n",
      "-----f1 score:-----\n",
      "0.9439082033740612\n",
      "-----precision score:-----\n",
      "0.9462684168121908\n",
      "-----recall score:-----\n",
      "0.944\n",
      "\n",
      "              precision    recall  f1-score   support\n",
      "\n",
      "           0       0.91      0.97      0.94       104\n",
      "           1       0.93      0.94      0.93        94\n",
      "           2       1.00      0.89      0.94        98\n",
      "           3       0.95      0.99      0.97        79\n",
      "\n",
      "   micro avg       0.94      0.94      0.94       375\n",
      "   macro avg       0.95      0.95      0.95       375\n",
      "weighted avg       0.95      0.94      0.94       375\n",
      "\n",
      "[0.968 0.984 0.936]\n",
      "LogisticRegression(C=1.0, class_weight=None, dual=False, fit_intercept=True,\n",
      "          intercept_scaling=1, max_iter=5000, multi_class='auto',\n",
      "          n_jobs=None, penalty='l2', random_state=None, solver='liblinear',\n",
      "          tol=0.0001, verbose=0, warm_start=False)\n",
      "-----accuracy score:-----\n",
      "0.8026666666666666\n",
      "-----f1 score:-----\n",
      "0.7792639640929895\n",
      "-----precision score:-----\n",
      "0.8552415390772665\n",
      "-----recall score:-----\n",
      "0.8026666666666666\n",
      "\n",
      "              precision    recall  f1-score   support\n",
      "\n",
      "           0       0.86      1.00      0.92       104\n",
      "           1       0.61      0.89      0.72        94\n",
      "           2       1.00      0.35      0.52        98\n",
      "           3       0.96      1.00      0.98        79\n",
      "\n",
      "   micro avg       0.80      0.80      0.80       375\n",
      "   macro avg       0.86      0.81      0.79       375\n",
      "weighted avg       0.86      0.80      0.78       375\n",
      "\n",
      "[0.752 0.768 0.936]\n",
      "LogisticRegression(C=1.0, class_weight=None, dual=False, fit_intercept=True,\n",
      "          intercept_scaling=1, max_iter=5000, multi_class='auto',\n",
      "          n_jobs=None, penalty='l2', random_state=None, solver='saga',\n",
      "          tol=0.0001, verbose=0, warm_start=False)\n"
     ]
    },
    {
     "name": "stderr",
     "output_type": "stream",
     "text": [
      "/home/mdiannna/MachineLearning/Homework/lib/python3.6/site-packages/sklearn/linear_model/sag.py:334: ConvergenceWarning: The max_iter was reached which means the coef_ did not converge\n",
      "  \"the coef_ did not converge\", ConvergenceWarning)\n",
      "/home/mdiannna/MachineLearning/Homework/lib/python3.6/site-packages/sklearn/metrics/classification.py:1143: UndefinedMetricWarning: F-score is ill-defined and being set to 0.0 in labels with no predicted samples.\n",
      "  'precision', 'predicted', average, warn_for)\n",
      "/home/mdiannna/MachineLearning/Homework/lib/python3.6/site-packages/sklearn/metrics/classification.py:1143: UndefinedMetricWarning: Precision is ill-defined and being set to 0.0 in labels with no predicted samples.\n",
      "  'precision', 'predicted', average, warn_for)\n",
      "/home/mdiannna/MachineLearning/Homework/lib/python3.6/site-packages/sklearn/metrics/classification.py:1143: UndefinedMetricWarning: Precision and F-score are ill-defined and being set to 0.0 in labels with no predicted samples.\n",
      "  'precision', 'predicted', average, warn_for)\n"
     ]
    },
    {
     "name": "stdout",
     "output_type": "stream",
     "text": [
      "-----accuracy score:-----\n",
      "0.21066666666666667\n",
      "-----f1 score:-----\n",
      "0.07530618401206636\n",
      "-----precision score:-----\n",
      "0.04584756657483931\n",
      "-----recall score:-----\n",
      "0.21066666666666667\n",
      "\n",
      "              precision    recall  f1-score   support\n",
      "\n",
      "           0       0.00      0.00      0.00       104\n",
      "           1       0.00      0.00      0.00        94\n",
      "           2       0.00      0.00      0.00        98\n",
      "           3       0.22      1.00      0.36        79\n",
      "\n",
      "   micro avg       0.21      0.21      0.21       375\n",
      "   macro avg       0.05      0.25      0.09       375\n",
      "weighted avg       0.05      0.21      0.08       375\n",
      "\n"
     ]
    },
    {
     "name": "stderr",
     "output_type": "stream",
     "text": [
      "/home/mdiannna/MachineLearning/Homework/lib/python3.6/site-packages/sklearn/linear_model/sag.py:334: ConvergenceWarning: The max_iter was reached which means the coef_ did not converge\n",
      "  \"the coef_ did not converge\", ConvergenceWarning)\n",
      "/home/mdiannna/MachineLearning/Homework/lib/python3.6/site-packages/sklearn/linear_model/sag.py:334: ConvergenceWarning: The max_iter was reached which means the coef_ did not converge\n",
      "  \"the coef_ did not converge\", ConvergenceWarning)\n",
      "/home/mdiannna/MachineLearning/Homework/lib/python3.6/site-packages/sklearn/linear_model/sag.py:334: ConvergenceWarning: The max_iter was reached which means the coef_ did not converge\n",
      "  \"the coef_ did not converge\", ConvergenceWarning)\n"
     ]
    },
    {
     "name": "stdout",
     "output_type": "stream",
     "text": [
      "[0.184 0.224 0.224]\n",
      "LogisticRegression(C=1.0, class_weight=None, dual=False, fit_intercept=True,\n",
      "          intercept_scaling=1, max_iter=5000, multi_class='auto',\n",
      "          n_jobs=None, penalty='l2', random_state=None, solver='sag',\n",
      "          tol=0.0001, verbose=0, warm_start=False)\n"
     ]
    },
    {
     "name": "stderr",
     "output_type": "stream",
     "text": [
      "/home/mdiannna/MachineLearning/Homework/lib/python3.6/site-packages/sklearn/linear_model/sag.py:334: ConvergenceWarning: The max_iter was reached which means the coef_ did not converge\n",
      "  \"the coef_ did not converge\", ConvergenceWarning)\n",
      "/home/mdiannna/MachineLearning/Homework/lib/python3.6/site-packages/sklearn/metrics/classification.py:1143: UndefinedMetricWarning: F-score is ill-defined and being set to 0.0 in labels with no predicted samples.\n",
      "  'precision', 'predicted', average, warn_for)\n",
      "/home/mdiannna/MachineLearning/Homework/lib/python3.6/site-packages/sklearn/metrics/classification.py:1143: UndefinedMetricWarning: Precision is ill-defined and being set to 0.0 in labels with no predicted samples.\n",
      "  'precision', 'predicted', average, warn_for)\n",
      "/home/mdiannna/MachineLearning/Homework/lib/python3.6/site-packages/sklearn/metrics/classification.py:1143: UndefinedMetricWarning: Precision and F-score are ill-defined and being set to 0.0 in labels with no predicted samples.\n",
      "  'precision', 'predicted', average, warn_for)\n"
     ]
    },
    {
     "name": "stdout",
     "output_type": "stream",
     "text": [
      "-----accuracy score:-----\n",
      "0.21066666666666667\n",
      "-----f1 score:-----\n",
      "0.07795160031225604\n",
      "-----precision score:-----\n",
      "0.04782375478927203\n",
      "-----recall score:-----\n",
      "0.21066666666666667\n",
      "\n",
      "              precision    recall  f1-score   support\n",
      "\n",
      "           0       0.00      0.00      0.00       104\n",
      "           1       0.00      0.00      0.00        94\n",
      "           2       0.00      0.00      0.00        98\n",
      "           3       0.23      1.00      0.37        79\n",
      "\n",
      "   micro avg       0.21      0.21      0.21       375\n",
      "   macro avg       0.06      0.25      0.09       375\n",
      "weighted avg       0.05      0.21      0.08       375\n",
      "\n"
     ]
    },
    {
     "name": "stderr",
     "output_type": "stream",
     "text": [
      "/home/mdiannna/MachineLearning/Homework/lib/python3.6/site-packages/sklearn/linear_model/sag.py:334: ConvergenceWarning: The max_iter was reached which means the coef_ did not converge\n",
      "  \"the coef_ did not converge\", ConvergenceWarning)\n",
      "/home/mdiannna/MachineLearning/Homework/lib/python3.6/site-packages/sklearn/linear_model/sag.py:334: ConvergenceWarning: The max_iter was reached which means the coef_ did not converge\n",
      "  \"the coef_ did not converge\", ConvergenceWarning)\n",
      "/home/mdiannna/MachineLearning/Homework/lib/python3.6/site-packages/sklearn/linear_model/sag.py:334: ConvergenceWarning: The max_iter was reached which means the coef_ did not converge\n",
      "  \"the coef_ did not converge\", ConvergenceWarning)\n"
     ]
    },
    {
     "name": "stdout",
     "output_type": "stream",
     "text": [
      "[0.184 0.224 0.224]\n",
      "LogisticRegression(C=1.0, class_weight=None, dual=False, fit_intercept=True,\n",
      "          intercept_scaling=1, max_iter=5000, multi_class='auto',\n",
      "          n_jobs=None, penalty='l2', random_state=None, solver='newton-cg',\n",
      "          tol=0.0001, verbose=0, warm_start=False)\n"
     ]
    },
    {
     "name": "stderr",
     "output_type": "stream",
     "text": [
      "/home/mdiannna/MachineLearning/Homework/lib/python3.6/site-packages/scipy/optimize/linesearch.py:462: LineSearchWarning: The line search algorithm did not converge\n",
      "  warn('The line search algorithm did not converge', LineSearchWarning)\n",
      "/home/mdiannna/MachineLearning/Homework/lib/python3.6/site-packages/scipy/optimize/linesearch.py:313: LineSearchWarning: The line search algorithm did not converge\n",
      "  warn('The line search algorithm did not converge', LineSearchWarning)\n"
     ]
    },
    {
     "name": "stdout",
     "output_type": "stream",
     "text": [
      "-----accuracy score:-----\n",
      "0.9946666666666667\n",
      "-----f1 score:-----\n",
      "0.9946688468744677\n",
      "-----precision score:-----\n",
      "0.9947777777777776\n",
      "-----recall score:-----\n",
      "0.9946666666666667\n",
      "\n",
      "              precision    recall  f1-score   support\n",
      "\n",
      "           0       1.00      0.98      0.99       104\n",
      "           1       0.98      1.00      0.99        94\n",
      "           2       1.00      1.00      1.00        98\n",
      "           3       1.00      1.00      1.00        79\n",
      "\n",
      "   micro avg       0.99      0.99      0.99       375\n",
      "   macro avg       0.99      1.00      0.99       375\n",
      "weighted avg       0.99      0.99      0.99       375\n",
      "\n"
     ]
    },
    {
     "name": "stderr",
     "output_type": "stream",
     "text": [
      "/home/mdiannna/MachineLearning/Homework/lib/python3.6/site-packages/scipy/optimize/linesearch.py:462: LineSearchWarning: The line search algorithm did not converge\n",
      "  warn('The line search algorithm did not converge', LineSearchWarning)\n",
      "/home/mdiannna/MachineLearning/Homework/lib/python3.6/site-packages/scipy/optimize/linesearch.py:313: LineSearchWarning: The line search algorithm did not converge\n",
      "  warn('The line search algorithm did not converge', LineSearchWarning)\n",
      "/home/mdiannna/MachineLearning/Homework/lib/python3.6/site-packages/scipy/optimize/linesearch.py:462: LineSearchWarning: The line search algorithm did not converge\n",
      "  warn('The line search algorithm did not converge', LineSearchWarning)\n",
      "/home/mdiannna/MachineLearning/Homework/lib/python3.6/site-packages/scipy/optimize/linesearch.py:313: LineSearchWarning: The line search algorithm did not converge\n",
      "  warn('The line search algorithm did not converge', LineSearchWarning)\n",
      "/home/mdiannna/MachineLearning/Homework/lib/python3.6/site-packages/scipy/optimize/linesearch.py:462: LineSearchWarning: The line search algorithm did not converge\n",
      "  warn('The line search algorithm did not converge', LineSearchWarning)\n",
      "/home/mdiannna/MachineLearning/Homework/lib/python3.6/site-packages/scipy/optimize/linesearch.py:313: LineSearchWarning: The line search algorithm did not converge\n",
      "  warn('The line search algorithm did not converge', LineSearchWarning)\n"
     ]
    },
    {
     "name": "stdout",
     "output_type": "stream",
     "text": [
      "[0.976 1.    0.992]\n",
      "RandomForestClassifier(bootstrap=True, class_weight=None, criterion='gini',\n",
      "            max_depth=100, max_features='auto', max_leaf_nodes=1000,\n",
      "            min_impurity_decrease=0.0, min_impurity_split=None,\n",
      "            min_samples_leaf=1, min_samples_split=2,\n",
      "            min_weight_fraction_leaf=0.0, n_estimators=1, n_jobs=None,\n",
      "            oob_score=False, random_state=None, verbose=0,\n",
      "            warm_start=False)\n",
      "-----accuracy score:-----\n",
      "0.968\n",
      "-----f1 score:-----\n",
      "0.9679341024750863\n",
      "-----precision score:-----\n",
      "0.9680498349834984\n",
      "-----recall score:-----\n",
      "0.968\n",
      "\n",
      "              precision    recall  f1-score   support\n",
      "\n",
      "           0       0.96      0.93      0.95       104\n",
      "           1       0.94      0.96      0.95        94\n",
      "           2       0.99      0.99      0.99        98\n",
      "           3       0.99      1.00      0.99        79\n",
      "\n",
      "   micro avg       0.97      0.97      0.97       375\n",
      "   macro avg       0.97      0.97      0.97       375\n",
      "weighted avg       0.97      0.97      0.97       375\n",
      "\n",
      "[0.944 0.976 0.944]\n",
      "RandomForestClassifier(bootstrap=True, class_weight=None, criterion='gini',\n",
      "            max_depth=100, max_features='auto', max_leaf_nodes=1000,\n",
      "            min_impurity_decrease=0.0, min_impurity_split=None,\n",
      "            min_samples_leaf=1, min_samples_split=2,\n",
      "            min_weight_fraction_leaf=0.0, n_estimators=2, n_jobs=None,\n",
      "            oob_score=False, random_state=None, verbose=0,\n",
      "            warm_start=False)\n",
      "-----accuracy score:-----\n",
      "0.96\n",
      "-----f1 score:-----\n",
      "0.9601589509428583\n",
      "-----precision score:-----\n",
      "0.9605894066109119\n",
      "-----recall score:-----\n",
      "0.96\n",
      "\n",
      "              precision    recall  f1-score   support\n",
      "\n",
      "           0       0.93      0.96      0.94       104\n",
      "           1       0.92      0.91      0.92        94\n",
      "           2       1.00      0.98      0.99        98\n",
      "           3       1.00      0.99      0.99        79\n",
      "\n",
      "   micro avg       0.96      0.96      0.96       375\n",
      "   macro avg       0.96      0.96      0.96       375\n",
      "weighted avg       0.96      0.96      0.96       375\n",
      "\n",
      "[0.952 0.96  0.968]\n",
      "RandomForestClassifier(bootstrap=True, class_weight=None, criterion='gini',\n",
      "            max_depth=100, max_features='auto', max_leaf_nodes=1000,\n",
      "            min_impurity_decrease=0.0, min_impurity_split=None,\n",
      "            min_samples_leaf=1, min_samples_split=2,\n",
      "            min_weight_fraction_leaf=0.0, n_estimators=3, n_jobs=None,\n",
      "            oob_score=False, random_state=None, verbose=0,\n",
      "            warm_start=False)\n",
      "-----accuracy score:-----\n",
      "0.984\n",
      "-----f1 score:-----\n",
      "0.9840608603003507\n",
      "-----precision score:-----\n",
      "0.9842012578616353\n",
      "-----recall score:-----\n",
      "0.984\n",
      "\n",
      "              precision    recall  f1-score   support\n",
      "\n",
      "           0       0.96      0.98      0.97       104\n",
      "           1       0.98      0.98      0.98        94\n",
      "           2       1.00      0.99      0.99        98\n",
      "           3       1.00      0.99      0.99        79\n",
      "\n",
      "   micro avg       0.98      0.98      0.98       375\n",
      "   macro avg       0.99      0.98      0.98       375\n",
      "weighted avg       0.98      0.98      0.98       375\n",
      "\n",
      "[0.968 0.984 0.984]\n",
      "RandomForestClassifier(bootstrap=True, class_weight=None, criterion='gini',\n",
      "            max_depth=100, max_features='auto', max_leaf_nodes=1000,\n",
      "            min_impurity_decrease=0.0, min_impurity_split=None,\n",
      "            min_samples_leaf=1, min_samples_split=2,\n",
      "            min_weight_fraction_leaf=0.0, n_estimators=4, n_jobs=None,\n",
      "            oob_score=False, random_state=None, verbose=0,\n",
      "            warm_start=False)\n",
      "-----accuracy score:-----\n",
      "0.9813333333333333\n",
      "-----f1 score:-----\n",
      "0.9813561988813241\n",
      "-----precision score:-----\n",
      "0.9816735329012276\n",
      "-----recall score:-----\n",
      "0.9813333333333333\n",
      "\n",
      "              precision    recall  f1-score   support\n",
      "\n",
      "           0       0.97      0.98      0.98       104\n",
      "           1       0.99      0.98      0.98        94\n",
      "           2       1.00      0.97      0.98        98\n",
      "           3       0.96      1.00      0.98        79\n",
      "\n",
      "   micro avg       0.98      0.98      0.98       375\n",
      "   macro avg       0.98      0.98      0.98       375\n",
      "weighted avg       0.98      0.98      0.98       375\n",
      "\n",
      "[0.968 0.984 0.968]\n",
      "RandomForestClassifier(bootstrap=True, class_weight=None, criterion='gini',\n",
      "            max_depth=100, max_features='auto', max_leaf_nodes=1000,\n",
      "            min_impurity_decrease=0.0, min_impurity_split=None,\n",
      "            min_samples_leaf=1, min_samples_split=2,\n",
      "            min_weight_fraction_leaf=0.0, n_estimators=10, n_jobs=None,\n",
      "            oob_score=False, random_state=None, verbose=0,\n",
      "            warm_start=False)\n",
      "-----accuracy score:-----\n",
      "0.9866666666666667\n",
      "-----f1 score:-----\n",
      "0.9866629139694155\n",
      "-----precision score:-----\n",
      "0.9866855094726062\n",
      "-----recall score:-----\n",
      "0.9866666666666667\n",
      "\n",
      "              precision    recall  f1-score   support\n",
      "\n",
      "           0       0.97      0.98      0.98       104\n",
      "           1       0.98      0.97      0.97        94\n",
      "           2       1.00      1.00      1.00        98\n",
      "           3       1.00      1.00      1.00        79\n",
      "\n",
      "   micro avg       0.99      0.99      0.99       375\n",
      "   macro avg       0.99      0.99      0.99       375\n",
      "weighted avg       0.99      0.99      0.99       375\n",
      "\n",
      "[0.992 0.976 0.984]\n",
      "RandomForestClassifier(bootstrap=True, class_weight=None, criterion='gini',\n",
      "            max_depth=100, max_features='auto', max_leaf_nodes=1000,\n",
      "            min_impurity_decrease=0.0, min_impurity_split=None,\n",
      "            min_samples_leaf=1, min_samples_split=2,\n",
      "            min_weight_fraction_leaf=0.0, n_estimators=20, n_jobs=None,\n",
      "            oob_score=False, random_state=None, verbose=0,\n",
      "            warm_start=False)\n",
      "-----accuracy score:-----\n",
      "0.9893333333333333\n",
      "-----f1 score:-----\n",
      "0.9893333333333333\n",
      "-----precision score:-----\n",
      "0.9893333333333333\n",
      "-----recall score:-----\n",
      "0.9893333333333333\n",
      "\n",
      "              precision    recall  f1-score   support\n",
      "\n",
      "           0       0.98      0.98      0.98       104\n",
      "           1       0.98      0.98      0.98        94\n",
      "           2       1.00      1.00      1.00        98\n",
      "           3       1.00      1.00      1.00        79\n",
      "\n",
      "   micro avg       0.99      0.99      0.99       375\n",
      "   macro avg       0.99      0.99      0.99       375\n",
      "weighted avg       0.99      0.99      0.99       375\n",
      "\n",
      "[0.984 0.984 0.992]\n",
      "RandomForestClassifier(bootstrap=True, class_weight=None, criterion='gini',\n",
      "            max_depth=1000, max_features='auto', max_leaf_nodes=1000,\n",
      "            min_impurity_decrease=0.0, min_impurity_split=None,\n",
      "            min_samples_leaf=1, min_samples_split=2,\n",
      "            min_weight_fraction_leaf=0.0, n_estimators=10, n_jobs=None,\n",
      "            oob_score=False, random_state=None, verbose=0,\n",
      "            warm_start=False)\n",
      "-----accuracy score:-----\n",
      "0.9866666666666667\n",
      "-----f1 score:-----\n",
      "0.9866629139694155\n",
      "-----precision score:-----\n",
      "0.9866855094726062\n",
      "-----recall score:-----\n",
      "0.9866666666666667\n",
      "\n",
      "              precision    recall  f1-score   support\n",
      "\n",
      "           0       0.97      0.98      0.98       104\n",
      "           1       0.98      0.97      0.97        94\n",
      "           2       1.00      1.00      1.00        98\n",
      "           3       1.00      1.00      1.00        79\n",
      "\n",
      "   micro avg       0.99      0.99      0.99       375\n",
      "   macro avg       0.99      0.99      0.99       375\n",
      "weighted avg       0.99      0.99      0.99       375\n",
      "\n",
      "[0.992 0.984 0.984]\n",
      "RandomForestClassifier(bootstrap=True, class_weight=None, criterion='gini',\n",
      "            max_depth=1000, max_features='auto', max_leaf_nodes=1000,\n",
      "            min_impurity_decrease=0.0, min_impurity_split=None,\n",
      "            min_samples_leaf=1, min_samples_split=2,\n",
      "            min_weight_fraction_leaf=0.0, n_estimators=20, n_jobs=None,\n",
      "            oob_score=False, random_state=None, verbose=0,\n",
      "            warm_start=False)\n",
      "-----accuracy score:-----\n",
      "0.9866666666666667\n",
      "-----f1 score:-----\n",
      "0.9866951024284356\n",
      "-----precision score:-----\n",
      "0.9867508771929825\n",
      "-----recall score:-----\n",
      "0.9866666666666667\n",
      "\n",
      "              precision    recall  f1-score   support\n",
      "\n",
      "           0       0.98      0.98      0.98       104\n",
      "           1       0.97      0.98      0.97        94\n",
      "           2       1.00      0.99      0.99        98\n",
      "           3       1.00      1.00      1.00        79\n",
      "\n",
      "   micro avg       0.99      0.99      0.99       375\n",
      "   macro avg       0.99      0.99      0.99       375\n",
      "weighted avg       0.99      0.99      0.99       375\n",
      "\n"
     ]
    },
    {
     "name": "stdout",
     "output_type": "stream",
     "text": [
      "[0.984 0.984 0.992]\n",
      "RandomForestClassifier(bootstrap=True, class_weight=None, criterion='gini',\n",
      "            max_depth=1000, max_features='auto', max_leaf_nodes=1000,\n",
      "            min_impurity_decrease=0.0, min_impurity_split=None,\n",
      "            min_samples_leaf=1, min_samples_split=2,\n",
      "            min_weight_fraction_leaf=0.0, n_estimators=3, n_jobs=None,\n",
      "            oob_score=False, random_state=None, verbose=0,\n",
      "            warm_start=False)\n",
      "-----accuracy score:-----\n",
      "0.9813333333333333\n",
      "-----f1 score:-----\n",
      "0.9813527753292458\n",
      "-----precision score:-----\n",
      "0.9814485696895922\n",
      "-----recall score:-----\n",
      "0.9813333333333333\n",
      "\n",
      "              precision    recall  f1-score   support\n",
      "\n",
      "           0       0.96      0.98      0.97       104\n",
      "           1       0.97      0.96      0.96        94\n",
      "           2       1.00      0.99      0.99        98\n",
      "           3       1.00      1.00      1.00        79\n",
      "\n",
      "   micro avg       0.98      0.98      0.98       375\n",
      "   macro avg       0.98      0.98      0.98       375\n",
      "weighted avg       0.98      0.98      0.98       375\n",
      "\n",
      "[0.984 0.992 0.984]\n",
      "KNeighborsClassifier(algorithm='ball_tree', leaf_size=10, metric='minkowski',\n",
      "           metric_params=None, n_jobs=None, n_neighbors=5, p=2,\n",
      "           weights='uniform')\n",
      "-----accuracy score:-----\n",
      "0.7626666666666667\n",
      "-----f1 score:-----\n",
      "0.7602132139862188\n",
      "-----precision score:-----\n",
      "0.7605380471380471\n",
      "-----recall score:-----\n",
      "0.7626666666666667\n",
      "\n",
      "              precision    recall  f1-score   support\n",
      "\n",
      "           0       0.56      0.63      0.60       104\n",
      "           1       0.54      0.46      0.49        94\n",
      "           2       0.99      1.00      0.99        98\n",
      "           3       1.00      1.00      1.00        79\n",
      "\n",
      "   micro avg       0.76      0.76      0.76       375\n",
      "   macro avg       0.77      0.77      0.77       375\n",
      "weighted avg       0.76      0.76      0.76       375\n",
      "\n",
      "[0.72  0.744 0.784]\n",
      "KNeighborsClassifier(algorithm='kd_tree', leaf_size=10, metric='minkowski',\n",
      "           metric_params=None, n_jobs=None, n_neighbors=5, p=2,\n",
      "           weights='uniform')\n",
      "-----accuracy score:-----\n",
      "0.7626666666666667\n",
      "-----f1 score:-----\n",
      "0.7602132139862188\n",
      "-----precision score:-----\n",
      "0.7605380471380471\n",
      "-----recall score:-----\n",
      "0.7626666666666667\n",
      "\n",
      "              precision    recall  f1-score   support\n",
      "\n",
      "           0       0.56      0.63      0.60       104\n",
      "           1       0.54      0.46      0.49        94\n",
      "           2       0.99      1.00      0.99        98\n",
      "           3       1.00      1.00      1.00        79\n",
      "\n",
      "   micro avg       0.76      0.76      0.76       375\n",
      "   macro avg       0.77      0.77      0.77       375\n",
      "weighted avg       0.76      0.76      0.76       375\n",
      "\n",
      "[0.72  0.744 0.784]\n",
      "KNeighborsClassifier(algorithm='ball_tree', leaf_size=100, metric='minkowski',\n",
      "           metric_params=None, n_jobs=None, n_neighbors=10, p=2,\n",
      "           weights='uniform')\n",
      "-----accuracy score:-----\n",
      "0.76\n",
      "-----f1 score:-----\n",
      "0.7552430613961312\n",
      "-----precision score:-----\n",
      "0.7592428571428571\n",
      "-----recall score:-----\n",
      "0.76\n",
      "\n",
      "              precision    recall  f1-score   support\n",
      "\n",
      "           0       0.55      0.68      0.61       104\n",
      "           1       0.54      0.40      0.46        94\n",
      "           2       0.99      0.99      0.99        98\n",
      "           3       1.00      1.00      1.00        79\n",
      "\n",
      "   micro avg       0.76      0.76      0.76       375\n",
      "   macro avg       0.77      0.77      0.77       375\n",
      "weighted avg       0.76      0.76      0.76       375\n",
      "\n",
      "[0.76  0.768 0.768]\n",
      "KNeighborsClassifier(algorithm='kd_tree', leaf_size=100, metric='minkowski',\n",
      "           metric_params=None, n_jobs=None, n_neighbors=10, p=2,\n",
      "           weights='uniform')\n",
      "-----accuracy score:-----\n",
      "0.76\n",
      "-----f1 score:-----\n",
      "0.7552430613961312\n",
      "-----precision score:-----\n",
      "0.7592428571428571\n",
      "-----recall score:-----\n",
      "0.76\n",
      "\n",
      "              precision    recall  f1-score   support\n",
      "\n",
      "           0       0.55      0.68      0.61       104\n",
      "           1       0.54      0.40      0.46        94\n",
      "           2       0.99      0.99      0.99        98\n",
      "           3       1.00      1.00      1.00        79\n",
      "\n",
      "   micro avg       0.76      0.76      0.76       375\n",
      "   macro avg       0.77      0.77      0.77       375\n",
      "weighted avg       0.76      0.76      0.76       375\n",
      "\n",
      "[0.76  0.768 0.768]\n",
      "KNeighborsClassifier(algorithm='ball_tree', leaf_size=1000,\n",
      "           metric='minkowski', metric_params=None, n_jobs=None,\n",
      "           n_neighbors=20, p=2, weights='uniform')\n",
      "-----accuracy score:-----\n",
      "0.7546666666666667\n",
      "-----f1 score:-----\n",
      "0.7333176470588235\n",
      "-----precision score:-----\n",
      "0.7559365079365079\n",
      "-----recall score:-----\n",
      "0.7546666666666667\n",
      "\n",
      "              precision    recall  f1-score   support\n",
      "\n",
      "           0       0.54      0.81      0.65       104\n",
      "           1       0.55      0.24      0.34        94\n",
      "           2       0.99      0.99      0.99        98\n",
      "           3       1.00      1.00      1.00        79\n",
      "\n",
      "   micro avg       0.75      0.75      0.75       375\n",
      "   macro avg       0.77      0.76      0.74       375\n",
      "weighted avg       0.76      0.75      0.73       375\n",
      "\n",
      "[0.76  0.744 0.76 ]\n",
      "KNeighborsClassifier(algorithm='kd_tree', leaf_size=1000, metric='minkowski',\n",
      "           metric_params=None, n_jobs=None, n_neighbors=20, p=2,\n",
      "           weights='uniform')\n",
      "-----accuracy score:-----\n",
      "0.7546666666666667\n",
      "-----f1 score:-----\n",
      "0.7333176470588235\n",
      "-----precision score:-----\n",
      "0.7559365079365079\n",
      "-----recall score:-----\n",
      "0.7546666666666667\n",
      "\n",
      "              precision    recall  f1-score   support\n",
      "\n",
      "           0       0.54      0.81      0.65       104\n",
      "           1       0.55      0.24      0.34        94\n",
      "           2       0.99      0.99      0.99        98\n",
      "           3       1.00      1.00      1.00        79\n",
      "\n",
      "   micro avg       0.75      0.75      0.75       375\n",
      "   macro avg       0.77      0.76      0.74       375\n",
      "weighted avg       0.76      0.75      0.73       375\n",
      "\n",
      "[0.76  0.744 0.76 ]\n"
     ]
    }
   ],
   "source": [
    "# Initialize some arrays to store metrics data for later printing\n",
    "nr_models = 3\n",
    "\n",
    "accuracies = []\n",
    "accuracies.append([])\n",
    "accuracies.append([])\n",
    "accuracies.append([])\n",
    "precisions = []\n",
    "precisions.append([])\n",
    "precisions.append([])\n",
    "precisions.append([])\n",
    "recalls = []\n",
    "recalls.append([])\n",
    "recalls.append([])\n",
    "recalls.append([])\n",
    "models = []\n",
    "models.append([])\n",
    "models.append([])\n",
    "models.append([])\n",
    "f1s = []\n",
    "f1s.append([])\n",
    "f1s.append([])\n",
    "f1s.append([])\n",
    "model_names = [\"Logistic Regression\", \"Random Forest Classifier\", \"KNN\"]\n",
    "\n",
    "\n",
    "for j, Model in enumerate([LogisticRegression, RandomForestClassifier, KNeighborsClassifier]):\n",
    "    \n",
    "    for i in range(0, len(lp[j])):\n",
    "        clf = Model(**lp[j][i]);\n",
    "        print(clf)\n",
    "        models[j].append(clf)\n",
    "        \n",
    "        clf.fit(X_train, y_train)\n",
    "\n",
    "#         Predict on validation set\n",
    "        y_pred = clf.predict(X_validation)\n",
    "\n",
    "#         Transform classes to integer\n",
    "        y_pred = y_pred.astype(int)\n",
    "\n",
    "#         print(y_validation)\n",
    "#         print(y_pred)\n",
    "\n",
    "\n",
    "        accuracy = accuracy_score(y_validation, y_pred)\n",
    "        f1 = f1_score(y_validation, y_pred, average=\"weighted\")\n",
    "        precision = precision_score(y_validation, y_pred, average=\"weighted\")\n",
    "        recall = recall_score(y_validation, y_pred, average=\"weighted\")\n",
    "        print(\"-----accuracy score:-----\")\n",
    "        print(accuracy)\n",
    "        accuracies[j].append(accuracy)\n",
    "#         print(accuracies)\n",
    "#         print(accuracies[j])\n",
    "        \n",
    "        print(\"-----f1 score:-----\")\n",
    "        print(f1)\n",
    "        f1s[j].append(f1)\n",
    "        \n",
    "        print(\"-----precision score:-----\")\n",
    "        print(precision)\n",
    "        precisions[j].append(precision)\n",
    "        \n",
    "        print(\"-----recall score:-----\")\n",
    "        print(recall)\n",
    "        recalls[j].append(recall)\n",
    "        \n",
    "    #   new line\n",
    "        print()\n",
    "\n",
    "\n",
    "    #     pd.get_dummies\n",
    "    #     target_names=[\"col0\", \"col1\", \"col2\", \"col3\"]\n",
    "    #     classification_report(y_test, y_pred, target_names=target_names)\n",
    "        print(classification_report(y_validation, y_pred))\n",
    "        kfold = KFold(n_splits=3, random_state=7)\n",
    "        result = cross_val_score(clf, X_validation, y_validation, cv=kfold, scoring='accuracy')\n",
    "        print(result)\n"
   ]
  },
  {
   "cell_type": "markdown",
   "metadata": {},
   "source": [
    "## Display results"
   ]
  },
  {
   "cell_type": "markdown",
   "metadata": {},
   "source": [
    "Text format (uncomment next lines to see results in raw text format)"
   ]
  },
  {
   "cell_type": "code",
   "execution_count": 552,
   "metadata": {
    "scrolled": true
   },
   "outputs": [],
   "source": [
    "# print(model_names)\n",
    "# print(accuracies)\n",
    "# print(f1s)\n",
    "# print(recalls)\n",
    "# print(precisions)\n",
    "\n",
    "# print(\"Model name\", \"Accuracy\", \"F1\", \"Recall\", \"Precision\")\n",
    "# for j in range(0, 3):\n",
    "#     for i in range(0, len(lp[j])):\n",
    "#         print(model_names[j], accuracies[j][i], f1s[j][i], recalls[j][i], precisions[j][i])"
   ]
  },
  {
   "cell_type": "markdown",
   "metadata": {},
   "source": [
    "Below HTML is used to display a table containing results for all models used with hyperparameters. The code will automatically color to red the model with hyperparameters having the best accuracy score"
   ]
  },
  {
   "cell_type": "code",
   "execution_count": 553,
   "metadata": {
    "scrolled": false
   },
   "outputs": [
    {
     "data": {
      "text/html": [
       "<table style=\"border: 1px solid black\"><tr><th>Nr</th><th>Model name</th><th>Parameters</th><th>Accuracy</th><th>F1</th><th>Recall</th><th>Precision</th></tr><tr><td>0</td><td>Logistic Regression</td><td>{'solver': 'lbfgs', 'multi_class': 'auto', 'max_iter': 5000}</td><td>0.944</td><td>0.94391</td><td>0.944</td><td>0.94627</td></td><tr><td>1</td><td>Logistic Regression</td><td>{'solver': 'liblinear', 'multi_class': 'auto', 'max_iter': 5000}</td><td>0.80267</td><td>0.77926</td><td>0.80267</td><td>0.85524</td></td><tr><td>2</td><td>Logistic Regression</td><td>{'solver': 'saga', 'multi_class': 'auto', 'max_iter': 5000}</td><td>0.21067</td><td>0.07531</td><td>0.21067</td><td>0.04585</td></td><tr><td>3</td><td>Logistic Regression</td><td>{'solver': 'sag', 'multi_class': 'auto', 'max_iter': 5000}</td><td>0.21067</td><td>0.07795</td><td>0.21067</td><td>0.04782</td></td><tr style=\"font-weight:bold; color:red;\"><td>4</td><td>Logistic Regression</td><td>{'solver': 'newton-cg', 'multi_class': 'auto', 'max_iter': 5000}</td><td>0.99467</td><td>0.99467</td><td>0.99467</td><td>0.99478</td></td><tr><td>5</td><td>Random Forest Classifier</td><td>{'n_estimators': 1, 'max_depth': 100, 'max_leaf_nodes': 1000}</td><td>0.968</td><td>0.96793</td><td>0.968</td><td>0.96805</td></td><tr><td>6</td><td>Random Forest Classifier</td><td>{'n_estimators': 2, 'max_depth': 100, 'max_leaf_nodes': 1000}</td><td>0.96</td><td>0.96016</td><td>0.96</td><td>0.96059</td></td><tr><td>7</td><td>Random Forest Classifier</td><td>{'n_estimators': 3, 'max_depth': 100, 'max_leaf_nodes': 1000}</td><td>0.984</td><td>0.98406</td><td>0.984</td><td>0.9842</td></td><tr><td>8</td><td>Random Forest Classifier</td><td>{'n_estimators': 4, 'max_depth': 100, 'max_leaf_nodes': 1000}</td><td>0.98133</td><td>0.98136</td><td>0.98133</td><td>0.98167</td></td><tr><td>9</td><td>Random Forest Classifier</td><td>{'n_estimators': 10, 'max_depth': 100, 'max_leaf_nodes': 1000}</td><td>0.98667</td><td>0.98666</td><td>0.98667</td><td>0.98669</td></td><tr style=\"font-weight:bold; color:red;\"><td>10</td><td>Random Forest Classifier</td><td>{'n_estimators': 20, 'max_depth': 100, 'max_leaf_nodes': 1000}</td><td>0.98933</td><td>0.98933</td><td>0.98933</td><td>0.98933</td></td><tr><td>11</td><td>Random Forest Classifier</td><td>{'n_estimators': 10, 'max_depth': 1000, 'max_leaf_nodes': 1000}</td><td>0.98667</td><td>0.98666</td><td>0.98667</td><td>0.98669</td></td><tr><td>12</td><td>Random Forest Classifier</td><td>{'n_estimators': 20, 'max_depth': 1000, 'max_leaf_nodes': 1000}</td><td>0.98667</td><td>0.9867</td><td>0.98667</td><td>0.98675</td></td><tr><td>13</td><td>Random Forest Classifier</td><td>{'n_estimators': 3, 'max_depth': 1000, 'max_leaf_nodes': 1000}</td><td>0.98133</td><td>0.98135</td><td>0.98133</td><td>0.98145</td></td><tr style=\"font-weight:bold; color:red;\"><td>14</td><td>KNN</td><td>{'n_neighbors': 5, 'leaf_size': 10, 'algorithm': 'ball_tree'}</td><td>0.76267</td><td>0.76021</td><td>0.76267</td><td>0.76054</td></td><tr style=\"font-weight:bold; color:red;\"><td>15</td><td>KNN</td><td>{'n_neighbors': 5, 'leaf_size': 10, 'algorithm': 'kd_tree'}</td><td>0.76267</td><td>0.76021</td><td>0.76267</td><td>0.76054</td></td><tr><td>16</td><td>KNN</td><td>{'n_neighbors': 10, 'leaf_size': 100, 'algorithm': 'ball_tree'}</td><td>0.76</td><td>0.75524</td><td>0.76</td><td>0.75924</td></td><tr><td>17</td><td>KNN</td><td>{'n_neighbors': 10, 'leaf_size': 100, 'algorithm': 'kd_tree'}</td><td>0.76</td><td>0.75524</td><td>0.76</td><td>0.75924</td></td><tr><td>18</td><td>KNN</td><td>{'n_neighbors': 20, 'leaf_size': 1000, 'algorithm': 'ball_tree'}</td><td>0.75467</td><td>0.73332</td><td>0.75467</td><td>0.75594</td></td><tr><td>19</td><td>KNN</td><td>{'n_neighbors': 20, 'leaf_size': 1000, 'algorithm': 'kd_tree'}</td><td>0.75467</td><td>0.73332</td><td>0.75467</td><td>0.75594</td></td></table>"
      ],
      "text/plain": [
       "<IPython.core.display.HTML object>"
      ]
     },
     "metadata": {},
     "output_type": "display_data"
    }
   ],
   "source": [
    "from IPython.display import HTML, display\n",
    "\n",
    "# Build table header\n",
    "tableHeader = '<tr>'    \n",
    "for item in [\"Nr\", \"Model name\", \"Parameters\", \"Accuracy\", \"F1\", \"Recall\", \"Precision\"]:\n",
    "    tableHeader += '<th>' + item  + '</th>'\n",
    "tableHeader += '</tr>'\n",
    "\n",
    "data_rows = ''\n",
    "nr = 0\n",
    "best_model_indices = [0, 0, 0]\n",
    "\n",
    "for j in range(0, nr_models):\n",
    "    for i in range(0, len(lp[j])):\n",
    "        data_row = '<tr>'\n",
    "        \n",
    "        if accuracies[j][i]==max(accuracies[j]):\n",
    "            data_row = '<tr style=\"font-weight:bold; color:red;\">'\n",
    "            best_model_indices[j] = i\n",
    "        data_row += '<td>' + str(nr) + '</td>'\n",
    "        data_row += '<td>' + model_names[j] + '</td>'\n",
    "        data_row += '<td>' + str(lp[j][i]) + '</td>'\n",
    "        data_row += '<td>' + str(float(\"{0:.5f}\".format(accuracies[j][i]))) + '</td>'\n",
    "        data_row += '<td>' + str(float(\"{0:.5f}\".format(f1s[j][i]))) + '</td>'\n",
    "        data_row += '<td>' + str(float(\"{0:.5f}\".format(recalls[j][i]))) + '</td>'\n",
    "        data_row += '<td>' + str(float(\"{0:.5f}\".format(precisions[j][i]))) + '</td>'\n",
    "        data_row += '</td>'\n",
    "        data_rows += data_row\n",
    "        nr += 1\n",
    "\n",
    "HTML_code = '<table style=\"border: 1px solid black\">'+tableHeader+ data_rows + '</table>' \n",
    "\n",
    "display(HTML(HTML_code))"
   ]
  },
  {
   "cell_type": "markdown",
   "metadata": {},
   "source": [
    "## Plot results"
   ]
  },
  {
   "cell_type": "code",
   "execution_count": 554,
   "metadata": {},
   "outputs": [
    {
     "data": {
      "image/png": "[encoded data removed]",
      "text/plain": [
       "<Figure size 432x288 with 1 Axes>"
      ]
     },
     "metadata": {
      "needs_background": "light"
     },
     "output_type": "display_data"
    },
    {
     "data": {
      "image/png": "[encoded data removed]",
      "text/plain": [
       "<Figure size 432x288 with 1 Axes>"
      ]
     },
     "metadata": {
      "needs_background": "light"
     },
     "output_type": "display_data"
    },
    {
     "data": {
      "image/png": "[encoded data removed]",
      "text/plain": [
       "<Figure size 432x288 with 1 Axes>"
      ]
     },
     "metadata": {
      "needs_background": "light"
     },
     "output_type": "display_data"
    },
    {
     "data": {
      "image/png": "[encoded data removed]",
      "text/plain": [
       "<Figure size 432x288 with 1 Axes>"
      ]
     },
     "metadata": {
      "needs_background": "light"
     },
     "output_type": "display_data"
    }
   ],
   "source": [
    "style = ['ro', 'bo', 'go']\n",
    "for j in range(0, nr_models):\n",
    "    best_accuracy = accuracies[j]                                \n",
    "    plt.plot(accuracies[j], style[j], label=model_names[j])\n",
    "    plt.ylabel(\"Accuracy\")\n",
    "    plt.xlabel(\"Experiment nr\")\n",
    "    plt.title(\"Accuracy\")\n",
    "    plt.legend(loc='center')\n",
    "plt.show()\n",
    "\n",
    "for j in range(0, nr_models):\n",
    "    plt.plot(f1s[j], style[j], label=model_names[j])\n",
    "    plt.ylabel(\"F1\")\n",
    "    plt.xlabel(\"Experiment nr\")\n",
    "    plt.title(\"F1\")\n",
    "    plt.legend(loc='center')\n",
    "plt.show()\n",
    "\n",
    "\n",
    "for j in range(0, nr_models):\n",
    "    plt.plot(recalls[j], style[j], label=model_names[j])\n",
    "    plt.ylabel(\"Recall\")\n",
    "    plt.xlabel(\"Experiment nr\")\n",
    "    plt.title(\"Recall\")\n",
    "    plt.legend(loc='center')\n",
    "plt.show()\n",
    "\n",
    "for j in range(0, nr_models):\n",
    "    plt.plot(precisions[j], style[j], label=model_names[j])\n",
    "    plt.ylabel(\"Precision\")\n",
    "    plt.xlabel(\"Experiment nr\")\n",
    "    plt.title(\"Precision\")\n",
    "    plt.legend(loc='center')\n",
    "plt.show()\n",
    "\n",
    "    "
   ]
  },
  {
   "cell_type": "markdown",
   "metadata": {},
   "source": [
    "## Plot best results for each Model"
   ]
  },
  {
   "cell_type": "code",
   "execution_count": 556,
   "metadata": {},
   "outputs": [
    {
     "data": {
      "image/png": "[encoded data removed]",
      "text/plain": [
       "<Figure size 432x288 with 1 Axes>"
      ]
     },
     "metadata": {
      "needs_background": "light"
     },
     "output_type": "display_data"
    },
    {
     "data": {
      "image/png": "[encoded data removed]",
      "text/plain": [
       "<Figure size 432x288 with 1 Axes>"
      ]
     },
     "metadata": {
      "needs_background": "light"
     },
     "output_type": "display_data"
    },
    {
     "data": {
      "image/png": "[encoded data removed]",
      "text/plain": [
       "<Figure size 432x288 with 1 Axes>"
      ]
     },
     "metadata": {
      "needs_background": "light"
     },
     "output_type": "display_data"
    },
    {
     "data": {
      "image/png": "[encoded data removed]",
      "text/plain": [
       "<Figure size 432x288 with 1 Axes>"
      ]
     },
     "metadata": {
      "needs_background": "light"
     },
     "output_type": "display_data"
    }
   ],
   "source": [
    "style = ['ro', 'bo', 'go']\n",
    "for j in range(0, nr_models):\n",
    "    best_accuracy = accuracies[j]                                \n",
    "    plt.plot(max(accuracies[j]), style[j], label=model_names[j])\n",
    "    plt.ylabel(\"Accuracy\")\n",
    "    plt.xlabel(\"Experiment nr\")\n",
    "    plt.title(\"Accuracy\")\n",
    "    plt.legend(loc='center')\n",
    "plt.show()\n",
    "\n",
    "for j in range(0, nr_models):\n",
    "    plt.plot(max(f1s[j]), style[j], label=model_names[j])\n",
    "    plt.ylabel(\"F1\")\n",
    "    plt.xlabel(\"Experiment nr\")\n",
    "    plt.title(\"F1\")\n",
    "    plt.legend(loc='center')\n",
    "plt.show()\n",
    "\n",
    "\n",
    "for j in range(0, nr_models):\n",
    "    plt.plot(max(recalls[j]), style[j], label=model_names[j])\n",
    "    plt.ylabel(\"Recall\")\n",
    "    plt.xlabel(\"Experiment nr\")\n",
    "    plt.title(\"Recall\")\n",
    "    plt.legend(loc='center')\n",
    "plt.show()\n",
    "\n",
    "for j in range(0, nr_models):\n",
    "    plt.plot(max(precisions[j]), style[j], label=model_names[j])\n",
    "    plt.ylabel(\"Precision\")\n",
    "    plt.xlabel(\"Experiment nr\")\n",
    "    plt.title(\"Precision\")\n",
    "    plt.legend(loc='center')\n",
    "plt.show()\n",
    "\n",
    "    "
   ]
  },
  {
   "cell_type": "markdown",
   "metadata": {},
   "source": [
    "## Conclusions for the validation test"
   ]
  },
  {
   "cell_type": "markdown",
   "metadata": {},
   "source": [
    "Best Model identified for Dog Breed Name classification is logistic regression with newton-cg solver hyperparameter. The accuracy score obained was approx 99%.\n",
    "\n",
    "Random forest classifier with best hyperparameters performs almost as better as Logistic regression, with an average score of 98%(+-1%).\n",
    "\n",
    "In 2 of 5 analyzed cases, regression didn't converge even when increasing number of iterations. The solvers used for regression that didn't converge are 'sag' and 'saga'. Therefore, these solvers should not be furhter used for solving this task.\n",
    "\n",
    "KNN algorithm with the hyperparameters tested has a lower score for this task, obtaining an accuracy result of no more than 75%. "
   ]
  },
  {
   "cell_type": "markdown",
   "metadata": {},
   "source": [
    "## FInal results on test set"
   ]
  },
  {
   "cell_type": "markdown",
   "metadata": {},
   "source": [
    "Using best models for each algorithm to predict on test set (that the models didn't see before) and calculate final metrics."
   ]
  },
  {
   "cell_type": "code",
   "execution_count": 557,
   "metadata": {},
   "outputs": [],
   "source": [
    "accuracies_test = []\n",
    "f1s_test = []\n",
    "precisions_test = []\n",
    "recalls_test = []\n",
    "\n",
    "for j in range(0, nr_models):\n",
    "    clf = models[j][best_model_indices[j]]\n",
    "    \n",
    "    y_pred = clf.predict(X_test)\n",
    "    \n",
    "    accuracies_test.append(accuracy_score(y_test, y_pred))\n",
    "    f1s_test.append(f1_score(y_test, y_pred, average=\"weighted\"))\n",
    "    precisions_test.append(precision_score(y_test, y_pred, average=\"weighted\"))\n",
    "    recalls_test.append(recall_score(y_test, y_pred, average=\"weighted\"))\n",
    "\n",
    "# Uncomment next line to view values for accuracies, f1s, precisions and recalls for the test set\n",
    "# print(accuracies_test)\n",
    "# print(f1s_test)\n",
    "# print(recalls_test)\n",
    "# print(precisions_test)"
   ]
  },
  {
   "cell_type": "markdown",
   "metadata": {},
   "source": [
    "## Plot final results"
   ]
  },
  {
   "cell_type": "code",
   "execution_count": 559,
   "metadata": {
    "scrolled": true
   },
   "outputs": [
    {
     "data": {
      "image/png": "[encoded data removed]",
      "text/plain": [
       "<Figure size 432x288 with 1 Axes>"
      ]
     },
     "metadata": {
      "needs_background": "light"
     },
     "output_type": "display_data"
    },
    {
     "data": {
      "image/png": "[encoded data removed]",
      "text/plain": [
       "<Figure size 432x288 with 1 Axes>"
      ]
     },
     "metadata": {
      "needs_background": "light"
     },
     "output_type": "display_data"
    },
    {
     "data": {
      "image/png": "[encoded data removed]",
      "text/plain": [
       "<Figure size 432x288 with 1 Axes>"
      ]
     },
     "metadata": {
      "needs_background": "light"
     },
     "output_type": "display_data"
    },
    {
     "data": {
      "image/png": "[encoded data removed]",
      "text/plain": [
       "<Figure size 432x288 with 1 Axes>"
      ]
     },
     "metadata": {
      "needs_background": "light"
     },
     "output_type": "display_data"
    }
   ],
   "source": [
    "accuracies = accuracies_test\n",
    "f1s = f1s_test\n",
    "precisions = precisions_test\n",
    "recalls = recalls_test\n",
    "\n",
    "style = ['ro', 'bo', 'go']\n",
    "for j in range(0, nr_models):\n",
    "    best_accuracy = accuracies[j]                                \n",
    "    plt.plot(accuracies[j], style[j], label=model_names[j])\n",
    "    plt.ylabel(\"Accuracy\")\n",
    "    plt.xlabel(\"Experiment nr\")\n",
    "    plt.title(\"Accuracy\")\n",
    "    plt.legend(loc='center')\n",
    "plt.show()\n",
    "\n",
    "for j in range(0, nr_models):\n",
    "    plt.plot(f1s[j], style[j], label=model_names[j])\n",
    "    plt.ylabel(\"F1\")\n",
    "    plt.xlabel(\"Experiment nr\")\n",
    "    plt.title(\"F1\")\n",
    "    plt.legend(loc='center')\n",
    "plt.show()\n",
    "\n",
    "\n",
    "for j in range(0, nr_models):\n",
    "    plt.plot(recalls[j], style[j], label=model_names[j])\n",
    "    plt.ylabel(\"Recall\")\n",
    "    plt.xlabel(\"Experiment nr\")\n",
    "    plt.title(\"Recall\")\n",
    "    plt.legend(loc='center')\n",
    "plt.show()\n",
    "\n",
    "for j in range(0, nr_models):\n",
    "    plt.plot(precisions[j], style[j], label=model_names[j])\n",
    "    plt.ylabel(\"Precision\")\n",
    "    plt.xlabel(\"Experiment nr\")\n",
    "    plt.title(\"Precision\")\n",
    "    plt.legend(loc='center')\n",
    "plt.show()"
   ]
  },
  {
   "cell_type": "markdown",
   "metadata": {},
   "source": [
    "## Display as table"
   ]
  },
  {
   "cell_type": "code",
   "execution_count": 561,
   "metadata": {},
   "outputs": [
    {
     "data": {
      "text/html": [
       "<h1> Final results </h1><table style=\"border: 1px solid black\"><tr><th>Nr</th><th>Model name</th><th>Parameters</th><th>Accuracy</th><th>F1</th><th>Recall</th><th>Precision</th></tr><tr><td>0</td><td>Logistic Regression</td><td>{'solver': 'newton-cg', 'multi_class': 'auto', 'max_iter': 5000}</td><td>0.996</td><td>0.996</td><td>0.996</td><td>0.99608</td></td><tr><td>1</td><td>Random Forest Classifier</td><td>{'n_estimators': 20, 'max_depth': 100, 'max_leaf_nodes': 1000}</td><td>1.0</td><td>1.0</td><td>1.0</td><td>1.0</td></td><tr><td>2</td><td>KNN</td><td>{'n_neighbors': 5, 'leaf_size': 10, 'algorithm': 'kd_tree'}</td><td>0.74</td><td>0.73935</td><td>0.74</td><td>0.73933</td></td></table>"
      ],
      "text/plain": [
       "<IPython.core.display.HTML object>"
      ]
     },
     "metadata": {},
     "output_type": "display_data"
    }
   ],
   "source": [
    "\n",
    "# Build table header\n",
    "tableHeader = '<tr>'    \n",
    "for item in [\"Nr\", \"Model name\", \"Parameters\", \"Accuracy\", \"F1\", \"Recall\", \"Precision\"]:\n",
    "    tableHeader += '<th>' + item  + '</th>'\n",
    "tableHeader += '</tr>'\n",
    "\n",
    "data_rows = ''\n",
    "nr = 0\n",
    "\n",
    "for j in range(0, nr_models):\n",
    "    data_row = '<tr>'\n",
    "    data_row += '<td>' + str(nr) + '</td>'\n",
    "    data_row += '<td>' + model_names[j] + '</td>'\n",
    "    data_row += '<td>' + str(lp[j][best_model_indices[j]]) + '</td>'\n",
    "    data_row += '<td>' + str(float(\"{0:.5f}\".format(accuracies[j]))) + '</td>'\n",
    "    data_row += '<td>' + str(float(\"{0:.5f}\".format(f1s[j]))) + '</td>'\n",
    "    data_row += '<td>' + str(float(\"{0:.5f}\".format(recalls[j]))) + '</td>'\n",
    "    data_row += '<td>' + str(float(\"{0:.5f}\".format(precisions[j]))) + '</td>'\n",
    "    data_row += '</td>'\n",
    "    data_rows += data_row\n",
    "    nr += 1\n",
    "\n",
    "HTML_code = '<h1> Final results </h1>'\n",
    "HTML_code += '<table style=\"border: 1px solid black\">'+tableHeader+ data_rows + '</table>' \n",
    "\n",
    "display(HTML(HTML_code))"
   ]
  },
  {
   "cell_type": "markdown",
   "metadata": {},
   "source": [
    "## Conclusions"
   ]
  },
  {
   "cell_type": "markdown",
   "metadata": {},
   "source": [
    "On test set, the algorithm Random forest Classifier performs better(with 100% accuracy). Logistic regression is almost as good as Random forest Classifier (with 99.6% accuracy) and KNN is far behind (with 74% best accuracy score).\n",
    "\n",
    "The best 2 models identified for the problem of classification of Dog Breeds are Random Forest classifierwith hyperparameters: number of estimators 20, max depth 100 and max leaf nodes 1000; and Logistic regression with 'newton-cg' solver parameter. \n",
    "\n",
    "The performance on the test set is:\n",
    "- for Logistic Regression: 98-99%(+-1%) accuracy, F1 score 99%(+-1%), recall 99%(+-1%) and precision 99%(+-1%).\n",
    "- for Random Forest Classifier: 99-100% accuracy, F1 score 99-100%, recall 99-100% and precision 99-100%."
   ]
  },
  {
   "cell_type": "markdown",
   "metadata": {},
   "source": [
    "# Second task - regression (predict longevity)"
   ]
  },
  {
   "cell_type": "markdown",
   "metadata": {},
   "source": [
    "For this task I use same data read from file and with missing values added."
   ]
  },
  {
   "cell_type": "code",
   "execution_count": 308,
   "metadata": {
    "scrolled": false
   },
   "outputs": [],
   "source": [
    "# Print data to be sure it is ok\n",
    "# print(data)"
   ]
  },
  {
   "cell_type": "markdown",
   "metadata": {},
   "source": [
    "But first of all, will read and plot raw data to see what features determine the longevity."
   ]
  },
  {
   "cell_type": "code",
   "execution_count": 562,
   "metadata": {},
   "outputs": [
    {
     "data": {
      "image/png": "[encoded data removed]",
      "text/plain": [
       "<Figure size 1080x1080 with 6 Axes>"
      ]
     },
     "metadata": {
      "needs_background": "light"
     },
     "output_type": "display_data"
    }
   ],
   "source": [
    "raw_data = pd.read_csv(FILE_NAME)\n",
    "\n",
    "fig = plt.figure(figsize=(15, 15))\n",
    "((p1,p2), (p3,p4), (p5,p6)) = fig.subplots(3,2, sharey=False)\n",
    "# \n",
    "# Save longevity in a variable\n",
    "longevity = raw_data.iloc[:, 3]\n",
    "# remove longevity column from data\n",
    "raw_data = raw_data.drop(\"Longevity(yrs)\", axis=1)\n",
    "\n",
    "for i in range(1, 7):\n",
    "        locals()['p'+str(i)].scatter(raw_data.iloc[:,i],longevity,alpha = 0.1, color=\"indigo\")\n",
    "        locals()['p'+str(i)].set_title(raw_data.columns[i])\n"
   ]
  },
  {
   "cell_type": "markdown",
   "metadata": {},
   "source": [
    "# Split data into train set and test set"
   ]
  },
  {
   "cell_type": "code",
   "execution_count": 571,
   "metadata": {},
   "outputs": [],
   "source": [
    "X_data, X_test, y_data, y_test = train_test_split(data, longevities)\n",
    "\n",
    "# Using KFold to further split training data into train and validation\n",
    "kf = KFold(n_splits=2)\n",
    "\n",
    "for train_index, validation_index in kf.split(X_data):\n",
    "    X_train, X_validation = X_data.iloc[train_index], X_data.iloc[validation_index]\n",
    "    y_train, y_validation = y_data.iloc[train_index], y_data.iloc[validation_index]"
   ]
  },
  {
   "cell_type": "markdown",
   "metadata": {},
   "source": [
    "## Initialize parameters for each model"
   ]
  },
  {
   "cell_type": "code",
   "execution_count": 565,
   "metadata": {},
   "outputs": [],
   "source": [
    "lp = [\n",
    "    [\n",
    "        {'normalize': True}, #Linear Regression\n",
    "        {'normalize': False} #Linear Regression\n",
    "    ],\n",
    "    [ \n",
    "#         n_neighbors: default 5,    \n",
    "#         p: 1-manhattan_distance, 2-euclidean_distance, arbitrary - minkowski_distance \n",
    "        {'n_neighbors': 3, 'p':1}, #KNNRegressor\n",
    "        {'n_neighbors': 3, 'p':2}, #KNNRegressor\n",
    "        {'n_neighbors': 3, 'p':5}, #KNNRegressor\n",
    "        {'n_neighbors': 5, 'p':1}, #KNNRegressor\n",
    "        {'n_neighbors': 5, 'p':2}, #KNNRegressor\n",
    "        {'n_neighbors': 5, 'p':5}, #KNNRegressor\n",
    "        {'n_neighbors': 10, 'p':1}, #KNNRegressor\n",
    "        {'n_neighbors': 10, 'p':2}, #KNNRegressor\n",
    "        {'n_neighbors': 10, 'p':5}, #KNNRegressor\n",
    "        {'n_neighbors': 20, 'p':1}, #KNNRegressor\n",
    "        {'n_neighbors': 20, 'p':2}, #KNNRegressor\n",
    "        {'n_neighbors': 20, 'p':5}, #KNNRegressor\n",
    "        {'n_neighbors': 30, 'p':1}, #KNNRegressor\n",
    "        {'n_neighbors': 30, 'p':2}, #KNNRegressor\n",
    "        {'n_neighbors': 30, 'p':5}, #KNNRegressor\n",
    "        {'n_neighbors': 50, 'p':1}, #KNNRegressor\n",
    "        {'n_neighbors': 50, 'p':2}, #KNNRegressor\n",
    "        {'n_neighbors': 50, 'p':5}, #KNNRegressor\n",
    "        {'n_neighbors': 60, 'p':1}, #KNNRegressor\n",
    "        {'n_neighbors': 60, 'p':2}, #KNNRegressor\n",
    "        {'n_neighbors': 60, 'p':5}, #KNNRegressor\n",
    "        {'n_neighbors': 75, 'p':1}, #KNNRegressor\n",
    "        {'n_neighbors': 75, 'p':2}, #KNNRegressor\n",
    "        {'n_neighbors': 75, 'p':5}, #KNNRegressor\n",
    "        {'n_neighbors': 80, 'p':1}, #KNNRegressor\n",
    "        {'n_neighbors': 80, 'p':2}, #KNNRegressor\n",
    "        {'n_neighbors': 80, 'p':5}, #KNNRegressor\n",
    "        {'n_neighbors': 90, 'p':1}, #KNNRegressor\n",
    "        {'n_neighbors': 90, 'p':2}, #KNNRegressor\n",
    "        {'n_neighbors': 90, 'p':5}, #KNNRegressor\n",
    "        {'n_neighbors': 100, 'p':1}, #KNNRegressor\n",
    "        {'n_neighbors': 100, 'p':2}, #KNNRegressor\n",
    "        {'n_neighbors': 100, 'p':5}, #KNNRegressor\n",
    "\n",
    "    ],\n",
    "   \n",
    "]\n"
   ]
  },
  {
   "cell_type": "markdown",
   "metadata": {},
   "source": [
    "## Training process and results saving"
   ]
  },
  {
   "cell_type": "code",
   "execution_count": 572,
   "metadata": {},
   "outputs": [
    {
     "name": "stdout",
     "output_type": "stream",
     "text": [
      "LinearRegression(copy_X=True, fit_intercept=True, n_jobs=None, normalize=True)\n",
      "-----explained_variance_score score:-----\n",
      "0.852337073672526\n",
      "-----mean_squared_error score:-----\n",
      "1.0477698617672466\n",
      "\n",
      "LinearRegression(copy_X=True, fit_intercept=True, n_jobs=None,\n",
      "         normalize=False)\n",
      "-----explained_variance_score score:-----\n",
      "0.8523370736725211\n",
      "-----mean_squared_error score:-----\n",
      "1.0477698617672804\n",
      "\n",
      "KNeighborsRegressor(algorithm='auto', leaf_size=30, metric='minkowski',\n",
      "          metric_params=None, n_jobs=None, n_neighbors=3, p=1,\n",
      "          weights='uniform')\n",
      "-----explained_variance_score score:-----\n",
      "0.9389908640755293\n",
      "-----mean_squared_error score:-----\n",
      "0.4325190627614814\n",
      "\n",
      "KNeighborsRegressor(algorithm='auto', leaf_size=30, metric='minkowski',\n",
      "          metric_params=None, n_jobs=None, n_neighbors=3, p=2,\n",
      "          weights='uniform')\n",
      "-----explained_variance_score score:-----\n",
      "0.938725104319666\n",
      "-----mean_squared_error score:-----\n",
      "0.43436713133925914\n",
      "\n",
      "KNeighborsRegressor(algorithm='auto', leaf_size=30, metric='minkowski',\n",
      "          metric_params=None, n_jobs=None, n_neighbors=3, p=5,\n",
      "          weights='uniform')\n",
      "-----explained_variance_score score:-----\n",
      "0.9389222191585899\n",
      "-----mean_squared_error score:-----\n",
      "0.43303239958222217\n",
      "\n",
      "KNeighborsRegressor(algorithm='auto', leaf_size=30, metric='minkowski',\n",
      "          metric_params=None, n_jobs=None, n_neighbors=5, p=1,\n",
      "          weights='uniform')\n",
      "-----explained_variance_score score:-----\n",
      "0.9437963670040964\n",
      "-----mean_squared_error score:-----\n",
      "0.3983811052490667\n",
      "\n",
      "KNeighborsRegressor(algorithm='auto', leaf_size=30, metric='minkowski',\n",
      "          metric_params=None, n_jobs=None, n_neighbors=5, p=2,\n",
      "          weights='uniform')\n",
      "-----explained_variance_score score:-----\n",
      "0.9435161092095847\n",
      "-----mean_squared_error score:-----\n",
      "0.40036111325653345\n",
      "\n",
      "KNeighborsRegressor(algorithm='auto', leaf_size=30, metric='minkowski',\n",
      "          metric_params=None, n_jobs=None, n_neighbors=5, p=5,\n",
      "          weights='uniform')\n",
      "-----explained_variance_score score:-----\n",
      "0.9435161092095847\n",
      "-----mean_squared_error score:-----\n",
      "0.4003611132565334\n",
      "\n",
      "KNeighborsRegressor(algorithm='auto', leaf_size=30, metric='minkowski',\n",
      "          metric_params=None, n_jobs=None, n_neighbors=10, p=1,\n",
      "          weights='uniform')\n",
      "-----explained_variance_score score:-----\n",
      "0.9482902891628543\n",
      "-----mean_squared_error score:-----\n",
      "0.36675036846560005\n",
      "\n",
      "KNeighborsRegressor(algorithm='auto', leaf_size=30, metric='minkowski',\n",
      "          metric_params=None, n_jobs=None, n_neighbors=10, p=2,\n",
      "          weights='uniform')\n",
      "-----explained_variance_score score:-----\n",
      "0.9482786715710797\n",
      "-----mean_squared_error score:-----\n",
      "0.3668259282914667\n",
      "\n",
      "KNeighborsRegressor(algorithm='auto', leaf_size=30, metric='minkowski',\n",
      "          metric_params=None, n_jobs=None, n_neighbors=10, p=5,\n",
      "          weights='uniform')\n",
      "-----explained_variance_score score:-----\n",
      "0.9482786715710797\n",
      "-----mean_squared_error score:-----\n",
      "0.3668259282914667\n",
      "\n",
      "KNeighborsRegressor(algorithm='auto', leaf_size=30, metric='minkowski',\n",
      "          metric_params=None, n_jobs=None, n_neighbors=20, p=1,\n",
      "          weights='uniform')\n",
      "-----explained_variance_score score:-----\n",
      "0.9492659147572927\n",
      "-----mean_squared_error score:-----\n",
      "0.3599225271871334\n",
      "\n",
      "KNeighborsRegressor(algorithm='auto', leaf_size=30, metric='minkowski',\n",
      "          metric_params=None, n_jobs=None, n_neighbors=20, p=2,\n",
      "          weights='uniform')\n",
      "-----explained_variance_score score:-----\n",
      "0.9492028191069583\n",
      "-----mean_squared_error score:-----\n",
      "0.36041190727966654\n",
      "\n",
      "KNeighborsRegressor(algorithm='auto', leaf_size=30, metric='minkowski',\n",
      "          metric_params=None, n_jobs=None, n_neighbors=20, p=5,\n",
      "          weights='uniform')\n",
      "-----explained_variance_score score:-----\n",
      "0.9492028191069583\n",
      "-----mean_squared_error score:-----\n",
      "0.3604119072796666\n",
      "\n",
      "KNeighborsRegressor(algorithm='auto', leaf_size=30, metric='minkowski',\n",
      "          metric_params=None, n_jobs=None, n_neighbors=30, p=1,\n",
      "          weights='uniform')\n",
      "-----explained_variance_score score:-----\n",
      "0.9496326258655875\n",
      "-----mean_squared_error score:-----\n",
      "0.35731888682263724\n",
      "\n",
      "KNeighborsRegressor(algorithm='auto', leaf_size=30, metric='minkowski',\n",
      "          metric_params=None, n_jobs=None, n_neighbors=30, p=2,\n",
      "          weights='uniform')\n",
      "-----explained_variance_score score:-----\n",
      "0.9496283700513684\n",
      "-----mean_squared_error score:-----\n",
      "0.35738124082625194\n",
      "\n",
      "KNeighborsRegressor(algorithm='auto', leaf_size=30, metric='minkowski',\n",
      "          metric_params=None, n_jobs=None, n_neighbors=30, p=5,\n",
      "          weights='uniform')\n",
      "-----explained_variance_score score:-----\n",
      "0.9496283700513684\n",
      "-----mean_squared_error score:-----\n",
      "0.35738124082625194\n",
      "\n",
      "KNeighborsRegressor(algorithm='auto', leaf_size=30, metric='minkowski',\n",
      "          metric_params=None, n_jobs=None, n_neighbors=50, p=1,\n",
      "          weights='uniform')\n",
      "-----explained_variance_score score:-----\n",
      "0.9500725834162959\n",
      "-----mean_squared_error score:-----\n",
      "0.3542830923252586\n",
      "\n",
      "KNeighborsRegressor(algorithm='auto', leaf_size=30, metric='minkowski',\n",
      "          metric_params=None, n_jobs=None, n_neighbors=50, p=2,\n",
      "          weights='uniform')\n",
      "-----explained_variance_score score:-----\n",
      "0.9501002901111291\n",
      "-----mean_squared_error score:-----\n",
      "0.35408052554637864\n",
      "\n",
      "KNeighborsRegressor(algorithm='auto', leaf_size=30, metric='minkowski',\n",
      "          metric_params=None, n_jobs=None, n_neighbors=50, p=5,\n",
      "          weights='uniform')\n",
      "-----explained_variance_score score:-----\n",
      "0.9501002901111291\n",
      "-----mean_squared_error score:-----\n",
      "0.35408052554637864\n",
      "\n",
      "KNeighborsRegressor(algorithm='auto', leaf_size=30, metric='minkowski',\n",
      "          metric_params=None, n_jobs=None, n_neighbors=60, p=1,\n",
      "          weights='uniform')\n",
      "-----explained_variance_score score:-----\n",
      "0.9499984329846061\n",
      "-----mean_squared_error score:-----\n",
      "0.3546381329026369\n",
      "\n",
      "KNeighborsRegressor(algorithm='auto', leaf_size=30, metric='minkowski',\n",
      "          metric_params=None, n_jobs=None, n_neighbors=60, p=2,\n",
      "          weights='uniform')\n",
      "-----explained_variance_score score:-----\n",
      "0.9500071775761734\n",
      "-----mean_squared_error score:-----\n",
      "0.3545687170248665\n",
      "\n",
      "KNeighborsRegressor(algorithm='auto', leaf_size=30, metric='minkowski',\n",
      "          metric_params=None, n_jobs=None, n_neighbors=60, p=5,\n",
      "          weights='uniform')\n",
      "-----explained_variance_score score:-----\n",
      "0.9500071775761734\n",
      "-----mean_squared_error score:-----\n",
      "0.3545687170248665\n",
      "\n",
      "KNeighborsRegressor(algorithm='auto', leaf_size=30, metric='minkowski',\n",
      "          metric_params=None, n_jobs=None, n_neighbors=75, p=1,\n",
      "          weights='uniform')\n",
      "-----explained_variance_score score:-----\n",
      "0.9503610400306716\n",
      "-----mean_squared_error score:-----\n",
      "0.35205787309195374\n",
      "\n",
      "KNeighborsRegressor(algorithm='auto', leaf_size=30, metric='minkowski',\n",
      "          metric_params=None, n_jobs=None, n_neighbors=75, p=2,\n",
      "          weights='uniform')\n",
      "-----explained_variance_score score:-----\n",
      "0.9503597826851278\n",
      "-----mean_squared_error score:-----\n",
      "0.3520683946673541\n",
      "\n",
      "KNeighborsRegressor(algorithm='auto', leaf_size=30, metric='minkowski',\n",
      "          metric_params=None, n_jobs=None, n_neighbors=75, p=5,\n",
      "          weights='uniform')\n",
      "-----explained_variance_score score:-----\n",
      "0.9503597826851278\n",
      "-----mean_squared_error score:-----\n",
      "0.3520683946673541\n",
      "\n",
      "KNeighborsRegressor(algorithm='auto', leaf_size=30, metric='minkowski',\n",
      "          metric_params=None, n_jobs=None, n_neighbors=80, p=1,\n",
      "          weights='uniform')\n",
      "-----explained_variance_score score:-----\n",
      "0.95036397531867\n",
      "-----mean_squared_error score:-----\n",
      "0.35205584841471244\n",
      "\n",
      "KNeighborsRegressor(algorithm='auto', leaf_size=30, metric='minkowski',\n",
      "          metric_params=None, n_jobs=None, n_neighbors=80, p=2,\n",
      "          weights='uniform')\n",
      "-----explained_variance_score score:-----\n",
      "0.9503733146408908\n",
      "-----mean_squared_error score:-----\n",
      "0.3519924240205292\n",
      "\n",
      "KNeighborsRegressor(algorithm='auto', leaf_size=30, metric='minkowski',\n",
      "          metric_params=None, n_jobs=None, n_neighbors=80, p=5,\n",
      "          weights='uniform')\n",
      "-----explained_variance_score score:-----\n",
      "0.9503733146408908\n",
      "-----mean_squared_error score:-----\n",
      "0.35199242402052916\n",
      "\n",
      "KNeighborsRegressor(algorithm='auto', leaf_size=30, metric='minkowski',\n",
      "          metric_params=None, n_jobs=None, n_neighbors=90, p=1,\n",
      "          weights='uniform')\n",
      "-----explained_variance_score score:-----\n",
      "0.9505533228910831\n",
      "-----mean_squared_error score:-----\n",
      "0.3507430853085401\n",
      "\n",
      "KNeighborsRegressor(algorithm='auto', leaf_size=30, metric='minkowski',\n",
      "          metric_params=None, n_jobs=None, n_neighbors=90, p=2,\n",
      "          weights='uniform')\n",
      "-----explained_variance_score score:-----\n",
      "0.9505561863975003\n",
      "-----mean_squared_error score:-----\n",
      "0.35072046861809714\n",
      "\n",
      "KNeighborsRegressor(algorithm='auto', leaf_size=30, metric='minkowski',\n",
      "          metric_params=None, n_jobs=None, n_neighbors=90, p=5,\n",
      "          weights='uniform')\n",
      "-----explained_variance_score score:-----\n",
      "0.9505561863975003\n",
      "-----mean_squared_error score:-----\n",
      "0.35072046861809714\n",
      "\n",
      "KNeighborsRegressor(algorithm='auto', leaf_size=30, metric='minkowski',\n",
      "          metric_params=None, n_jobs=None, n_neighbors=100, p=1,\n",
      "          weights='uniform')\n",
      "-----explained_variance_score score:-----\n",
      "0.9441672541102144\n",
      "-----mean_squared_error score:-----\n",
      "0.4137472711737228\n",
      "\n",
      "KNeighborsRegressor(algorithm='auto', leaf_size=30, metric='minkowski',\n",
      "          metric_params=None, n_jobs=None, n_neighbors=100, p=2,\n",
      "          weights='uniform')\n",
      "-----explained_variance_score score:-----\n",
      "0.9441176106199276\n",
      "-----mean_squared_error score:-----\n",
      "0.41405899403348007\n",
      "\n",
      "KNeighborsRegressor(algorithm='auto', leaf_size=30, metric='minkowski',\n",
      "          metric_params=None, n_jobs=None, n_neighbors=100, p=5,\n",
      "          weights='uniform')\n",
      "-----explained_variance_score score:-----\n",
      "0.9441176106199276\n"
     ]
    },
    {
     "name": "stdout",
     "output_type": "stream",
     "text": [
      "-----mean_squared_error score:-----\n",
      "0.41405899403348007\n",
      "\n"
     ]
    }
   ],
   "source": [
    "# Initialize some arrays to store metrics data for later printing\n",
    "nr_models = 2\n",
    "\n",
    "explained_variance_scores = []\n",
    "explained_variance_scores.append([])\n",
    "explained_variance_scores.append([])\n",
    "mean_squared_errors = []\n",
    "mean_squared_errors.append([])\n",
    "mean_squared_errors.append([])\n",
    "\n",
    "models = []\n",
    "models.append([])\n",
    "models.append([])\n",
    "\n",
    "model_names = [\"Linear Regression\", \"KNN\"]\n",
    "\n",
    "\n",
    "for j, Model in enumerate([LinearRegression, KNeighborsRegressor]):\n",
    "    \n",
    "    for i in range(0, len(lp[j])):\n",
    "        clf = Model(**lp[j][i]);\n",
    "        print(clf)\n",
    "        models[j].append(clf)\n",
    "        \n",
    "        clf.fit(X_train, y_train)\n",
    "\n",
    "#         Predict on validation set\n",
    "        y_pred = clf.predict(X_validation)\n",
    "\n",
    "#         print(y_validation)\n",
    "#         print(y_pred)\n",
    "\n",
    "#         Explained variance regression score function\n",
    "#         Best possible score is 1.0, lower values are worse.\n",
    "        explained_variance_score_val = explained_variance_score(y_validation, y_pred)\n",
    "\n",
    "#       Mean squared error - the lower the best\n",
    "        mean_squared_error_val = mean_squared_error(y_validation, y_pred)\n",
    "       \n",
    "        print(\"-----explained_variance_score score:-----\")\n",
    "        print(explained_variance_score_val)\n",
    "        explained_variance_scores[j].append(explained_variance_score_val)\n",
    "        \n",
    "        \n",
    "        print(\"-----mean_squared_error score:-----\")\n",
    "        print(mean_squared_error_val)\n",
    "        mean_squared_errors[j].append(mean_squared_error_val)\n",
    "        \n",
    "        \n",
    "    #   new line\n",
    "        print()\n",
    "\n"
   ]
  },
  {
   "cell_type": "markdown",
   "metadata": {},
   "source": [
    "## Display results"
   ]
  },
  {
   "cell_type": "code",
   "execution_count": 573,
   "metadata": {},
   "outputs": [
    {
     "data": {
      "text/html": [
       "<table style=\"border: 1px solid black\"><tr><th>Nr</th><th>Model name</th><th>Parameters</th><th>Explained variance</th><th>Mean squared errors</th></tr><tr style=\"font-weight:bold; color:red;\"><td>0</td><td>Linear Regression</td><td>{'normalize': True}</td><td>0.85234</td><td>1.04777</td></td><tr><td>1</td><td>Linear Regression</td><td>{'normalize': False}</td><td>0.85234</td><td>1.04777</td></td><tr><td>2</td><td>KNN</td><td>{'n_neighbors': 3, 'p': 1}</td><td>0.93899</td><td>0.43252</td></td><tr><td>3</td><td>KNN</td><td>{'n_neighbors': 3, 'p': 2}</td><td>0.93873</td><td>0.43437</td></td><tr><td>4</td><td>KNN</td><td>{'n_neighbors': 3, 'p': 5}</td><td>0.93892</td><td>0.43303</td></td><tr><td>5</td><td>KNN</td><td>{'n_neighbors': 5, 'p': 1}</td><td>0.9438</td><td>0.39838</td></td><tr><td>6</td><td>KNN</td><td>{'n_neighbors': 5, 'p': 2}</td><td>0.94352</td><td>0.40036</td></td><tr><td>7</td><td>KNN</td><td>{'n_neighbors': 5, 'p': 5}</td><td>0.94352</td><td>0.40036</td></td><tr><td>8</td><td>KNN</td><td>{'n_neighbors': 10, 'p': 1}</td><td>0.94829</td><td>0.36675</td></td><tr><td>9</td><td>KNN</td><td>{'n_neighbors': 10, 'p': 2}</td><td>0.94828</td><td>0.36683</td></td><tr><td>10</td><td>KNN</td><td>{'n_neighbors': 10, 'p': 5}</td><td>0.94828</td><td>0.36683</td></td><tr><td>11</td><td>KNN</td><td>{'n_neighbors': 20, 'p': 1}</td><td>0.94927</td><td>0.35992</td></td><tr><td>12</td><td>KNN</td><td>{'n_neighbors': 20, 'p': 2}</td><td>0.9492</td><td>0.36041</td></td><tr><td>13</td><td>KNN</td><td>{'n_neighbors': 20, 'p': 5}</td><td>0.9492</td><td>0.36041</td></td><tr><td>14</td><td>KNN</td><td>{'n_neighbors': 30, 'p': 1}</td><td>0.94963</td><td>0.35732</td></td><tr><td>15</td><td>KNN</td><td>{'n_neighbors': 30, 'p': 2}</td><td>0.94963</td><td>0.35738</td></td><tr><td>16</td><td>KNN</td><td>{'n_neighbors': 30, 'p': 5}</td><td>0.94963</td><td>0.35738</td></td><tr><td>17</td><td>KNN</td><td>{'n_neighbors': 50, 'p': 1}</td><td>0.95007</td><td>0.35428</td></td><tr><td>18</td><td>KNN</td><td>{'n_neighbors': 50, 'p': 2}</td><td>0.9501</td><td>0.35408</td></td><tr><td>19</td><td>KNN</td><td>{'n_neighbors': 50, 'p': 5}</td><td>0.9501</td><td>0.35408</td></td><tr><td>20</td><td>KNN</td><td>{'n_neighbors': 60, 'p': 1}</td><td>0.95</td><td>0.35464</td></td><tr><td>21</td><td>KNN</td><td>{'n_neighbors': 60, 'p': 2}</td><td>0.95001</td><td>0.35457</td></td><tr><td>22</td><td>KNN</td><td>{'n_neighbors': 60, 'p': 5}</td><td>0.95001</td><td>0.35457</td></td><tr><td>23</td><td>KNN</td><td>{'n_neighbors': 75, 'p': 1}</td><td>0.95036</td><td>0.35206</td></td><tr><td>24</td><td>KNN</td><td>{'n_neighbors': 75, 'p': 2}</td><td>0.95036</td><td>0.35207</td></td><tr><td>25</td><td>KNN</td><td>{'n_neighbors': 75, 'p': 5}</td><td>0.95036</td><td>0.35207</td></td><tr><td>26</td><td>KNN</td><td>{'n_neighbors': 80, 'p': 1}</td><td>0.95036</td><td>0.35206</td></td><tr><td>27</td><td>KNN</td><td>{'n_neighbors': 80, 'p': 2}</td><td>0.95037</td><td>0.35199</td></td><tr><td>28</td><td>KNN</td><td>{'n_neighbors': 80, 'p': 5}</td><td>0.95037</td><td>0.35199</td></td><tr><td>29</td><td>KNN</td><td>{'n_neighbors': 90, 'p': 1}</td><td>0.95055</td><td>0.35074</td></td><tr style=\"font-weight:bold; color:red;\"><td>30</td><td>KNN</td><td>{'n_neighbors': 90, 'p': 2}</td><td>0.95056</td><td>0.35072</td></td><tr style=\"font-weight:bold; color:red;\"><td>31</td><td>KNN</td><td>{'n_neighbors': 90, 'p': 5}</td><td>0.95056</td><td>0.35072</td></td><tr><td>32</td><td>KNN</td><td>{'n_neighbors': 100, 'p': 1}</td><td>0.94417</td><td>0.41375</td></td><tr><td>33</td><td>KNN</td><td>{'n_neighbors': 100, 'p': 2}</td><td>0.94412</td><td>0.41406</td></td><tr><td>34</td><td>KNN</td><td>{'n_neighbors': 100, 'p': 5}</td><td>0.94412</td><td>0.41406</td></td></table>"
      ],
      "text/plain": [
       "<IPython.core.display.HTML object>"
      ]
     },
     "metadata": {},
     "output_type": "display_data"
    }
   ],
   "source": [
    "from IPython.display import HTML, display\n",
    "\n",
    "# Build table header\n",
    "tableHeader = '<tr>'    \n",
    "for item in [\"Nr\", \"Model name\", \"Parameters\", \"Explained variance\", \"Mean squared errors\"]:\n",
    "    tableHeader += '<th>' + item  + '</th>'\n",
    "tableHeader += '</tr>'\n",
    "\n",
    "data_rows = ''\n",
    "nr = 0\n",
    "best_model_indices = [0, 0, 0]\n",
    "\n",
    "for j in range(0, nr_models):\n",
    "    for i in range(0, len(lp[j])):\n",
    "        data_row = '<tr>'\n",
    "        \n",
    "        if explained_variance_scores[j][i]==max(explained_variance_scores[j]):\n",
    "            data_row = '<tr style=\"font-weight:bold; color:red;\">'\n",
    "            best_model_indices[j] = i\n",
    "        data_row += '<td>' + str(nr) + '</td>'\n",
    "        data_row += '<td>' + model_names[j] + '</td>'\n",
    "        data_row += '<td>' + str(lp[j][i]) + '</td>'\n",
    "        data_row += '<td>' + str(float(\"{0:.5f}\".format(explained_variance_scores[j][i]))) + '</td>'\n",
    "        data_row += '<td>' + str(float(\"{0:.5f}\".format(mean_squared_errors[j][i]))) + '</td>'\n",
    "        data_row += '</td>'\n",
    "        data_rows += data_row\n",
    "        nr += 1\n",
    "\n",
    "HTML_code = '<table style=\"border: 1px solid black\">'+tableHeader+ data_rows + '</table>' \n",
    "\n",
    "display(HTML(HTML_code))"
   ]
  },
  {
   "cell_type": "markdown",
   "metadata": {},
   "source": [
    "## Plot results"
   ]
  },
  {
   "cell_type": "code",
   "execution_count": 501,
   "metadata": {},
   "outputs": [
    {
     "data": {
      "image/png": "[encoded data removed]",
      "text/plain": [
       "<Figure size 432x288 with 1 Axes>"
      ]
     },
     "metadata": {
      "needs_background": "light"
     },
     "output_type": "display_data"
    },
    {
     "data": {
      "image/png": "[encoded data removed]",
      "text/plain": [
       "<Figure size 432x288 with 1 Axes>"
      ]
     },
     "metadata": {
      "needs_background": "light"
     },
     "output_type": "display_data"
    }
   ],
   "source": [
    "style = ['ro', 'bo', 'go']\n",
    "for j in range(0, nr_models):\n",
    "    best_explained_variance_score = explained_variance_scores[j]                                \n",
    "    \n",
    "    plt.ylabel(\"Explained_variance_score\")\n",
    "    plt.title(\"Explained_variance_score\")\n",
    "    \n",
    "    plt.plot(explained_variance_scores[j], style[j], label=model_names[j])\n",
    "    plt.xlabel(\"Experiment nr\")\n",
    "\n",
    "    plt.legend(loc='center')\n",
    "plt.show()\n",
    "\n",
    "\n",
    "\n",
    "for j in range(0, nr_models):\n",
    "    plt.plot(mean_squared_errors[j], style[j], label=model_names[j])\n",
    "    plt.ylabel(\"Mean_squared_error_val\")\n",
    "    plt.xlabel(\"Experiment nr\")\n",
    "    plt.title(\"Mean_squared_error_val\")\n",
    "    plt.legend(loc='center')\n",
    "plt.show()\n",
    "\n",
    "\n",
    "    "
   ]
  },
  {
   "cell_type": "markdown",
   "metadata": {},
   "source": [
    "### Let's also analyze the dependency of number of neighbors for the KNN algorithm"
   ]
  },
  {
   "cell_type": "code",
   "execution_count": 574,
   "metadata": {},
   "outputs": [
    {
     "data": {
      "text/plain": [
       "Text(0.5, 0, 'Nr of neighbors')"
      ]
     },
     "execution_count": 574,
     "metadata": {},
     "output_type": "execute_result"
    },
    {
     "data": {
      "image/png": "[encoded data removed]",
      "text/plain": [
       "<Figure size 432x288 with 1 Axes>"
      ]
     },
     "metadata": {
      "needs_background": "light"
     },
     "output_type": "display_data"
    }
   ],
   "source": [
    "nr_neighbors = []\n",
    "\n",
    "for i in range(0, len(lp[1])):\n",
    "    nr_neighbors.append(lp[1][i].get('n_neighbors'))\n",
    "# print(nr_neighbors)\n",
    "\n",
    "best_explained_variance_score = explained_variance_scores[1]                                \n",
    "\n",
    "plt.ylabel(\"Explained_variance_score\")\n",
    "plt.title(\"variance score - KNN\")\n",
    "\n",
    "plt.plot(nr_neighbors, explained_variance_scores[j], 'bx', label=\"KNN\")\n",
    "plt.xlabel(\"Nr of neighbors\")\n",
    "\n"
   ]
  },
  {
   "cell_type": "markdown",
   "metadata": {},
   "source": [
    "Conclusion from this plot - best values are aprox 80-90 neighbors hyperparameter for KNN regressor algoritm"
   ]
  },
  {
   "cell_type": "markdown",
   "metadata": {},
   "source": [
    "## Testing on data unseen before by the algorithm"
   ]
  },
  {
   "cell_type": "code",
   "execution_count": 575,
   "metadata": {},
   "outputs": [
    {
     "name": "stdout",
     "output_type": "stream",
     "text": [
      "-----explained_variance_score score:-----\n",
      "0.8529577276134577\n",
      "-----mean_squared_error score:-----\n",
      "1.046674287585477\n",
      "-----explained_variance_score score:-----\n",
      "0.9487870788898145\n",
      "-----mean_squared_error score:-----\n",
      "0.36447453658316054\n"
     ]
    }
   ],
   "source": [
    "nr_models = 2\n",
    "\n",
    "explained_variance_scores = []\n",
    "# explained_variance_scores.append([])\n",
    "# explained_variance_scores.append([])\n",
    "mean_squared_errors = []\n",
    "# mean_squared_errors.append([])\n",
    "# mean_squared_errors.append([])\n",
    "\n",
    "\n",
    "for j in range(0, nr_models):\n",
    "    clf = models[j][best_model_indices[j]]\n",
    "    \n",
    "    y_pred = clf.predict(X_test)\n",
    "    \n",
    "    explained_variance_score_val = explained_variance_score(y_test, y_pred)\n",
    "    mean_squared_error_val = mean_squared_error(y_test, y_pred)\n",
    "\n",
    "    print(\"-----explained_variance_score score:-----\")\n",
    "    print(explained_variance_score_val)\n",
    "    explained_variance_scores.append(explained_variance_score_val)\n",
    "\n",
    "\n",
    "    print(\"-----mean_squared_error score:-----\")\n",
    "    print(mean_squared_error_val)\n",
    "    mean_squared_errors.append(mean_squared_error_val)"
   ]
  },
  {
   "cell_type": "markdown",
   "metadata": {},
   "source": [
    "## Final results - display in table"
   ]
  },
  {
   "cell_type": "code",
   "execution_count": 576,
   "metadata": {},
   "outputs": [
    {
     "data": {
      "text/html": [
       "<table style=\"border: 1px solid black\"><tr><th>Nr</th><th>Model name</th><th>Parameters</th><th>Explained variance</th><th>Mean squared errors</th></tr><tr><td>0</td><td>Linear Regression</td><td>{'normalize': True}</td><td>0.85296</td><td>1.04667</td></td><tr><td>1</td><td>KNN</td><td>{'n_neighbors': 90, 'p': 5}</td><td>0.94879</td><td>0.36447</td></td></table>"
      ],
      "text/plain": [
       "<IPython.core.display.HTML object>"
      ]
     },
     "metadata": {},
     "output_type": "display_data"
    }
   ],
   "source": [
    "from IPython.display import HTML, display\n",
    "\n",
    "# Build table header\n",
    "tableHeader = '<tr>'    \n",
    "for item in [\"Nr\", \"Model name\", \"Parameters\", \"Explained variance\", \"Mean squared errors\"]:\n",
    "    tableHeader += '<th>' + item  + '</th>'\n",
    "tableHeader += '</tr>'\n",
    "\n",
    "data_rows = ''\n",
    "nr = 0\n",
    "\n",
    "for j in range(0, nr_models):\n",
    "        data_row = '<tr>'\n",
    "        \n",
    "        data_row += '<td>' + str(nr) + '</td>'\n",
    "        data_row += '<td>' + model_names[j] + '</td>'\n",
    "        data_row += '<td>' + str(lp[j][best_model_indices[j]]) + '</td>'\n",
    "        data_row += '<td>' + str(float(\"{0:.5f}\".format(explained_variance_scores[j]))) + '</td>'\n",
    "        data_row += '<td>' + str(float(\"{0:.5f}\".format(mean_squared_errors[j]))) + '</td>'\n",
    "        data_row += '</td>'\n",
    "        data_rows += data_row\n",
    "        nr += 1\n",
    "\n",
    "HTML_code = '<table style=\"border: 1px solid black\">'+tableHeader+ data_rows + '</table>' \n",
    "\n",
    "display(HTML(HTML_code))"
   ]
  },
  {
   "cell_type": "markdown",
   "metadata": {},
   "source": [
    "## Conclusions"
   ]
  },
  {
   "cell_type": "markdown",
   "metadata": {},
   "source": [
    "For the regression task and predicting longevity, the Linear Regression and KNN algorithms were used. For the selection of best models, several hyperparameters were used.\n",
    "\n",
    "For analyzing results, 2 score metrics were used: Explained variance and Mean squared errors. The evaluation is done in the following way: the model with the highest Explained variance (max 1.0) and lower Mean squared errors value (min 0.0) is the best.\n",
    "\n",
    "The model using LinearRegression algorithm showed a performance of only 0.85 variance score and 1.04 MSE(Mean squared errors).\n",
    "\n",
    "The results show that the best model is KNN, with the hyperparameter 'nr of neighbors' of 90 proven to be the best. The performance scores obtained on test data is 0.94 variance score and 0.36 MSE(Mean squared errors) score.\n",
    "\n"
   ]
  }
 ],
 "metadata": {
  "kernelspec": {
   "display_name": "Homework",
   "language": "python",
   "name": "homework"
  }
 },
 "nbformat": 4,
 "nbformat_minor": 2
}
